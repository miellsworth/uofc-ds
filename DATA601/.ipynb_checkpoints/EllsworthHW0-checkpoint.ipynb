{
 "cells": [
  {
   "cell_type": "markdown",
   "metadata": {},
   "source": [
    "# DATA 601: Fall 2019\n",
    "\n",
    "## HW0\n",
    "\n",
    "### Due: Wed. Sep. 11 at 23:55\n",
    "\n",
    "**Learning Objectives**\n",
    "\n",
    "- Explore built-in data types in Python.\n",
    "- Review fundamental programming and problem solving concepts with Python.\n",
    "- Implement functions based on mathematical concepts and definitions.\n",
    "- Gain experience working with the Jupyter notebook environment.\n",
    "\n",
    "_This is an individual homework assignment._ \n",
    "\n",
    "Please complete this homework assignment within the Jupypter notebook environment.  \n",
    "\n",
    "#### Submission \n",
    "\n",
    "Your submission will be auto-graded. In order to ensure that everything goes smoothly, please follow these instructions:\n",
    "\n",
    "- Please provide your solutions where asked; please do not alter any other parts of this notebook.\n",
    "- Submit via the HW0 dropbox on D2L. Please ensure that your submitted file is named 'HW0.ipynb'.\n",
    "- Do not submit any other files.\n"
   ]
  },
  {
   "cell_type": "code",
   "execution_count": 1,
   "metadata": {},
   "outputs": [],
   "source": [
    "# Check that we are using a recent version of Jupyter.\n",
    "import IPython\n",
    "assert IPython.version_info[0] >= 3, \"Your version of IPython is too old, please update it.\""
   ]
  },
  {
   "cell_type": "markdown",
   "metadata": {},
   "source": [
    "## Part A\n",
    "\n",
    "This part focuses on scalar types. You should be able to complete the following questions without using any collection types."
   ]
  },
  {
   "cell_type": "markdown",
   "metadata": {},
   "source": [
    "### Question 1\n",
    "\n",
    "The $n$-th triangular number $T_n$ ($n \\ge 1$) is defined as:\n",
    "$$\n",
    "T_n := \\sum_{k=1}^n k = 1 + 2 + \\cdots + n = \\frac{n(n+1)}{2}\n",
    "$$\n",
    "\n",
    "In the cell below, please provide the code for the function `tri(n)` that returns the $n$-th triangular number as an integer."
   ]
  },
  {
   "cell_type": "code",
   "execution_count": 1,
   "metadata": {
    "deletable": false,
    "nbgrader": {
     "cell_type": "code",
     "checksum": "343b3750f5c7b3c5106336164b93feea",
     "grade": false,
     "grade_id": "tri",
     "locked": false,
     "schema_version": 3,
     "solution": true,
     "task": false
    }
   },
   "outputs": [],
   "source": [
    "def tri(n):\n",
    "    '''Returns the n-th triangular number for an input\n",
    "    integer n.\n",
    "    '''\n",
    "    return (n * (n + 1)) / 2\n",
    "    raise NotImplementedError()"
   ]
  },
  {
   "cell_type": "code",
   "execution_count": 2,
   "metadata": {
    "deletable": false,
    "editable": false,
    "nbgrader": {
     "cell_type": "code",
     "checksum": "019887b7e6fc84e0be1afceea1edb2b0",
     "grade": true,
     "grade_id": "tri_test",
     "locked": true,
     "points": 2,
     "schema_version": 3,
     "solution": false,
     "task": false
    }
   },
   "outputs": [],
   "source": [
    "'''Check that tri returns the correct output'''\n",
    "assert tri(1) == 1\n",
    "assert tri(5) == 15\n",
    "assert tri(36) == 666\n",
    "assert tri(10 ** 5) == 5000050000"
   ]
  },
  {
   "cell_type": "markdown",
   "metadata": {},
   "source": [
    "### Question 2\n",
    "\n",
    "In the cell below, provide code for the function `powerOfTwo(n)` that takes a positive integer `n` and returns `True` if `n` is a power of 2, and `False` otherwise. "
   ]
  },
  {
   "cell_type": "code",
   "execution_count": 3,
   "metadata": {
    "deletable": false,
    "nbgrader": {
     "cell_type": "code",
     "checksum": "e0ffa56ba5cbb6054a1c90f536bd2d9b",
     "grade": false,
     "grade_id": "powerOfTwo",
     "locked": false,
     "schema_version": 3,
     "solution": true,
     "task": false
    }
   },
   "outputs": [],
   "source": [
    "def powerOfTwo(n):\n",
    "    '''For a positive integer n, returns True if n is a \n",
    "    power of two, False otherwise.\n",
    "    '''\n",
    "    \n",
    "    x = 0\n",
    "    y = 0\n",
    "    while y < n:\n",
    "        y = 2**x\n",
    "        x += 1\n",
    "    return n == y\n",
    "    raise NotImplementedError()"
   ]
  },
  {
   "cell_type": "code",
   "execution_count": 4,
   "metadata": {
    "deletable": false,
    "editable": false,
    "nbgrader": {
     "cell_type": "code",
     "checksum": "a8b2c3d7d721d0f6274b30e3344f68af",
     "grade": true,
     "grade_id": "powerOfTwo_test",
     "locked": true,
     "points": 2,
     "schema_version": 3,
     "solution": false,
     "task": false
    }
   },
   "outputs": [],
   "source": [
    "'''Check that powerOfTwo returns the correct output'''\n",
    "\n",
    "assert powerOfTwo(1) is True\n",
    "assert powerOfTwo(2) is True\n",
    "assert powerOfTwo(5) is False\n",
    "assert powerOfTwo(64) is True\n",
    "assert powerOfTwo(96) is False"
   ]
  },
  {
   "cell_type": "markdown",
   "metadata": {},
   "source": [
    "### Question 3\n",
    "\n",
    "The $n$-th Fibonacci number $F_n$ can be calculated using the following closed-form formula:\n",
    "$$\n",
    "F_n = \\frac{\\varphi^n - \\psi^n}{\\sqrt{5}},\n",
    "$$\n",
    "where $\\varphi = \\frac{1+\\sqrt{5}}{2}$ and $\\psi = \\frac{1-\\sqrt{5}}{2}$. Use this formula to compute $F_n$ in the function `fib(n)` below. "
   ]
  },
  {
   "cell_type": "code",
   "execution_count": 5,
   "metadata": {
    "deletable": false,
    "nbgrader": {
     "cell_type": "code",
     "checksum": "52ad18cf363497abd1d072d3937107d8",
     "grade": false,
     "grade_id": "fib",
     "locked": false,
     "schema_version": 3,
     "solution": true,
     "task": false
    }
   },
   "outputs": [],
   "source": [
    "import math\n",
    "def fib(n):\n",
    "    '''Computes the n-th Fibonacci number for a positive \n",
    "    integer n and returns the answer as an integer.\n",
    "    '''\n",
    "    \n",
    "    phi = (1 + 5**(1/2)) / 2\n",
    "    psi = (1 - 5**(1/2)) / 2\n",
    "    return int((phi**n - psi**n) / (5**(1/2)))\n",
    "    raise NotImplementedError()"
   ]
  },
  {
   "cell_type": "code",
   "execution_count": 6,
   "metadata": {
    "deletable": false,
    "editable": false,
    "nbgrader": {
     "cell_type": "code",
     "checksum": "fde3585a087746908ce989f1142164d2",
     "grade": true,
     "grade_id": "fib_test",
     "locked": true,
     "points": 3,
     "schema_version": 3,
     "solution": false,
     "task": false
    }
   },
   "outputs": [],
   "source": [
    "'''Check that fib returns the correct output'''\n",
    "from nose.tools import assert_equal\n",
    "assert fib(1) == 1\n",
    "assert fib(2) == 1\n",
    "assert fib(5) == 5\n",
    "assert fib(11) == 89"
   ]
  },
  {
   "cell_type": "markdown",
   "metadata": {},
   "source": [
    "## Part B\n",
    "\n",
    "Questions in this part rely on strings, lists and tuples."
   ]
  },
  {
   "cell_type": "markdown",
   "metadata": {},
   "source": [
    "### Question 1\n",
    "\n",
    "Write a function called `isPalindrome` which takes a `string` as an input and returns `True` if the string is a palindrome, and `False` otherwise."
   ]
  },
  {
   "cell_type": "code",
   "execution_count": 7,
   "metadata": {
    "deletable": false,
    "nbgrader": {
     "cell_type": "code",
     "checksum": "98c2257e124918497cfc98baba9efb5a",
     "grade": false,
     "grade_id": "isPalindrome",
     "locked": false,
     "schema_version": 3,
     "solution": true,
     "task": false
    }
   },
   "outputs": [],
   "source": [
    "def isPalindrome( str ):\n",
    "    '''\n",
    "    Returns True if str contains a string that is a palindrome,\n",
    "    False otherwise. Does not ignore whitespace characters.\n",
    "    '''\n",
    "    new_str = []\n",
    "    old_str = []\n",
    "    for i in range(len(str)):\n",
    "        new_str.append(str[-(i+1)])\n",
    "        old_str.append(str[i])\n",
    "    return old_str == new_str\n",
    "    raise NotImplementedError()"
   ]
  },
  {
   "cell_type": "code",
   "execution_count": 8,
   "metadata": {
    "deletable": false,
    "editable": false,
    "nbgrader": {
     "cell_type": "code",
     "checksum": "27f6b44639aad90692bb4f74f82c6271",
     "grade": true,
     "grade_id": "isPalindrome_test",
     "locked": true,
     "points": 3,
     "schema_version": 3,
     "solution": false,
     "task": false
    }
   },
   "outputs": [],
   "source": [
    "'''Check that isPalindrome returns the correct output'''\n",
    "assert isPalindrome(\"\") is True\n",
    "assert isPalindrome(\"a\") is True\n",
    "assert isPalindrome(\"ab\") is False\n",
    "assert isPalindrome(\"aa\") is True\n",
    "assert isPalindrome(\"racecar\") is True\n",
    "assert isPalindrome(\"race car\") is False\n",
    "assert isPalindrome(\"step on no pets\") is True"
   ]
  },
  {
   "cell_type": "markdown",
   "metadata": {},
   "source": [
    "### Question 2\n",
    "\n",
    "Write a function called `transpose` that returns the transpose of an input matrix. You can assume that the input matrix has integer entries and is represented as a list of rows. Furthermore, you can assume that the input is a matrix and not a vector.    "
   ]
  },
  {
   "cell_type": "code",
   "execution_count": 9,
   "metadata": {
    "deletable": false,
    "nbgrader": {
     "cell_type": "code",
     "checksum": "5db182d3038841f4ebedef689f1e6bb4",
     "grade": false,
     "grade_id": "transpose",
     "locked": false,
     "schema_version": 3,
     "solution": true,
     "task": false
    }
   },
   "outputs": [],
   "source": [
    "def transpose(A):\n",
    "    '''Returns the transpose of A as a list of lists. Each\n",
    "    column of A becomes a row in the returned matrix.\n",
    "    '''\n",
    "    new_list = [[] for k in range(len(A[0]))]\n",
    "    for i in range(len(A)):\n",
    "        for j in range(len(A[i])):\n",
    "            new_list[j].append(A[i][j])\n",
    "    return new_list\n",
    "    raise NotImplementedError()\n",
    "    "
   ]
  },
  {
   "cell_type": "code",
   "execution_count": 10,
   "metadata": {
    "deletable": false,
    "editable": false,
    "nbgrader": {
     "cell_type": "code",
     "checksum": "1f959009b5fda677f1ea4e84f838361f",
     "grade": true,
     "grade_id": "transpose_test",
     "locked": true,
     "points": 3,
     "schema_version": 3,
     "solution": false,
     "task": false
    }
   },
   "outputs": [],
   "source": [
    "'''Check that transpose returns the correct output'''\n",
    "assert transpose([[1,2],[3,4]]) == [[1,3],[2,4]]\n",
    "assert transpose(transpose([[1,2],[3,4]])) == [[1,2],[3,4]]\n",
    "assert transpose([[1,2,3],[4,5,6]]) == [[1,4],[2,5],[3,6]]\n",
    "assert transpose([[1,4],[2,5],[3,6]]) == [[1,2,3],[4,5,6]]"
   ]
  },
  {
   "cell_type": "markdown",
   "metadata": {},
   "source": [
    "### Question 3\n",
    "\n",
    "Suppose you are given a list of floating point values in the range $[0.0,1.0)$. Write a function to compute a histogram of these values. Your function should take two input parameters, the list `L` and the number of equal-width bins `N` to split the range into. It should return a list containing the counts as integers.\n",
    "\n",
    "For each bin, the left end point is included but the right end-point is not. For example, if we have five bins, the boundaries would be as follows:\n",
    "$[0.0,0.2), [0.2, 0.4), [0.4, 0.6), [0.6, 0.8), [0.1, 1.0)$\n"
   ]
  },
  {
   "cell_type": "code",
   "execution_count": 11,
   "metadata": {
    "deletable": false,
    "nbgrader": {
     "cell_type": "code",
     "checksum": "c3a4e2fab6c37285c40231d6048c69d4",
     "grade": false,
     "grade_id": "hist",
     "locked": false,
     "schema_version": 3,
     "solution": true,
     "task": false
    }
   },
   "outputs": [],
   "source": [
    "def hist(L, N=10):\n",
    "    '''For a list of values L, returns a histogram\n",
    "       consisting of N equal-width bins. The histogram is returned as \n",
    "       a list consisting of the counts in each bin. The values are \n",
    "       assumed to be in floating point format in the range [0.0,1.0).\n",
    "    '''\n",
    "    hist = [0] * N\n",
    "    for i in L:\n",
    "        hist[int(i * N)] += 1\n",
    "    return hist\n",
    "    raise NotImplementedError()"
   ]
  },
  {
   "cell_type": "code",
   "execution_count": 12,
   "metadata": {
    "deletable": false,
    "editable": false,
    "nbgrader": {
     "cell_type": "code",
     "checksum": "5551376520e9fc2b0e6aab0f590b2c3e",
     "grade": true,
     "grade_id": "hist_test",
     "locked": true,
     "points": 2,
     "schema_version": 3,
     "solution": false,
     "task": false
    }
   },
   "outputs": [],
   "source": [
    "'''Check that hist returns the correct output'''\n",
    "import random\n",
    "SIZE = 10000\n",
    "# Do not change the random number seed or tests will fail.\n",
    "random.seed(a=601, version=2)\n",
    "l1 = []\n",
    "for i in range(SIZE):\n",
    "    l1.append(random.random())\n",
    "assert hist(l1) == [979,1011,991,1019,1004,1000,1050,971,1015,960]\n",
    "assert hist(l1, N=5) == [1990, 2010, 2004, 2021, 1975]"
   ]
  },
  {
   "cell_type": "code",
   "execution_count": null,
   "metadata": {},
   "outputs": [],
   "source": []
  }
 ],
 "metadata": {
  "kernelspec": {
   "display_name": "Python 3",
   "language": "python",
   "name": "python3"
  },
  "language_info": {
   "codemirror_mode": {
    "name": "ipython",
    "version": 3
   },
   "file_extension": ".py",
   "mimetype": "text/x-python",
   "name": "python",
   "nbconvert_exporter": "python",
   "pygments_lexer": "ipython3",
   "version": "3.7.3"
  }
 },
 "nbformat": 4,
 "nbformat_minor": 2
}

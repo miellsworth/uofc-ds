{
 "cells": [
  {
   "cell_type": "markdown",
   "metadata": {},
   "source": [
    "# Matrix-Vector Multiplication\n",
    "\n",
    "Key points to remember:\n",
    "\n",
    "* We'll represent a matrix as a list of lists. Each row is represented as a list and all rows are put together inside another list.\n",
    "* This representation can handle non-square matrices of size *m x n*, where *m* is the number of rows and *n* is the number of columns. All sub-lists inside the top-level list should have the same size *n*: the number of columns.\n",
    "\n",
    "Here are some sample matrices that we'll work with:\n",
    "\n",
    "$$A = \\begin{bmatrix} 1 & -1 & -1 & 1 \\\\ -1 & 1 & -1 & 1 \\\\ -1 & -1 & 1 & 1 \\end{bmatrix}$$\n",
    "\n",
    "$$B = \\begin{bmatrix} 1 & \\frac{1}{2} \\\\ 0 & \\frac{\\sqrt{3}}{2} \\end{bmatrix}$$"
   ]
  },
  {
   "cell_type": "code",
   "execution_count": 2,
   "metadata": {},
   "outputs": [
    {
     "name": "stdout",
     "output_type": "stream",
     "text": [
      "[[1, -1, -1, 1], [-1, 1, -1, 1], [-1, -1, 1, 1]]\n",
      "[[1, 0.5], [0, 0.8660254037844386]]\n"
     ]
    }
   ],
   "source": [
    "# matrix definitions\n",
    "import math\n",
    "\n",
    "A = [ [1, -1, -1, 1], [-1, 1, -1, 1], [-1, -1, 1, 1] ]\n",
    "B = [ [1, 1 / 2], [0, math.sqrt(3) / 2] ]\n",
    "\n",
    "print(A)\n",
    "print(B)"
   ]
  },
  {
   "cell_type": "code",
   "execution_count": 3,
   "metadata": {},
   "outputs": [],
   "source": [
    "# dot product of two vectors\n",
    "def dot(v1, v2):\n",
    "    result = 0\n",
    "    for i in range(len(v1)):\n",
    "        result += v1[i] * v2[i]\n",
    "    return result\n",
    "\n",
    "# matrix-vector product\n",
    "def mmult(A, x):\n",
    "    b = list(range(len(A)))\n",
    "    for i in range(len(A)):\n",
    "        b[i] = dot(A[i], x)\n",
    "    return b"
   ]
  },
  {
   "cell_type": "code",
   "execution_count": 4,
   "metadata": {},
   "outputs": [
    {
     "name": "stdout",
     "output_type": "stream",
     "text": [
      "Variable   Type        Data/Info\n",
      "--------------------------------\n",
      "A          list        n=3\n",
      "B          list        n=2\n",
      "dot        function    <function dot at 0x10e28b488>\n",
      "math       module      <module 'math' from '/ana<...>h.cpython-37m-darwin.so'>\n",
      "mmult      function    <function mmult at 0x10e28b400>\n"
     ]
    }
   ],
   "source": [
    "%whos"
   ]
  },
  {
   "cell_type": "code",
   "execution_count": 5,
   "metadata": {},
   "outputs": [
    {
     "name": "stdout",
     "output_type": "stream",
     "text": [
      "[0, 0, 0]\n"
     ]
    }
   ],
   "source": [
    "# Test matrix-vector multiplication\n",
    "\n",
    "print(mmult(A, [1, 1, 1, 1]))"
   ]
  },
  {
   "cell_type": "code",
   "execution_count": 6,
   "metadata": {},
   "outputs": [
    {
     "name": "stdout",
     "output_type": "stream",
     "text": [
      "[0, 2, 4]\n"
     ]
    }
   ],
   "source": [
    "# Test matrix-vector multiplication\n",
    "\n",
    "print(mmult(A, [1, 2, 3, 4]))"
   ]
  },
  {
   "cell_type": "code",
   "execution_count": 7,
   "metadata": {},
   "outputs": [
    {
     "name": "stdout",
     "output_type": "stream",
     "text": [
      "[1.5, 0.8660254037844386]\n"
     ]
    }
   ],
   "source": [
    "# Test matrix-vector multiplication\n",
    "\n",
    "print(mmult(B, [1, 1]))"
   ]
  },
  {
   "cell_type": "code",
   "execution_count": 8,
   "metadata": {},
   "outputs": [
    {
     "name": "stdout",
     "output_type": "stream",
     "text": [
      "[2.0, 1.7320508075688772]\n"
     ]
    }
   ],
   "source": [
    "# Test matrix-vector multiplication\n",
    "\n",
    "print(mmult(B, [1, 2]))"
   ]
  },
  {
   "cell_type": "markdown",
   "metadata": {},
   "source": [
    "# Binning Example\n",
    "\n",
    "For this example, we'll assume that the data range is $[0, 99]$, and we have ten equally sized bins: $[0, 9],[10, 19],\\dots,[90-99]$. Given a list of data values, we'd like to produce a histogram that consists of the counts of the data values that fall in each of the bins."
   ]
  },
  {
   "cell_type": "code",
   "execution_count": 1,
   "metadata": {},
   "outputs": [
    {
     "data": {
      "text/plain": [
       "[0, 0, 0, 0, 0, 0, 0, 0, 0, 0, 0, 0, 0, 0, 0]"
      ]
     },
     "execution_count": 1,
     "metadata": {},
     "output_type": "execute_result"
    }
   ],
   "source": [
    "[0]*15"
   ]
  },
  {
   "cell_type": "code",
   "execution_count": 2,
   "metadata": {},
   "outputs": [],
   "source": [
    "def hist(X):\n",
    "    result = [0]*10\n",
    "    for el in X:\n",
    "        result[el // 10] += 1\n",
    "    return result\n"
   ]
  },
  {
   "cell_type": "code",
   "execution_count": 3,
   "metadata": {},
   "outputs": [],
   "source": [
    "X = [46, 1, 49, 13, 59, 86, 53, 53, 95, 75]"
   ]
  },
  {
   "cell_type": "code",
   "execution_count": 4,
   "metadata": {},
   "outputs": [
    {
     "name": "stdout",
     "output_type": "stream",
     "text": [
      "[1, 1, 0, 0, 2, 3, 0, 1, 1, 1]\n"
     ]
    }
   ],
   "source": [
    "print(hist(X))"
   ]
  },
  {
   "cell_type": "code",
   "execution_count": 13,
   "metadata": {},
   "outputs": [
    {
     "name": "stdout",
     "output_type": "stream",
     "text": [
      "[10000, 9888, 10194, 9997, 9950, 9949, 10035, 9861, 10051, 10075]\n"
     ]
    }
   ],
   "source": [
    "# Generate histogram list using random number generator\n",
    "import random\n",
    "\n",
    "mylist = []\n",
    "\n",
    "for i in range(0,100000): #range allows you to set the size of the list\n",
    "    x = random.randint(0,99) #sets the range where the random number can fall\n",
    "    mylist.append(x)\n",
    "\n",
    "print(hist(mylist))"
   ]
  },
  {
   "cell_type": "code",
   "execution_count": null,
   "metadata": {},
   "outputs": [],
   "source": []
  }
 ],
 "metadata": {
  "kernelspec": {
   "display_name": "Python 3",
   "language": "python",
   "name": "python3"
  },
  "language_info": {
   "codemirror_mode": {
    "name": "ipython",
    "version": 3
   },
   "file_extension": ".py",
   "mimetype": "text/x-python",
   "name": "python",
   "nbconvert_exporter": "python",
   "pygments_lexer": "ipython3",
   "version": "3.7.3"
  }
 },
 "nbformat": 4,
 "nbformat_minor": 2
}

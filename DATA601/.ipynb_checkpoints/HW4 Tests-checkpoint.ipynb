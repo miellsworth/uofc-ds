{
 "cells": [
  {
   "cell_type": "code",
   "execution_count": null,
   "metadata": {},
   "outputs": [],
   "source": [
    "# Interactive geo-vis on a mapbox base map using plotly\n",
    "\n",
    "with open('mapboxtoken.txt', 'r') as file:\n",
    "    token = file.read().replace('\\n', '')\n",
    "\n",
    "data = [\n",
    "    go.Scattermapbox(\n",
    "        lat=rainfall_2018_with_locs.Northing,\n",
    "        lon=rainfall_2018_with_locs.Easting,\n",
    "        mode='markers',\n",
    "        marker=dict(\n",
    "            size=9\n",
    "        ),\n",
    "        text=['Total Rainfall 2018 (mm) = ' + string for string in list(map(str, rainfall_2018_with_locs['2018 Rainfall (mm)'].tolist()))]\n",
    "    )\n",
    "]\n",
    "\n",
    "# Try altering styles to one of: streets, light, dark, outdoors, satellite\n",
    "\n",
    "layout = go.Layout(\n",
    "    title='YYC Rainfall Channels<br>Use right mouse button to rotate/pitch',\n",
    "    autosize=True,\n",
    "    height=1024,\n",
    "    hovermode='closest',\n",
    "    mapbox=dict(\n",
    "        style=\"streets\",\n",
    "        accesstoken=token,\n",
    "        bearing=0,\n",
    "        center=dict(  # These are Calgary coordinates\n",
    "            lat=51.0486,\n",
    "            lon=-114.0708\n",
    "        ),\n",
    "        pitch=0, # Pitch lets you pitch up or down\n",
    "        zoom=10\n",
    "    ),\n",
    ")\n",
    "\n",
    "fig = dict(data=data, layout=layout)\n",
    "py.iplot(fig)"
   ]
  },
  {
   "cell_type": "code",
   "execution_count": null,
   "metadata": {},
   "outputs": [],
   "source": [
    "fig = px.choropleth(LEI_2017,\n",
    "                    locations='Country',\n",
    "                    locationmode='country names',\n",
    "                    color='LEI bin', # Uses the strings to color the map according to the bins\n",
    "                    #color_continuous_scale=colorscale,\n",
    "                    hover_name='Country',\n",
    "                    hover_data=['LEI', 'HDI Rank (2017)'],\n",
    "                    range_color=[0.5, 1])\n",
    "\n",
    "fig.show()"
   ]
  }
 ],
 "metadata": {
  "kernelspec": {
   "display_name": "Python 3",
   "language": "python",
   "name": "python3"
  },
  "language_info": {
   "codemirror_mode": {
    "name": "ipython",
    "version": 3
   },
   "file_extension": ".py",
   "mimetype": "text/x-python",
   "name": "python",
   "nbconvert_exporter": "python",
   "pygments_lexer": "ipython3",
   "version": "3.7.3"
  }
 },
 "nbformat": 4,
 "nbformat_minor": 2
}

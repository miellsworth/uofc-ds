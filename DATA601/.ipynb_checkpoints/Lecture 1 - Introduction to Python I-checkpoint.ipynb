{
 "cells": [
  {
   "cell_type": "markdown",
   "metadata": {
    "slideshow": {
     "slide_type": "slide"
    }
   },
   "source": [
    "# Introduction to Python I\n",
    "\n",
    "## Language Basics \n",
    "\n",
    "### DATA 601: Fall 2019\n",
    "\n",
    "**Usman Alim ([ualim@ucalgary.ca](mailto:ualim@ucalgary.ca))** \n",
    "\n",
    "Further Reading:\n",
    "\n",
    "* **Python for Data Analysis** (second edition), by _Wes McKinney_ ([Library link](https://ucalgary-primo.hosted.exlibrisgroup.com/primo-explore/fulldisplay?docid=01UCALG_ALMA51642853910004336&context=L&vid=UCALGARY&search_scope=EVERYTHING&tab=everything&lang=en_US) for book).\n",
    "* [**The Python Tutorial**](https://docs.python.org/3/tutorial/index.html) by the Python Software Foundation.\n"
   ]
  },
  {
   "cell_type": "markdown",
   "metadata": {
    "slideshow": {
     "slide_type": "slide"
    }
   },
   "source": [
    "## Outline\n",
    "\n",
    "- [Background](#bg)\n",
    "- [Language Basics](#basics)\n",
    "- [Scalar Types](#scalars) \n",
    "- [Binary Operators](#binaryOps)\n",
    "- [Control Structures](#controls)\n",
    "- [Local Functions](#functions)\n",
    "- [Warmup Exercises I](#exerciseI)\n",
    "- [Collection Types](#collections)\n",
    "- [Warmup Exercises II](#exerciseII)"
   ]
  },
  {
   "cell_type": "markdown",
   "metadata": {
    "slideshow": {
     "slide_type": "slide"
    }
   },
   "source": [
    "## <a name=\"bg\"></a>Bit of Background\n",
    "\n",
    "* First appeared in 1991. Created by [Guido van Rossum](https://en.wikipedia.org/wiki/Guido_van_Rossum).  \n",
    "\n",
    "* Interpreted, high-level, cross-platform.  \n",
    "  * Rapid prototyping and sharing.\n",
    "  * No need to worry about variable declarations, memory mangement etc.\n",
    "  * Not designed for performance, but interfaces nicely with low-level languages and APIs for multi-threading and GPU acceleration. \n",
    "\n",
    "* Used extensively in web development.  \n",
    "\n",
    "* Has also gained popularity in the scientific computing and data science communities.  \n",
    "\n",
    "* Python 3 (released in 2008) is the current major version.\n",
    "  * Python 2 is also in use but will reach its _end-of-life_ in 2020.\n",
    "  * We'll use Python 3 in this course.\n",
    "  * Our focus is on problem solving. Python makes this easy.\n",
    "  \n"
   ]
  },
  {
   "cell_type": "markdown",
   "metadata": {
    "slideshow": {
     "slide_type": "subslide"
    }
   },
   "source": [
    "## Python for Data Science\n",
    "\n",
    "* Many libraries are available that faciliate the Data Science workflow:\n",
    "  * `NumPy` and `SciPy` for numerical computation.\n",
    "  * `pandas` for working with tabular data.\n",
    "  * `matplotlib`, `plotly` (and others) for data visualization.\n",
    "  * `TensorFlow` and `scikit-learn` for machine learning.\n",
    "  \n",
    "* Jupyter:\n",
    "  * Web-based, interactive computing notebook environment similar to Mathematica and Maple.\n",
    "  * Can run locally or on a server (UCalgary server available at [https://ucalgary.syzygy.ca/](https://ucalgary.syzygy.ca/)).\n",
    "  * We'll use jupyter for in-class exercises and homeworks. Please use it for your course project as well.\n"
   ]
  },
  {
   "cell_type": "markdown",
   "metadata": {
    "slideshow": {
     "slide_type": "slide"
    }
   },
   "source": [
    "## Language Features\n",
    "\n",
    "* *Object-oriented*,  _strongly-typed_.\n",
    "  * Everything is an object. (attributes and methods)\n",
    "  * All objects have specific types.\n",
    "  \n",
    "* No braces, no semi-colons, indentation is used to strcuture code.\n",
    "  * Less typing.\n",
    "  * Readable code for [_literate programming_](https://en.wikipedia.org/wiki/Literate_programming).\n",
    "  \n",
    "* High-level data types such as tuples, lists and dictionaries are natively supported.\n",
    "  * Improves abstraction.\n",
    "  * _But be wary of performance considerations_.\n",
    "  \n",
    "* Supports functional programming.\n",
    "  * Anonymous functions, currying.\n",
    "  \n",
    "* Lots of _syntactic sugar_."
   ]
  },
  {
   "cell_type": "markdown",
   "metadata": {
    "slideshow": {
     "slide_type": "slide"
    }
   },
   "source": [
    "## <a name=\"basics\"></a>Language Basics\n",
    "\n",
    "* **Variables**\n",
    "* **References**\n",
    "* **Objects**\n",
    "* **Function calls**"
   ]
  },
  {
   "cell_type": "code",
   "execution_count": 1,
   "metadata": {
    "slideshow": {
     "slide_type": "subslide"
    }
   },
   "outputs": [
    {
     "name": "stdout",
     "output_type": "stream",
     "text": [
      "Welcome to DATA 601\n",
      "welcome to data 601\n"
     ]
    }
   ],
   "source": [
    "# Assignments, function calls and attributes. In an interactive environment, we can use tab-completion to \n",
    "# inspect attributes.\n",
    "\n",
    "a = \"Welcome to DATA 601\"\n",
    "print(a)\n",
    "b = a.lower()\n",
    "print(b)"
   ]
  },
  {
   "cell_type": "code",
   "execution_count": null,
   "metadata": {
    "slideshow": {
     "slide_type": "subslide"
    }
   },
   "outputs": [],
   "source": [
    "# Everything is an object. We use variables to refer to objects. Different variables can \n",
    "# refer to the same object (aliasing). \n",
    "x = ['a', 'b', 'c']\n",
    "y = x\n",
    "x.append('d')\n",
    "print(x)\n",
    "print(y)\n",
    "\n",
    "# In this example, there's only one object and both variables refer to the same object."
   ]
  },
  {
   "cell_type": "markdown",
   "metadata": {
    "slideshow": {
     "slide_type": "slide"
    }
   },
   "source": [
    "## <a name=\"scalars\"></a>Scalar Types\n",
    "\n",
    "_Scalars_ are 'single value' types, i.e. each scalar has one value associated with it. Python has the following scalar types: \n",
    "\n",
    "* `bool`\n",
    "* `int`\n",
    "* `float` (finite precision)\n",
    "* `complex`\n",
    "* `None`\n",
    "\n",
    "We can use introspection (`?`) and the `isintance` function to determine the type of an object. Use _type casting_ to convert between types."
   ]
  },
  {
   "cell_type": "code",
   "execution_count": 2,
   "metadata": {
    "slideshow": {
     "slide_type": "subslide"
    }
   },
   "outputs": [
    {
     "name": "stdout",
     "output_type": "stream",
     "text": [
      "True\n",
      "False\n",
      "True\n",
      "False\n"
     ]
    }
   ],
   "source": [
    "# Booleans can be either True or False. We can perform Boolean algebra on them. Be careful \n",
    "# about operator precedence.\n",
    "\n",
    "print(True or False)\n",
    "print(True and False)\n",
    "print(not True or True)\n",
    "print(not(True or True))\n"
   ]
  },
  {
   "cell_type": "code",
   "execution_count": 3,
   "metadata": {
    "slideshow": {
     "slide_type": "subslide"
    }
   },
   "outputs": [
    {
     "name": "stdout",
     "output_type": "stream",
     "text": [
      "10\n",
      "100000000000000000000000000000000000000000000000000000000000000000000000000000000\n",
      "10000000000000000000000000000000000000000\n"
     ]
    }
   ],
   "source": [
    "# Integers in Python 3 have arbitrary precision, i.e. they can be arbitrarily large (because everything is an object).\n",
    "\n",
    "a = 10\n",
    "b = 10 ** 80 # exponentiation\n",
    "print(a)\n",
    "print(b)\n",
    "print(b // a ** 40) # double slash // truncates division to an integer, be aware of precendence"
   ]
  },
  {
   "cell_type": "code",
   "execution_count": 4,
   "metadata": {
    "slideshow": {
     "slide_type": "subslide"
    }
   },
   "outputs": [
    {
     "name": "stdout",
     "output_type": "stream",
     "text": [
      "3.142857142857143\n",
      "3.14\n",
      "3.143\n",
      "3.1429e+00\n"
     ]
    }
   ],
   "source": [
    "# Floats are used to represent double-precision (64-bit) floating point numbers. Integer \n",
    "# division not yielding a whole number will yield a floating point number. \n",
    "# We can format floating point numbers when displaying them as strings.\n",
    "\n",
    "pi = 22 / 7 # single slash / returns division as a float\n",
    "print(pi)\n",
    "print(\"{:.2f}\".format(pi)) # f is float, 2 defines the number of decimals\n",
    "print(\"{:.3f}\".format(pi)) # f is float\n",
    "print(\"{:.4e}\".format(pi)) # e is scientific notation\n"
   ]
  },
  {
   "cell_type": "code",
   "execution_count": 5,
   "metadata": {
    "slideshow": {
     "slide_type": "subslide"
    }
   },
   "outputs": [
    {
     "name": "stdout",
     "output_type": "stream",
     "text": [
      "<class 'NoneType'>\n",
      "True\n",
      "False\n"
     ]
    }
   ],
   "source": [
    "# None is used for the null value in Python, i.e. an empty reference. \n",
    "\n",
    "x = None; # semi-colons are not necessary but are optional\n",
    "print(type(x)) # type returns the type of a variable (float, int, bool, etc.)\n",
    "print(x is None)\n",
    "print(x is not None)"
   ]
  },
  {
   "cell_type": "code",
   "execution_count": 6,
   "metadata": {
    "slideshow": {
     "slide_type": "subslide"
    }
   },
   "outputs": [
    {
     "name": "stdout",
     "output_type": "stream",
     "text": [
      "3.14159\n",
      "3\n",
      "True\n",
      "True\n"
     ]
    },
    {
     "ename": "ValueError",
     "evalue": "invalid literal for int() with base 10: '3.14159'",
     "output_type": "error",
     "traceback": [
      "\u001b[0;31m---------------------------------------------------------------------------\u001b[0m",
      "\u001b[0;31mValueError\u001b[0m                                Traceback (most recent call last)",
      "\u001b[0;32m<ipython-input-6-61cf3920865c>\u001b[0m in \u001b[0;36m<module>\u001b[0;34m()\u001b[0m\n\u001b[1;32m      8\u001b[0m \u001b[0mprint\u001b[0m\u001b[0;34m(\u001b[0m \u001b[0mbool\u001b[0m\u001b[0;34m(\u001b[0m\u001b[0mfloat\u001b[0m\u001b[0;34m(\u001b[0m\u001b[0mPi\u001b[0m\u001b[0;34m)\u001b[0m\u001b[0;34m)\u001b[0m\u001b[0;34m)\u001b[0m\u001b[0;34m\u001b[0m\u001b[0m\n\u001b[1;32m      9\u001b[0m \u001b[0;34m\u001b[0m\u001b[0m\n\u001b[0;32m---> 10\u001b[0;31m \u001b[0mprint\u001b[0m\u001b[0;34m(\u001b[0m\u001b[0mint\u001b[0m\u001b[0;34m(\u001b[0m\u001b[0mPi\u001b[0m\u001b[0;34m)\u001b[0m\u001b[0;34m)\u001b[0m\u001b[0;34m\u001b[0m\u001b[0m\n\u001b[0m",
      "\u001b[0;31mValueError\u001b[0m: invalid literal for int() with base 10: '3.14159'"
     ]
    }
   ],
   "source": [
    "# Type casting works nicely between str, bool, int and float types.\n",
    "\n",
    "Pi = \"3.14159\"\n",
    "print(float(Pi))\n",
    "print(int(float(Pi)))\n",
    "print(bool(int(float(Pi)))) # Any non-zero integer is True\n",
    "\n",
    "print( bool(float(Pi)))\n",
    "\n",
    "print(int(Pi)) # Strings that are numbers with decimals are required to be converted to floats before integers"
   ]
  },
  {
   "cell_type": "markdown",
   "metadata": {
    "slideshow": {
     "slide_type": "slide"
    }
   },
   "source": [
    "## <a name=\"binaryOps\"></a>Binary Operators\n",
    "\n",
    "The following binary operators are available in Python. Operators can be _overloaded_.\n",
    "\n",
    "Operation | Description\n",
    "----------|------------\n",
    "`a + b`   | Addition \n",
    "`a - b`   | Subtraction\n",
    "`a * b`   | Multiplication\n",
    "`a ** b`  | Exponentiation\n",
    "`a / b`   | Division\n",
    "`a // b`  | Floor-division\n",
    "`a & b`   | Bitwise AND for ints\n",
    "<code>a &#124; b</code>   | Bitwise OR for ints\n",
    "`a ^ b`   | Bitwise EXCLUSIVE OR for ints\n",
    "`a == b`  | True if `a` equals `b`\n",
    "`a != b`  | True if `a` is not equal to `b`\n",
    "`a < b`, `a <= b` | less-than, less-than-or-equal-to\n",
    "`a > b`, `a >= b` | greater-than, greater-than-or-equal-to\n",
    "`a is b` | True if `a` and `b` reference the same object\n",
    "`a is not b` | True if `a` and `b` reference different objects\n",
    "\n",
    "Note that this table is not exhaustive. \n",
    "\n"
   ]
  },
  {
   "cell_type": "code",
   "execution_count": 7,
   "metadata": {
    "slideshow": {
     "slide_type": "subslide"
    }
   },
   "outputs": [
    {
     "name": "stdout",
     "output_type": "stream",
     "text": [
      "True\n",
      "False\n",
      "2.5\n",
      "2\n",
      "2.4285714285714284\n",
      "2.0\n"
     ]
    }
   ],
   "source": [
    "# Binary operator examples\n",
    "\n",
    "x = 8\n",
    "y = 8.0\n",
    "print(x == y)\n",
    "print(x is y) # needs to reference the exact same object in order to be true\n",
    "\n",
    "print(5 / 2)\n",
    "print(5 // 2)\n",
    "print(5.1 / 2.1)\n",
    "print(5.1 // 2.1)\n"
   ]
  },
  {
   "cell_type": "markdown",
   "metadata": {
    "slideshow": {
     "slide_type": "slide"
    }
   },
   "source": [
    "## <a name=\"controls\"></a>Control Structures\n",
    "\n",
    "* **if elif else**\n",
    "* **Ternary expressions**\n",
    "* **while**\n",
    "* **for**\n",
    "* **Functions**"
   ]
  },
  {
   "cell_type": "code",
   "execution_count": null,
   "metadata": {
    "slideshow": {
     "slide_type": "subslide"
    }
   },
   "outputs": [],
   "source": [
    "# if statements are very readable in Python. Remember to indent!\n",
    "\n",
    "x = -11\n",
    "\n",
    "# A simple if-else block\n",
    "if x % 2 == 0:\n",
    "    print(\"{0:d} is even\".format(x))\n",
    "else:\n",
    "    print(\"{0:d} is odd\".format(x))\n",
    "    \n",
    "\n",
    "# A block with multiple cases    \n",
    "if x < 0:\n",
    "    print(\"negative\")\n",
    "elif x > 0:\n",
    "    print(\"positive\")\n",
    "else:\n",
    "    print(\"zero\")\n"
   ]
  },
  {
   "cell_type": "code",
   "execution_count": null,
   "metadata": {
    "slideshow": {
     "slide_type": "subslide"
    }
   },
   "outputs": [],
   "source": [
    "# Ternary expressions combine an if-else block into a single expression. This is useful syntactic sugar when \n",
    "# the expression in simple but can sacrifice readability when the conditionals are more involved.\n",
    "\n",
    "# Example\n",
    "x = 11\n",
    "print(\"Even\" if x % 2 == 0 else \"Odd\")"
   ]
  },
  {
   "cell_type": "code",
   "execution_count": null,
   "metadata": {
    "slideshow": {
     "slide_type": "subslide"
    }
   },
   "outputs": [],
   "source": [
    "# Demonstration of while loop. You can 'break' out of a while loop or 'continue' to the next iteration. \n",
    "\n",
    "# A simple while loop\n",
    "x = 19\n",
    "count = 0\n",
    "while x != 1:\n",
    "    x = x // 2\n",
    "    count += 1\n",
    "print(str(count) + \"\\n\")\n",
    "\n",
    "# Continue demonstration\n",
    "x = 10\n",
    "while x > 0:\n",
    "    x -= 1\n",
    "    if x % 2 == 0:\n",
    "        continue\n",
    "    print(x)\n",
    "\n",
    "print(\"\\n\")    \n",
    "\n",
    "\n",
    "# Break demonstration\n",
    "x = 10\n",
    "while x > 0:\n",
    "    x-=1\n",
    "    print(x)\n",
    "    if x <= 5:\n",
    "        break\n",
    "    \n",
    "    \n",
    "    "
   ]
  },
  {
   "cell_type": "code",
   "execution_count": null,
   "metadata": {
    "slideshow": {
     "slide_type": "subslide"
    }
   },
   "outputs": [],
   "source": [
    "# For loops in Python are sophisticated and powerful as they allow you to iterate over a collection or an iterator. \n",
    "# The syntax is quite simple.\n",
    "#\n",
    "# for var in collection:\n",
    "#    do something with var\n",
    "#\n",
    "# \n",
    "#\n",
    "# For loops also support 'continue' and 'break' statements. \n",
    "\n",
    "# We'll look at collections in more detail later, but for now, let's look at the built in 'range' command which\n",
    "# returns a sequence of intgers within a specified range.\n",
    "\n",
    "seq = range(10)\n",
    "print(type(seq))\n",
    "\n",
    "for i in seq:\n",
    "    print(i)\n",
    "    \n",
    "print(\"\\n\")    \n",
    "    \n",
    "# Nested example\n",
    "seq = range(4)\n",
    "for i in seq:\n",
    "    for j in seq:\n",
    "        if i <= j:\n",
    "            print( \"({0:d},{1:d})\".format(i,j) )\n",
    "    \n",
    "\n"
   ]
  },
  {
   "cell_type": "markdown",
   "metadata": {
    "slideshow": {
     "slide_type": "slide"
    }
   },
   "source": [
    "## <a name=\"functions\"></a>Local Functions\n",
    "\n",
    "Like many other programming languages, functions in Python provide and important way of organizing and reusing code. They are packed with useful high-level features. \n",
    "\n",
    "* _Arguments_ can be _positional_ or specified via _keywords_. \n",
    "* Keyword arguments can be _optional_ and one can also specify _default_ values for them.\n",
    "* Order of keyword arguments can be changed.\n",
    "* Functions can return multiple values."
   ]
  },
  {
   "cell_type": "markdown",
   "metadata": {
    "slideshow": {
     "slide_type": "subslide"
    }
   },
   "source": [
    "\n",
    "* Use the `def` keyword to define a function, and the `return` keyword to return the result.\n",
    "* Functions _parameters_ and any variables declared within the body of the function have _local_ scope.\n",
    "* You have access to variables in the enclosing scope.\n",
    "* An optional string literal can be used as the very first statement. This is the function's _docstring_. \n",
    "* Arguments are _passed by reference_. This has implications for mutable objects. \n",
    "* If `return` is used by itself or if the function falls off the end, `None` is returned."
   ]
  },
  {
   "cell_type": "code",
   "execution_count": null,
   "metadata": {
    "slideshow": {
     "slide_type": "subslide"
    }
   },
   "outputs": [],
   "source": [
    "# Function definitions and scope.\n",
    "\n",
    "def factorial2(n):\n",
    "    \"Returns n!, the factorial of a non-negative integer n\"\n",
    "    # The variables n and result have local scope.\n",
    "    \n",
    "    result = 1\n",
    "    while n > 0:\n",
    "        result *= n\n",
    "        n -= 1\n",
    "    return result\n",
    "\n",
    "num = 10\n",
    "print(factorial2(num)) \n",
    "print(num) # Recall that integers are immutable"
   ]
  },
  {
   "cell_type": "code",
   "execution_count": null,
   "metadata": {
    "slideshow": {
     "slide_type": "subslide"
    }
   },
   "outputs": [],
   "source": [
    "# Positional and keyword arguments, default values\n",
    "\n",
    "def func2(x, y=0, z=0):\n",
    "    return x**2 + y**2 - z**2\n",
    "\n",
    "# we can call func2 with 1, 2 or 3 arguments.\n",
    "print(func2(2))\n",
    "print(func2(2,2))\n",
    "print(func2(2,2,2))\n",
    "\n",
    "print(\"\\n\")\n",
    "\n",
    "# We can also use keywords when invoking func2. \n",
    "print(func2(1,y=2, z=3))\n",
    "print(func2(1, z=3, y=2))\n",
    "print(func2(x=1, y=2, z=3)) #Keywords can be used for positional arguments as well\n",
    "\n",
    "\n",
    "# Keyword arguments must follow positional arguments\n",
    "# Thus the following is not allowed.\n",
    "# func2(y=2, z=3, 1)\n",
    "\n",
    "# Keywords need to match the parameters. The following is not allowed.\n",
    "# func2(a=1,b=2,c=3)"
   ]
  },
  {
   "cell_type": "markdown",
   "metadata": {
    "slideshow": {
     "slide_type": "slide"
    }
   },
   "source": [
    "## <a name=\"exerciseI\"></a>Warmup Exercises I\n",
    "\n",
    "- Write a function that takes three integers as input and returns the largest of the three.\n",
    "\n",
    "- Write a function that takes three integers as input and returns `True` if either all three integers are even or all three integers are odd, and `False` otherwise.\n",
    "\n",
    "- Write a function that takes a dollar amount -- passed in as a `float` -- as an input, performs penny rounding on the amount and returns the rounded amount as a result.   \n",
    "\n",
    "  \n",
    "You are not allowed to use any built-in functions."
   ]
  },
  {
   "cell_type": "markdown",
   "metadata": {
    "slideshow": {
     "slide_type": "slide"
    }
   },
   "source": [
    "## <a name=\"collections\"></a>Built-in Collection Types\n",
    "\n",
    "- Data structures provide the backbone for implementing algorithms.\n",
    "- A number of convenient collection types are available as first-class citizens in Python. These include:\n",
    "  - Strings\n",
    "  - bytes\n",
    "  - Tuples\n",
    "  - Lists\n",
    "  - Sets\n",
    "  - Dictionaries\n",
    "- All types are either mutable or immutable.\n",
    "- There are also a number of convenient ways of indexing, slicing and iterating over collections of data."
   ]
  },
  {
   "cell_type": "code",
   "execution_count": null,
   "metadata": {
    "slideshow": {
     "slide_type": "subslide"
    }
   },
   "outputs": [],
   "source": [
    "# Strings are first-class citizens in Pyhton. Use single or double quotes to demarcate \n",
    "# strings. Multi-line strings can be demarcated by triple quotes (single or double). \n",
    "# Strings are immutable.\n",
    "\n",
    "a = 'This is a string.'\n",
    "b = \"This is also a string.\"\n",
    "c = '''\\\"This is\n",
    "a \n",
    "multi-line\n",
    "string.\\\"\n",
    "''' # this uses escape characters\n",
    "\n",
    "print(a)\n",
    "print(b)\n",
    "print(c)\n",
    "print(c.count('\\n'))\n",
    "\n",
    "print( a + ' ' + b )# string concatenation. \n",
    "print(a.upper())"
   ]
  },
  {
   "cell_type": "code",
   "execution_count": null,
   "metadata": {
    "slideshow": {
     "slide_type": "subslide"
    }
   },
   "outputs": [],
   "source": [
    "# Bytes are used for raw bytes. This is useful when working with files or unicode encodings.\n",
    "# Note that Python 3 strings support UTF-8.\n",
    "\n",
    "txt = \"français\"\n",
    "txt_utf8 = txt.encode('utf-8')\n",
    "\n",
    "print(type(txt))\n",
    "print(type(txt_utf8))\n",
    "print(txt_utf8)\n",
    "\n",
    "foreign_txt = \"اُردُو\"\n",
    "print(foreign_txt.encode('utf-8'))\n",
    "\n",
    "print(bytes([255])) # an example of type casting\n"
   ]
  },
  {
   "cell_type": "markdown",
   "metadata": {
    "slideshow": {
     "slide_type": "slide"
    }
   },
   "source": [
    "### Tuples\n",
    "\n",
    "- A tuple is a *fixed-length*, _immutable_ sequence of Python objects.\n",
    "- Declare a tuple using parentheses (`()`).\n",
    "- Tuples can be nested.\n",
    "- Convenienct _unpacking_ operations."
   ]
  },
  {
   "cell_type": "code",
   "execution_count": null,
   "metadata": {
    "slideshow": {
     "slide_type": "subslide"
    }
   },
   "outputs": [],
   "source": [
    "# Creating tuples\n",
    "\n",
    "point2d = (1, 2)\n",
    "point3d = (1, 2, 3)\n",
    "print(point2d)\n",
    "print(point3d)\n",
    "print(\"\\n\")\n",
    "\n",
    "# Tuples can be nested\n",
    "pair = (point2d, point3d)\n",
    "print(pair)\n",
    "print(\"\\n\")\n",
    "\n",
    "# Converting a string to a tuple\n",
    "str = \"DATA 601\"\n",
    "str_tup = tuple(str)\n",
    "print(str_tup)\n",
    "\n",
    "print(\"\\n\")\n",
    "print(point2d[0])\n",
    "point2d[0] = 25"
   ]
  },
  {
   "cell_type": "code",
   "execution_count": null,
   "metadata": {
    "slideshow": {
     "slide_type": "subslide"
    }
   },
   "outputs": [],
   "source": [
    "# Once a tuple has been declared, we cannot mutate it. However, if a\n",
    "# mutable object stored in a particular slot is mutable, it can be \n",
    "# mutated.\n",
    "\n",
    "# Recall that lists are mutable\n",
    "tup = ('a', 'b',[1,2])\n",
    "\n",
    "# The following is not allowed\n",
    "# tup[0] = 'aa' \n",
    "\n",
    "# but this is ok\n",
    "tup[2].append(3)\n",
    "\n",
    "print(tup)"
   ]
  },
  {
   "cell_type": "markdown",
   "metadata": {
    "slideshow": {
     "slide_type": "slide"
    }
   },
   "source": [
    "### Lists\n",
    "\n",
    "- A list is a *variable-length*, _mutable_ sequence of Python objects.\n",
    "- Declare a list using square brackets (`[]`).\n",
    "- Lists can be nested.\n",
    "- Convenient list modification operations:\n",
    "  - `append`, `extend`, `remove`, `pop` etc.\n",
    "- Can also _slice_ lists."
   ]
  },
  {
   "cell_type": "code",
   "execution_count": null,
   "metadata": {
    "slideshow": {
     "slide_type": "subslide"
    }
   },
   "outputs": [],
   "source": [
    "# Creating and modifying lists\n",
    "\n",
    "l1 = [0,1]\n",
    "l2 = [2,3]\n",
    "\n",
    "# Lists can be joined in two ways\n",
    "l3 = l1 + l2   # Creates a new list - slower\n",
    "l1.extend(l2) # Modifies an existing list - faster\n",
    "\n",
    "print(l1)\n",
    "print(l2)\n",
    "print(l3)\n",
    "print(\"\\n\")\n",
    "\n",
    "# Use insert and pop for positional insertion and deletion.\n",
    "# These operations change the list size\n",
    "\n",
    "l3.insert(3,-1)\n",
    "print(l3)\n",
    "print(l3.pop(3))\n",
    "print(l3)\n",
    "print(\"\\n\")\n",
    "\n",
    "# Ofcourse simple indexing is also possible\n",
    "l3[3] = 4\n",
    "print(l3)\n",
    "l3[3] = (1,1)\n",
    "print(l3)\n",
    "\n"
   ]
  },
  {
   "cell_type": "markdown",
   "metadata": {
    "slideshow": {
     "slide_type": "slide"
    }
   },
   "source": [
    "## <a name=\"exerciseII\"></a>Warmup Exercises II\n",
    "\n",
    "- Write a function that takes a list as an input and returns a new list that contains the items in the input list _reversed_. You are not allowed to use any built-in reversal functions. \n",
    "\n",
    "  You may use `list.insert`\n",
    "  \n",
    "  \n",
    "- Write the following functions that take a list of numbers as input and return:\n",
    "  - the maximum\n",
    "  - the minimum\n",
    "  - the sum\n",
    "  \n",
    "  You are not allowed to use any built-in functions."
   ]
  },
  {
   "cell_type": "code",
   "execution_count": 16,
   "metadata": {},
   "outputs": [
    {
     "name": "stdout",
     "output_type": "stream",
     "text": [
      "[8, 7, 6, 5, 4, 3, 2, 1]\n",
      "8\n",
      "1\n",
      "36\n"
     ]
    }
   ],
   "source": [
    "# Define list for warmup examples\n",
    "list1 = [1, 2, 3, 4, 5, 6, 7, 8]\n",
    "\n",
    "# Function that reverses list contents\n",
    "def reverse_func(list):\n",
    "    new_list = []\n",
    "    for i in range(1, len(list) + 1):\n",
    "        new_list.append(list[-i])\n",
    "    return new_list\n",
    "        \n",
    "print(reverse_func(list1))\n",
    "\n",
    "# Maximum function\n",
    "def max_func(list):\n",
    "    max = list[0]\n",
    "    for i in range(len(list)):\n",
    "        if list[i] >= max:\n",
    "            max = list[i]\n",
    "        else:\n",
    "            max = max\n",
    "    return max\n",
    "\n",
    "print(max_func(list1))\n",
    "\n",
    "# Minimum function\n",
    "def min_func(list):\n",
    "    min = list[0]\n",
    "    for i in range(len(list)):\n",
    "        if list[i] <= min:\n",
    "            min = list[i]\n",
    "        else:\n",
    "            min = min\n",
    "    return min\n",
    "\n",
    "print(min_func(list1))\n",
    "\n",
    "# Sum function\n",
    "def sum_func(list):\n",
    "    sum = 0\n",
    "    for i in range(len(list)):\n",
    "        sum += list[i]\n",
    "    return sum\n",
    "\n",
    "print(sum_func(list1))\n"
   ]
  },
  {
   "cell_type": "code",
   "execution_count": null,
   "metadata": {},
   "outputs": [],
   "source": []
  }
 ],
 "metadata": {
  "celltoolbar": "Slideshow",
  "kernelspec": {
   "display_name": "Python 3",
   "language": "python",
   "name": "python3"
  },
  "language_info": {
   "codemirror_mode": {
    "name": "ipython",
    "version": 3
   },
   "file_extension": ".py",
   "mimetype": "text/x-python",
   "name": "python",
   "nbconvert_exporter": "python",
   "pygments_lexer": "ipython3",
   "version": "3.7.3"
  }
 },
 "nbformat": 4,
 "nbformat_minor": 2
}

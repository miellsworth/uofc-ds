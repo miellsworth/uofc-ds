{
 "cells": [
  {
   "cell_type": "code",
   "execution_count": 1,
   "metadata": {},
   "outputs": [
    {
     "name": "stdout",
     "output_type": "stream",
     "text": [
      "3\n"
     ]
    }
   ],
   "source": [
    "# Converting floats to integers (does not round up)\n",
    "x = 3.9\n",
    "print(int(x))"
   ]
  },
  {
   "cell_type": "code",
   "execution_count": 5,
   "metadata": {},
   "outputs": [
    {
     "name": "stdout",
     "output_type": "stream",
     "text": [
      "\n",
      "\n"
     ]
    }
   ],
   "source": [
    "# print a space between return or printed values\n",
    "print(\"\\n\")"
   ]
  },
  {
   "cell_type": "code",
   "execution_count": 4,
   "metadata": {},
   "outputs": [
    {
     "data": {
      "text/plain": [
       "5"
      ]
     },
     "execution_count": 4,
     "metadata": {},
     "output_type": "execute_result"
    }
   ],
   "source": [
    "# two forward slashes return an integer only (does not round up)\n",
    "23 // 4"
   ]
  },
  {
   "cell_type": "code",
   "execution_count": 6,
   "metadata": {},
   "outputs": [
    {
     "name": "stdout",
     "output_type": "stream",
     "text": [
      "21.0\n"
     ]
    }
   ],
   "source": [
    "def tri(n):\n",
    "    '''Returns the n-th triangular number for an input\n",
    "    integer n.\n",
    "    '''\n",
    "    return (n * (n + 1)) / 2\n",
    "    raise NotImplementedError()\n",
    "print(tri(6))\n",
    "'''Check that tri returns the correct output'''\n",
    "assert tri(1) == 1\n",
    "assert tri(5) == 15\n",
    "assert tri(36) == 666\n",
    "assert tri(10 ** 5) == 5000050000"
   ]
  },
  {
   "cell_type": "code",
   "execution_count": 28,
   "metadata": {},
   "outputs": [
    {
     "data": {
      "text/plain": [
       "False"
      ]
     },
     "execution_count": 28,
     "metadata": {},
     "output_type": "execute_result"
    }
   ],
   "source": [
    "def powerOfTwo(n):\n",
    "    '''For a positive integer n, returns True if n is a \n",
    "    power of two, False otherwise.\n",
    "    '''\n",
    "    \n",
    "    x = 0\n",
    "    y = 0\n",
    "    while y < n:\n",
    "        y = 2**x\n",
    "        x += 1\n",
    "    return n == y\n",
    "    raise NotImplementedError()\n",
    "powerOfTwo(76)"
   ]
  },
  {
   "cell_type": "code",
   "execution_count": 32,
   "metadata": {},
   "outputs": [
    {
     "name": "stdout",
     "output_type": "stream",
     "text": [
      "13\n"
     ]
    }
   ],
   "source": [
    "def fib(n):\n",
    "    '''Computes the n-th Fibonacci number for a positive \n",
    "    integer n and returns the answer as an integer.\n",
    "    '''\n",
    "    \n",
    "    phi = (1 + 5**(1/2)) / 2\n",
    "    psi = (1 - 5**(1/2)) / 2\n",
    "    return int((phi**n - psi**n) / (5**(1/2)))\n",
    "    raise NotImplementedError()\n",
    "print(fib(7))"
   ]
  },
  {
   "cell_type": "code",
   "execution_count": 42,
   "metadata": {},
   "outputs": [
    {
     "ename": "TypeError",
     "evalue": "'str' object is not callable",
     "output_type": "error",
     "traceback": [
      "\u001b[0;31m---------------------------------------------------------------------------\u001b[0m",
      "\u001b[0;31mTypeError\u001b[0m                                 Traceback (most recent call last)",
      "\u001b[0;32m<ipython-input-42-84eaec5cfb25>\u001b[0m in \u001b[0;36m<module>\u001b[0;34m\u001b[0m\n\u001b[1;32m     10\u001b[0m     \u001b[0;32mreturn\u001b[0m \u001b[0mstr\u001b[0m \u001b[0;34m==\u001b[0m \u001b[0mnew_str\u001b[0m\u001b[0;34m\u001b[0m\u001b[0;34m\u001b[0m\u001b[0m\n\u001b[1;32m     11\u001b[0m     \u001b[0;32mraise\u001b[0m \u001b[0mNotImplementedError\u001b[0m\u001b[0;34m(\u001b[0m\u001b[0;34m)\u001b[0m\u001b[0;34m\u001b[0m\u001b[0;34m\u001b[0m\u001b[0m\n\u001b[0;32m---> 12\u001b[0;31m \u001b[0misPalindrome\u001b[0m\u001b[0;34m(\u001b[0m\u001b[0;34m\"racecar\"\u001b[0m\u001b[0;34m)\u001b[0m\u001b[0;34m\u001b[0m\u001b[0;34m\u001b[0m\u001b[0m\n\u001b[0m",
      "\u001b[0;32m<ipython-input-42-84eaec5cfb25>\u001b[0m in \u001b[0;36misPalindrome\u001b[0;34m(str)\u001b[0m\n\u001b[1;32m      7\u001b[0m     \u001b[0;32mfor\u001b[0m \u001b[0mi\u001b[0m \u001b[0;32min\u001b[0m \u001b[0mrange\u001b[0m\u001b[0;34m(\u001b[0m\u001b[0mlen\u001b[0m\u001b[0;34m(\u001b[0m\u001b[0mstr\u001b[0m\u001b[0;34m)\u001b[0m\u001b[0;34m)\u001b[0m\u001b[0;34m:\u001b[0m\u001b[0;34m\u001b[0m\u001b[0;34m\u001b[0m\u001b[0m\n\u001b[1;32m      8\u001b[0m         \u001b[0mnew_str\u001b[0m\u001b[0;34m.\u001b[0m\u001b[0mappend\u001b[0m\u001b[0;34m(\u001b[0m\u001b[0mstr\u001b[0m\u001b[0;34m[\u001b[0m\u001b[0;34m-\u001b[0m\u001b[0;34m(\u001b[0m\u001b[0mi\u001b[0m\u001b[0;34m+\u001b[0m\u001b[0;36m1\u001b[0m\u001b[0;34m)\u001b[0m\u001b[0;34m]\u001b[0m\u001b[0;34m)\u001b[0m\u001b[0;34m\u001b[0m\u001b[0;34m\u001b[0m\u001b[0m\n\u001b[0;32m----> 9\u001b[0;31m         \u001b[0mprint\u001b[0m\u001b[0;34m(\u001b[0m\u001b[0mstr\u001b[0m\u001b[0;34m(\u001b[0m\u001b[0mnew_str\u001b[0m\u001b[0;34m)\u001b[0m\u001b[0;34m)\u001b[0m\u001b[0;34m\u001b[0m\u001b[0;34m\u001b[0m\u001b[0m\n\u001b[0m\u001b[1;32m     10\u001b[0m     \u001b[0;32mreturn\u001b[0m \u001b[0mstr\u001b[0m \u001b[0;34m==\u001b[0m \u001b[0mnew_str\u001b[0m\u001b[0;34m\u001b[0m\u001b[0;34m\u001b[0m\u001b[0m\n\u001b[1;32m     11\u001b[0m     \u001b[0;32mraise\u001b[0m \u001b[0mNotImplementedError\u001b[0m\u001b[0;34m(\u001b[0m\u001b[0;34m)\u001b[0m\u001b[0;34m\u001b[0m\u001b[0;34m\u001b[0m\u001b[0m\n",
      "\u001b[0;31mTypeError\u001b[0m: 'str' object is not callable"
     ]
    }
   ],
   "source": [
    "def isPalindrome( str ):\n",
    "    '''\n",
    "    Returns True if str contains a string that is a palindrome,\n",
    "    False otherwise. Does not ignore whitespace characters.\n",
    "    '''\n",
    "    new_str = []\n",
    "    for i in range(len(str)):\n",
    "        new_str.append(str[-(i+1)])\n",
    "        print(str(new_str))\n",
    "    return str == new_str\n",
    "    raise NotImplementedError()\n",
    "isPalindrome(\"racecar\")"
   ]
  },
  {
   "cell_type": "code",
   "execution_count": 37,
   "metadata": {},
   "outputs": [
    {
     "name": "stdout",
     "output_type": "stream",
     "text": [
      "a\n"
     ]
    }
   ],
   "source": [
    "str = \"racecar\"\n",
    "print(str[1])"
   ]
  },
  {
   "cell_type": "code",
   "execution_count": 52,
   "metadata": {},
   "outputs": [
    {
     "name": "stdout",
     "output_type": "stream",
     "text": [
      "[[], []]\n"
     ]
    }
   ],
   "source": [
    "A = [[1,2],[3,4], [5,6]]\n",
    "new_list = [[] for i in range(len(A[0]))]\n",
    "print(new_list)"
   ]
  },
  {
   "cell_type": "code",
   "execution_count": 62,
   "metadata": {},
   "outputs": [
    {
     "data": {
      "text/plain": [
       "[[1, 3, 5], [2, 4, 6]]"
      ]
     },
     "execution_count": 62,
     "metadata": {},
     "output_type": "execute_result"
    }
   ],
   "source": [
    "def transpose(A):\n",
    "    '''Returns the transpose of A as a list of lists. Each\n",
    "    column of A becomes a row in the returned matrix.\n",
    "    '''\n",
    "    new_list = [[] for k in range(len(A[0]))]\n",
    "    for i in range(len(A)):\n",
    "        for j in range(len(A[0])):\n",
    "            new_list[j].append(A[i][j])\n",
    "    return new_list\n",
    "    raise NotImplementedError()\n",
    "transpose(A)"
   ]
  },
  {
   "cell_type": "code",
   "execution_count": 64,
   "metadata": {},
   "outputs": [
    {
     "name": "stdout",
     "output_type": "stream",
     "text": [
      "[0, 0, 0, 0, 0, 0, 0, 0, 0, 0]\n"
     ]
    }
   ],
   "source": [
    "N = 10\n",
    "hist = [0] * N\n",
    "print(hist)"
   ]
  },
  {
   "cell_type": "code",
   "execution_count": 70,
   "metadata": {},
   "outputs": [
    {
     "name": "stdout",
     "output_type": "stream",
     "text": [
      "[4, 0, 1]\n"
     ]
    }
   ],
   "source": [
    "def hist(L, N=10):\n",
    "    '''For a list of values L, returns a histogram\n",
    "       consisting of N equal-width bins. The histogram is returned as \n",
    "       a list consisting of the counts in each bin. The values are \n",
    "       assumed to be in floating point format in the range [0.0,1.0).\n",
    "    '''\n",
    "    hist = [0] * N\n",
    "    for i in L:\n",
    "        hist[int(i * N)] += 1\n",
    "    return hist\n",
    "    raise NotImplementedError()\n",
    "A = [0.0324, 0.12414, 0.2, 0.232525, 0.9]    \n",
    "print(hist(A, N=3))"
   ]
  },
  {
   "cell_type": "code",
   "execution_count": 3,
   "metadata": {},
   "outputs": [
    {
     "name": "stdout",
     "output_type": "stream",
     "text": [
      "1\n"
     ]
    }
   ],
   "source": [
    "print(5 % 2)"
   ]
  },
  {
   "cell_type": "code",
   "execution_count": 45,
   "metadata": {},
   "outputs": [
    {
     "name": "stdout",
     "output_type": "stream",
     "text": [
      "0.953344\n",
      "7\n"
     ]
    }
   ],
   "source": [
    "import math\n",
    "x = 1\n",
    "P = 0\n",
    "while P < 0.95:\n",
    "    P = 0\n",
    "    for i in range(1, x+1):\n",
    "        P += math.factorial(x)/(math.factorial(i)*math.factorial(x-i))*0.4**i*(1-0.4)**(x-i)\n",
    "    x += 1\n",
    "print(P)\n",
    "print(x)"
   ]
  },
  {
   "cell_type": "code",
   "execution_count": 14,
   "metadata": {},
   "outputs": [
    {
     "name": "stdout",
     "output_type": "stream",
     "text": [
      "range(0, 1)\n"
     ]
    }
   ],
   "source": [
    "print(range(1))"
   ]
  },
  {
   "cell_type": "code",
   "execution_count": 35,
   "metadata": {},
   "outputs": [
    {
     "name": "stdout",
     "output_type": "stream",
     "text": [
      "0.953344\n",
      "6\n"
     ]
    }
   ],
   "source": []
  },
  {
   "cell_type": "code",
   "execution_count": 29,
   "metadata": {},
   "outputs": [
    {
     "name": "stdout",
     "output_type": "stream",
     "text": [
      "[1, 2, 3]\n"
     ]
    }
   ],
   "source": [
    "print(list(range(1, 4)))"
   ]
  },
  {
   "cell_type": "code",
   "execution_count": 2,
   "metadata": {},
   "outputs": [
    {
     "name": "stdout",
     "output_type": "stream",
     "text": [
      "[('A', 'B'), ('C', 'D')]\n"
     ]
    }
   ],
   "source": [
    "new_list = []\n",
    "new_list.append((\"A\", \"B\"))\n",
    "new_list.append((\"C\", \"D\"))\n",
    "print(new_list)"
   ]
  },
  {
   "cell_type": "code",
   "execution_count": 3,
   "metadata": {},
   "outputs": [
    {
     "name": "stdout",
     "output_type": "stream",
     "text": [
      "[('A', '♠'), ('A', '♥'), ('A', '♦'), ('A', '♣'), ('K', '♠'), ('K', '♥'), ('K', '♦'), ('K', '♣'), ('Q', '♠'), ('Q', '♥'), ('Q', '♦'), ('Q', '♣'), ('J', '♠'), ('J', '♥'), ('J', '♦'), ('J', '♣'), ('10', '♠'), ('10', '♥'), ('10', '♦'), ('10', '♣'), ('9', '♠'), ('9', '♥'), ('9', '♦'), ('9', '♣'), ('8', '♠'), ('8', '♥'), ('8', '♦'), ('8', '♣'), ('7', '♠'), ('7', '♥'), ('7', '♦'), ('7', '♣'), ('6', '♠'), ('6', '♥'), ('6', '♦'), ('6', '♣'), ('5', '♠'), ('5', '♥'), ('5', '♦'), ('5', '♣'), ('4', '♠'), ('4', '♥'), ('4', '♦'), ('4', '♣'), ('3', '♠'), ('3', '♥'), ('3', '♦'), ('3', '♣'), ('2', '♠'), ('2', '♥'), ('2', '♦'), ('2', '♣')]\n"
     ]
    }
   ],
   "source": [
    "def myprod(l1, l2):\n",
    "    new_list = []\n",
    "    for i in range(len(l1)):\n",
    "        for j in range(len(l2)):\n",
    "            new_list.append((l1[i], l2[j]))\n",
    "    return new_list\n",
    "    raise NotImplementedError()\n",
    "l1 = ['A', 'K', 'Q', 'J', '10', '9', '8', '7', '6', '5', '4', '3', '2']\n",
    "l2 = ['♠', '♥', '♦', '♣']\n",
    "print(myprod(l1, l2))"
   ]
  },
  {
   "cell_type": "code",
   "execution_count": 9,
   "metadata": {},
   "outputs": [
    {
     "name": "stdout",
     "output_type": "stream",
     "text": [
      "[('A', '♠'), ('A', '♥'), ('A', '♦'), ('A', '♣'), ('K', '♠'), ('K', '♥'), ('K', '♦'), ('K', '♣'), ('Q', '♠'), ('Q', '♥'), ('Q', '♦'), ('Q', '♣'), ('J', '♠'), ('J', '♥'), ('J', '♦'), ('J', '♣'), ('10', '♠'), ('10', '♥'), ('10', '♦'), ('10', '♣'), ('9', '♠'), ('9', '♥'), ('9', '♦'), ('9', '♣'), ('8', '♠'), ('8', '♥'), ('8', '♦'), ('8', '♣'), ('7', '♠'), ('7', '♥'), ('7', '♦'), ('7', '♣'), ('6', '♠'), ('6', '♥'), ('6', '♦'), ('6', '♣'), ('5', '♠'), ('5', '♥'), ('5', '♦'), ('5', '♣'), ('4', '♠'), ('4', '♥'), ('4', '♦'), ('4', '♣'), ('3', '♠'), ('3', '♥'), ('3', '♦'), ('3', '♣'), ('2', '♠'), ('2', '♥'), ('2', '♦'), ('2', '♣')]\n"
     ]
    }
   ],
   "source": [
    "def myprod(l1, l2):\n",
    "    new_list = [(l1[i], l2[j]) for i in range(len(l1)) for j in range(len(l2))]\n",
    "    return new_list\n",
    "    raise NotImplementedError()\n",
    "l1 = ['A', 'K', 'Q', 'J', '10', '9', '8', '7', '6', '5', '4', '3', '2']\n",
    "l2 = ['♠', '♥', '♦', '♣']\n",
    "print(myprod(l1, l2))"
   ]
  },
  {
   "cell_type": "code",
   "execution_count": 1,
   "metadata": {},
   "outputs": [
    {
     "name": "stdout",
     "output_type": "stream",
     "text": [
      "{'a': 1, 'b': 2, 'c': 3}\n"
     ]
    }
   ],
   "source": [
    "L1 = [\"a\", \"b\", \"c\"]\n",
    "L2 = [1, 2, 3]\n",
    "dict1 = dict(zip(L1, L2))\n",
    "print(dict1)"
   ]
  },
  {
   "cell_type": "code",
   "execution_count": 23,
   "metadata": {},
   "outputs": [
    {
     "name": "stdout",
     "output_type": "stream",
     "text": [
      "[1 2 3 4 5 6 7 8 9]\n",
      "[0, 0, 0, 0, 0, 0, 0, 0, 0]\n"
     ]
    }
   ],
   "source": [
    "L1 = [1, 2, 3, 3, 4, 5, 6, 6, 6, 7, 8, 9, 9]\n",
    "import numpy as np\n",
    "from collections import Counter\n",
    "def mytally( li ):\n",
    "    l1 = np.unique(li)\n",
    "    return l1\n",
    "print(mytally(L1))\n",
    "print(len(mytally(L1))*[0])"
   ]
  },
  {
   "cell_type": "code",
   "execution_count": 38,
   "metadata": {},
   "outputs": [
    {
     "name": "stdout",
     "output_type": "stream",
     "text": [
      "[1, 2, 3, 4, 5, 6, 7, 8, 9]\n",
      "[0, 0, 0, 0, 0, 0, 0, 0, 0]\n",
      "{1: 1, 2: 1, 3: 2, 4: 1, 5: 1, 6: 3, 7: 1, 8: 1, 9: 2}\n"
     ]
    }
   ],
   "source": [
    "L1 = [1, 2, 3, 3, 4, 5, 6, 6, 6, 7, 8, 9, 9]\n",
    "import numpy as np\n",
    "def mytally( li ):\n",
    "    l1 = np.unique(li)\n",
    "    print(list(l1))\n",
    "    l2 = [0] * len(l1)\n",
    "    print(l2)\n",
    "    for i in range(len(l1)):\n",
    "        for j in range(len(li)):\n",
    "            if l1[i] == li[j]:\n",
    "                l2[i] += 1\n",
    "    return dict(zip(l1, l2))\n",
    "print(mytally(L1))"
   ]
  },
  {
   "cell_type": "code",
   "execution_count": 21,
   "metadata": {},
   "outputs": [
    {
     "name": "stdout",
     "output_type": "stream",
     "text": [
      "[0, 0, 0, 0, 0, 0, 0, 0, 0, 0, 0, 0, 0]\n"
     ]
    }
   ],
   "source": [
    "l2 = [0] * len(l1)\n",
    "print(l2)"
   ]
  },
  {
   "cell_type": "code",
   "execution_count": 24,
   "metadata": {},
   "outputs": [
    {
     "name": "stdout",
     "output_type": "stream",
     "text": [
      "[1]\n"
     ]
    }
   ],
   "source": [
    "LA = [1, 2, 3, 4]\n",
    "LB = [1, 2, 3, 4]\n",
    "l2 = [0]\n",
    "if LA[0] == LB[0]:\n",
    "    l2[0] += 1\n",
    "print(l2)"
   ]
  },
  {
   "cell_type": "code",
   "execution_count": 57,
   "metadata": {},
   "outputs": [
    {
     "name": "stdout",
     "output_type": "stream",
     "text": [
      "[1, 2, 3, 4, 5, 6, 7]\n"
     ]
    }
   ],
   "source": [
    "LC = [1, 2, 2, 3, 3, 3, 4, 5, 6, 7]\n",
    "def mysplit( li ):\n",
    "    import numpy as np\n",
    "    li.sort()\n",
    "    l1 = len(np.unique(li)) * [[]]\n",
    "    l2 = \n",
    "    return print(l1)\n",
    "    return print(li)\n",
    "mysplit(LC)"
   ]
  },
  {
   "cell_type": "code",
   "execution_count": 59,
   "metadata": {},
   "outputs": [
    {
     "name": "stdout",
     "output_type": "stream",
     "text": [
      "[[], [], [], [], [], [], [], []]\n"
     ]
    }
   ],
   "source": [
    "LD = [1, 3, 9, 2, 2, 3, 3, 3, 4, 5, 6, 7]\n",
    "print(len(np.unique(LD)) * [[]])"
   ]
  },
  {
   "cell_type": "code",
   "execution_count": 61,
   "metadata": {},
   "outputs": [
    {
     "name": "stdout",
     "output_type": "stream",
     "text": [
      "[1, 2, 3, 4, 5, 6, 7, 9]\n"
     ]
    }
   ],
   "source": [
    "LD = [1, 3, 9, 2, 2, 3, 3, 3, 4, 5, 6, 7]\n",
    "print(list(np.unique(LD)))"
   ]
  },
  {
   "cell_type": "code",
   "execution_count": 1,
   "metadata": {},
   "outputs": [
    {
     "name": "stdout",
     "output_type": "stream",
     "text": [
      "[[], [], [], [], [], [], [], []]\n",
      "[1, 2, 3, 4, 5, 6, 7, 9]\n",
      "[[1], [1], [1], [1], [1], [1], [1], [1]]\n"
     ]
    }
   ],
   "source": [
    "from numpy import unique\n",
    "LD = [1, 3, 9, 2, 2, 3, 3, 3, 4, 5, 6, 7]\n",
    "LD.sort()\n",
    "l1 = len(unique(LD)) * [[]]\n",
    "l2 = list(unique(LD))\n",
    "print(l1)\n",
    "print(l2)\n",
    "l1[0].append(1)\n",
    "print(l1)"
   ]
  },
  {
   "cell_type": "code",
   "execution_count": 63,
   "metadata": {},
   "outputs": [
    {
     "name": "stdout",
     "output_type": "stream",
     "text": [
      "[[], [], [], []]\n",
      "['i', 'm', 'p', 's']\n"
     ]
    }
   ],
   "source": [
    "LD = list('mississippi')\n",
    "LD.sort()\n",
    "l1 = len(np.unique(LD)) * [[]]\n",
    "l2 = list(np.unique(LD))\n",
    "print(l1)\n",
    "print(l2)"
   ]
  },
  {
   "cell_type": "code",
   "execution_count": null,
   "metadata": {},
   "outputs": [],
   "source": []
  }
 ],
 "metadata": {
  "kernelspec": {
   "display_name": "Python 3",
   "language": "python",
   "name": "python3"
  },
  "language_info": {
   "codemirror_mode": {
    "name": "ipython",
    "version": 3
   },
   "file_extension": ".py",
   "mimetype": "text/x-python",
   "name": "python",
   "nbconvert_exporter": "python",
   "pygments_lexer": "ipython3",
   "version": "3.7.3"
  }
 },
 "nbformat": 4,
 "nbformat_minor": 2
}

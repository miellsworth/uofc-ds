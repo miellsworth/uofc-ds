{
 "cells": [
  {
   "cell_type": "markdown",
   "metadata": {},
   "source": [
    "* RISE package for slideshows within Jupyter (local machine)\n",
    "* Questions:\n",
    "    * Level of knowledge required of Markdown\n",
    "    * Sharing documents within server and locally (can you export documents from the server?)\n",
    "        * There is a way to download files by clicking the radio button to the left of the file\n",
    "    * Best way to determine when to call functions after a variable or within\n",
    "    * Shortcut to look at functions that can be called to a variable (. then tab??)\n",
    "        * Need to run the code first so that Python knows what the variable is. Cannot use this shortcut without first defining the variable\n",
    "    * Need clarification on overloading operators\n",
    "    "
   ]
  }
 ],
 "metadata": {
  "kernelspec": {
   "display_name": "Python 3",
   "language": "python",
   "name": "python3"
  },
  "language_info": {
   "codemirror_mode": {
    "name": "ipython",
    "version": 3
   },
   "file_extension": ".py",
   "mimetype": "text/x-python",
   "name": "python",
   "nbconvert_exporter": "python",
   "pygments_lexer": "ipython3",
   "version": "3.7.3"
  }
 },
 "nbformat": 4,
 "nbformat_minor": 2
}

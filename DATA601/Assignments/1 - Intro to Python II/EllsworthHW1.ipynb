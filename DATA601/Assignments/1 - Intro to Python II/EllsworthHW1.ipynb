{
 "cells": [
  {
   "cell_type": "markdown",
   "metadata": {
    "deletable": false,
    "editable": false,
    "nbgrader": {
     "cell_type": "markdown",
     "checksum": "359e298af50ef73e6f1cfc739ff954a2",
     "grade": false,
     "grade_id": "Title",
     "locked": true,
     "schema_version": 3,
     "solution": false,
     "task": false
    }
   },
   "source": [
    "# DATA 601: Fall 2019\n",
    "\n",
    "## HW1\n",
    "\n",
    "### Due: Wed. Sep. 18 at 23:55\n",
    "\n",
    "**Learning Objectives**\n",
    "\n",
    "- Gain familiarity with Markdown.\n",
    "- Explore collection classes in Python.\n",
    "- Use intermediate level data structures and programming concepts in the context of data related problems.\n",
    "\n",
    "_This is an individual homework assignment._ \n",
    "\n",
    "Please complete this homework assignment within the Jupypter notebook environment.  \n",
    "\n",
    "#### Submission \n",
    "\n",
    "Your submission will be graded using a combination of auto-grading and manual grading. In order to ensure that everything goes smoothly, please follow these instructions:\n",
    "\n",
    "- Please provide your solutions where asked; please do not alter any other parts of this notebook.\n",
    "- Submit via the HW1 dropbox on D2L. Please ensure that your submitted file is named 'HW1.ipynb'.\n",
    "- Do not submit any other files."
   ]
  },
  {
   "cell_type": "markdown",
   "metadata": {
    "deletable": false,
    "editable": false,
    "nbgrader": {
     "cell_type": "markdown",
     "checksum": "bb781cb008a91ce492928314c417e2db",
     "grade": false,
     "grade_id": "question1",
     "locked": true,
     "schema_version": 3,
     "solution": false,
     "task": false
    }
   },
   "source": [
    "## Question 1: Markdown\n",
    "\n",
    "#### (1 point)\n",
    "\n",
    "Please go through the following Markdown tutorial:\n",
    "\n",
    "  [https://www.markdowntutorial.com/](https://www.markdowntutorial.com/)\n",
    "  \n",
    "  In the cell below, use Markdown to typeset your name at heading level 3 and your student ID at heading level 4."
   ]
  },
  {
   "cell_type": "markdown",
   "metadata": {
    "deletable": false,
    "nbgrader": {
     "cell_type": "markdown",
     "checksum": "bd014977a4fef65e39eb6ea153b7e31a",
     "grade": true,
     "grade_id": "markdown",
     "locked": false,
     "points": 1,
     "schema_version": 3,
     "solution": true,
     "task": false
    }
   },
   "source": [
    "### Michael Ellsworth\n",
    "#### 30101253"
   ]
  },
  {
   "cell_type": "markdown",
   "metadata": {
    "deletable": false,
    "editable": false,
    "nbgrader": {
     "cell_type": "markdown",
     "checksum": "738f8e60b104e113b9ca3f7da30eabfd",
     "grade": false,
     "grade_id": "question2",
     "locked": true,
     "schema_version": 3,
     "solution": false,
     "task": false
    }
   },
   "source": [
    "## Question 2: List Processing\n",
    "\n",
    "#### (6 points)\n",
    "\n",
    "The questions below ask you to process data stored in lists. To focus on problem solving and to make your code more readable, *you may use built-in functions*. Please try and use comprehensions whenever possible."
   ]
  },
  {
   "cell_type": "markdown",
   "metadata": {
    "deletable": false,
    "editable": false,
    "nbgrader": {
     "cell_type": "markdown",
     "checksum": "a76dc3bc6527eec8b5a80b1fe8e9cffd",
     "grade": false,
     "grade_id": "myprod_description",
     "locked": true,
     "schema_version": 3,
     "solution": false,
     "task": false
    }
   },
   "source": [
    "1. Given two lists, write a Python function called `myprod(l1, l2)` that produces a list containing all possible pairings &mdash; as tuples &mdash; of the elements in the two lists, i.e. the Cartesian product of the two lists. The first element of each tuple should come from `l1` and the second element should come from `l2`. You can assume that the lists will not have any duplicates.  \n",
    "<br>\n",
    "For example, the Cartesian product of the two lists `['A', 'K', 'Q', 'J', '10', '9', '8', '7', '6', '5', '4', '3', '2']` and `['♠', '♥', '♦', '♣']` should yield a standard deck of playing cards."
   ]
  },
  {
   "cell_type": "code",
   "execution_count": 2,
   "metadata": {
    "deletable": false,
    "nbgrader": {
     "cell_type": "code",
     "checksum": "b7461ccf5ff93e3446699d8dd8024c75",
     "grade": false,
     "grade_id": "myprod",
     "locked": false,
     "schema_version": 3,
     "solution": true,
     "task": false
    }
   },
   "outputs": [],
   "source": [
    "def myprod(l1, l2):\n",
    "    new_list = [(l1[i], l2[j]) for i in range(len(l1)) for j in range(len(l2))]\n",
    "    return new_list\n",
    "    raise NotImplementedError()"
   ]
  },
  {
   "cell_type": "code",
   "execution_count": 3,
   "metadata": {
    "deletable": false,
    "editable": false,
    "nbgrader": {
     "cell_type": "code",
     "checksum": "12dccfb26d53a461e254b323e25d380c",
     "grade": true,
     "grade_id": "myprod_test",
     "locked": true,
     "points": 2,
     "schema_version": 3,
     "solution": false,
     "task": false
    }
   },
   "outputs": [],
   "source": [
    "'''Check that myprod produces the correct output.'''\n",
    "\n",
    "l1 = ['A', 'K', 'Q', 'J', '10', '9', '8', '7', '6', '5', '4', '3', '2']\n",
    "l2 = ['♠', '♥', '♦', '♣']\n",
    "assert set(myprod(l1,l2)) == {\n",
    "    ('A', '♠'), ('A', '♥'), ('A', '♦'), ('A', '♣'), \\\n",
    "    ('K', '♠'), ('K', '♥'), ('K', '♦'), ('K', '♣'), \\\n",
    "    ('Q', '♠'), ('Q', '♥'), ('Q', '♦'), ('Q', '♣'), \\\n",
    "    ('J', '♠'), ('J', '♥'), ('J', '♦'), ('J', '♣'), \\\n",
    "    ('10', '♠'), ('10', '♥'), ('10', '♦'), ('10', '♣'), \\\n",
    "    ('9', '♠'), ('9', '♥'), ('9', '♦'), ('9', '♣'), \\\n",
    "    ('8', '♠'), ('8', '♥'), ('8', '♦'), ('8', '♣'), \\\n",
    "    ('7', '♠'), ('7', '♥'), ('7', '♦'), ('7', '♣'), \\\n",
    "    ('6', '♠'), ('6', '♥'), ('6', '♦'), ('6', '♣'), \\\n",
    "    ('5', '♠'), ('5', '♥'), ('5', '♦'), ('5', '♣'), \\\n",
    "    ('4', '♠'), ('4', '♥'), ('4', '♦'), ('4', '♣'), \\\n",
    "    ('3', '♠'), ('3', '♥'), ('3', '♦'), ('3', '♣'), \\\n",
    "    ('2', '♠'), ('2', '♥'), ('2', '♦'), ('2', '♣')}"
   ]
  },
  {
   "cell_type": "markdown",
   "metadata": {
    "deletable": false,
    "editable": false,
    "nbgrader": {
     "cell_type": "markdown",
     "checksum": "d9521370869bee3ebb326940193e1900",
     "grade": false,
     "grade_id": "mytally_description",
     "locked": true,
     "schema_version": 3,
     "solution": false,
     "task": false
    }
   },
   "source": [
    "2. Write a Python function called `mytally( li )` that takes a list `li` and returns a dictionary whose keys are the unique entries in `li` and whose values are the counts of each of the unique entries. For example:<br><br>\n",
    "      `mytally( [1, 2, 3, 3, 4, 5, 6, 6, 6, 7, 8, 9, 9] )` <br> \n",
    "      should return <br>\n",
    "      `{1:1, 2:1, 3:2, 4:1, 5:1, 6:3, 7:1, 8:1, 9:2}`"
   ]
  },
  {
   "cell_type": "code",
   "execution_count": 4,
   "metadata": {
    "deletable": false,
    "nbgrader": {
     "cell_type": "code",
     "checksum": "e2052030a1611e420784a24848d01c63",
     "grade": false,
     "grade_id": "mytally",
     "locked": false,
     "schema_version": 3,
     "solution": true,
     "task": false
    }
   },
   "outputs": [],
   "source": [
    "def mytally( li ):\n",
    "    import numpy as np\n",
    "    l1 = np.unique(li)\n",
    "    l2 = [0] * len(l1)\n",
    "    for i in range(len(l1)):\n",
    "        for j in range(len(li)):\n",
    "            if l1[i] == li[j]:\n",
    "                l2[i] += 1\n",
    "    return dict(zip(l1, l2))\n",
    "    raise NotImplementedError()"
   ]
  },
  {
   "cell_type": "code",
   "execution_count": 5,
   "metadata": {
    "deletable": false,
    "editable": false,
    "nbgrader": {
     "cell_type": "code",
     "checksum": "fafdb99c3a9d236c262d36d8892c22f1",
     "grade": true,
     "grade_id": "mytally_test",
     "locked": true,
     "points": 2,
     "schema_version": 3,
     "solution": false,
     "task": false
    }
   },
   "outputs": [],
   "source": [
    "'''Check that mytally returns the correct output'''\n",
    "assert mytally([1, 2, 3, 3, 4, 5, 6, 6, 6, 7, 8, 9, 9]) == \\\n",
    "    {1: 1, 2: 1, 3: 2, 4: 1, 5: 1, 6: 3, 7: 1, 8: 1, 9: 2}\n",
    "assert mytally(list('mississippi')) == \\\n",
    "    {'i': 4, 'm': 1, 'p': 2, 's': 4}\n",
    "import random\n",
    "random.seed(a=601, version=2)\n",
    "assert mytally( [random.randint(0,10) for i in range(10000)] ) == \\\n",
    "    {0:855, 1:895, 2:946, 3:961, 4:840, 5:941, 6:875, 7:916, 8:932, 9:910, 10:929}"
   ]
  },
  {
   "cell_type": "markdown",
   "metadata": {
    "deletable": false,
    "editable": false,
    "nbgrader": {
     "cell_type": "markdown",
     "checksum": "9fee88190baf0ef4464219ec2efda5ec",
     "grade": false,
     "grade_id": "mysplit_description",
     "locked": true,
     "schema_version": 3,
     "solution": false,
     "task": false
    }
   },
   "source": [
    "3. Write a function called `mysplit( li )` that takes a list `li` and splits it into sublists consisting of runs of identitical elements. The returned list should be sorted in ascending order. You may assume that `li` consists of immutable and comparable objects. For exxample:<br><br>\n",
    "   `mysplit( [1, 2, 3, 3, 4, 5, 6, 6, 6, 7, 8, 9, 9] )` <br> \n",
    "    should return <br>\n",
    "    `[[1], [2], [3,3], [4], [5], [6,6,6], [7], [8], [9,9]]`"
   ]
  },
  {
   "cell_type": "code",
   "execution_count": 6,
   "metadata": {
    "deletable": false,
    "nbgrader": {
     "cell_type": "code",
     "checksum": "9ce69e28b1818c83773b7e6b7fa7c2de",
     "grade": false,
     "grade_id": "mysplit",
     "locked": false,
     "schema_version": 3,
     "solution": true,
     "task": false
    }
   },
   "outputs": [],
   "source": [
    "def mysplit( li ):\n",
    "    import numpy as np\n",
    "    li.sort()\n",
    "    l1 = [[] for x in range(len(np.unique(li)))]\n",
    "    l2 = list(np.unique(li))\n",
    "    for i in range(len(l1)):\n",
    "        for j in li:\n",
    "            if j == l2[i]:\n",
    "                l1[i].append(j)\n",
    "    return l1\n",
    "    raise NotImplementedError()"
   ]
  },
  {
   "cell_type": "code",
   "execution_count": 7,
   "metadata": {
    "deletable": false,
    "editable": false,
    "nbgrader": {
     "cell_type": "code",
     "checksum": "4707c4e89fcb8d64525a7fa1e81c8ab4",
     "grade": true,
     "grade_id": "mysplit_test",
     "locked": true,
     "points": 2,
     "schema_version": 3,
     "solution": false,
     "task": false
    }
   },
   "outputs": [],
   "source": [
    "'''Check that mysplit produces the correct result'''\n",
    "tlist = [1, 2, 3, 3, 4, 5, 6, 6, 6, 7, 8, 9, 9]\n",
    "assert mysplit(tlist) == [[1], [2], [3,3], [4], [5], [6,6,6], [7], [8], [9,9]]\n",
    "assert mysplit(tlist[::-1]) == [[1], [2], [3,3], [4], [5], [6,6,6], [7], [8], [9,9]]\n",
    "assert mysplit(list('mississippi')) == \\\n",
    "       [list(\"iiii\"), list(\"m\"), list(\"pp\"), list(\"ssss\")]"
   ]
  },
  {
   "cell_type": "markdown",
   "metadata": {
    "deletable": false,
    "editable": false,
    "nbgrader": {
     "cell_type": "markdown",
     "checksum": "1b49b8afd00f598e6e20a45ae14f1656",
     "grade": false,
     "grade_id": "question3_description",
     "locked": true,
     "schema_version": 3,
     "solution": false,
     "task": false
    }
   },
   "source": [
    "## Question 3: Plotting Functions\n",
    "\n",
    "#### (6 points)\n",
    "\n",
    "Please go through the following tutorial, focusing on the first two sections.\n",
    "\n",
    "  [https://matplotlib.org/users/pyplot_tutorial.html](https://matplotlib.org/users/pyplot_tutorial.html)\n",
    "  \n",
    "\n",
    "Use [`matplotlib.pyplot.plot`](https://matplotlib.org/users/pyplot_tutorial.html) to plot the following sequences for $ 2 \\le n \\le 100$. \n",
    "\n",
    " a) $f_n = n^2$\n",
    "\n",
    " b) $f_n = \\log_2 n$ \n",
    "  <br>\n",
    "  (Use `math.log2(x)` to compute base 2 logarithms. You will need to `import math`)\n",
    "\n",
    " c) $f_n = \n",
    "    \\begin{cases}\n",
    "    \\frac{4}{n^2 \\pi^2} & \\text{if } n \\text{ is odd,} \\\\\n",
    "    0 & \\text{otherwise}.\n",
    "    \\end{cases}\n",
    "    $\n",
    "    (Use `math.pi` for $\\pi$. You will need to `import math`)\n",
    "\n",
    "In order to compare the relative growth rates, ***please plot within the same figure***. Use different line styles so that the sequences can be distinguished, and label your axes appropriately. Please also use logarithmic scaling on the vertical axis (`plt.yscale(‘log’)`) so that the relative magnitudes of the sequences is more apparent.\n"
   ]
  },
  {
   "cell_type": "code",
   "execution_count": 8,
   "metadata": {
    "deletable": false,
    "nbgrader": {
     "cell_type": "code",
     "checksum": "b6ab501449ca9c96f5e6a6c83b336674",
     "grade": true,
     "grade_id": "question3",
     "locked": false,
     "points": 6,
     "schema_version": 3,
     "solution": true,
     "task": false
    }
   },
   "outputs": [
    {
     "data": {
      "text/plain": [
       "<Figure size 640x480 with 1 Axes>"
      ]
     },
     "metadata": {},
     "output_type": "display_data"
    },
    {
     "ename": "NotImplementedError",
     "evalue": "",
     "output_type": "error",
     "traceback": [
      "\u001b[0;31m---------------------------------------------------------------------------\u001b[0m",
      "\u001b[0;31mNotImplementedError\u001b[0m                       Traceback (most recent call last)",
      "\u001b[0;32m<ipython-input-8-be5cb0728953>\u001b[0m in \u001b[0;36m<module>\u001b[0;34m()\u001b[0m\n\u001b[1;32m     41\u001b[0m \u001b[0;34m\u001b[0m\u001b[0m\n\u001b[1;32m     42\u001b[0m \u001b[0mplt\u001b[0m\u001b[0;34m.\u001b[0m\u001b[0mshow\u001b[0m\u001b[0;34m(\u001b[0m\u001b[0;34m)\u001b[0m\u001b[0;34m\u001b[0m\u001b[0m\n\u001b[0;32m---> 43\u001b[0;31m \u001b[0;32mraise\u001b[0m \u001b[0mNotImplementedError\u001b[0m\u001b[0;34m(\u001b[0m\u001b[0;34m)\u001b[0m\u001b[0;34m\u001b[0m\u001b[0m\n\u001b[0m",
      "\u001b[0;31mNotImplementedError\u001b[0m: "
     ]
    }
   ],
   "source": [
    "''''''\n",
    "import matplotlib.pyplot as plt\n",
    "import math\n",
    "\n",
    "# Define plot range 2 <= n <= 100\n",
    "plot_range = list(range(2, 101))\n",
    "\n",
    "# a\n",
    "def square(n):\n",
    "    return n**2\n",
    "squares = []\n",
    "for n in plot_range:\n",
    "    squares.append(square(n))\n",
    "\n",
    "# b\n",
    "def log_base_2(n):\n",
    "    return math.log2(n)\n",
    "logs =  []\n",
    "for n in plot_range:\n",
    "    logs.append(log_base_2(n))\n",
    "    \n",
    "# c\n",
    "def step(n):\n",
    "    if n % 2 ==1:\n",
    "        return 4 / ((n**2) * (math.pi**2))\n",
    "    else:\n",
    "        return 0\n",
    "steps =  []\n",
    "for n in plot_range:\n",
    "    steps.append(step(n))\n",
    "   \n",
    "plt.plot(plot_range, squares, 'r')\n",
    "plt.plot(plot_range, logs, 'b--')\n",
    "plt.plot(plot_range, steps, 'g')\n",
    "\n",
    "plt.yscale('log')\n",
    "\n",
    "plt.title('Plotting Functions')\n",
    "plt.xlabel('n')\n",
    "plt.ylabel('fn')\n",
    "\n",
    "plt.show()\n",
    "raise NotImplementedError()"
   ]
  },
  {
   "cell_type": "markdown",
   "metadata": {
    "deletable": false,
    "editable": false,
    "nbgrader": {
     "cell_type": "markdown",
     "checksum": "e0611fd79ebcd7d24fcfbbd0555c4fc9",
     "grade": false,
     "grade_id": "question4_description",
     "locked": true,
     "points": 7,
     "schema_version": 3,
     "solution": false,
     "task": true
    }
   },
   "source": [
    "## Question 4: Estimating a Binomial Distribution\n",
    "\n",
    "#### (7 points)\n",
    "\n",
    "This question asks you to empirically estimate a binomial distribution by simulating binomial trials. A high-level description of the tasks that you need to perform is provided below. You will need to think about suitable data structures and programming constructs that will accomplish the tasks. You may use [built-in](https://docs.python.org/3/library/functions.html) functions. \n",
    "\n",
    "1. Write a function to simulate a binomial experiment. Your function should return the number of successess in $n$ repeated trials where the probability of success for each trial is $p$. Take $n=40$ and $p=0.5$. Use a random number generator to determine if the outcome is a success or a failure. Let $\\xi$ be a uniformly distributed random number in the range $[0,1)$. If $\\xi < p$, then the outcome is a success, otherwise it is a failure. You can use  `math.random.random()`  to generate a uniformly distributed random `float` in the range $[0,1)$.\n",
    "\n",
    "2. Repeat the above experiment $N$ times to determine an empirical distribution corresponding to the probability of $k$ success in $n$ trials. \n",
    "Determine two empirical distributions by taking $N=10^3$ and $N=10^6$.\n",
    "\n",
    "3. On the same figure, plot the empirical distributions corresponding to $N=10^3$ and $N=10^6$. For comaprison, also plot the true binomial distribution for this scenario. How do the empirial distributions compare to the true distribution?\n",
    "\n",
    "Please answer this question by inserting one ore more code cells below. Please use a Markdown cell to explain your findings.\n"
   ]
  },
  {
   "cell_type": "code",
   "execution_count": 10,
   "metadata": {
    "deletable": false,
    "nbgrader": {
     "cell_type": "code",
     "checksum": "c17c6ff43995e28aec5b3f3ae2d55493",
     "grade": true,
     "grade_id": "question4",
     "locked": false,
     "points": 0,
     "schema_version": 3,
     "solution": true,
     "task": false
    }
   },
   "outputs": [
    {
     "name": "stdout",
     "output_type": "stream",
     "text": [
      "18\n",
      "{10: 0.002, 11: 0.002, 12: 0.003, 13: 0.01, 14: 0.021, 15: 0.04, 16: 0.067, 17: 0.077, 18: 0.104, 19: 0.111, 20: 0.111, 21: 0.123, 22: 0.11, 23: 0.087, 24: 0.059, 25: 0.04, 26: 0.016, 27: 0.011, 28: 0.003, 29: 0.001, 30: 0.002}\n",
      "{6: 5e-06, 7: 9e-06, 8: 7.1e-05, 9: 0.000235, 10: 0.000727, 11: 0.002116, 12: 0.005034, 13: 0.011187, 14: 0.02103, 15: 0.036444, 16: 0.056943, 17: 0.080963, 18: 0.103127, 19: 0.119546, 20: 0.125371, 21: 0.119699, 22: 0.102691, 23: 0.080658, 24: 0.056981, 25: 0.036788, 26: 0.02102, 27: 0.010899, 28: 0.005119, 29: 0.002241, 30: 0.000756, 31: 0.000277, 32: 5.1e-05, 33: 1e-05, 34: 2e-06}\n"
     ]
    },
    {
     "data": {
      "image/png": "[encoded data removed]",
      "text/plain": [
       "<Figure size 432x288 with 1 Axes>"
      ]
     },
     "metadata": {
      "needs_background": "light"
     },
     "output_type": "display_data"
    }
   ],
   "source": [
    "# Import random to generate random number\n",
    "import random\n",
    "\n",
    "# Create binomial experiment function\n",
    "def binom_func(n):\n",
    "    counter = 0\n",
    "    stop = 0\n",
    "    while stop < n:\n",
    "        stop += 1\n",
    "        if random.random() < 0.5:\n",
    "            counter += 1\n",
    "    return counter\n",
    "print(binom_func(40))\n",
    "\n",
    "# Create simulated binomial experiment\n",
    "def simulate_binom(N, n):\n",
    "    result = []\n",
    "    for i in range(N):\n",
    "        result.append(binom_func(n))\n",
    "    dict = mytally(result) # ensure func \"mytally\" is loaded before running\n",
    "    dict2 = {key: val / N for key, val in dict.items()}\n",
    "    return dict2\n",
    "\n",
    "# Repeat experiment N = 10^3 and N = 10^6\n",
    "N10_3 = simulate_binom(10**3, 40)\n",
    "N10_6 = simulate_binom(10**6, 40)\n",
    "print(N10_3)\n",
    "print(N10_6)\n",
    "\n",
    "# Create binomial curve function using n = 40, p = 0.5\n",
    "import math\n",
    "\n",
    "def binom(k):\n",
    "    prob = (math.factorial(40) / (math.factorial(40 - k) * math.factorial(k))) * 0.5**k * (1 - 0.5)**(40 - k)\n",
    "    return prob\n",
    "\n",
    "# For binom curve function\n",
    "seq_k = list(range(40))\n",
    "seq =  []\n",
    "for k in seq_k:\n",
    "    seq.append(binom(k))\n",
    "    \n",
    "# Plot the two empirical distributions with the true binomial distribution\n",
    "import matplotlib.pyplot as plt\n",
    "plt.bar(N10_3.keys(), N10_3.values(), color='r', alpha = 0.5)\n",
    "plt.bar(N10_6.keys(), N10_6.values(), color='b', alpha = 0.5)\n",
    "plt.plot(seq_k, seq, 'g', linewidth = 4)\n",
    "plt.title('Empirical and True Binomial Distributions')\n",
    "plt.ylabel('p')\n",
    "plt.xlabel('k')\n",
    "\n",
    "plt.show()"
   ]
  },
  {
   "cell_type": "code",
   "execution_count": null,
   "metadata": {},
   "outputs": [],
   "source": []
  }
 ],
 "metadata": {
  "kernelspec": {
   "display_name": "Python 3",
   "language": "python",
   "name": "python3"
  },
  "language_info": {
   "codemirror_mode": {
    "name": "ipython",
    "version": 3
   },
   "file_extension": ".py",
   "mimetype": "text/x-python",
   "name": "python",
   "nbconvert_exporter": "python",
   "pygments_lexer": "ipython3",
   "version": "3.7.3"
  }
 },
 "nbformat": 4,
 "nbformat_minor": 2
}

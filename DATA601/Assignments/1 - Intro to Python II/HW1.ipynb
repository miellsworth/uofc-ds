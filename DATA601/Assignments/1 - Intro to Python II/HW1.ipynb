{
 "cells": [
  {
   "cell_type": "markdown",
   "metadata": {
    "deletable": false,
    "editable": false,
    "nbgrader": {
     "cell_type": "markdown",
     "checksum": "359e298af50ef73e6f1cfc739ff954a2",
     "grade": false,
     "grade_id": "Title",
     "locked": true,
     "schema_version": 3,
     "solution": false,
     "task": false
    }
   },
   "source": [
    "# DATA 601: Fall 2019\n",
    "\n",
    "## HW1\n",
    "\n",
    "### Due: Wed. Sep. 18 at 23:55\n",
    "\n",
    "**Learning Objectives**\n",
    "\n",
    "- Gain familiarity with Markdown.\n",
    "- Explore collection classes in Python.\n",
    "- Use intermediate level data structures and programming concepts in the context of data related problems.\n",
    "\n",
    "_This is an individual homework assignment._ \n",
    "\n",
    "Please complete this homework assignment within the Jupypter notebook environment.  \n",
    "\n",
    "#### Submission \n",
    "\n",
    "Your submission will be graded using a combination of auto-grading and manual grading. In order to ensure that everything goes smoothly, please follow these instructions:\n",
    "\n",
    "- Please provide your solutions where asked; please do not alter any other parts of this notebook.\n",
    "- Submit via the HW1 dropbox on D2L. Please ensure that your submitted file is named 'HW1.ipynb'.\n",
    "- Do not submit any other files."
   ]
  },
  {
   "cell_type": "markdown",
   "metadata": {
    "deletable": false,
    "editable": false,
    "nbgrader": {
     "cell_type": "markdown",
     "checksum": "bb781cb008a91ce492928314c417e2db",
     "grade": false,
     "grade_id": "question1",
     "locked": true,
     "schema_version": 3,
     "solution": false,
     "task": false
    }
   },
   "source": [
    "## Question 1: Markdown\n",
    "\n",
    "#### (1 point)\n",
    "\n",
    "Please go through the following Markdown tutorial:\n",
    "\n",
    "  [https://www.markdowntutorial.com/](https://www.markdowntutorial.com/)\n",
    "  \n",
    "  In the cell below, use Markdown to typeset your name at heading level 3 and your student ID at heading level 4."
   ]
  },
  {
   "cell_type": "markdown",
   "metadata": {
    "deletable": false,
    "nbgrader": {
     "cell_type": "markdown",
     "checksum": "bd014977a4fef65e39eb6ea153b7e31a",
     "grade": true,
     "grade_id": "markdown",
     "locked": false,
     "points": 1,
     "schema_version": 3,
     "solution": true,
     "task": false
    }
   },
   "source": [
    "YOUR ANSWER HERE"
   ]
  },
  {
   "cell_type": "markdown",
   "metadata": {
    "deletable": false,
    "editable": false,
    "nbgrader": {
     "cell_type": "markdown",
     "checksum": "738f8e60b104e113b9ca3f7da30eabfd",
     "grade": false,
     "grade_id": "question2",
     "locked": true,
     "schema_version": 3,
     "solution": false,
     "task": false
    }
   },
   "source": [
    "## Question 2: List Processing\n",
    "\n",
    "#### (6 points)\n",
    "\n",
    "The questions below ask you to process data stored in lists. To focus on problem solving and to make your code more readable, *you may use built-in functions*. Please try and use comprehensions whenever possible."
   ]
  },
  {
   "cell_type": "markdown",
   "metadata": {
    "deletable": false,
    "editable": false,
    "nbgrader": {
     "cell_type": "markdown",
     "checksum": "a76dc3bc6527eec8b5a80b1fe8e9cffd",
     "grade": false,
     "grade_id": "myprod_description",
     "locked": true,
     "schema_version": 3,
     "solution": false,
     "task": false
    }
   },
   "source": [
    "1. Given two lists, write a Python function called `myprod(l1, l2)` that produces a list containing all possible pairings &mdash; as tuples &mdash; of the elements in the two lists, i.e. the Cartesian product of the two lists. The first element of each tuple should come from `l1` and the second element should come from `l2`. You can assume that the lists will not have any duplicates.  \n",
    "<br>\n",
    "For example, the Cartesian product of the two lists `['A', 'K', 'Q', 'J', '10', '9', '8', '7', '6', '5', '4', '3', '2']` and `['♠', '♥', '♦', '♣']` should yield a standard deck of playing cards."
   ]
  },
  {
   "cell_type": "code",
   "execution_count": null,
   "metadata": {
    "deletable": false,
    "nbgrader": {
     "cell_type": "code",
     "checksum": "b7461ccf5ff93e3446699d8dd8024c75",
     "grade": false,
     "grade_id": "myprod",
     "locked": false,
     "schema_version": 3,
     "solution": true,
     "task": false
    }
   },
   "outputs": [],
   "source": [
    "def myprod(l1, l2):\n",
    "    # YOUR CODE HERE\n",
    "    raise NotImplementedError()"
   ]
  },
  {
   "cell_type": "code",
   "execution_count": null,
   "metadata": {
    "deletable": false,
    "editable": false,
    "nbgrader": {
     "cell_type": "code",
     "checksum": "12dccfb26d53a461e254b323e25d380c",
     "grade": true,
     "grade_id": "myprod_test",
     "locked": true,
     "points": 2,
     "schema_version": 3,
     "solution": false,
     "task": false
    }
   },
   "outputs": [],
   "source": [
    "'''Check that myprod produces the correct output.'''\n",
    "\n",
    "l1 = ['A', 'K', 'Q', 'J', '10', '9', '8', '7', '6', '5', '4', '3', '2']\n",
    "l2 = ['♠', '♥', '♦', '♣']\n",
    "assert set(myprod(l1,l2)) == {\n",
    "    ('A', '♠'), ('A', '♥'), ('A', '♦'), ('A', '♣'), \\\n",
    "    ('K', '♠'), ('K', '♥'), ('K', '♦'), ('K', '♣'), \\\n",
    "    ('Q', '♠'), ('Q', '♥'), ('Q', '♦'), ('Q', '♣'), \\\n",
    "    ('J', '♠'), ('J', '♥'), ('J', '♦'), ('J', '♣'), \\\n",
    "    ('10', '♠'), ('10', '♥'), ('10', '♦'), ('10', '♣'), \\\n",
    "    ('9', '♠'), ('9', '♥'), ('9', '♦'), ('9', '♣'), \\\n",
    "    ('8', '♠'), ('8', '♥'), ('8', '♦'), ('8', '♣'), \\\n",
    "    ('7', '♠'), ('7', '♥'), ('7', '♦'), ('7', '♣'), \\\n",
    "    ('6', '♠'), ('6', '♥'), ('6', '♦'), ('6', '♣'), \\\n",
    "    ('5', '♠'), ('5', '♥'), ('5', '♦'), ('5', '♣'), \\\n",
    "    ('4', '♠'), ('4', '♥'), ('4', '♦'), ('4', '♣'), \\\n",
    "    ('3', '♠'), ('3', '♥'), ('3', '♦'), ('3', '♣'), \\\n",
    "    ('2', '♠'), ('2', '♥'), ('2', '♦'), ('2', '♣')}"
   ]
  },
  {
   "cell_type": "markdown",
   "metadata": {
    "deletable": false,
    "editable": false,
    "nbgrader": {
     "cell_type": "markdown",
     "checksum": "d9521370869bee3ebb326940193e1900",
     "grade": false,
     "grade_id": "mytally_description",
     "locked": true,
     "schema_version": 3,
     "solution": false,
     "task": false
    }
   },
   "source": [
    "2. Write a Python function called `mytally( li )` that takes a list `li` and returns a dictionary whose keys are the unique entries in `li` and whose values are the counts of each of the unique entries. For example:<br><br>\n",
    "      `mytally( [1, 2, 3, 3, 4, 5, 6, 6, 6, 7, 8, 9, 9] )` <br> \n",
    "      should return <br>\n",
    "      `{1:1, 2:1, 3:2, 4:1, 5:1, 6:3, 7:1, 8:1, 9:2}`"
   ]
  },
  {
   "cell_type": "code",
   "execution_count": null,
   "metadata": {
    "deletable": false,
    "nbgrader": {
     "cell_type": "code",
     "checksum": "e2052030a1611e420784a24848d01c63",
     "grade": false,
     "grade_id": "mytally",
     "locked": false,
     "schema_version": 3,
     "solution": true,
     "task": false
    }
   },
   "outputs": [],
   "source": [
    "def mytally( li ):\n",
    "    # YOUR CODE HERE\n",
    "    raise NotImplementedError()"
   ]
  },
  {
   "cell_type": "code",
   "execution_count": null,
   "metadata": {
    "deletable": false,
    "editable": false,
    "nbgrader": {
     "cell_type": "code",
     "checksum": "fafdb99c3a9d236c262d36d8892c22f1",
     "grade": true,
     "grade_id": "mytally_test",
     "locked": true,
     "points": 2,
     "schema_version": 3,
     "solution": false,
     "task": false
    }
   },
   "outputs": [],
   "source": [
    "'''Check that mytally returns the correct output'''\n",
    "assert mytally([1, 2, 3, 3, 4, 5, 6, 6, 6, 7, 8, 9, 9]) == \\\n",
    "    {1: 1, 2: 1, 3: 2, 4: 1, 5: 1, 6: 3, 7: 1, 8: 1, 9: 2}\n",
    "assert mytally(list('mississippi')) == \\\n",
    "    {'i': 4, 'm': 1, 'p': 2, 's': 4}\n",
    "import random\n",
    "random.seed(a=601, version=2)\n",
    "assert mytally( [random.randint(0,10) for i in range(10000)] ) == \\\n",
    "    {0:855, 1:895, 2:946, 3:961, 4:840, 5:941, 6:875, 7:916, 8:932, 9:910, 10:929}"
   ]
  },
  {
   "cell_type": "markdown",
   "metadata": {
    "deletable": false,
    "editable": false,
    "nbgrader": {
     "cell_type": "markdown",
     "checksum": "9fee88190baf0ef4464219ec2efda5ec",
     "grade": false,
     "grade_id": "mysplit_description",
     "locked": true,
     "schema_version": 3,
     "solution": false,
     "task": false
    }
   },
   "source": [
    "3. Write a function called `mysplit( li )` that takes a list `li` and splits it into sublists consisting of runs of identitical elements. The returned list should be sorted in ascending order. You may assume that `li` consists of immutable and comparable objects. For exxample:<br><br>\n",
    "   `mysplit( [1, 2, 3, 3, 4, 5, 6, 6, 6, 7, 8, 9, 9] )` <br> \n",
    "    should return <br>\n",
    "    `[[1], [2], [3,3], [4], [5], [6,6,6], [7], [8], [9,9]]`"
   ]
  },
  {
   "cell_type": "code",
   "execution_count": null,
   "metadata": {
    "deletable": false,
    "nbgrader": {
     "cell_type": "code",
     "checksum": "9ce69e28b1818c83773b7e6b7fa7c2de",
     "grade": false,
     "grade_id": "mysplit",
     "locked": false,
     "schema_version": 3,
     "solution": true,
     "task": false
    }
   },
   "outputs": [],
   "source": [
    "def mysplit( li ):\n",
    "    # YOUR CODE HERE\n",
    "    raise NotImplementedError()"
   ]
  },
  {
   "cell_type": "code",
   "execution_count": null,
   "metadata": {
    "deletable": false,
    "editable": false,
    "nbgrader": {
     "cell_type": "code",
     "checksum": "4707c4e89fcb8d64525a7fa1e81c8ab4",
     "grade": true,
     "grade_id": "mysplit_test",
     "locked": true,
     "points": 2,
     "schema_version": 3,
     "solution": false,
     "task": false
    }
   },
   "outputs": [],
   "source": [
    "'''Check that mysplit produces the correct result'''\n",
    "tlist = [1, 2, 3, 3, 4, 5, 6, 6, 6, 7, 8, 9, 9]\n",
    "assert mysplit(tlist) == [[1], [2], [3,3], [4], [5], [6,6,6], [7], [8], [9,9]]\n",
    "assert mysplit(tlist[::-1]) == [[1], [2], [3,3], [4], [5], [6,6,6], [7], [8], [9,9]]\n",
    "assert mysplit(list('mississippi')) == \\\n",
    "       [list(\"iiii\"), list(\"m\"), list(\"pp\"), list(\"ssss\")]"
   ]
  },
  {
   "cell_type": "markdown",
   "metadata": {
    "deletable": false,
    "editable": false,
    "nbgrader": {
     "cell_type": "markdown",
     "checksum": "1b49b8afd00f598e6e20a45ae14f1656",
     "grade": false,
     "grade_id": "question3_description",
     "locked": true,
     "schema_version": 3,
     "solution": false,
     "task": false
    }
   },
   "source": [
    "## Question 3: Plotting Functions\n",
    "\n",
    "#### (6 points)\n",
    "\n",
    "Please go through the following tutorial, focusing on the first two sections.\n",
    "\n",
    "  [https://matplotlib.org/users/pyplot_tutorial.html](https://matplotlib.org/users/pyplot_tutorial.html)\n",
    "  \n",
    "\n",
    "Use [`matplotlib.pyplot.plot`](https://matplotlib.org/users/pyplot_tutorial.html) to plot the following sequences for $ 2 \\le n \\le 100$. \n",
    "\n",
    " a) $f_n = n^2$\n",
    "\n",
    " b) $f_n = \\log_2 n$ \n",
    "  <br>\n",
    "  (Use `math.log2(x)` to compute base 2 logarithms. You will need to `import math`)\n",
    "\n",
    " c) $f_n = \n",
    "    \\begin{cases}\n",
    "    \\frac{4}{n^2 \\pi^2} & \\text{if } n \\text{ is odd,} \\\\\n",
    "    0 & \\text{otherwise}.\n",
    "    \\end{cases}\n",
    "    $\n",
    "    (Use `math.pi` for $\\pi$. You will need to `import math`)\n",
    "\n",
    "In order to compare the relative growth rates, ***please plot within the same figure***. Use different line styles so that the sequences can be distinguished, and label your axes appropriately. Please also use logarithmic scaling on the vertical axis (`plt.yscale(‘log’)`) so that the relative magnitudes of the sequences is more apparent.\n"
   ]
  },
  {
   "cell_type": "code",
   "execution_count": null,
   "metadata": {
    "deletable": false,
    "nbgrader": {
     "cell_type": "code",
     "checksum": "b6ab501449ca9c96f5e6a6c83b336674",
     "grade": true,
     "grade_id": "question3",
     "locked": false,
     "points": 6,
     "schema_version": 3,
     "solution": true,
     "task": false
    }
   },
   "outputs": [],
   "source": [
    "''''''\n",
    "# YOUR CODE HERE\n",
    "raise NotImplementedError()"
   ]
  },
  {
   "cell_type": "markdown",
   "metadata": {
    "deletable": false,
    "editable": false,
    "nbgrader": {
     "cell_type": "markdown",
     "checksum": "e0611fd79ebcd7d24fcfbbd0555c4fc9",
     "grade": false,
     "grade_id": "question4_description",
     "locked": true,
     "points": 7,
     "schema_version": 3,
     "solution": false,
     "task": true
    }
   },
   "source": [
    "## Question 4: Estimating a Binomial Distribution\n",
    "\n",
    "#### (7 points)\n",
    "\n",
    "This question asks you to empirically estimate a binomial distribution by simulating binomial trials. A high-level description of the tasks that you need to perform is provided below. You will need to think about suitable data structures and programming constructs that will accomplish the tasks. You may use [built-in](https://docs.python.org/3/library/functions.html) functions. \n",
    "\n",
    "1. Write a function to simulate a binomial experiment. Your function should return the number of successess in $n$ repeated trials where the probability of success for each trial is $p$. Take $n=40$ and $p=0.5$. Use a random number generator to determine if the outcome is a success or a failure. Let $\\xi$ be a uniformly distributed random number in the range $[0,1)$. If $\\xi < p$, then the outcome is a success, otherwise it is a failure. You can use  `math.random.random()`  to generate a uniformly distributed random `float` in the range $[0,1)$.\n",
    "\n",
    "2. Repeat the above experiment $N$ times to determine an empirical distribution corresponding to the probability of $k$ success in $n$ trials. \n",
    "Determine two empirical distributions by taking $N=10^3$ and $N=10^6$.\n",
    "\n",
    "3. On the same figure, plot the empirical distributions corresponding to $N=10^3$ and $N=10^6$. For comaprison, also plot the true binomial distribution for this scenario. How do the empirial distributions compare to the true distribution?\n",
    "\n",
    "Please answer this question by inserting one ore more code cells below. Please use a Markdown cell to explain your findings.\n"
   ]
  },
  {
   "cell_type": "code",
   "execution_count": null,
   "metadata": {
    "deletable": false,
    "nbgrader": {
     "cell_type": "code",
     "checksum": "c17c6ff43995e28aec5b3f3ae2d55493",
     "grade": true,
     "grade_id": "question4",
     "locked": false,
     "points": 0,
     "schema_version": 3,
     "solution": true,
     "task": false
    }
   },
   "outputs": [],
   "source": [
    "# YOUR CODE HERE\n",
    "raise NotImplementedError()"
   ]
  }
 ],
 "metadata": {
  "kernelspec": {
   "display_name": "Python 3",
   "language": "python",
   "name": "python3"
  },
  "language_info": {
   "codemirror_mode": {
    "name": "ipython",
    "version": 3
   },
   "file_extension": ".py",
   "mimetype": "text/x-python",
   "name": "python",
   "nbconvert_exporter": "python",
   "pygments_lexer": "ipython3",
   "version": "3.7.3"
  }
 },
 "nbformat": 4,
 "nbformat_minor": 2
}

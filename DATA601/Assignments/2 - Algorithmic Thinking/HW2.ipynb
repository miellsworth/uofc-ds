{
 "cells": [
  {
   "cell_type": "markdown",
   "metadata": {
    "deletable": false,
    "editable": false,
    "nbgrader": {
     "cell_type": "markdown",
     "checksum": "a857703e7e20526b63ca0d11d137c887",
     "grade": false,
     "grade_id": "title",
     "locked": true,
     "schema_version": 3,
     "solution": false,
     "task": false
    }
   },
   "source": [
    "# DATA 601: HW2\n",
    "\n",
    "## Fall 2019\n",
    "\n",
    "### Due: Wed. Sep. 25, 2019 (by 23:55) \n",
    "\n",
    "**Learning Objectives**\n",
    "- Work with realworld datasets that can be represented using linear data structures.\n",
    "- Apply vectorization concepts to an iterative problem.\n",
    "- Explore different programming paradigms to solve problems.\n",
    "\n",
    "_This is an individual homework assignment._ \n",
    "\n",
    "Please complete this homework assignment within the Jupypter notebook environment, making use of Markdown and Code cells to properly format your answers. \n",
    "\n",
    "Your completed Jupyter notebook is to be submitted via the HW2 dropbox on D2L. "
   ]
  },
  {
   "cell_type": "markdown",
   "metadata": {
    "deletable": false,
    "editable": false,
    "nbgrader": {
     "cell_type": "markdown",
     "checksum": "468719efae1c631295b71b6c8fb14374",
     "grade": false,
     "grade_id": "Q1_description",
     "locked": true,
     "points": 8,
     "schema_version": 3,
     "solution": false,
     "task": true
    }
   },
   "source": [
    "## Question 1 (8 points):\n",
    "\n",
    "### Visualizing trends in an index\n",
    "\n",
    "This question asks you to plot the Bitcoin price index (BPI) along with 5-day and 10-day averages. Please execute the code cell below; it will read in a csv file containing the daily closing price from Sep. 1, 2018 to Aug. 31, 2019 (data obtained from https://www.coindesk.com/price/). Perform the following tasks. You may use any built-in Python functions as well as data strucutres and functions provided by the `numpy` library.\n",
    "\n",
    "- Observe that the closing prices are at a daily interval. We therefore do not need the date information. Clean up the data and only retain the price information. Store the result in a list or a numpy array in floating point format.\n",
    "- Recall that a [simple moving average](https://en.wikipedia.org/wiki/Moving_average#Simple_moving_average) is defined as the (unweighted) mean over the previous $N$ days.<br> \n",
    "Perform a simple moving average of the price index. The number of days $N$ to average over should be adjustable. If you are using `numpy`, you may find the function [`np.convolve`](https://docs.scipy.org/doc/numpy/reference/generated/numpy.convolve.html) helpful.  \n",
    "- Plot the raw price index data along with 5-day and 10-day simple moving average. Plot on the same figure in order to help you visually ascertain the effect of the filter.\n",
    "- What is the effect of the moving average filter? In what circumstances would you _not_ want to use a moving average?"
   ]
  },
  {
   "cell_type": "code",
   "execution_count": null,
   "metadata": {
    "deletable": false,
    "editable": false,
    "nbgrader": {
     "cell_type": "code",
     "checksum": "d9705d97ec397e7031ff4796536cd3c8",
     "grade": false,
     "grade_id": "Q1_required_code",
     "locked": true,
     "schema_version": 3,
     "solution": false,
     "task": false
    }
   },
   "outputs": [],
   "source": [
    "import re\n",
    "\n",
    "def fileToList( fname, regexp=r'\\W+' ):\n",
    "    file = open(fname, 'rt')\n",
    "    text = file.read()\n",
    "    file.close()\n",
    "    # split based on provided regular expression and remove empty strings\n",
    "    # By default, matches words.\n",
    "    return [x for x in re.split(regexp, text) if x]\n",
    "\n",
    "bfile = \"coindesk-bpi-close-data.csv\"\n",
    "bpi = fileToList( bfile, regexp=r'[,\\r\\n]+' )\n",
    "# Print the head and tail.\n",
    "print(bpi[:10:1])\n",
    "print(bpi[-10::1])"
   ]
  },
  {
   "cell_type": "markdown",
   "metadata": {
    "deletable": false,
    "nbgrader": {
     "cell_type": "markdown",
     "checksum": "aaab01f6df0bc7a5b38d94a7dbb93cb2",
     "grade": true,
     "grade_id": "Q1_solution_header",
     "locked": false,
     "points": 0,
     "schema_version": 3,
     "solution": true,
     "task": false
    }
   },
   "source": [
    "YOUR ANSWER HERE"
   ]
  },
  {
   "cell_type": "code",
   "execution_count": null,
   "metadata": {
    "deletable": false,
    "nbgrader": {
     "cell_type": "code",
     "checksum": "9e1c4308d402deee590af556df39164f",
     "grade": true,
     "grade_id": "Q1_solution_code",
     "locked": false,
     "points": 0,
     "schema_version": 3,
     "solution": true,
     "task": false
    }
   },
   "outputs": [],
   "source": [
    "# YOUR CODE HERE\n",
    "raise NotImplementedError()"
   ]
  },
  {
   "cell_type": "markdown",
   "metadata": {
    "deletable": false,
    "nbgrader": {
     "cell_type": "markdown",
     "checksum": "b23dcb0413029ea322d4fbb4478b899b",
     "grade": true,
     "grade_id": "Q1_solution_explanation",
     "locked": false,
     "points": 0,
     "schema_version": 3,
     "solution": true,
     "task": false
    }
   },
   "source": [
    "YOUR ANSWER HERE"
   ]
  },
  {
   "cell_type": "markdown",
   "metadata": {
    "deletable": false,
    "editable": false,
    "nbgrader": {
     "cell_type": "markdown",
     "checksum": "3c44d56b1bc194419a3c1cd09ada8ab0",
     "grade": false,
     "grade_id": "Q2_description",
     "locked": true,
     "points": 12,
     "schema_version": 3,
     "solution": false,
     "task": true
    }
   },
   "source": [
    "## Question 2 (12 points):\n",
    "### Vectorized Race Simulation\n",
    "\n",
    "1. Eight athletes are competing in a 1500 m race. Using `numpy` , write a vectorized race simulation according to the following criteria:\n",
    "  - The granularity of the simulation is 1 s, i.e. each iteration in your simulation represents 1 second.\n",
    "  - During each iteration, each athelete can randomly take 1, 2, 3, or 4 steps. Each step is 1 m long.\n",
    "  - When the race is complete, return the winner and the winning time. There should not be any ties. If there is a tie, select a winner at random.\n",
    "\n",
    "  Please pay attention to the following:\n",
    "\n",
    "  - There should only be one loop in your simulation: the loop that advances the simulation by a second. \n",
    "  - All other operations should be done using vectorized array operations and boolean indexing.\n",
    "  - The following numpy functions will be helpful:<br>\n",
    "    - [`numpy.random.randint`](https://docs.scipy.org/doc/numpy/reference/generated/numpy.random.randint.html)\n",
    "    - [`numpy.sum`](https://docs.scipy.org/doc/numpy/reference/generated/numpy.sum.html)\n",
    "    - [`numpy.random.choice`](https://docs.scipy.org/doc/numpy-1.15.0/reference/generated/numpy.random.choice.html)\n",
    "  \n",
    "      \n",
    "2. Run your simulation 10,000 times. For each run, record the winner and the winning time. Produce a bar chart showing the number of times each athelete won. Also display a bar chart showing the average winning time for each athlete. "
   ]
  },
  {
   "cell_type": "markdown",
   "metadata": {
    "deletable": false,
    "nbgrader": {
     "cell_type": "markdown",
     "checksum": "a10349babe3711dbdb36837a6d1323ab",
     "grade": true,
     "grade_id": "Q2_solution_header",
     "locked": false,
     "points": 0,
     "schema_version": 3,
     "solution": true,
     "task": false
    }
   },
   "source": [
    "YOUR ANSWER HERE"
   ]
  },
  {
   "cell_type": "code",
   "execution_count": null,
   "metadata": {
    "deletable": false,
    "nbgrader": {
     "cell_type": "code",
     "checksum": "b468a0e376808a042f6cfffa320961d3",
     "grade": true,
     "grade_id": "Q2_solution_code",
     "locked": false,
     "points": 0,
     "schema_version": 3,
     "solution": true,
     "task": false
    }
   },
   "outputs": [],
   "source": [
    "# YOUR CODE HERE\n",
    "raise NotImplementedError()"
   ]
  },
  {
   "cell_type": "code",
   "execution_count": null,
   "metadata": {
    "deletable": false,
    "nbgrader": {
     "cell_type": "code",
     "checksum": "cd81c4a4c0e70e831f3e778ff790ddee",
     "grade": true,
     "grade_id": "Q2_solution_run",
     "locked": false,
     "points": 0,
     "schema_version": 3,
     "solution": true,
     "task": false
    }
   },
   "outputs": [],
   "source": [
    "# YOUR CODE HERE\n",
    "raise NotImplementedError()"
   ]
  },
  {
   "cell_type": "code",
   "execution_count": null,
   "metadata": {
    "deletable": false,
    "nbgrader": {
     "cell_type": "code",
     "checksum": "32417f98dc5852981ac0a472db9729fb",
     "grade": true,
     "grade_id": "Q2_solution_results",
     "locked": false,
     "points": 0,
     "schema_version": 3,
     "solution": true,
     "task": false
    }
   },
   "outputs": [],
   "source": [
    "# YOUR CODE HERE\n",
    "raise NotImplementedError()"
   ]
  },
  {
   "cell_type": "code",
   "execution_count": null,
   "metadata": {
    "deletable": false,
    "nbgrader": {
     "cell_type": "code",
     "checksum": "abaa4478582a79f681670dfc361671ab",
     "grade": true,
     "grade_id": "Q2_solution_bar1",
     "locked": false,
     "points": 0,
     "schema_version": 3,
     "solution": true,
     "task": false
    }
   },
   "outputs": [],
   "source": [
    "# YOUR CODE HERE\n",
    "raise NotImplementedError()"
   ]
  },
  {
   "cell_type": "code",
   "execution_count": null,
   "metadata": {
    "deletable": false,
    "nbgrader": {
     "cell_type": "code",
     "checksum": "018f0e394e14139f9c380c4b5900600b",
     "grade": true,
     "grade_id": "Q2_solution_bar2",
     "locked": false,
     "points": 0,
     "schema_version": 3,
     "solution": true,
     "task": false
    }
   },
   "outputs": [],
   "source": [
    "# YOUR CODE HERE\n",
    "raise NotImplementedError()"
   ]
  },
  {
   "cell_type": "code",
   "execution_count": null,
   "metadata": {},
   "outputs": [],
   "source": []
  }
 ],
 "metadata": {
  "hide_input": false,
  "kernelspec": {
   "display_name": "Python 3",
   "language": "python",
   "name": "python3"
  },
  "language_info": {
   "codemirror_mode": {
    "name": "ipython",
    "version": 3
   },
   "file_extension": ".py",
   "mimetype": "text/x-python",
   "name": "python",
   "nbconvert_exporter": "python",
   "pygments_lexer": "ipython3",
   "version": "3.7.3"
  },
  "latex_envs": {
   "LaTeX_envs_menu_present": true,
   "autoclose": false,
   "autocomplete": true,
   "bibliofile": "biblio.bib",
   "cite_by": "apalike",
   "current_citInitial": 1,
   "eqLabelWithNumbers": true,
   "eqNumInitial": 1,
   "hotkeys": {
    "equation": "Ctrl-E",
    "itemize": "Ctrl-I"
   },
   "labels_anchors": false,
   "latex_user_defs": false,
   "report_style_numbering": false,
   "user_envs_cfg": false
  }
 },
 "nbformat": 4,
 "nbformat_minor": 2
}

{
 "cells": [
  {
   "cell_type": "markdown",
   "metadata": {
    "deletable": false,
    "editable": false,
    "nbgrader": {
     "cell_type": "markdown",
     "checksum": "86d290830169ac90734a7c4b0a016f69",
     "grade": false,
     "grade_id": "heading",
     "locked": true,
     "schema_version": 3,
     "solution": false,
     "task": false
    }
   },
   "source": [
    "# DATA 601: HW3\n",
    "\n",
    "## Fall 2019\n",
    "\n",
    "### Due: Wed. Oct. 2, 2019 (by 23:55) \n",
    "\n",
    "**Learning Objectives**\n",
    "- Work with realworld datasets that can be represented using tabular data structures.\n",
    "- Gain experience wrangling and organizing data using `pandas`.\n",
    "- Produce visualizations summarizing information from tabular data. \n",
    "\n",
    "_This is an individual homework assignment._ \n",
    "\n",
    "Please complete this homework assignment within the Jupypter notebook environment, making use of Markdown and Code cells to properly format your answers. Please provide solutions where asked. \n",
    "\n",
    "Your completed Jupyter notebook is to be submitted via the HW2 dropbox on D2L."
   ]
  },
  {
   "cell_type": "markdown",
   "metadata": {
    "deletable": false,
    "editable": false,
    "nbgrader": {
     "cell_type": "markdown",
     "checksum": "919b0bab31036ee8f4ebfc3b08ddcbd2",
     "grade": false,
     "grade_id": "warmup",
     "locked": true,
     "schema_version": 3,
     "solution": false,
     "task": false
    }
   },
   "source": [
    "## Warm up\n",
    "\n",
    "- Please review class slides on `pandas`. \n",
    "- Please also review the Calgary Rainfall Jupyter notebook. In this homework, we will\n",
    "  use the Calgary Rainfall dataset. Please download the dataset if you already haven't done so.\n",
    "  You may use the data provided in class or download it directly from [Open Calgary](https://data.calgary.ca/Environment/Historical-Rainfall/d9kv-swk3). "
   ]
  },
  {
   "cell_type": "markdown",
   "metadata": {
    "deletable": false,
    "editable": false,
    "nbgrader": {
     "cell_type": "markdown",
     "checksum": "1c22653b71252be1fd5936f0835e27f9",
     "grade": false,
     "grade_id": "task1",
     "locked": true,
     "points": 5,
     "schema_version": 3,
     "solution": false,
     "task": true
    }
   },
   "source": [
    "## Task 1 (5 points)\n",
    "\n",
    "### Cleanup and organization\n",
    "\n",
    "- Use `pandas` to read in the data set. Do not discard the datetime information in the columns. Convert the 'TIMESTAMP' column to a `datetime` object (You can use [`pandas.to_datetime()`](https://pandas.pydata.org/pandas-docs/stable/generated/pandas.to_datetime.html) to accomplish this).\n",
    "\n",
    "- You may notice that 'YEAR' column is now redundant. Additionally, for this homework, we won't make use of the 'ID' column. Please discard it (you can use [`pandas.DataFrame.drop`](https://pandas.pydata.org/pandas-docs/stable/generated/pandas.DataFrame.drop.html) for this). You can also discard any rows where the channel is not active.\n",
    "\n",
    "- Display the head ([`pandas.DataFrame.head`](https://pandas.pydata.org/pandas-docs/stable/generated/pandas.DataFrame.head.html)), tail ([`pandas.DataFrame.tail`](https://pandas.pydata.org/pandas-docs/stable/generated/pandas.DataFrame.tail.html)) and description ([`pandas.DataFrame.describe`](https://pandas.pydata.org/pandas-docs/stable/generated/pandas.DataFrame.describe.html)) of the resulting dataframe.\n",
    "\n",
    "Please provide your solution by inserting appropriate code and markdown cells below this cell."
   ]
  },
  {
   "cell_type": "markdown",
   "metadata": {
    "deletable": false,
    "editable": false,
    "nbgrader": {
     "cell_type": "markdown",
     "checksum": "d4d54af28fbff2f3e23ac388bd446779",
     "grade": false,
     "grade_id": "task2",
     "locked": true,
     "points": 10,
     "schema_version": 3,
     "solution": false,
     "task": true
    }
   },
   "source": [
    "## Task 2 (10 points)\n",
    "\n",
    "### Restructure and determine rainfall daily totals per channel\n",
    "\n",
    "- We are interested in the daily rainfall totals per channel. Restructure and aggregate your table so that entries now contain _daily totals per channel_.  \n",
    "\n",
    "The precise details of how you accomplish this are up to you. You can for example build a hierarchical index for the rows with the year, month and day. You can also have a hierarchical index on the columns based on the channels. Please make use of `pandas` grouping and aggregation facilities to accomplish this.\n",
    "\n",
    "Please provide your solution by inserting appropriate code and markdown cells below this cell."
   ]
  },
  {
   "cell_type": "markdown",
   "metadata": {
    "deletable": false,
    "editable": false,
    "nbgrader": {
     "cell_type": "markdown",
     "checksum": "9fabdb7ce59b48951df3c7d34b2b8a91",
     "grade": false,
     "grade_id": "task3",
     "locked": true,
     "points": 15,
     "schema_version": 3,
     "solution": false,
     "task": true
    }
   },
   "source": [
    "## Task 3 (15 points)\n",
    "\n",
    "### Visualization\n",
    "\n",
    "Produce visualizations that show:\n",
    "\n",
    "- Rainiest day of the year for the years 1989 through 2018. For each day, show the date and the total rainfall. Note that you will need to aggregate over the channels. Use the maximum over the channels for this, i.e. the channel that recorded the most rainfall. \n",
    "\n",
    "- Average number of rainy days per month. Average over the years 1989 through 2018.   \n",
    "\n",
    "- Rainfall *monthly* statistics such as mean, median, min and max. Aggregate over the years 1989 through 2018 (years for which the data is complete). You will need to aggregate over the channels as well.  \n",
    "\n",
    "The details of what visualizations to use are not spelled out. Please choose a visualization that is appropriate for each of the above tasks and *clearly* shows the requested information. Please also ensure that you provide appropriate labels/legends/colorbars so that your visualizations are readable and self-contained.\n",
    "\n",
    "Please provide your solution by inserting appropriate code and markdown cells below this cell."
   ]
  }
 ],
 "metadata": {
  "kernelspec": {
   "display_name": "Python 3",
   "language": "python",
   "name": "python3"
  },
  "language_info": {
   "codemirror_mode": {
    "name": "ipython",
    "version": 3
   },
   "file_extension": ".py",
   "mimetype": "text/x-python",
   "name": "python",
   "nbconvert_exporter": "python",
   "pygments_lexer": "ipython3",
   "version": "3.7.3"
  }
 },
 "nbformat": 4,
 "nbformat_minor": 2
}

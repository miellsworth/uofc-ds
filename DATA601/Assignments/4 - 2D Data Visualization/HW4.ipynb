{
 "cells": [
  {
   "cell_type": "markdown",
   "metadata": {
    "deletable": false,
    "editable": false,
    "nbgrader": {
     "cell_type": "markdown",
     "checksum": "01181ac6a1cffdb688631c9a73c8ff35",
     "grade": false,
     "grade_id": "title",
     "locked": true,
     "schema_version": 3,
     "solution": false,
     "task": false
    }
   },
   "source": [
    "# DATA 601: HW4\n",
    "## Fall 2019\n",
    "\n",
    "### Due: Wed. Oct. 9, 2019 (by 23:55) \n",
    "\n",
    "**Learning Objectives**\n",
    "- Work with more than one tabular dataset to compute quantities.\n",
    "- Wrangle and organize data for the purpose of geographic visualization.\n",
    "- Produce interactive charts and plots. \n",
    "\n",
    "_This is an individual homework assignment._ \n",
    "\n",
    "Please complete this homework assignment within the Jupypter notebook environment, by inserting Markdown and Code cells to properly format your answers. Please do not alter the question cells. \n",
    "\n",
    "Your completed Jupyter notebook is to be submitted via the HW4 dropbox on D2L."
   ]
  },
  {
   "cell_type": "markdown",
   "metadata": {
    "deletable": false,
    "editable": false,
    "nbgrader": {
     "cell_type": "markdown",
     "checksum": "691b94b774977a81652cef94aa62f82d",
     "grade": false,
     "grade_id": "Q1",
     "locked": true,
     "points": 8,
     "schema_version": 3,
     "solution": false,
     "task": true
    }
   },
   "source": [
    "## Question 1: Scatter Plot of Rainfall Channels\n",
    "\n",
    "This question builds upon HW3. Please ask for assistance if you did not manage to complete the portion of HW3 related to this question.\n",
    "\n",
    "Use the provided Calgary rainfall dataset as well as the dataset containing the locations of the rainfall channels to produce a visualization that: \n",
    " - shows on a map scatter plot, the total amount of rainfall recorded by each channel for the *2018* rainfall season;\n",
    " - provides a hover interaction for each channel that shows as text the following: total rainfall for the season, the number of rainy days for the season, and the mean rainfall per day for all the days it rained."
   ]
  },
  {
   "cell_type": "markdown",
   "metadata": {
    "deletable": false,
    "editable": false,
    "nbgrader": {
     "cell_type": "markdown",
     "checksum": "1aec332db7f021c8ed239be8b80605c2",
     "grade": false,
     "grade_id": "Q2",
     "locked": true,
     "points": 12,
     "schema_version": 3,
     "solution": false,
     "task": true
    }
   },
   "source": [
    "## Question 2: Life Expectancy Index\n",
    "\n",
    "The Life Expectancy Index ($\\mathrm{LEI}$) is used as part of the [Human Development Index](https://en.wikipedia.org/wiki/Human_Development_Index) which ranks countries into different tiers of human development. The $\\mathrm{LEI}$ for a country is defined as:\n",
    "$$\n",
    "\\mathrm{LEI} = \\frac{\\mathrm{LE} - 20}{85 - 20},  \n",
    "$$\n",
    "where $\\mathrm{LE}$ is the life expectancy at birth.\n",
    "\n",
    "*Using the provided datasets only*, perform the following tasks:\n",
    "- Produce a choropleth world map visualization showing the $\\mathrm{LEI}$ for the year 2017. Colour map the $\\mathrm{LEI}$ values according to the following bins: $[0.5,0.6)$, $[0.6,0.7)$, $[0.7,0.8)$, $[0.8,0.9)$ and $[0.9,1)$, and use a visually distinct colour to identify countries for which the data is not available. \n",
    "- Please browse the [UNDP Human Development Reports](http://hdr.undp.org/en/data). This task asks you to produce a visualization that is inspired by the UNDP's visualization of the $\\mathrm{LEI}$. Compute the $\\mathrm{LEI}$ per country for all the years for which the data is available. Use k-means clustering to cluster the LEI series' into *four* clusters. Produce a visualization showing the LEI series' as lines for all the countries and colour the lines according to their cluster membership.\n",
    "\n",
    "For bonus marks, please include informative non-default hover interactions in your visualizations to facilitate data exploration and comparison."
   ]
  },
  {
   "cell_type": "code",
   "execution_count": null,
   "metadata": {},
   "outputs": [],
   "source": []
  }
 ],
 "metadata": {
  "kernelspec": {
   "display_name": "Python 3",
   "language": "python",
   "name": "python3"
  },
  "language_info": {
   "codemirror_mode": {
    "name": "ipython",
    "version": 3
   },
   "file_extension": ".py",
   "mimetype": "text/x-python",
   "name": "python",
   "nbconvert_exporter": "python",
   "pygments_lexer": "ipython3",
   "version": "3.7.3"
  }
 },
 "nbformat": 4,
 "nbformat_minor": 2
}

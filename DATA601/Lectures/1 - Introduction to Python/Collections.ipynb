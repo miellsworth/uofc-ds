{
 "cells": [
  {
   "cell_type": "markdown",
   "metadata": {},
   "source": [
    "# Intro to Strings, Tuples and Lists\n",
    "\n",
    "## Strings"
   ]
  },
  {
   "cell_type": "code",
   "execution_count": 2,
   "metadata": {},
   "outputs": [
    {
     "name": "stdout",
     "output_type": "stream",
     "text": [
      "Welcome\n",
      "\"This is a\n",
      "multi-line\n",
      "string\n",
      "\"\n",
      "\n",
      "Welcome : This could be characters from another language if I knew how to put them here\n",
      "THIS IS A STRING\n"
     ]
    }
   ],
   "source": [
    "strA = \"Welcome\"\n",
    "strB = 'This is a string'\n",
    "strC = '''\\\"This is a\n",
    "multi-line\n",
    "string\n",
    "\\\"\n",
    "'''\n",
    "strD = \"This could be characters from another language if I knew how to put them here\"\n",
    "print(strA)\n",
    "print(strC)\n",
    "print(strA + \" : \" + strD)\n",
    "print(strB.upper())"
   ]
  },
  {
   "cell_type": "markdown",
   "metadata": {},
   "source": [
    "## Tuples"
   ]
  },
  {
   "cell_type": "code",
   "execution_count": 13,
   "metadata": {},
   "outputs": [
    {
     "name": "stdout",
     "output_type": "stream",
     "text": [
      "((1, 2), (1, 2, 3))\n",
      "('W', 'e', 'l', 'c', 'o', 'm', 'e')\n"
     ]
    }
   ],
   "source": [
    "p2d = (1,2)\n",
    "p3d = (1,2,3)\n",
    "pair = (p2d, p3d)\n",
    "\n",
    "str_tup = tuple(strA)\n",
    "\n",
    "print(pair)\n",
    "print(str_tup)\n",
    "\n",
    "#p2d[1] = 3 (doesn't work because 'tuple' object does not support item assignment)"
   ]
  },
  {
   "cell_type": "markdown",
   "metadata": {},
   "source": [
    "## Lists"
   ]
  },
  {
   "cell_type": "code",
   "execution_count": 8,
   "metadata": {},
   "outputs": [
    {
     "name": "stdout",
     "output_type": "stream",
     "text": [
      "[0, 1, 2, 3]\n",
      "[0, 1, 2, 4]\n"
     ]
    }
   ],
   "source": [
    "n11 = [0, 1]\n",
    "n12 = [2, 3]\n",
    "n13 = n11 + n12\n",
    "\n",
    "print(n13)\n",
    "n13[3] = 4\n",
    "\n",
    "print(n13)"
   ]
  },
  {
   "cell_type": "code",
   "execution_count": 9,
   "metadata": {},
   "outputs": [
    {
     "name": "stdout",
     "output_type": "stream",
     "text": [
      "W\n",
      "e\n",
      "l\n",
      "c\n",
      "o\n",
      "m\n",
      "e\n"
     ]
    }
   ],
   "source": [
    "# iterating over collections\n",
    "\n",
    "for e in strA:\n",
    "    print(e)"
   ]
  },
  {
   "cell_type": "code",
   "execution_count": 12,
   "metadata": {},
   "outputs": [
    {
     "name": "stdout",
     "output_type": "stream",
     "text": [
      "[None, None, None, None]\n"
     ]
    }
   ],
   "source": [
    "for i in range(len(n13)):\n",
    "    n13[i] = None\n",
    "print(n13)"
   ]
  },
  {
   "cell_type": "code",
   "execution_count": null,
   "metadata": {},
   "outputs": [],
   "source": []
  }
 ],
 "metadata": {
  "kernelspec": {
   "display_name": "Python 3",
   "language": "python",
   "name": "python3"
  },
  "language_info": {
   "codemirror_mode": {
    "name": "ipython",
    "version": 3
   },
   "file_extension": ".py",
   "mimetype": "text/x-python",
   "name": "python",
   "nbconvert_exporter": "python",
   "pygments_lexer": "ipython3",
   "version": "3.7.3"
  }
 },
 "nbformat": 4,
 "nbformat_minor": 2
}

{
 "cells": [
  {
   "cell_type": "markdown",
   "metadata": {},
   "source": [
    "## Introduction to Python I\n",
    "\n",
    "### Solutions to Warm Up Exercises\n",
    "\n",
    "### DATA 601: Fall 2019"
   ]
  },
  {
   "cell_type": "markdown",
   "metadata": {},
   "source": [
    "## <a name=\"exerciseI\"></a>Warmup Exercises I\n",
    "\n",
    "- Write a function that takes three integers as input and returns the largest of the three.\n",
    "\n",
    "- Write a function that takes three integers as input and returns `True` if either all three integers are even or all three integers are odd, and `False` otherwise.\n",
    "\n",
    "- Write a function that takes an amount in dollars and cents -- passed in `int` format -- as input, performs penny rounding on the amount and returns the rounded amount as a result in `float` format.   \n",
    "\n",
    "  \n",
    "You are not allowed to use any built-in functions."
   ]
  },
  {
   "cell_type": "code",
   "execution_count": 1,
   "metadata": {},
   "outputs": [],
   "source": [
    "def max3(x, y, z):\n",
    "    largest = x\n",
    "    if y > largest:\n",
    "        largest = y\n",
    "    if z > largest:\n",
    "        largest = z\n",
    "    return largest"
   ]
  },
  {
   "cell_type": "code",
   "execution_count": 2,
   "metadata": {},
   "outputs": [
    {
     "name": "stdout",
     "output_type": "stream",
     "text": [
      "3\n",
      "3\n",
      "3\n",
      "3\n",
      "3\n",
      "3\n"
     ]
    }
   ],
   "source": [
    "print(max3(1,2,3))\n",
    "print(max3(1,3,2))\n",
    "print(max3(2,1,3))\n",
    "print(max3(2,3,1))\n",
    "print(max3(3,1,2))\n",
    "print(max3(3,2,1))"
   ]
  },
  {
   "cell_type": "code",
   "execution_count": 3,
   "metadata": {},
   "outputs": [],
   "source": [
    "def parity(x, y, z):\n",
    "    if (x%2 == 0 and y%2 == 0 and z%2 == 0) or (x%2 == 1 and y%2 == 1 and z%2 == 1):\n",
    "        return True\n",
    "    else:\n",
    "        return False"
   ]
  },
  {
   "cell_type": "code",
   "execution_count": 4,
   "metadata": {},
   "outputs": [
    {
     "name": "stdout",
     "output_type": "stream",
     "text": [
      "True\n",
      "False\n",
      "True\n",
      "False\n",
      "True\n",
      "False\n"
     ]
    }
   ],
   "source": [
    "print(parity(0,0,0))\n",
    "print(parity(1,0,0))\n",
    "print(parity(1,1,1))\n",
    "print(parity(1,1,2))\n",
    "print(parity(2,2,2))\n",
    "print(parity(2,2,1))"
   ]
  },
  {
   "cell_type": "code",
   "execution_count": 5,
   "metadata": {},
   "outputs": [],
   "source": [
    "def pennyRound(dollars, cents):\n",
    "    rem = cents % 5\n",
    "    if rem <= 2:\n",
    "        cents = cents - rem\n",
    "    else:\n",
    "        cents = cents + 5 - rem\n",
    "    return float(dollars) + cents/100"
   ]
  },
  {
   "cell_type": "code",
   "execution_count": 6,
   "metadata": {},
   "outputs": [
    {
     "name": "stdout",
     "output_type": "stream",
     "text": [
      "100.0\n",
      "100.05\n",
      "100.15\n",
      "100.2\n",
      "100.25\n",
      "100.3\n",
      "100.35\n",
      "100.4\n",
      "100.45\n",
      "100.5\n"
     ]
    }
   ],
   "source": [
    "print(pennyRound(100,2))\n",
    "print(pennyRound(100,7))\n",
    "print(pennyRound(100,13))\n",
    "print(pennyRound(100,18))\n",
    "print(pennyRound(100,24))\n",
    "print(pennyRound(100,29))\n",
    "print(pennyRound(100,35))\n",
    "print(pennyRound(100,40))\n",
    "print(pennyRound(100,46))\n",
    "print(pennyRound(100,51))"
   ]
  },
  {
   "cell_type": "markdown",
   "metadata": {},
   "source": [
    "## <a name=\"exerciseII\"></a>Warmup Exercises II\n",
    "\n",
    "- Write a function that takes a list as an input and returns a new list that contains the items in the input list _reversed_. You are not allowed to use any built-in reversal functions. \n",
    "\n",
    "  You may use `list.insert`\n",
    "  \n",
    "  \n",
    "- Write the following functions that take a list of numbers as input and return:\n",
    "  - the maximum\n",
    "  - the minimum\n",
    "  - the sum\n",
    "  \n",
    "  You are not allowed to use any built-in functions."
   ]
  },
  {
   "cell_type": "code",
   "execution_count": 7,
   "metadata": {},
   "outputs": [],
   "source": [
    "def revList(l):\n",
    "    result = [0]*len(l)\n",
    "    for i in range(len(l)):\n",
    "        result[len(l)-i-1] = l[i]\n",
    "    return result"
   ]
  },
  {
   "cell_type": "code",
   "execution_count": 8,
   "metadata": {},
   "outputs": [
    {
     "name": "stdout",
     "output_type": "stream",
     "text": [
      "[4, 3, 2, 1, 0]\n"
     ]
    }
   ],
   "source": [
    "print(revList([0,1,2,3,4]))"
   ]
  },
  {
   "cell_type": "code",
   "execution_count": 9,
   "metadata": {},
   "outputs": [],
   "source": [
    "def maxList(l):\n",
    "    largest = l[0]\n",
    "    for i in range(len(l)):\n",
    "        if l[i] > largest:\n",
    "            largest = l[i]\n",
    "    return largest\n",
    "\n",
    "def minList(l):\n",
    "    smallest = l[0]\n",
    "    for i in range(len(l)):\n",
    "        if l[i] < smallest:\n",
    "            smallest = l[i]\n",
    "    return smallest\n",
    "\n",
    "def sumList(l):\n",
    "    result = 0\n",
    "    for i in range(len(l)):\n",
    "        result = result + l[i]\n",
    "    return result"
   ]
  },
  {
   "cell_type": "code",
   "execution_count": 10,
   "metadata": {},
   "outputs": [
    {
     "name": "stdout",
     "output_type": "stream",
     "text": [
      "9\n",
      "0\n",
      "45\n"
     ]
    }
   ],
   "source": [
    "myList = [0, 1, 2, 3, 4, 5, 6, 7, 8, 9]\n",
    "print(maxList(myList))\n",
    "print(minList(myList))\n",
    "print(sumList(myList))"
   ]
  },
  {
   "cell_type": "code",
   "execution_count": null,
   "metadata": {},
   "outputs": [],
   "source": []
  }
 ],
 "metadata": {
  "kernelspec": {
   "display_name": "Python 3",
   "language": "python",
   "name": "python3"
  },
  "language_info": {
   "codemirror_mode": {
    "name": "ipython",
    "version": 3
   },
   "file_extension": ".py",
   "mimetype": "text/x-python",
   "name": "python",
   "nbconvert_exporter": "python",
   "pygments_lexer": "ipython3",
   "version": "3.7.3"
  }
 },
 "nbformat": 4,
 "nbformat_minor": 2
}

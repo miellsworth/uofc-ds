{
 "cells": [
  {
   "cell_type": "markdown",
   "metadata": {},
   "source": [
    "## Introduction to Python II\n",
    "\n",
    "### Solutions to Notebook Exercises\n",
    "\n",
    "### DATA 601: Fall 2019"
   ]
  },
  {
   "cell_type": "code",
   "execution_count": 10,
   "metadata": {},
   "outputs": [
    {
     "name": "stdout",
     "output_type": "stream",
     "text": [
      "{'susan': 22, 'joe': 29, 'al': 21, 'frank': 30, 'salim': 27}\n",
      "{'susan': 'Calgary', 'joe': 'Calgary', 'al': 'Vancouver', 'frank': 'Toronto', 'salim': 'Beirut'}\n"
     ]
    }
   ],
   "source": [
    "ages = {'susan':23, 'brian':25, 'joe':28, 'al':21}\n",
    "ages['susan'] = 22\n",
    "ages['frank'] = 30\n",
    "del ages['brian']\n",
    "ages.update({'salim':27, 'joe':29})\n",
    "\n",
    "cities = dict(zip(ages.keys(),['Calgary', 'Calgary', 'Vancouver', 'Toronto', 'Beirut']))\n",
    "print(ages)\n",
    "print(cities)"
   ]
  },
  {
   "cell_type": "code",
   "execution_count": 14,
   "metadata": {},
   "outputs": [
    {
     "name": "stdout",
     "output_type": "stream",
     "text": [
      "susan 22 Calgary\n",
      "joe 29 Calgary\n",
      "al 21 Vancouver\n",
      "frank 30 Toronto\n",
      "salim 27 Beirut\n"
     ]
    }
   ],
   "source": [
    "# Exercise:\n",
    "# Make sure the previous cell is evaluated so that we can work with\n",
    "# the ages and cities dictionaries.\n",
    "#\n",
    "# Make a new dictionary that maps a student name (key) to a \n",
    "# 2-tuple (value) consisting of the student's age\n",
    "# and the city they are from.\n",
    "# Iterate over the dictionary and print out each student's information \n",
    "# in the format:\n",
    "#\n",
    "# name  age   city\n",
    "\n",
    "studentDict = dict(zip(ages.keys(), zip(ages.values(), cities.values())))\n",
    "for student in studentDict:\n",
    "    print( student + \" \" + str(studentDict[student][0]) + \" \" + studentDict[student][1])"
   ]
  },
  {
   "cell_type": "markdown",
   "metadata": {},
   "source": [
    "### Exercises:\n",
    "\n",
    "- Write code for a comprehension that iterates over a list of 3-tuples and returns a list consisting of the maximum in each tuple.\n",
    "- Write a list comprehension to determine all the divisors of a positive integer $n$.\n",
    "- Use a comprehension to generate the following set: $$F = \\{(i,j,k) \\in \\mathbb{Z}^3 \\;\\lvert\\; -5 \\le i,j,k \\le 5 \\text{ AND } i+j+k = 0\\}$$\n"
   ]
  },
  {
   "cell_type": "code",
   "execution_count": 16,
   "metadata": {},
   "outputs": [
    {
     "data": {
      "text/plain": [
       "[2, 5, 8, 11]"
      ]
     },
     "execution_count": 16,
     "metadata": {},
     "output_type": "execute_result"
    }
   ],
   "source": [
    "def max3(x, y, z):\n",
    "    largest = x\n",
    "    if y > largest:\n",
    "        largest = y\n",
    "    if z > largest:\n",
    "        largest = z\n",
    "    return largest\n",
    "\n",
    "myList = [(0,1,2), (3,4,5), (6,7,8), (9,10,11)]\n",
    "[max3(x,y,z) for x, y, z in myList] # using tuple unpacking"
   ]
  },
  {
   "cell_type": "code",
   "execution_count": 17,
   "metadata": {},
   "outputs": [],
   "source": [
    "def divisors(n):\n",
    "    return [i for i in range(1,n+1) if n%i==0]"
   ]
  },
  {
   "cell_type": "code",
   "execution_count": 18,
   "metadata": {},
   "outputs": [
    {
     "name": "stdout",
     "output_type": "stream",
     "text": [
      "[1, 2, 5, 10]\n",
      "[1, 2, 4, 5, 10, 20, 25, 50, 100]\n",
      "[1, 67]\n"
     ]
    }
   ],
   "source": [
    "print(divisors(10))\n",
    "print(divisors(100))\n",
    "print(divisors(67))"
   ]
  },
  {
   "cell_type": "code",
   "execution_count": 20,
   "metadata": {},
   "outputs": [
    {
     "name": "stdout",
     "output_type": "stream",
     "text": [
      "[(-5, 0, 5), (-5, 1, 4), (-5, 2, 3), (-5, 3, 2), (-5, 4, 1), (-5, 5, 0), (-4, -1, 5), (-4, 0, 4), (-4, 1, 3), (-4, 2, 2), (-4, 3, 1), (-4, 4, 0), (-4, 5, -1), (-3, -2, 5), (-3, -1, 4), (-3, 0, 3), (-3, 1, 2), (-3, 2, 1), (-3, 3, 0), (-3, 4, -1), (-3, 5, -2), (-2, -3, 5), (-2, -2, 4), (-2, -1, 3), (-2, 0, 2), (-2, 1, 1), (-2, 2, 0), (-2, 3, -1), (-2, 4, -2), (-2, 5, -3), (-1, -4, 5), (-1, -3, 4), (-1, -2, 3), (-1, -1, 2), (-1, 0, 1), (-1, 1, 0), (-1, 2, -1), (-1, 3, -2), (-1, 4, -3), (-1, 5, -4), (0, -5, 5), (0, -4, 4), (0, -3, 3), (0, -2, 2), (0, -1, 1), (0, 0, 0), (0, 1, -1), (0, 2, -2), (0, 3, -3), (0, 4, -4), (0, 5, -5), (1, -5, 4), (1, -4, 3), (1, -3, 2), (1, -2, 1), (1, -1, 0), (1, 0, -1), (1, 1, -2), (1, 2, -3), (1, 3, -4), (1, 4, -5), (2, -5, 3), (2, -4, 2), (2, -3, 1), (2, -2, 0), (2, -1, -1), (2, 0, -2), (2, 1, -3), (2, 2, -4), (2, 3, -5), (3, -5, 2), (3, -4, 1), (3, -3, 0), (3, -2, -1), (3, -1, -2), (3, 0, -3), (3, 1, -4), (3, 2, -5), (4, -5, 1), (4, -4, 0), (4, -3, -1), (4, -2, -2), (4, -1, -3), (4, 0, -4), (4, 1, -5), (5, -5, 0), (5, -4, -1), (5, -3, -2), (5, -2, -3), (5, -1, -4), (5, 0, -5)]\n"
     ]
    }
   ],
   "source": [
    "F = [(i,j,k) for i in range(-5,6) for j in range(-5,6) for k in range(-5,6) if i+j+k == 0]\n",
    "print(F)"
   ]
  },
  {
   "cell_type": "markdown",
   "metadata": {},
   "source": [
    "### Exercise\n",
    "\n",
    "- Suppose $X$ is distributed according to the Bionomial distribution, i.e. the probability of getting $k$ successes in $n$ trials is given by: \n",
    "$$\\mathsf{Pr}(X=k) = \\frac{n!}{(n-k)! k!} p^k (1-p)^{n-k},$$\n",
    "where $p \\in [0,1]$ represents the probability of success for one trial. The cumulative distribution function (CDF) is given by:\n",
    "$$\n",
    "\\mathsf{P}(X \\le k) = \\sum_{i=0}^k \\frac{n!}{(n-i)! i!} p^i (1-p)^{n-i}.\n",
    "$$\n",
    "Write a generator to compute the CDF of the binomial distribution. The generator should take $n$ and $p$ as parameters."
   ]
  },
  {
   "cell_type": "code",
   "execution_count": 1,
   "metadata": {},
   "outputs": [],
   "source": [
    "def factorial(n):\n",
    "    \"Returns n!, the factorial of a non-negative integer n\"\n",
    "    # The variables n and result have local scope.\n",
    "    \n",
    "    result = 1\n",
    "    while n > 0:\n",
    "        result *= n\n",
    "        n -= 1\n",
    "    return result\n",
    "\n",
    "def binomialCDF(n,p):\n",
    "    result = 0\n",
    "    for i in range(n+1):\n",
    "        result = result + (factorial(n) / (factorial(n-i) * factorial(i))) * p**i * (1-p)**(n-i)\n",
    "        yield result"
   ]
  },
  {
   "cell_type": "code",
   "execution_count": 4,
   "metadata": {},
   "outputs": [
    {
     "data": {
      "text/plain": [
       "[9.094947017729282e-13,\n",
       " 3.728928277269006e-11,\n",
       " 7.466951501555741e-10,\n",
       " 9.732502803672105e-09,\n",
       " 9.285122359870002e-08,\n",
       " 6.91306013322901e-07,\n",
       " 4.182292286714073e-06,\n",
       " 2.1138511328899767e-05,\n",
       " 9.108291487791575e-05,\n",
       " 0.00033977412749663927,\n",
       " 0.0011107168866146822,\n",
       " 0.003213288047845708,\n",
       " 0.008294501687487355,\n",
       " 0.01923865414210013,\n",
       " 0.0403452338759962,\n",
       " 0.07692997208141605,\n",
       " 0.13409362552738457,\n",
       " 0.21479525392169307,\n",
       " 0.3179140013144206,\n",
       " 0.43731465619021037,\n",
       " 0.5626853438097896,\n",
       " 0.6820859986855794,\n",
       " 0.7852047460783069,\n",
       " 0.8659063744726154,\n",
       " 0.923070027918584,\n",
       " 0.9596547661240038,\n",
       " 0.9807613458578999,\n",
       " 0.9917054983125126,\n",
       " 0.9967867119521543,\n",
       " 0.9988892831133853,\n",
       " 0.9996602258725034,\n",
       " 0.9999089170851221,\n",
       " 0.9999788614886711,\n",
       " 0.9999958177077133,\n",
       " 0.9999993086939867,\n",
       " 0.9999999071487764,\n",
       " 0.9999999902674972,\n",
       " 0.9999999992533048,\n",
       " 0.9999999999627107,\n",
       " 0.9999999999990905,\n",
       " 1.0]"
      ]
     },
     "execution_count": 4,
     "metadata": {},
     "output_type": "execute_result"
    }
   ],
   "source": [
    "[*binomialCDF(40,0.5)]"
   ]
  },
  {
   "cell_type": "code",
   "execution_count": null,
   "metadata": {},
   "outputs": [],
   "source": []
  }
 ],
 "metadata": {
  "kernelspec": {
   "display_name": "Python 3",
   "language": "python",
   "name": "python3"
  },
  "language_info": {
   "codemirror_mode": {
    "name": "ipython",
    "version": 3
   },
   "file_extension": ".py",
   "mimetype": "text/x-python",
   "name": "python",
   "nbconvert_exporter": "python",
   "pygments_lexer": "ipython3",
   "version": "3.7.3"
  }
 },
 "nbformat": 4,
 "nbformat_minor": 2
}

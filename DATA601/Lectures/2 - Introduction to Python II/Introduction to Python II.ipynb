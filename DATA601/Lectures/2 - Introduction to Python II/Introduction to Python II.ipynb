{
 "cells": [
  {
   "cell_type": "markdown",
   "metadata": {
    "slideshow": {
     "slide_type": "slide"
    }
   },
   "source": [
    "# Introduction to Python II\n",
    "\n",
    "## Intermediate Programming Constructs\n",
    "\n",
    "### DATA 601: Fall 2019 \n",
    "\n",
    "**Usman Alim ([ualim@ucalgary.ca](mailto:ualim@ucalgary.ca))** \n",
    "\n",
    "Further Reading:\n",
    "\n",
    "* **Python for Data Analysis** (second edition), by _Wes McKinney_ (Chapter 3). ([Library link](https://ucalgary-primo.hosted.exlibrisgroup.com/primo-explore/fulldisplay?docid=01UCALG_ALMA51642853910004336&context=L&vid=UCALGARY&search_scope=EVERYTHING&tab=everything&lang=en_US) for book)\n",
    "* [**The Python Tutorial**](https://docs.python.org/3/tutorial/index.html) by the Python Software Foundation.\n"
   ]
  },
  {
   "cell_type": "markdown",
   "metadata": {
    "slideshow": {
     "slide_type": "slide"
    }
   },
   "source": [
    "## Outline\n",
    "\n",
    "- [Sets and Dictionaries](#sets)\n",
    "- [Tuple Packing and List Slicing](#packingAndSlicing)\n",
    "- [Comprehensions](#comprehensions)\n",
    "- [Anonymous Functions and Generators](#lambdas)"
   ]
  },
  {
   "cell_type": "markdown",
   "metadata": {
    "slideshow": {
     "slide_type": "slide"
    }
   },
   "source": [
    "## <a name=\"sets\"></a>Sets\n",
    "\n",
    "- A set is a mathematical set, i.e. an _unordered_ collection of unique Python objects.\n",
    "- Declare a set using curly braces (`{}`).\n",
    "- Set operations like unions, intersections and differences are supported.\n",
    "- Sets are _mutable_."
   ]
  },
  {
   "cell_type": "code",
   "execution_count": 4,
   "metadata": {
    "slideshow": {
     "slide_type": "subslide"
    }
   },
   "outputs": [
    {
     "name": "stdout",
     "output_type": "stream",
     "text": [
      "{0, 1, 2, 3, 4, 5, 6, 7, 8, 9}\n",
      "set()\n",
      "\n",
      "\n",
      "False\n",
      "False\n",
      "True\n",
      "\n",
      "\n",
      "[0, 2, 4, 6, 8]\n"
     ]
    }
   ],
   "source": [
    "# Sets and set operations\n",
    "\n",
    "A = {0,2,4,6,8}\n",
    "B = {1,3,5,7,9}\n",
    "\n",
    "print( A | B ) # set union, can also use A.union(B)\n",
    "print( A & B ) # set intersection, can also use A.intersection(B)\n",
    "print(\"\\n\")\n",
    "\n",
    "# subset, superset and disjoint sets\n",
    "print(A.issubset(B))\n",
    "print(A.issuperset(B))\n",
    "print(A.isdisjoint(B))\n",
    "print(\"\\n\")\n",
    "\n",
    "# We cannot index sets, the following is not allowed.\n",
    "# A[0]\n",
    "print(list(A))\n"
   ]
  },
  {
   "cell_type": "code",
   "execution_count": 5,
   "metadata": {
    "slideshow": {
     "slide_type": "subslide"
    }
   },
   "outputs": [
    {
     "name": "stdout",
     "output_type": "stream",
     "text": [
      "{0, 1, 2, 3, 4, 5, 6, 7, 8, 9}\n",
      "{0, 2, 4, 6, 8}\n",
      "\n",
      "\n",
      "{1, 3, 5, 7, 9}\n",
      "{1, 3, 4, 5, 2, 7, 0, 9, 6, 8}\n",
      "\n",
      "\n",
      "(1, 2, 3, 4, 5)\n",
      "[1, 2, 3, 4, 5]\n"
     ]
    }
   ],
   "source": [
    "# Duplicates are automatically removed when constructing sets\n",
    "A = set(range(10))\n",
    "B = {0,2,2,4,6,8}\n",
    "\n",
    "print(A)\n",
    "print(B)\n",
    "print(\"\\n\")\n",
    "\n",
    "# sets are mutable, we can do a set operation and an assignment together \n",
    "A -= B\n",
    "print(A)\n",
    "A |= B\n",
    "print(A)\n",
    "print(\"\\n\")\n",
    "\n",
    "# A set can be converted to a list or a tuple\n",
    "X = {5,4,3,2,1}\n",
    "print(tuple(X))\n",
    "print(list(X))"
   ]
  },
  {
   "cell_type": "markdown",
   "metadata": {
    "slideshow": {
     "slide_type": "slide"
    }
   },
   "source": [
    "### Dictionaries\n",
    "\n",
    "- A *dictionary* is a collection of *key*,  *value* pairs where both the  **key**  and the **value** are Python objects.\n",
    "- A dictionary is an associative array, a key is mapped to a value.\n",
    "- Declare a `dict` using curly braces (`{}`) and separate keys using a colon (`:`).\n",
    "- Dictionaries are variable-length.\n",
    "- Keys are _immutable_ while the associated values are _mutable_.\n",
    "- Keys in a dictionary must be unique.\n",
    "- Any _hashable_ object can be used as a key."
   ]
  },
  {
   "cell_type": "code",
   "execution_count": 6,
   "metadata": {
    "slideshow": {
     "slide_type": "subslide"
    }
   },
   "outputs": [
    {
     "name": "stdout",
     "output_type": "stream",
     "text": [
      "{'susan': 23, 'brian': 25, 'joe': 28, 'al': 21}\n",
      "\n",
      "\n",
      "{'susan': 22, 'brian': 25, 'joe': 28, 'al': 21}\n",
      "\n",
      "\n",
      "{'susan': 22, 'joe': 29, 'al': 21, 'frank': 30, 'salim': 27}\n",
      "\n",
      "\n",
      "False\n",
      "None\n"
     ]
    },
    {
     "ename": "KeyError",
     "evalue": "'alim'",
     "output_type": "error",
     "traceback": [
      "\u001b[0;31m---------------------------------------------------------------------------\u001b[0m",
      "\u001b[0;31mKeyError\u001b[0m                                  Traceback (most recent call last)",
      "\u001b[0;32m<ipython-input-6-55d659437c36>\u001b[0m in \u001b[0;36m<module>\u001b[0;34m\u001b[0m\n\u001b[1;32m     20\u001b[0m \u001b[0mprint\u001b[0m\u001b[0;34m(\u001b[0m\u001b[0;34m'alim'\u001b[0m \u001b[0;32min\u001b[0m \u001b[0mages\u001b[0m\u001b[0;34m)\u001b[0m\u001b[0;34m\u001b[0m\u001b[0;34m\u001b[0m\u001b[0m\n\u001b[1;32m     21\u001b[0m \u001b[0mprint\u001b[0m\u001b[0;34m(\u001b[0m\u001b[0mages\u001b[0m\u001b[0;34m.\u001b[0m\u001b[0mget\u001b[0m\u001b[0;34m(\u001b[0m\u001b[0;34m'alim'\u001b[0m\u001b[0;34m)\u001b[0m\u001b[0;34m)\u001b[0m \u001b[0;31m# Returns None\u001b[0m\u001b[0;34m\u001b[0m\u001b[0;34m\u001b[0m\u001b[0m\n\u001b[0;32m---> 22\u001b[0;31m \u001b[0mprint\u001b[0m\u001b[0;34m(\u001b[0m\u001b[0mages\u001b[0m\u001b[0;34m[\u001b[0m\u001b[0;34m'alim'\u001b[0m\u001b[0;34m]\u001b[0m\u001b[0;34m)\u001b[0m \u001b[0;31m# Throws an exception\u001b[0m\u001b[0;34m\u001b[0m\u001b[0;34m\u001b[0m\u001b[0m\n\u001b[0m\u001b[1;32m     23\u001b[0m \u001b[0;34m\u001b[0m\u001b[0m\n",
      "\u001b[0;31mKeyError\u001b[0m: 'alim'"
     ]
    }
   ],
   "source": [
    "# Working with dictionaries\n",
    "\n",
    "ages = {'susan':23, 'brian':25, 'joe':28, 'al':21}\n",
    "print(ages)\n",
    "print(\"\\n\")\n",
    "\n",
    "# Keys are used for indexing\n",
    "ages['susan'] = 22\n",
    "print(ages)\n",
    "print(\"\\n\")\n",
    "\n",
    "# Adding, deleting and modifying key-value pairs\n",
    "ages['frank'] = 30  # A new key-value pair is created\n",
    "del ages['brian']\n",
    "ages.update({'salim':27, 'joe':29})\n",
    "print(ages)\n",
    "print(\"\\n\")\n",
    "\n",
    "# Check for membership by the key\n",
    "print('alim' in ages)\n",
    "print(ages.get('alim')) # Returns None\n",
    "print(ages['alim']) # Throws an exception\n",
    "\n"
   ]
  },
  {
   "cell_type": "code",
   "execution_count": 7,
   "metadata": {
    "slideshow": {
     "slide_type": "subslide"
    }
   },
   "outputs": [
    {
     "name": "stdout",
     "output_type": "stream",
     "text": [
      "('susan', 22)\n",
      "('joe', 29)\n",
      "('al', 21)\n",
      "('frank', 30)\n",
      "('salim', 27)\n",
      "\n",
      "\n",
      "{'susan': 0, 'joe': 1, 'al': 2, 'frank': 3, 'salim': 4}\n",
      "\n",
      "\n",
      "{'susan': 'Calgary', 'joe': 'Calgary', 'al': 'Vancouver', 'frank': 'Toronto', 'salim': 'Beirut'}\n"
     ]
    }
   ],
   "source": [
    "# More dictionary examples\n",
    "\n",
    "# Iterating over elements in a dictionary\n",
    "for k in ages:\n",
    "    print((k, ages[k]))\n",
    "print(\"\\n\")\n",
    "    \n",
    "# using enumerate()\n",
    "mapping = {}\n",
    "for i, k in enumerate(ages):\n",
    "    mapping[k] = i\n",
    "print(mapping)\n",
    "print(\"\\n\")\n",
    "\n",
    "# using zip()\n",
    "cities = dict(zip(ages.keys(),['Calgary', 'Calgary', 'Vancouver', 'Toronto', 'Beirut']))\n",
    "print(cities)"
   ]
  },
  {
   "cell_type": "code",
   "execution_count": 8,
   "metadata": {
    "slideshow": {
     "slide_type": "subslide"
    }
   },
   "outputs": [],
   "source": [
    "# Exercise:\n",
    "# Make sure the previous cell is evaluated so that we can work with\n",
    "# the ages and cities dictionaries.\n",
    "#\n",
    "# Make a new dictionary that maps a student name (key) to a \n",
    "# 2-tuple (value) consisting of the student's age\n",
    "# and the city they are from.\n",
    "# Iterate over the dictionary and print out each student's information \n",
    "# in the format:\n",
    "#\n",
    "# name  age   city\n",
    "    \n"
   ]
  },
  {
   "cell_type": "markdown",
   "metadata": {
    "slideshow": {
     "slide_type": "slide"
    }
   },
   "source": [
    "## <a name=\"packingAndSlicing\"></a>Packing and Slicing\n",
    "\n",
    "- Python provides convenient mechanisms for packing/unpacking tuples in assignment statements, for loops and function return values.\n",
    "- Lists can be sliced and diced in a number of ways to get sublists."
   ]
  },
  {
   "cell_type": "code",
   "execution_count": 9,
   "metadata": {
    "slideshow": {
     "slide_type": "subslide"
    }
   },
   "outputs": [
    {
     "name": "stdout",
     "output_type": "stream",
     "text": [
      "('a', 'b', (1, 2))\n",
      "(1, 2)\n",
      "a\n",
      "(1, 2)\n",
      "\n",
      "\n",
      "['a', 'b']\n"
     ]
    }
   ],
   "source": [
    "# Unpacking tuples (or lists)\n",
    "\n",
    "# If a tuple appears on the RHS of an assignment expression and\n",
    "# variables appear on the left, the tuple gets unpacked. This requires \n",
    "# that there are as many variables on the left side of the equals sign \n",
    "# as there are elements in the tuple.\n",
    "\n",
    "tup = ('a', 'b', (1,2))\n",
    "a = tup\n",
    "p, q, r = tup\n",
    "\n",
    "\n",
    "# keep the first, discard the rest or keep the last discard the rest. An underscore is \n",
    "# conventionally used to collect all unwanted variables in a tuple.\n",
    "x, *_ = tup \n",
    "*_, y = tup\n",
    "\n",
    "print(a)\n",
    "print(r)\n",
    "print(x)\n",
    "print(y)\n",
    "\n",
    "print(\"\\n\")\n",
    "print(_) \n"
   ]
  },
  {
   "cell_type": "code",
   "execution_count": 10,
   "metadata": {
    "slideshow": {
     "slide_type": "subslide"
    }
   },
   "outputs": [
    {
     "name": "stdout",
     "output_type": "stream",
     "text": [
      "x=0, y=1, z=2\n",
      "x=1, y=2, z=3\n",
      "x=3, y=4, z=5\n",
      "\n",
      "\n",
      "(1, 2)\n",
      "1\n",
      "2\n"
     ]
    }
   ],
   "source": [
    "# Tuple unpacking in for loops and functions\n",
    "\n",
    "# We can unpack a tuple in a for loop to get access to individual\n",
    "# scalars, e.g.\n",
    "\n",
    "for x, y, z in ((0,1,2), (1,2,3), (3,4,5)):\n",
    "    print(\"x={0}, y={1}, z={2}\".format(x,y,z))\n",
    "    \n",
    "print(\"\\n\")\n",
    "    \n",
    "# Another use is to return multiple values from a function, e.g.\n",
    "\n",
    "def fun():\n",
    "    return (1, 2)\n",
    "    \n",
    "a = fun()\n",
    "x, y = fun()\n",
    "\n",
    "print(a)\n",
    "print(x)\n",
    "print(y)\n",
    "\n",
    "    "
   ]
  },
  {
   "cell_type": "code",
   "execution_count": 11,
   "metadata": {
    "slideshow": {
     "slide_type": "subslide"
    }
   },
   "outputs": [
    {
     "name": "stdout",
     "output_type": "stream",
     "text": [
      "()\n",
      "2\n",
      "(1,)\n",
      "3\n",
      "(1, 1, 1)\n",
      "5\n"
     ]
    }
   ],
   "source": [
    "# Another use of tuple unpacking is in defining functions that can take an\n",
    "# arbitrary number of arguments\n",
    "# Here we are using the unpacking operator (*)\n",
    "\n",
    "def dist2(x, y, *args):\n",
    "    \"Returns the Euclidean squared distance of a two or higher dimensional point\"\n",
    "    result = x**2 + y**2\n",
    "    print(args)\n",
    "    for v in args:\n",
    "        result += v**2\n",
    "    return result\n",
    "\n",
    "print(dist2(1,1))\n",
    "print(dist2(1,1,1))\n",
    "print(dist2(1,1,1,1,1))"
   ]
  },
  {
   "cell_type": "code",
   "execution_count": 12,
   "metadata": {
    "slideshow": {
     "slide_type": "subslide"
    }
   },
   "outputs": [
    {
     "name": "stdout",
     "output_type": "stream",
     "text": [
      "[0, 1, 2, 3, 4]\n",
      "\n",
      "\n",
      "[0, 1, 2, 3, 4]\n",
      "[5, 6, 7, 8, 9]\n",
      "\n",
      "\n",
      "[5, 6, 7, 8]\n",
      "[5, 6, 7, 8, 9]\n",
      "\n",
      "\n",
      "[0, 2, 4, 6, 8]\n",
      "\n",
      "\n",
      "[9, 8, 7, 6, 5, 4, 3, 2, 1, 0]\n",
      "[9, 8, 7, 6]\n"
     ]
    }
   ],
   "source": [
    "# Slicing is used to extract portions of lists (or tuples).\n",
    "# Use the colon (:) operator\n",
    "\n",
    "\n",
    "x = list(range(10))\n",
    "\n",
    "# The last index is exclusive but the first is inclusive.\n",
    "print(x[0:5]) \n",
    "print(\"\\n\")\n",
    "\n",
    "# First and last can be omitted.\n",
    "print(x[:5])\n",
    "print(x[5:])\n",
    "print(\"\\n\")\n",
    "\n",
    "# Negative indices are used to index relative to the end\n",
    "print(x[-5:-1])\n",
    "print(x[-5:])\n",
    "print(\"\\n\")\n",
    "\n",
    "# We can also specify a step size with a second colon\n",
    "print(x[0:10:2])\n",
    "print(\"\\n\")\n",
    "\n",
    "# Conveniently, the step can be negative\n",
    "print(x[::-1])\n",
    "print(x[9:5:-1])"
   ]
  },
  {
   "cell_type": "code",
   "execution_count": 13,
   "metadata": {
    "slideshow": {
     "slide_type": "subslide"
    }
   },
   "outputs": [
    {
     "name": "stdout",
     "output_type": "stream",
     "text": [
      "[0, 1, 0, 3, 0, 5, 0, 7, 0, 9]\n",
      "\n",
      "\n",
      "(0, 2, 4, 6, 8)\n",
      "(9, 7, 5, 3, 1)\n"
     ]
    }
   ],
   "source": [
    "# Slicing can be used in assignments\n",
    "\n",
    "x = list(range(10))\n",
    "x[::2] = [0,0,0,0,0]\n",
    "print(x)\n",
    "print(\"\\n\")\n",
    "\n",
    "# The following is not allowed. Size on LHS and RHS must be the same\n",
    "# x[::2] = []\n",
    "\n",
    "# Slicing can be used to slice tuples. However, since tuples are\n",
    "# immutable, we cannot do assignments.\n",
    "\n",
    "x = tuple(range(10))\n",
    "print(x[::2])\n",
    "print(x[::-2])\n",
    "# The following is not allowed.\n",
    "# x[::2] = (1,3,5,7)"
   ]
  },
  {
   "cell_type": "markdown",
   "metadata": {
    "slideshow": {
     "slide_type": "slide"
    }
   },
   "source": [
    "## <a name=\"comprehensions\"></a>Comprehensions\n",
    "\n",
    "- Comprehensions are a convenient (syntactically) and preferred (for efficiency reasons) way to filter items in a collection and create a new collection as a result.\n",
    "- A comprehension is a filter+map operation.\n",
    "- Comprehensions work with lists, sets and dicts.\n",
    "- The syntax for a list comprehension is as follows:\n",
    "\n",
    "  `[<expr> for v in collection if <condition>]` \n",
    "  \n",
    "  \n",
    "- Set and dict comrehensions are similar. "
   ]
  },
  {
   "cell_type": "code",
   "execution_count": 14,
   "metadata": {
    "slideshow": {
     "slide_type": "subslide"
    }
   },
   "outputs": [
    {
     "name": "stdout",
     "output_type": "stream",
     "text": [
      "[1, 3, 5, 7, 9, 11, 13, 15, 17, 19]\n",
      "[1, 9, 25, 49, 81, 121, 169, 225, 289, 361]\n",
      "\n",
      "\n",
      "{0, 2, 4, 6, 8, 10, 12, 14, 16, 18}\n",
      "\n",
      "\n",
      "{'SUSAN': 22, 'JOE': 29, 'AL': 21, 'SALIM': 27}\n"
     ]
    }
   ],
   "source": [
    "# List comprehensions\n",
    "odds = [v for v in list(range(20)) if v % 2 == 1]\n",
    "odds2 = [v**2 for v in list(range(20)) if v % 2 == 1]\n",
    "print(odds)\n",
    "print(odds2)\n",
    "print(\"\\n\")\n",
    "\n",
    "# Set comprehensions are smilar, just use curly braces\n",
    "evens = {v for v in list(range(20)) if v % 2 == 0}\n",
    "print(evens)\n",
    "print(\"\\n\")\n",
    "\n",
    "# For a dict comprehension, use a key-expr and a value-expr\n",
    "# separated by a colon. The entire expression is wrapped inside \n",
    "# curly braces. For example:\n",
    "Ages = {v.upper() : ages[v] for v in ages if ages[v] < 30}\n",
    "print(Ages)"
   ]
  },
  {
   "cell_type": "code",
   "execution_count": 15,
   "metadata": {
    "slideshow": {
     "slide_type": "subslide"
    }
   },
   "outputs": [
    {
     "name": "stdout",
     "output_type": "stream",
     "text": [
      "[1, 2]\n",
      "[1, 2]\n",
      "\n",
      "\n",
      "[[1, 2], [3, 4], []]\n"
     ]
    }
   ],
   "source": [
    "# Comprehensions can also be arbitratily nested. Two levels of nesting \n",
    "# are common but additional levels can make the code hard to read. \n",
    "\n",
    "my_list = [[0,1,2],[3,4,5,6],[6,7,8]]\n",
    "flattened = [x for l in my_list if len(l) == 3 for x in l if 0 < x < 5]\n",
    "print(flattened)\n",
    "\n",
    "# The above is equivalent to:\n",
    "flattened = []\n",
    "for l in my_list:\n",
    "    if len(l) == 3:\n",
    "        for x in l:\n",
    "            if 0 < x < 5:\n",
    "                flattened.append(x)\n",
    "print(flattened)\n",
    "print(\"\\n\")\n",
    "\n",
    "# A nested comprehension and a comprehension as an expression in\n",
    "# another comprehension are different.\n",
    "test = [[p for p in li if 0 < p < 5] for li in my_list]\n",
    "print(test)\n",
    "\n"
   ]
  },
  {
   "cell_type": "markdown",
   "metadata": {
    "slideshow": {
     "slide_type": "subslide"
    }
   },
   "source": [
    "### Exercises:\n",
    "\n",
    "- Write code for a comprehension that iterates over a list of 3-tuples and returns a list consisting of the maximum in each tuple.\n",
    "- Write a list comprehension to determine all the divisors of a positive integer $n$.\n",
    "- Use a comprehension to generate the following set: $$F = \\{(i,j,k) \\in \\mathbb{Z}^3 \\;\\lvert\\; -5 \\le i,j,k \\le 5 \\text{ AND } i+j+k = 0\\}$$\n"
   ]
  },
  {
   "cell_type": "markdown",
   "metadata": {
    "slideshow": {
     "slide_type": "slide"
    }
   },
   "source": [
    "## <a name=\"lambdas\"></a>Anonymous Functions (Lambdas)\n",
    "\n",
    "- Recall that everything in Python is an object. So are functions, we can pass them around as arguments.\n",
    "- We can also create functions __on-the-fly__ where a function is expected as an argument. These functions have no name and are not accessible from anywhere else.\n",
    "- Use the `lambda` keyword to define an anonymous function. An anonymous function consists of a single statement the result of which is returned. They can have any number of parameters."
   ]
  },
  {
   "cell_type": "code",
   "execution_count": 16,
   "metadata": {
    "slideshow": {
     "slide_type": "subslide"
    }
   },
   "outputs": [
    {
     "name": "stdout",
     "output_type": "stream",
     "text": [
      "[0, 1, 4, 9, 16, 25, 36, 49, 64, 81]\n",
      "\n",
      "\n",
      "[0, 1, 4, 9, 16, 25, 36, 49, 64, 81]\n",
      "[0, 1, 4, 9, 16, 25, 36, 49, 64, 81]\n"
     ]
    }
   ],
   "source": [
    "# A function as an argument\n",
    "\n",
    "def apply_to_list( f, l ):\n",
    "    return [f(v) for v in l]\n",
    "    \n",
    "def square(x):\n",
    "    return x**2\n",
    "\n",
    "print(apply_to_list(square, list(range(10))))\n",
    "print(\"\\n\")\n",
    "\n",
    "# The above can be achieved with an anonymous function\n",
    "print(apply_to_list( lambda x: x**2 , list(range(10))))\n",
    "\n",
    "print([(lambda y: y**2)(x) for x in range(10)])\n",
    "    "
   ]
  },
  {
   "cell_type": "code",
   "execution_count": 17,
   "metadata": {
    "slideshow": {
     "slide_type": "subslide"
    }
   },
   "outputs": [
    {
     "name": "stdout",
     "output_type": "stream",
     "text": [
      "15\n",
      "\n",
      "\n",
      "[(0, 0), (0, 1), (0, 2), (0, 3), (1, 0), (1, 1), (1, 2), (1, 3), (2, 0), (2, 1), (2, 2), (2, 3)]\n",
      "\n",
      "\n",
      "[(0, 0), (0, 1), (0, 2), (0, 3), (1, 0), (1, 1), (1, 2), (1, 3), (2, 0), (2, 1), (2, 2), (2, 3)]\n",
      "[(0, 0), (1, 0), (2, 0), (0, 1), (1, 1), (2, 1), (0, 2), (1, 2), (2, 2), (0, 3), (1, 3), (2, 3)]\n"
     ]
    }
   ],
   "source": [
    "# Function currying\n",
    "\n",
    "# Currying is a way to derive a new function from an existing function by\n",
    "# partial argument application. For example:\n",
    "\n",
    "def adder(x,y):\n",
    "    return x + y\n",
    "\n",
    "adder_ten = lambda x: adder(x,10)\n",
    "\n",
    "print(adder_ten(5))\n",
    "print(\"\\n\")\n",
    "\n",
    "# The builtin 'sorted' function optionally takes a key function\n",
    "# that specifies how keys are to be sorted.\n",
    "\n",
    "tab = [(i,j) for i in range(3) for j in range(4)]\n",
    "print(tab)\n",
    "print(\"\\n\")\n",
    "print(sorted(tab, key = lambda x: x[0])) # sort based on first component\n",
    "print(sorted(tab, key = lambda x: x[1])) # sort based on second component\n"
   ]
  },
  {
   "cell_type": "markdown",
   "metadata": {
    "slideshow": {
     "slide_type": "slide"
    }
   },
   "source": [
    "## Generators and Generator Expressions\n",
    "\n",
    "- Python allows you to iterate over objects that are _iterable_. Tuples, Lists, Sets and Dicts are all iterable.\n",
    "- A _generator_ is a way to construct iterable objects in Python so that they can be used inside the context of a `for` loop.\n",
    "- Defining a generator is similar to defining a function. Use `yield` instead of `return` to yield the next item in the iteration. The generator will remember the state of the iterator between subsequent calls. \n",
    "- _Generator expressions_ provide syntatic sugar for creating generators. Their syntax is smilar to comprehensions. \n"
   ]
  },
  {
   "cell_type": "code",
   "execution_count": 18,
   "metadata": {
    "slideshow": {
     "slide_type": "subslide"
    }
   },
   "outputs": [],
   "source": [
    "# Suppose we want to iterate over the Fibonacci numbers\n",
    "\n",
    "def fib_itr(n=10):\n",
    "    \"A Fibonacci number generator that generates upto the n-th Fibonacci number\"\n",
    "    prev = 1\n",
    "    prevprev = 1\n",
    "    i = -1\n",
    "    while i < n:\n",
    "        i = i+1\n",
    "        if i == 0:\n",
    "            yield prevprev\n",
    "        elif i == 1:\n",
    "            yield prev\n",
    "        else:\n",
    "            next_num = prev + prevprev\n",
    "            yield next_num\n",
    "            prevprev = prev\n",
    "            prev = next_num\n"
   ]
  },
  {
   "cell_type": "code",
   "execution_count": 19,
   "metadata": {
    "slideshow": {
     "slide_type": "subslide"
    }
   },
   "outputs": [
    {
     "name": "stdout",
     "output_type": "stream",
     "text": [
      "[1, 1, 2, 3, 5, 8, 13, 21, 34, 55, 89]\n",
      "1\n",
      "89\n",
      "232\n",
      "\n",
      "\n",
      "<class 'generator'>\n",
      "[1, 1, 2, 3, 5, 8, 13, 21, 34, 55, 89]\n"
     ]
    }
   ],
   "source": [
    "# The generated values can be converted to a sequential type, e.g. \n",
    "print([*fib_itr()]) # can use unpacking operator\n",
    "\n",
    "#print( list(fib_itr()) ) # this syntax can also be used\n",
    "\n",
    "\n",
    "# Builtin functions like 'max', 'min' and 'sum' can take a generator as an argument\n",
    "print(min(fib_itr(10)))\n",
    "print(max(fib_itr(10)))\n",
    "print(sum(fib_itr(10)))\n",
    "print(\"\\n\")\n",
    "\n",
    "# Generator expressions are similar to comprehensions except that \n",
    "# they yield a generator as a result\n",
    "fib10 = (f for f in fib_itr(10))\n",
    "print(type(fib10))\n",
    "print(list(fib10))"
   ]
  },
  {
   "cell_type": "markdown",
   "metadata": {
    "slideshow": {
     "slide_type": "subslide"
    }
   },
   "source": [
    "### Exercise\n",
    "\n",
    "\n",
    "- Suppose $X$ is distributed according to the Bionomial distribution, i.e. the probability of getting $k$ successes in $n$ trials is given by: \n",
    "$$\\mathsf{Pr}(X=k) = \\frac{n!}{(n-k)! k!} p^k (1-p)^{n-k},$$\n",
    "where $p \\in [0,1]$ represents the probability of success for one trial. The cumulative distribution function (CDF) is given by:\n",
    "$$\n",
    "\\mathsf{P}(X \\le k) = \\sum_{i=0}^k \\frac{n!}{(n-i)! i!} p^i (1-p)^{n-i}.\n",
    "$$\n",
    "Write a generator to compute the CDF of the binomial distribution. The generator should take $n$ and $p$ as parameters."
   ]
  },
  {
   "cell_type": "code",
   "execution_count": null,
   "metadata": {},
   "outputs": [],
   "source": []
  }
 ],
 "metadata": {
  "celltoolbar": "Slideshow",
  "kernelspec": {
   "display_name": "Python 3",
   "language": "python",
   "name": "python3"
  },
  "language_info": {
   "codemirror_mode": {
    "name": "ipython",
    "version": 3
   },
   "file_extension": ".py",
   "mimetype": "text/x-python",
   "name": "python",
   "nbconvert_exporter": "python",
   "pygments_lexer": "ipython3",
   "version": "3.7.3"
  }
 },
 "nbformat": 4,
 "nbformat_minor": 2
}

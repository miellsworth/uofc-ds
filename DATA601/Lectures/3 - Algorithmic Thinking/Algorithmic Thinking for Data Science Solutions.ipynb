{
 "cells": [
  {
   "cell_type": "markdown",
   "metadata": {},
   "source": [
    "## Algorithmic Thinking for Data Science Solutions\n",
    "\n",
    "### Solutions to Notebook Exercises\n",
    "\n",
    "### DATA 601: Fall 2019"
   ]
  },
  {
   "cell_type": "markdown",
   "metadata": {},
   "source": [
    "### Recursive Power Function:\n",
    "  <br>\n",
    "  Use the definition below to write a recursive power function. Try to avoid unnecessary recursion.\n",
    "\n",
    "$$\n",
    "x^n = \n",
    "\\begin{cases}\n",
    "1 & n = 0, \\\\\n",
    "x & n = 1, \\\\\n",
    "x^{n/2} \\cdot x^{n/2} & n \\text{ even}, \\\\\n",
    "x \\cdot x^{(n-1)/2} \\cdot x^{(n-1)/2} & n \\text{ odd}.\n",
    "\\end{cases}\n",
    "$$\n",
    "\n"
   ]
  },
  {
   "cell_type": "code",
   "execution_count": 1,
   "metadata": {},
   "outputs": [],
   "source": [
    "def recPow(x,n):\n",
    "    if n == 0:\n",
    "        return 1\n",
    "    if n == 1:\n",
    "        return x\n",
    "    half = recPow(x, n // 2)\n",
    "    return half * half if n%2 == 0 else x * half * half    "
   ]
  },
  {
   "cell_type": "code",
   "execution_count": 2,
   "metadata": {},
   "outputs": [
    {
     "name": "stdout",
     "output_type": "stream",
     "text": [
      "[1, 2, 4, 8, 16, 32, 64, 128, 256, 512]\n",
      "[1, 3, 9, 27, 81, 243, 729, 2187, 6561, 19683]\n"
     ]
    }
   ],
   "source": [
    "print([recPow(2,n) for n in range(10)])\n",
    "print([recPow(3,n) for n in range(10)])"
   ]
  },
  {
   "cell_type": "markdown",
   "metadata": {},
   "source": [
    "### Recursive histogram:\n",
    "  <br>\n",
    "  Write a function that takes a list of integers in the range $[0,99]$ as input, and recursively computes a 10-bin (equally-spaced) histogram\n",
    "  by splitting the list into two at each stage."
   ]
  },
  {
   "cell_type": "code",
   "execution_count": 3,
   "metadata": {},
   "outputs": [],
   "source": [
    "def recHist(li, result):\n",
    "    # base case when we reach a list of size 1\n",
    "    if len(li) == 1:\n",
    "        result[li[0]//10] += 1\n",
    "        return result\n",
    "    \n",
    "    # process the left half\n",
    "    recHist(li[:len(li)//2], result)\n",
    "    \n",
    "    # process the right half\n",
    "    recHist(li[len(li)//2:], result)\n",
    "    return result"
   ]
  },
  {
   "cell_type": "code",
   "execution_count": 4,
   "metadata": {},
   "outputs": [
    {
     "name": "stdout",
     "output_type": "stream",
     "text": [
      "[970, 966, 1056, 945, 1044, 951, 1024, 1019, 1029, 996]\n"
     ]
    }
   ],
   "source": [
    "import random\n",
    "SIZE = 10000\n",
    "random.seed(a=601, version=2)\n",
    "l1 = []\n",
    "for i in range(SIZE):\n",
    "    l1.append(random.randint(0,99))\n",
    "print(recHist(l1, [0]*10))"
   ]
  },
  {
   "cell_type": "code",
   "execution_count": null,
   "metadata": {},
   "outputs": [],
   "source": []
  }
 ],
 "metadata": {
  "kernelspec": {
   "display_name": "Python 3",
   "language": "python",
   "name": "python3"
  },
  "language_info": {
   "codemirror_mode": {
    "name": "ipython",
    "version": 3
   },
   "file_extension": ".py",
   "mimetype": "text/x-python",
   "name": "python",
   "nbconvert_exporter": "python",
   "pygments_lexer": "ipython3",
   "version": "3.7.3"
  }
 },
 "nbformat": 4,
 "nbformat_minor": 2
}

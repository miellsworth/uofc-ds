{
 "cells": [
  {
   "cell_type": "markdown",
   "metadata": {},
   "source": [
    "# DATA 604 - Assignment 1 (20 marks total)\n",
    "\n",
    "Using only Python built-ins syntax and standard libraries, you will perform the following tasks. DO NOT import any additional libraries besides what has been provided."
   ]
  },
  {
   "cell_type": "markdown",
   "metadata": {},
   "source": [
    "## Part 1: Loading the data (4 marks)\n",
    "\n",
    "You should have each of the following files:\n",
    "\n",
    "*'Community_Services.json'\n",
    "* 'Communities_by_Ward.csv'\n",
    "* 'Census_by_Community_2019.csv'\n",
    "\n",
    "These datasets contain information licensed under the Open Government Licence – City of Calgary."
   ]
  },
  {
   "cell_type": "markdown",
   "metadata": {},
   "source": [
    "### Load 'Communities_by_Ward.csv' and 'Census_by_Community_2019.csv'\n",
    "\n",
    "First, let's load each of the .csvs into a list of tuples. You may use the [csv.reader()](https://docs.python.org/3/library/csv.html#csv.reader) function from python's csv module or basic Python file IO.\n",
    "\n",
    "Remember to close your files when you are done with them!"
   ]
  },
  {
   "cell_type": "code",
   "execution_count": 1,
   "metadata": {},
   "outputs": [],
   "source": [
    "import csv\n",
    "\n",
    "# Load 'Communities_by_Ward.csv' and 'Census_by_Community_2019.csv' into separate lists of tuples\n"
   ]
  },
  {
   "cell_type": "markdown",
   "metadata": {},
   "source": [
    "### Convert Data Types\n",
    "\n",
    "To successfully complete this exercise, we will need to convert some columns found in each .csv to numeric literals. Recall that [Python contains methods](https://docs.python.org/3/library/stdtypes.html#numeric-types-int-float-complex)\n",
    " such as`int()` and `float().`\n",
    "\n",
    "If you go to [the source of 'Communities_by_Ward.csv'](https://data.calgary.ca/Government/Communities-by-Ward/jd78-wxjp) you can find metadata for the dataset including a section titled \"Columns in this Dataset\" which describe the datatypes of each column. Similarly, you should find this information for ['Census_by_Community_2019.csv' at this link](https://data.calgary.ca/Demographics/Census-by-Community-2019/rkfr-buzb)\n",
    "\n",
    "To help you out, in 'Communities_by_Ward.csv' the 1st and 6th column need to be converted to integers.\n",
    "Similarly, in 'Census_by_Community_2019.csv' the 2nd, 8th and 10th to 141st column should be integers.\n",
    "\n"
   ]
  },
  {
   "cell_type": "code",
   "execution_count": null,
   "metadata": {
    "scrolled": true
   },
   "outputs": [],
   "source": []
  },
  {
   "cell_type": "markdown",
   "metadata": {},
   "source": [
    "### Load Community_Services.json\n",
    "\n",
    "You can use the `load()/ method [Python json module](https://docs.python.org/3/library/json.html) to read the 'Community_Services.json' file into a dictionary.\n",
    "\n",
    "For your reference, here is a link to the [source of 'Community_Services.json'](https://data.calgary.ca/Services-and-Amenities/Community-Services/x34e-bcjz)"
   ]
  },
  {
   "cell_type": "code",
   "execution_count": 2,
   "metadata": {},
   "outputs": [],
   "source": [
    "import json\n",
    "\n",
    "# Load 'Community_Services.json' into a dictionary.\n"
   ]
  },
  {
   "cell_type": "markdown",
   "metadata": {},
   "source": [
    "### Convert Data Types\n",
    "\n",
    "If latitude and longitude have been read in as strings, we will need to convert the latitude and longitude of each object to floats."
   ]
  },
  {
   "cell_type": "code",
   "execution_count": null,
   "metadata": {},
   "outputs": [],
   "source": []
  },
  {
   "cell_type": "markdown",
   "metadata": {},
   "source": [
    "## Part 2: Questions About Each Individual Datasets (4 marks)\n",
    "Now that you've loaded and converted all the data, let's run some queries.\n",
    "\n",
    "We will start by exploring each of the provided individual datasets in this section. If you haven't already, it would be valuable to have a look at what kind of data is in each of the datasets."
   ]
  },
  {
   "cell_type": "markdown",
   "metadata": {},
   "source": [
    "### Question 1\n",
    "Print the name and address of every 'Hospital' and 'PHS Clinic' that are North of (latitude) 51.0447° N"
   ]
  },
  {
   "cell_type": "code",
   "execution_count": null,
   "metadata": {
    "scrolled": false
   },
   "outputs": [],
   "source": []
  },
  {
   "cell_type": "markdown",
   "metadata": {},
   "source": [
    "### Question 2\n",
    "How many 'Community Centre' ammenities are there in the City?"
   ]
  },
  {
   "cell_type": "code",
   "execution_count": null,
   "metadata": {},
   "outputs": [],
   "source": []
  },
  {
   "cell_type": "markdown",
   "metadata": {},
   "source": [
    "### Question 3\n",
    "Which residential communities are 'developing' in ward 6?"
   ]
  },
  {
   "cell_type": "code",
   "execution_count": null,
   "metadata": {
    "scrolled": true
   },
   "outputs": [],
   "source": []
  },
  {
   "cell_type": "markdown",
   "metadata": {},
   "source": [
    "### Question 4\n",
    "How many hotels are there in HILLHURST? (Column name is HOTEL_CNT)"
   ]
  },
  {
   "cell_type": "code",
   "execution_count": null,
   "metadata": {},
   "outputs": [],
   "source": []
  },
  {
   "cell_type": "markdown",
   "metadata": {},
   "source": [
    "## Part 3: Questions About Multiple Datasets (4 marks)\n",
    "Now that you are more familiar with the individual datasets, let's answer some questions that will require information in two or more datasets."
   ]
  },
  {
   "cell_type": "markdown",
   "metadata": {},
   "source": [
    "### Question 5\n",
    "What is the total number of hotels in the communities that are at least partly in Ward 4? (One approach is to generate a list of COMM_CODEs in ward 4, then sum the number of hotels in each of those communities)"
   ]
  },
  {
   "cell_type": "code",
   "execution_count": null,
   "metadata": {},
   "outputs": [],
   "source": []
  },
  {
   "cell_type": "markdown",
   "metadata": {},
   "source": [
    "### Question 6\n",
    "What are the names of the community centres that are in communities which are at least partly in ward 12?"
   ]
  },
  {
   "cell_type": "code",
   "execution_count": null,
   "metadata": {},
   "outputs": [],
   "source": []
  },
  {
   "cell_type": "markdown",
   "metadata": {},
   "source": [
    "## Part 4: Long Answer Questions (8 marks, 4 ea.)\n"
   ]
  },
  {
   "cell_type": "markdown",
   "metadata": {},
   "source": [
    "### Question 7\n",
    "What meta-data are each of the .csv and .json formats capable of storing? Discuss additional metadata which could be useful, especially in a larger system with more datasets and columns."
   ]
  },
  {
   "cell_type": "markdown",
   "metadata": {},
   "source": []
  },
  {
   "cell_type": "markdown",
   "metadata": {},
   "source": [
    "### Question 8\n",
    "Using pandas, load 'Community_Services.json' and 'Communities_by_Ward.csv' and use DataFrames to answer Question 6. \n",
    "\n",
    "Compare the benefits of dataframes versus standard Python for querying or modifying data."
   ]
  },
  {
   "cell_type": "code",
   "execution_count": 3,
   "metadata": {
    "scrolled": true
   },
   "outputs": [],
   "source": [
    "import pandas as pd\n"
   ]
  },
  {
   "cell_type": "markdown",
   "metadata": {},
   "source": []
  }
 ],
 "metadata": {
  "kernelspec": {
   "display_name": "Python 3",
   "language": "python",
   "name": "python3"
  },
  "language_info": {
   "codemirror_mode": {
    "name": "ipython",
    "version": 3
   },
   "file_extension": ".py",
   "mimetype": "text/x-python",
   "name": "python",
   "nbconvert_exporter": "python",
   "pygments_lexer": "ipython3",
   "version": "3.7.3"
  }
 },
 "nbformat": 4,
 "nbformat_minor": 2
}

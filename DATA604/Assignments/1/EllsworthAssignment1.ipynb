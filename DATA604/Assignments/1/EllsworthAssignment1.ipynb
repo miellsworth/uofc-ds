{
 "cells": [
  {
   "cell_type": "markdown",
   "metadata": {},
   "source": [
    "# DATA 604 - Assignment 1 (20 marks total)\n",
    "\n",
    "Using only Python built-ins syntax and standard libraries, you will perform the following tasks. DO NOT import any additional libraries besides what has been provided."
   ]
  },
  {
   "cell_type": "markdown",
   "metadata": {},
   "source": [
    "## Part 1: Loading the data (4 marks)\n",
    "\n",
    "You should have each of the following files:\n",
    "\n",
    "* 'Community_Services.json'\n",
    "* 'Communities_by_Ward.csv'\n",
    "* 'Census_by_Community_2019.csv'\n",
    "\n",
    "These datasets contain information licensed under the Open Government Licence – City of Calgary."
   ]
  },
  {
   "cell_type": "markdown",
   "metadata": {},
   "source": [
    "### Load 'Communities_by_Ward.csv' and 'Census_by_Community_2019.csv'\n",
    "\n",
    "First, let's load each of the .csvs into a list of tuples. You may use the [csv.reader()](https://docs.python.org/3/library/csv.html#csv.reader) function from python's csv module or basic Python file IO.\n",
    "\n",
    "Remember to close your files when you are done with them!"
   ]
  },
  {
   "cell_type": "code",
   "execution_count": 1,
   "metadata": {},
   "outputs": [],
   "source": [
    "import csv\n",
    "\n",
    "# Load 'Communities_by_Ward.csv' and 'Census_by_Community_2019.csv' into separate lists of tuples\n",
    "comm_by_ward_list = []\n",
    "with open('Communities_by_Ward.csv', newline = '') as csvfile:\n",
    "    comm_by_ward = csv.reader(csvfile, delimiter=',')\n",
    "    for row in comm_by_ward:\n",
    "        comm_by_ward_list.append(tuple(row))\n",
    "#print(comm_by_ward_list)\n",
    "        \n",
    "census_by_comm_list = []\n",
    "with open('Census_by_Community_2019.csv', newline = '') as csvfile2:\n",
    "    census_by_comm = csv.reader(csvfile2, delimiter=',')\n",
    "    for row in census_by_comm:\n",
    "        census_by_comm_list.append(tuple(row))\n",
    "#print(census_by_comm_list[0])"
   ]
  },
  {
   "cell_type": "markdown",
   "metadata": {},
   "source": [
    "### Convert Data Types\n",
    "\n",
    "To successfully complete this exercise, we will need to convert some columns found in each .csv to numeric literals. Recall that [Python contains methods](https://docs.python.org/3/library/stdtypes.html#numeric-types-int-float-complex)\n",
    " such as`int()` and `float().`\n",
    "\n",
    "If you go to [the source of 'Communities_by_Ward.csv'](https://data.calgary.ca/Government/Communities-by-Ward/jd78-wxjp) you can find metadata for the dataset including a section titled \"Columns in this Dataset\" which describe the datatypes of each column. Similarly, you should find this information for ['Census_by_Community_2019.csv' at this link](https://data.calgary.ca/Demographics/Census-by-Community-2019/rkfr-buzb)\n",
    "\n",
    "To help you out, in 'Communities_by_Ward.csv' the 1st and 6th column need to be converted to integers.\n",
    "Similarly, in 'Census_by_Community_2019.csv' the 2nd, 8th and 10th to 141st column should be integers.\n",
    "\n"
   ]
  },
  {
   "cell_type": "code",
   "execution_count": 2,
   "metadata": {
    "scrolled": true
   },
   "outputs": [
    {
     "name": "stdout",
     "output_type": "stream",
     "text": [
      "[('WARD_NUM', 'NAME', 'COMM_CODE', 'SECTOR', 'CLASS', 'CLASS_CODE', 'SRG', 'COMM_STRUCTURE'), [1, 'HASKAYNE', 'HSN', 'NORTHWEST', 'Residential', 1, 'DEVELOPING', 'BUILDING OUT'], [1, 'ROYAL OAK', 'ROY', 'NORTHWEST', 'Residential', 1, 'BUILT-OUT', '2000s'], [1, '01C', '01C', 'WEST', 'Residual Sub Area', 4, 'N/A', 'OTHER'], [1, 'ROYAL VISTA', 'RYV', 'NORTHWEST', 'Industrial', 2, 'N/A', 'EMPLOYMENT'], [1, '01K', '01K', 'NORTHWEST', 'Residual Sub Area', 4, 'N/A', 'UNDEVELOPED'], [1, '01B', '01B', 'NORTHWEST', 'Residual Sub Area', 4, 'N/A', 'UNDEVELOPED'], [1, '01H', '01H', 'WEST', 'Residual Sub Area', 4, 'N/A', 'UNDEVELOPED'], [1, 'SCENIC ACRES', 'SCE', 'NORTHWEST', 'Residential', 1, 'BUILT-OUT', ''], [1, 'SILVER SPRINGS', 'SIL', 'NORTHWEST', 'Residential', 1, 'BUILT-OUT', '1960s/1970s'], [1, 'BOWNESS', 'BOW', 'NORTHWEST', 'Residential', 1, 'BUILT-OUT', '1950s'], [1, '01F', '01F', 'NORTHWEST', 'Residual Sub Area', 4, 'BUILT-OUT', '2000s'], [1, 'TUSCANY', 'TUS', 'NORTHWEST', 'Residential', 1, 'BUILT-OUT', '2000s'], [1, 'CRESTMONT', 'CRM', 'WEST', 'Residential', 1, 'BUILT-OUT', '2000s'], [1, 'VALLEY RIDGE', 'VAL', 'WEST', 'Residential', 1, 'BUILT-OUT', '2000s'], [1, 'VARSITY', 'VAR', 'NORTHWEST', 'Residential', 1, 'BUILT-OUT', '1960s/1970s'], [1, '01I', '01I', 'WEST', 'Residual Sub Area', 4, 'N/A', 'UNDEVELOPED'], [1, 'GREENWOOD/GREENBRIAR', 'GRE', 'NORTHWEST', 'Residential', 1, 'BUILT-OUT', '1960s/1970s'], [1, 'ROCKY RIDGE', 'ROC', 'NORTHWEST', 'Residential', 1, 'DEVELOPING', 'BUILDING OUT'], [2, 'EVANSTON', 'EVN', 'NORTH', 'Residential', 1, 'DEVELOPING', 'BUILDING OUT'], [2, '02F', '02F', 'NORTHWEST', 'Residual Sub Area', 4, 'N/A', 'OTHER'], [2, '02C', '02C', 'NORTH', 'Residual Sub Area', 4, 'N/A', 'UNDEVELOPED'], [2, 'ARBOUR LAKE', 'ARB', 'NORTHWEST', 'Residential', 1, 'BUILT-OUT', ''], [2, 'RANCHLANDS', 'RAN', 'NORTHWEST', 'Residential', 1, 'BUILT-OUT', '1960s/1970s'], [2, 'NOLAN HILL', 'NOL', 'NORTH', 'Residential', 1, 'DEVELOPING', 'BUILDING OUT'], [2, 'HAMPTONS', 'HAM', 'NORTHWEST', 'Residential', 1, 'BUILT-OUT', '2000s'], [2, '02B', '02B', 'NORTH', 'Residual Sub Area', 4, 'N/A', 'UNDEVELOPED'], [2, '02E', '02E', 'NORTHWEST', 'Residual Sub Area', 4, 'N/A', 'OTHER'], [2, 'SAGE HILL', 'SGH', 'NORTH', 'Residential', 1, 'DEVELOPING', 'BUILDING OUT'], [2, 'SHERWOOD', 'SHW', 'NORTH', 'Residential', 1, 'DEVELOPING', '2000s'], [2, 'CITADEL', 'CIT', 'NORTHWEST', 'Residential', 1, 'BUILT-OUT', '1980s/1990s'], [2, 'HAWKWOOD', 'HAW', 'NORTHWEST', 'Residential', 1, 'BUILT-OUT', '1980s/1990s'], [2, '02L', '02L', 'NORTH', 'Residual Sub Area', 4, 'N/A', 'OTHER'], [2, '02K', '02K', 'NORTH', 'Residual Sub Area', 4, 'N/A', 'UNDEVELOPED'], [2, 'KINCORA', 'KCA', 'NORTH', 'Residential', 1, 'DEVELOPING', '2000s'], [3, 'HIDDEN VALLEY', 'HID', 'NORTH', 'Residential', 1, 'BUILT-OUT', '1980s/1990s'], [3, 'COUNTRY HILLS', 'COU', 'NORTH', 'Residential', 1, 'BUILT-OUT', '1980s/1990s'], [3, 'HARVEST HILLS', 'HAR', 'NORTH', 'Residential', 1, 'BUILT-OUT', '1980s/1990s'], [3, '03D', '03D', 'NORTH', 'Residual Sub Area', 4, 'N/A', 'UNDEVELOPED'], [3, 'LIVINGSTON', 'LIV', 'NORTH', 'Residential', 1, 'DEVELOPING', 'BUILDING OUT'], [3, 'AURORA BUSINESS PARK', 'ABP', 'NORTH', 'Industrial', 2, 'N/A', 'EMPLOYMENT'], [3, 'PANORAMA HILLS', 'PAN', 'NORTH', 'Residential', 1, 'DEVELOPING', 'BUILDING OUT'], [3, 'COUNTRY HILLS VILLAGE', 'CHV', 'NORTH', 'Residential', 1, 'BUILT-OUT', '2000s'], [3, '03W', '03W', 'NORTH', 'Residual Sub Area', 4, 'N/A', 'OTHER'], [3, 'KEYSTONE HILLS', 'KSH', 'NORTH', 'Residential', 1, 'DEVELOPING', 'BUILDING OUT'], [3, 'COVENTRY HILLS', 'COV', 'NORTH', 'Residential', 1, 'BUILT-OUT', '2000s'], [3, 'STONEY 1', 'ST1', 'NORTH', 'Industrial', 2, 'N/A', 'EMPLOYMENT'], [3, 'CARRINGTON', 'CAR', 'NORTH', 'Residential', 1, 'DEVELOPING', 'BUILDING OUT'], [4, 'DALHOUSIE', 'DAL', 'NORTHWEST', 'Residential', 1, 'BUILT-OUT', '1960s/1970s'], [4, 'CAMBRIAN HEIGHTS', 'CAM', 'CENTRE', 'Residential', 1, 'BUILT-OUT', '1950s'], [4, 'HIGHWOOD', 'HIW', 'CENTRE', 'Residential', 1, 'BUILT-OUT', '1950s'], [4, 'CHARLESWOOD', 'CHW', 'NORTHWEST', 'Residential', 1, 'BUILT-OUT', '1950s'], [4, 'ROSEMONT', 'RMT', 'CENTRE', 'Residential', 1, 'BUILT-OUT', '1950s'], [4, 'QUEENS PARK VILLAGE', 'QPK', 'CENTRE', 'Residential', 1, 'BUILT-OUT', '1950s'], [4, 'BRENTWOOD', 'BRE', 'NORTHWEST', 'Residential', 1, 'BUILT-OUT', '1960s/1970s'], [4, 'COLLINGWOOD', 'COL', 'NORTHWEST', 'Residential', 1, 'BUILT-OUT', '1950s'], [4, 'BEDDINGTON HEIGHTS', 'BED', 'NORTH', 'Residential', 1, 'BUILT-OUT', '1960s/1970s'], [4, 'SANDSTONE VALLEY', 'SAN', 'NORTH', 'Residential', 1, 'BUILT-OUT', '1980s/1990s'], [4, 'SKYLINE WEST', 'SKW', 'NORTH', 'Industrial', 2, 'N/A', 'EMPLOYMENT'], [4, 'NORTH HAVEN UPPER', 'NHU', 'NORTH', 'Residential', 1, 'BUILT-OUT', '1960s/1970s'], [4, 'HIGHLAND PARK', 'HPK', 'CENTRE', 'Residential', 1, 'BUILT-OUT', '1950s'], [4, 'MACEWAN GLEN', 'MAC', 'NORTH', 'Residential', 1, 'BUILT-OUT', '1980s/1990s'], [4, 'EDGEMONT', 'EDG', 'NORTHWEST', 'Residential', 1, 'BUILT-OUT', '1980s/1990s'], [4, 'NOSE HILL PARK', 'NPK', 'NORTHWEST', 'Major Park', 3, 'N/A', 'PARKS'], [4, 'THORNCLIFFE', 'THO', 'NORTH', 'Residential', 1, 'BUILT-OUT', '1950s'], [4, 'NORTH HAVEN', 'NHV', 'NORTH', 'Residential', 1, 'BUILT-OUT', '1960s/1970s'], [4, 'GREENVIEW INDUSTRIAL PARK', 'GRI', 'CENTRE', 'Industrial', 2, 'N/A', 'EMPLOYMENT'], [4, 'HUNTINGTON HILLS', 'HUN', 'NORTH', 'Residential', 1, 'BUILT-OUT', '1960s/1970s'], [4, 'GREENVIEW', 'GRV', 'CENTRE', 'Residential', 1, 'BUILT-OUT', '1960s/1970s'], [5, 'HOMESTEAD', 'HSD', 'NORTHEAST', 'Residential', 1, 'DEVELOPING', 'BUILDING OUT'], [5, 'CORNERSTONE', 'CNS', 'NORTHEAST', 'Residential', 1, 'DEVELOPING', '2000s'], [5, 'STONEY 4', 'ST4', 'NORTHEAST', 'Industrial', 2, 'N/A', 'EMPLOYMENT'], [5, '05E', '05E', 'NORTHEAST', 'Residual Sub Area', 4, 'N/A', 'UNDEVELOPED'], [5, 'STONEY 3', 'ST3', 'NORTHEAST', 'Industrial', 2, 'N/A', 'EMPLOYMENT'], [5, '05D', '05D', 'NORTHEAST', 'Residual Sub Area', 4, 'N/A', 'OTHER'], [5, 'CITYSCAPE', 'CSC', 'NORTHEAST', 'Residential', 1, 'DEVELOPING', 'BUILDING OUT'], [5, '05G', '05G', 'NORTHEAST', 'Residual Sub Area', 4, 'N/A', 'OTHER'], [5, 'DEERFOOT BUSINESS CENTRE', 'DBC', 'NORTHEAST', 'Industrial', 2, 'N/A', 'EMPLOYMENT'], [5, 'PEGASUS', 'PEG', 'NORTHEAST', 'Industrial', 2, 'N/A', 'EMPLOYMENT'], [5, 'SADDLE RIDGE INDUSTRIAL', 'SRI', 'NORTHEAST', 'Industrial', 2, 'N/A', 'EMPLOYMENT'], [5, 'TARADALE', 'TAR', 'NORTHEAST', 'Residential', 1, 'DEVELOPING', '2000s'], [5, 'SKYLINE EAST', 'SKE', 'NORTHEAST', 'Industrial', 2, 'N/A', 'EMPLOYMENT'], [5, 'CALGARY INTERNATIONAL AIRPORT', 'CIA', 'NORTHEAST', 'Industrial', 2, 'N/A', 'OTHER'], [5, 'STONEY 2', 'ST2', 'NORTHEAST', 'Industrial', 2, 'N/A', 'EMPLOYMENT'], [5, 'REDSTONE', 'RSN', 'NORTHEAST', 'Residential', 1, 'DEVELOPING', 'BUILDING OUT'], [5, '05F', '05F', 'NORTHEAST', 'Residual Sub Area', 4, 'N/A', 'UNDEVELOPED'], [5, 'SKYVIEW RANCH', 'SKR', 'NORTHEAST', 'Residential', 1, 'DEVELOPING', '2000s'], [5, 'STONEGATE LANDING', 'SGL', 'NORTHEAST', 'Industrial', 2, 'N/A', 'EMPLOYMENT'], [5, 'SADDLE RIDGE', 'SAD', 'NORTHEAST', 'Residential', 1, 'DEVELOPING', '2000s'], [5, 'MARTINDALE', 'MRT', 'NORTHEAST', 'Residential', 1, 'BUILT-OUT', '1980s/1990s'], [5, 'WESTWINDS', 'WES', 'NORTHEAST', 'Industrial', 2, 'N/A', 'EMPLOYMENT'], [5, 'FALCONRIDGE', 'FAL', 'NORTHEAST', 'Residential', 1, 'BUILT-OUT', '1980s/1990s'], [5, 'CASTLERIDGE', 'CAS', 'NORTHEAST', 'Residential', 1, 'BUILT-OUT', '1980s/1990s'], [6, 'WESTGATE', 'WGT', 'WEST', 'Residential', 1, 'BUILT-OUT', '1950s'], [6, '06C', '06C', 'WEST', 'Residual Sub Area', 4, 'N/A', 'UNDEVELOPED'], [6, 'CANADA OLYMPIC PARK', 'COP', 'WEST', 'Major Park', 3, 'N/A', 'OTHER'], [6, '06B', '06B', 'WEST', 'Residual Sub Area', 4, 'N/A', 'OTHER'], [6, 'WEST SPRINGS', 'WSP', 'WEST', 'Residential', 1, 'DEVELOPING', 'BUILDING OUT'], [6, 'SPRINGBANK HILL', 'SPH', 'WEST', 'Residential', 1, 'DEVELOPING', 'BUILDING OUT'], [6, 'COACH HILL', 'COA', 'WEST', 'Residential', 1, 'BUILT-OUT', '1980s/1990s'], [6, 'MEDICINE HILL', 'MDH', 'WEST', 'Residential', 1, 'BUILT-OUT', '2000s'], [6, 'PATTERSON', 'PAT', 'WEST', 'Residential', 1, 'BUILT-OUT', '1980s/1990s'], [6, 'GLENDALE', 'GDL', 'WEST', 'Residential', 1, 'BUILT-OUT', '1950s'], [6, 'DISCOVERY RIDGE', 'DIS', 'WEST', 'Residential', 1, 'BUILT-OUT', '2000s'], [6, 'GLAMORGAN', 'GLA', 'WEST', 'Residential', 1, 'BUILT-OUT', '1950s'], [6, 'CHRISTIE PARK', 'CHR', 'WEST', 'Residential', 1, 'BUILT-OUT', '1980s/1990s'], [6, 'ASPEN WOODS', 'ASP', 'WEST', 'Residential', 1, 'DEVELOPING', 'BUILDING OUT'], [6, 'COUGAR RIDGE', 'CGR', 'WEST', 'Residential', 1, 'DEVELOPING', '2000s'], [6, 'SIGNAL HILL', 'SIG', 'WEST', 'Residential', 1, 'BUILT-OUT', '1980s/1990s'], [6, '06A', '06A', 'WEST', 'Residual Sub Area', 4, 'N/A', 'UNDEVELOPED'], [6, 'GLENBROOK', 'GBK', 'WEST', 'Residential', 1, 'BUILT-OUT', '1950s'], [6, 'STRATHCONA PARK', 'STR', 'WEST', 'Residential', 1, 'BUILT-OUT', '1980s/1990s'], [7, 'MONTGOMERY', 'MON', 'NORTHWEST', 'Residential', 1, 'BUILT-OUT', '1950s'], [7, 'UNIVERSITY OF CALGARY', 'UOC', 'NORTHWEST', 'Residential', 1, 'BUILT-OUT', 'OTHER'], [7, 'TUXEDO PARK', 'TUX', 'CENTRE', 'Residential', 1, 'BUILT-OUT', 'INNER CITY'], [7, 'UNIVERSITY DISTRICT', 'UND', 'NORTHWEST', 'Residential', 1, 'BUILT-OUT', 'OTHER'], [7, 'WINSTON HEIGHTS/MOUNTVIEW', 'WIN', 'CENTRE', 'Residential', 1, 'BUILT-OUT', '1950s'], [7, 'UNIVERSITY HEIGHTS', 'UNI', 'NORTHWEST', 'Residential', 1, 'BUILT-OUT', '1960s/1970s'], [7, 'DOWNTOWN COMMERCIAL CORE', 'DNC', 'CENTRE', 'Residential', 1, 'BUILT-OUT', 'CENTRE CITY'], [7, 'BANFF TRAIL', 'BNF', 'CENTRE', 'Residential', 1, 'BUILT-OUT', '1950s'], [7, 'WEST HILLHURST', 'WHL', 'CENTRE', 'Residential', 1, 'BUILT-OUT', 'INNER CITY'], [7, 'CHINATOWN', 'CHN', 'CENTRE', 'Residential', 1, 'BUILT-OUT', 'CENTRE CITY'], [7, 'HOUNSFIELD HEIGHTS/BRIAR HILL', 'HOU', 'CENTRE', 'Residential', 1, 'BUILT-OUT', '1950s'], [7, 'CAPITOL HILL', 'CAP', 'CENTRE', 'Residential', 1, 'BUILT-OUT', '1950s'], [7, 'POINT MCKAY', 'POI', 'CENTRE', 'Residential', 1, 'BUILT-OUT', '1960s/1970s'], [7, 'HILLHURST', 'HIL', 'CENTRE', 'Residential', 1, 'BUILT-OUT', 'INNER CITY'], [7, 'ROSEDALE', 'RDL', 'CENTRE', 'Residential', 1, 'BUILT-OUT', 'INNER CITY'], [7, 'SUNNYSIDE', 'SSD', 'CENTRE', 'Residential', 1, 'BUILT-OUT', 'INNER CITY'], [7, 'EAU CLAIRE', 'EAU', 'CENTRE', 'Residential', 1, 'BUILT-OUT', 'CENTRE CITY'], [7, 'CRESCENT HEIGHTS', 'CRE', 'CENTRE', 'Residential', 1, 'BUILT-OUT', 'INNER CITY'], [7, 'ST. ANDREWS HEIGHTS', 'STA', 'CENTRE', 'Residential', 1, 'BUILT-OUT', '1950s'], [7, 'MOUNT PLEASANT', 'MOP', 'CENTRE', 'Residential', 1, 'BUILT-OUT', 'INNER CITY'], [7, 'DOWNTOWN EAST VILLAGE', 'DNE', 'CENTRE', 'Residential', 1, 'BUILT-OUT', 'CENTRE CITY'], [7, 'PARKDALE', 'PKD', 'CENTRE', 'Residential', 1, 'BUILT-OUT', '1950s'], [8, 'RUTLAND PARK', 'RUT', 'WEST', 'Residential', 1, 'BUILT-OUT', '1950s'], [8, 'GARRISON GREEN', 'GAG', 'WEST', 'Residential', 1, 'BUILT-OUT', 'BUILDING OUT'], [8, 'GARRISON WOODS', 'GAW', 'CENTRE', 'Residential', 1, 'BUILT-OUT', 'INNER CITY'], [8, 'LINCOLN PARK', 'LPK', 'WEST', 'Residential', 1, 'BUILT-OUT', '1950s'], [8, 'ALTADORE', 'ALT', 'CENTRE', 'Residential', 1, 'BUILT-OUT', 'INNER CITY'], [8, 'CURRIE BARRACKS', 'CUR', 'WEST', 'Residential', 1, 'BUILT-OUT', 'BUILDING OUT'], [8, 'SOUTH CALGARY', 'SOC', 'CENTRE', 'Residential', 1, 'BUILT-OUT', 'INNER CITY'], [8, 'LOWER MOUNT ROYAL', 'LMR', 'CENTRE', 'Residential', 1, 'BUILT-OUT', 'INNER CITY'], [8, 'CLIFF BUNGALOW', 'CLI', 'CENTRE', 'Residential', 1, 'BUILT-OUT', 'INNER CITY'], [8, 'SCARBORO/ SUNALTA WEST', 'SSW', 'CENTRE', 'Residential', 1, 'BUILT-OUT', '1950s'], [8, 'SUNALTA', 'SNA', 'CENTRE', 'Residential', 1, 'BUILT-OUT', 'INNER CITY'], [8, 'RICHMOND', 'RIC', 'CENTRE', 'Residential', 1, 'BUILT-OUT', '1950s'], [8, 'BANKVIEW', 'BNK', 'CENTRE', 'Residential', 1, 'BUILT-OUT', 'INNER CITY'], [8, 'UPPER MOUNT ROYAL', 'UMR', 'CENTRE', 'Residential', 1, 'BUILT-OUT', 'INNER CITY'], [8, 'DOWNTOWN WEST END', 'DNW', 'CENTRE', 'Residential', 1, 'BUILT-OUT', 'CENTRE CITY'], [8, 'SCARBORO', 'SCA', 'CENTRE', 'Residential', 1, 'BUILT-OUT', 'INNER CITY'], [8, 'ROSSCARROCK', 'RCK', 'WEST', 'Residential', 1, 'BUILT-OUT', '1950s'], [8, 'SPRUCE CLIFF', 'SPR', 'WEST', 'Residential', 1, 'BUILT-OUT', '1950s'], [8, 'KILLARNEY/GLENGARRY', 'KIL', 'CENTRE', 'Residential', 1, 'BUILT-OUT', '1950s'], [8, 'SHAGANAPPI', 'SHG', 'CENTRE', 'Residential', 1, 'BUILT-OUT', '1950s'], [8, 'WILDWOOD', 'WLD', 'WEST', 'Residential', 1, 'BUILT-OUT', '1950s'], [9, 'BELVEDERE', 'BVD', 'EAST', 'Residential', 1, 'BUILT-OUT', 'BUILDING OUT'], [9, 'SOUTHVIEW', 'SOV', 'EAST', 'Residential', 1, 'BUILT-OUT', '1950s'], [9, 'APPLEWOOD PARK', 'APP', 'EAST', 'Residential', 1, 'BUILT-OUT', '2000s'], [9, 'ERIN WOODS', 'ERI', 'EAST', 'Residential', 1, 'BUILT-OUT', '1980s/1990s'], [9, 'FOREST HEIGHTS', 'FHT', 'EAST', 'Residential', 1, 'BUILT-OUT', '1960s/1970s'], [9, 'PENBROOKE MEADOWS', 'PEN', 'EAST', 'Residential', 1, 'BUILT-OUT', '1960s/1970s'], [9, '09Q', '09Q', 'EAST', 'Residual Sub Area', 4, 'N/A', 'OTHER'], [9, '09P', '09P', 'EAST', 'Residual Sub Area', 4, 'N/A', 'UNDEVELOPED'], [9, 'RED CARPET', 'RED', 'EAST', 'Residential', 1, 'BUILT-OUT', '1960s/1970s'], [9, 'ALBERT PARK/RADISSON HEIGHTS', 'ALB', 'EAST', 'Residential', 1, 'BUILT-OUT', '1950s'], [9, 'EASTFIELD', 'EFI', 'EAST', 'Industrial', 2, 'N/A', 'EMPLOYMENT'], [9, 'FOREST LAWN INDUSTRIAL', 'FLI', 'EAST', 'Industrial', 2, 'N/A', 'EMPLOYMENT'], [9, '09O', '09O', 'EAST', 'Residual Sub Area', 4, 'N/A', 'OTHER'], [9, 'FOREST LAWN', 'FLN', 'EAST', 'Residential', 1, 'BUILT-OUT', '1950s'], [9, 'ALYTH/BONNYBROOK', 'AYB', 'CENTRE', 'Industrial', 2, 'N/A', 'EMPLOYMENT'], [9, 'STARFIELD', 'STD', 'EAST', 'Industrial', 2, 'N/A', 'EMPLOYMENT'], [9, 'VALLEYFIELD', 'VAF', 'EAST', 'Industrial', 2, 'N/A', 'EMPLOYMENT'], [9, 'OGDEN', 'OGD', 'SOUTHEAST', 'Residential', 1, 'BUILT-OUT', '1950s'], [9, 'MANCHESTER', 'MAN', 'CENTRE', 'Residential', 1, 'BUILT-OUT', 'EMPLOYMENT'], [9, 'INGLEWOOD', 'ING', 'CENTRE', 'Residential', 1, 'BUILT-OUT', 'INNER CITY'], [9, '09K', '09K', 'EAST', 'Residual Sub Area', 4, 'N/A', 'UNDEVELOPED'], [9, 'GREAT PLAINS', 'GPI', 'EAST', 'Industrial', 2, 'N/A', 'EMPLOYMENT'], [9, 'MANCHESTER INDUSTRIAL', 'MNI', 'CENTRE', 'Industrial', 2, 'N/A', 'EMPLOYMENT'], [9, '09D', '09D', 'CENTRE', 'Residual Sub Area', 4, 'N/A', 'OTHER'], [9, 'FAIRVIEW INDUSTRIAL', 'FVI', 'SOUTH', 'Industrial', 2, 'N/A', 'EMPLOYMENT'], [9, 'FOOTHILLS', 'FHI', 'EAST', 'Industrial', 2, 'N/A', 'EMPLOYMENT'], [9, 'GLENDEER BUSINESS PARK', 'GBP', 'SOUTH', 'Industrial', 2, 'N/A', 'EMPLOYMENT'], [9, 'OGDEN SHOPS', 'OSH', 'EAST', 'Industrial', 2, 'N/A', 'EMPLOYMENT'], [9, 'RAMSAY', 'RAM', 'CENTRE', 'Residential', 1, 'BUILT-OUT', 'INNER CITY'], [9, 'DOVER', 'DOV', 'EAST', 'Residential', 1, 'BUILT-OUT', '1960s/1970s'], [9, 'GOLDEN TRIANGLE', 'GTI', 'EAST', 'Industrial', 2, 'N/A', 'EMPLOYMENT'], [9, 'BRIDGELAND/RIVERSIDE', 'BRD', 'CENTRE', 'Residential', 1, 'BUILT-OUT', 'INNER CITY'], [9, 'BURNS INDUSTRIAL', 'BUR', 'CENTRE', 'Industrial', 2, 'N/A', 'EMPLOYMENT'], [9, 'RENFREW', 'REN', 'CENTRE', 'Residential', 1, 'BUILT-OUT', 'INNER CITY'], [9, 'HIGHFIELD', 'HIF', 'CENTRE', 'Industrial', 2, 'N/A', 'EMPLOYMENT'], [9, 'FAIRVIEW', 'FAI', 'SOUTH', 'Residential', 1, 'BUILT-OUT', '1950s'], [9, '09H', '09H', 'EAST', 'Residual Sub Area', 4, 'N/A', 'OTHER'], [10, 'SOUTH AIRWAYS', 'SAW', 'NORTHEAST', 'Industrial', 2, 'N/A', 'EMPLOYMENT'], [10, 'NORTH AIRWAYS', 'NAW', 'NORTHEAST', 'Industrial', 2, 'N/A', 'EMPLOYMENT'], [10, 'HORIZON', 'HOR', 'NORTHEAST', 'Industrial', 2, 'N/A', 'EMPLOYMENT'], [10, '10D', '10D', 'NORTHEAST', 'Residual Sub Area', 4, 'N/A', 'OTHER'], [10, 'WHITEHORN', 'WHI', 'NORTHEAST', 'Residential', 1, 'BUILT-OUT', '1960s/1970s'], [10, 'SUNRIDGE', 'SUN', 'NORTHEAST', 'Industrial', 2, 'N/A', 'EMPLOYMENT'], [10, 'MONTEREY PARK', 'MOR', 'NORTHEAST', 'Residential', 1, 'BUILT-OUT', '2000s'], [10, 'TEMPLE', 'TEM', 'NORTHEAST', 'Residential', 1, 'BUILT-OUT', '1960s/1970s'], [10, 'MCCALL', 'MCI', 'NORTHEAST', 'Industrial', 2, 'N/A', 'EMPLOYMENT'], [10, 'PINERIDGE', 'PIN', 'NORTHEAST', 'Residential', 1, 'BUILT-OUT', '1960s/1970s'], [10, 'CORAL SPRINGS', 'COR', 'NORTHEAST', 'Residential', 1, 'BUILT-OUT', '2000s'], [10, '10E', '10E', 'NORTHEAST', 'Residual Sub Area', 4, 'N/A', 'OTHER'], [10, 'RUNDLE', 'RUN', 'NORTHEAST', 'Residential', 1, 'BUILT-OUT', '1960s/1970s'], [10, 'VISTA HEIGHTS', 'VIS', 'NORTHEAST', 'Residential', 1, 'BUILT-OUT', '1960s/1970s'], [10, 'FRANKLIN', 'FRA', 'NORTHEAST', 'Industrial', 2, 'N/A', 'EMPLOYMENT'], [10, 'MAYLAND HEIGHTS', 'MAL', 'NORTHEAST', 'Residential', 1, 'BUILT-OUT', '1960s/1970s'], [10, 'MARLBOROUGH PARK', 'MPK', 'NORTHEAST', 'Residential', 1, 'BUILT-OUT', '1960s/1970s'], [10, 'MERIDIAN', 'MER', 'NORTHEAST', 'Industrial', 2, 'N/A', 'EMPLOYMENT'], [10, 'ABBEYDALE', 'ABB', 'NORTHEAST', 'Residential', 1, 'BUILT-OUT', '2000s'], [10, 'MARLBOROUGH', 'MRL', 'NORTHEAST', 'Residential', 1, 'BUILT-OUT', '1960s/1970s'], [10, 'MAYLAND', 'MLI', 'NORTHEAST', 'Industrial', 2, 'N/A', 'EMPLOYMENT'], [11, 'MISSION', 'MIS', 'CENTRE', 'Residential', 1, 'BUILT-OUT', 'INNER CITY'], [11, 'ERLTON', 'ERL', 'CENTRE', 'Residential', 1, 'BUILT-OUT', 'INNER CITY'], [11, 'EAST FAIRVIEW INDUSTRIAL', 'EFV', 'SOUTH', 'Industrial', 2, 'N/A', 'EMPLOYMENT'], [11, 'RIDEAU PARK', 'RID', 'CENTRE', 'Residential', 1, 'BUILT-OUT', 'INNER CITY'], [11, 'WILLOW PARK', 'WIL', 'SOUTH', 'Residential', 1, 'BUILT-OUT', '1960s/1970s'], [11, 'ROXBORO', 'ROX', 'CENTRE', 'Residential', 1, 'BUILT-OUT', 'INNER CITY'], [11, 'ACADIA', 'ACA', 'SOUTH', 'Residential', 1, 'BUILT-OUT', '1960s/1970s'], [11, 'MAPLE RIDGE', 'MPL', 'SOUTH', 'Residential', 1, 'BUILT-OUT', '1960s/1970s'], [11, 'PARKHILL', 'PKH', 'CENTRE', 'Residential', 1, 'BUILT-OUT', '1950s'], [11, 'BELTLINE', 'BLN', 'CENTRE', 'Residential', 1, 'BUILT-OUT', 'CENTRE CITY'], [11, 'GLENMORE PARK', 'GPK', 'SOUTH', 'Major Park', 3, 'N/A', 'PARKS'], [11, 'MAYFAIR', 'MAF', 'CENTRE', 'Residential', 1, 'BUILT-OUT', '1950s'], [11, 'LAKEVIEW', 'LKV', 'WEST', 'Residential', 1, 'BUILT-OUT', '1960s/1970s'], [11, 'OAKRIDGE', 'OAK', 'SOUTH', 'Residential', 1, 'BUILT-OUT', '1960s/1970s'], [11, 'CHINOOK PARK', 'CHK', 'SOUTH', 'Residential', 1, 'BUILT-OUT', '1950s'], [11, 'EAGLE RIDGE', 'EAG', 'SOUTH', 'Residential', 1, 'BUILT-OUT', '1960s/1970s'], [11, 'BAYVIEW', 'BYV', 'SOUTH', 'Residential', 1, 'BUILT-OUT', '1960s/1970s'], [11, 'BEL-AIRE', 'BEL', 'CENTRE', 'Residential', 1, 'BUILT-OUT', '1960s/1970s'], [11, 'PUMP HILL', 'PUM', 'SOUTH', 'Residential', 1, 'BUILT-OUT', '1960s/1970s'], [11, 'HAYSBORO', 'HAY', 'SOUTH', 'Residential', 1, 'BUILT-OUT', '1950s'], [11, 'WINDSOR PARK', 'WND', 'CENTRE', 'Residential', 1, 'BUILT-OUT', '1950s'], [11, 'MEADOWLARK PARK', 'MEA', 'CENTRE', 'Residential', 1, 'BUILT-OUT', '1950s'], [11, 'KINGSLAND', 'KIN', 'SOUTH', 'Residential', 1, 'BUILT-OUT', '1950s'], [11, 'BRAESIDE', 'BRA', 'SOUTH', 'Residential', 1, 'BUILT-OUT', '1960s/1970s'], [11, 'KELVIN GROVE', 'KEL', 'SOUTH', 'Residential', 1, 'BUILT-OUT', '1960s/1970s'], [11, 'ELBOW PARK', 'EPK', 'CENTRE', 'Residential', 1, 'BUILT-OUT', 'INNER CITY'], [11, 'PALLISER', 'PAL', 'SOUTH', 'Residential', 1, 'BUILT-OUT', '1960s/1970s'], [11, 'SOUTHWOOD', 'SOW', 'SOUTH', 'Residential', 1, 'BUILT-OUT', '1960s/1970s'], [11, 'BRITANNIA', 'BRT', 'CENTRE', 'Residential', 1, 'BUILT-OUT', '1950s'], [11, 'CEDARBRAE', 'CED', 'SOUTH', 'Residential', 1, 'BUILT-OUT', '1960s/1970s'], [11, 'ELBOYA', 'EYA', 'CENTRE', 'Residential', 1, 'BUILT-OUT', '1950s'], [11, 'NORTH GLENMORE PARK', 'NGM', 'WEST', 'Residential', 1, 'BUILT-OUT', '1950s'], [12, '12L', '12L', 'SOUTHEAST', 'Residual Sub Area', 4, 'N/A', 'OTHER'], [12, 'RANGEVIEW', 'RVW', 'SOUTHEAST', 'Residential', 1, 'DEVELOPING', 'BUILDING OUT'], [12, '12C', '12C', 'SOUTHEAST', 'Residual Sub Area', 4, 'N/A', 'OTHER'], [12, 'HOTCHKISS', 'HKS', 'SOUTHEAST', 'Residential', 1, 'DEVELOPING', '2000s'], [12, 'SECTION 23', 'S23', 'SOUTHEAST', 'Industrial', 2, 'N/A', 'EMPLOYMENT'], [12, 'RIVERBEND', 'RIV', 'SOUTHEAST', 'Residential', 1, 'BUILT-OUT', '1980s/1990s'], [12, 'SOUTH FOOTHILLS', 'SFH', 'SOUTHEAST', 'Industrial', 2, 'N/A', 'EMPLOYMENT'], [12, '12K', '12K', 'SOUTHEAST', 'Residual Sub Area', 4, 'N/A', 'UNDEVELOPED'], [12, 'MCKENZIE TOWNE', 'MCT', 'SOUTHEAST', 'Residential', 1, 'DEVELOPING', 'BUILDING OUT'], [12, 'EAST SHEPARD INDUSTRIAL', 'ESH', 'SOUTHEAST', 'Industrial', 2, 'N/A', 'EMPLOYMENT'], [12, 'CRANSTON', 'CRA', 'SOUTHEAST', 'Residential', 1, 'DEVELOPING', 'BUILDING OUT'], [12, 'NEW BRIGHTON', 'NEB', 'SOUTHEAST', 'Residential', 1, 'DEVELOPING', 'BUILDING OUT'], [12, '12J', '12J', 'SOUTHEAST', 'Residual Sub Area', 4, 'N/A', 'UNDEVELOPED'], [12, '12I', '12I', 'SOUTHEAST', 'Residual Sub Area', 4, 'N/A', 'UNDEVELOPED'], [12, 'MAHOGANY', 'MAH', 'SOUTHEAST', 'Residential', 1, 'DEVELOPING', 'BUILDING OUT'], [12, 'AUBURN BAY', 'AUB', 'SOUTHEAST', 'Residential', 1, 'DEVELOPING', 'BUILDING OUT'], [12, 'SETON', 'SET', 'SOUTHEAST', 'Residential', 1, 'DEVELOPING', 'BUILDING OUT'], [12, '12A', '12A', 'SOUTHEAST', 'Residual Sub Area', 4, 'N/A', 'OTHER'], [12, 'SHEPARD INDUSTRIAL', 'SHI', 'SOUTHEAST', 'Industrial', 2, 'N/A', 'EMPLOYMENT'], [12, '12B', '12B', 'SOUTHEAST', 'Residual Sub Area', 4, 'N/A', 'UNDEVELOPED'], [12, 'COPPERFIELD', 'CPF', 'SOUTHEAST', 'Residential', 1, 'DEVELOPING', 'BUILDING OUT'], [13, '13M', '13M', 'SOUTH', 'Residual Sub Area', 4, 'N/A', 'UNDEVELOPED'], [13, '13L', '13L', 'SOUTH', 'Residual Sub Area', 4, 'N/A', 'UNDEVELOPED'], [13, 'YORKVILLE', 'YKV', 'SOUTH', 'Residential', 1, 'DEVELOPING', 'BUILDING OUT'], [13, 'BELMONT', 'BLM', 'SOUTH', 'Residential', 1, 'DEVELOPING', 'BUILDING OUT'], [13, 'SILVERADO', 'SVO', 'SOUTH', 'Residential', 1, 'DEVELOPING', 'BUILDING OUT'], [13, 'PINE CREEK', 'PCK', 'SOUTH', 'Residential', 1, 'DEVELOPING', 'BUILDING OUT'], [13, '13J', '13J', 'SOUTH', 'Residual Sub Area', 4, 'N/A', 'UNDEVELOPED'], [13, '13C', '13C', 'SOUTH', 'Residual Sub Area', 4, 'N/A', 'UNDEVELOPED'], [13, 'EVERGREEN', 'EVE', 'SOUTH', 'Residential', 1, 'DEVELOPING', 'BUILDING OUT'], [13, 'SHAWNESSY', 'SHN', 'SOUTH', 'Residential', 1, 'BUILT-OUT', '1980s/1990s'], [13, '13A', '13A', 'SOUTH', 'Residual Sub Area', 4, 'N/A', 'UNDEVELOPED'], [13, '13I', '13I', 'SOUTH', 'Residual Sub Area', 4, 'N/A', 'UNDEVELOPED'], [13, '13G', '13G', 'SOUTH', 'Residual Sub Area', 4, 'N/A', 'UNDEVELOPED'], [13, '13E', '13E', 'SOUTH', 'Residual Sub Area', 4, 'N/A', 'UNDEVELOPED'], [13, 'MILLRISE', 'MLR', 'SOUTH', 'Residential', 1, 'BUILT-OUT', '1980s/1990s'], [13, 'WOODLANDS', 'WOO', 'SOUTH', 'Residential', 1, 'BUILT-OUT', '1980s/1990s'], [13, 'SOMERSET', 'SOM', 'SOUTH', 'Residential', 1, 'BUILT-OUT', '1980s/1990s'], [13, '13H', '13H', 'SOUTH', 'Residual Sub Area', 4, 'N/A', 'UNDEVELOPED'], [13, 'BRIDLEWOOD', 'BRI', 'SOUTH', 'Residential', 1, 'BUILT-OUT', '2000s'], [13, '13B', '13B', 'SOUTH', 'Residual Sub Area', 4, 'N/A', 'UNDEVELOPED'], [13, '13D', '13D', 'SOUTH', 'Residual Sub Area', 4, 'N/A', 'UNDEVELOPED'], [13, 'WOODBINE', 'WBN', 'SOUTH', 'Residential', 1, 'BUILT-OUT', '1980s/1990s'], [13, 'CANYON MEADOWS', 'CAN', 'SOUTH', 'Residential', 1, 'BUILT-OUT', '1960s/1970s'], [13, '13F', '13F', 'SOUTH', 'Residual Sub Area', 4, 'N/A', 'UNDEVELOPED'], [13, 'SHAWNEE SLOPES', 'SHS', 'SOUTH', 'Residential', 1, 'BUILT-OUT', '1980s/1990s'], [14, 'MCKENZIE LAKE', 'MCK', 'SOUTHEAST', 'Residential', 1, 'BUILT-OUT', '1980s/1990s'], [14, 'DOUGLASDALE/GLEN', 'DDG', 'SOUTHEAST', 'Residential', 1, 'BUILT-OUT', '1980s/1990s'], [14, 'WOLF WILLOW', 'WWO', 'SOUTH', 'Residential', 1, 'DEVELOPING', 'BUILDING OUT'], [14, 'BONAVISTA DOWNS', 'BDO', 'SOUTH', 'Residential', 1, 'BUILT-OUT', '1960s/1970s'], [14, 'CHAPARRAL', 'CHA', 'SOUTH', 'Residential', 1, 'DEVELOPING', 'BUILDING OUT'], [14, 'QUEENSLAND', 'QLD', 'SOUTH', 'Residential', 1, 'BUILT-OUT', '1960s/1970s'], [14, 'WALDEN', 'WAL', 'SOUTH', 'Residential', 1, 'DEVELOPING', 'BUILDING OUT'], [14, 'LEGACY', 'LEG', 'SOUTH', 'Residential', 1, 'DEVELOPING', 'BUILDING OUT'], [14, 'DEER RIDGE', 'DRG', 'SOUTH', 'Residential', 1, 'BUILT-OUT', '1980s/1990s'], [14, 'SUNDANCE', 'SDC', 'SOUTH', 'Residential', 1, 'BUILT-OUT', '1980s/1990s'], [14, 'LAKE BONAVISTA', 'LKB', 'SOUTH', 'Residential', 1, 'BUILT-OUT', '1960s/1970s'], [14, 'DIAMOND COVE', 'DIA', 'SOUTH', 'Residential', 1, 'BUILT-OUT', '1980s/1990s'], [14, 'DEER RUN', 'DRN', 'SOUTH', 'Residential', 1, 'BUILT-OUT', '1980s/1990s'], [14, 'MIDNAPORE', 'MID', 'SOUTH', 'Residential', 1, 'BUILT-OUT', '1960s/1970s'], [14, 'FISH CREEK PARK', 'FPK', 'SOUTH', 'Major Park', 3, 'N/A', 'PARKS'], [14, 'PARKLAND', 'PKL', 'SOUTH', 'Residential', 1, 'BUILT-OUT', '1960s/1970s']]\n"
     ]
    }
   ],
   "source": [
    "comms_cols = [0, 5]\n",
    "census_cols = [1, 7] + list(range(9, 141))\n",
    "for i in comms_cols:\n",
    "    for j in range(1, len(comm_by_ward_list)):\n",
    "        comm_by_ward_list[j] = list(comm_by_ward_list[j])\n",
    "        comm_by_ward_list[j][i] = int(comm_by_ward_list[j][i])\n",
    "#print(comm_by_ward_list)\n",
    "\n",
    "for i in census_cols:\n",
    "    for j in range(1, len(census_by_comm_list)):\n",
    "        census_by_comm_list[j] = list(census_by_comm_list[j])\n",
    "        census_by_comm_list[j][i] = int(census_by_comm_list[j][i])\n",
    "#print(census_by_comm_list[1])"
   ]
  },
  {
   "cell_type": "markdown",
   "metadata": {},
   "source": [
    "### Load Community_Services.json\n",
    "\n",
    "You can use the `load()/ method [Python json module](https://docs.python.org/3/library/json.html) to read the 'Community_Services.json' file into a dictionary.\n",
    "\n",
    "For your reference, here is a link to the [source of 'Community_Services.json'](https://data.calgary.ca/Services-and-Amenities/Community-Services/x34e-bcjz)"
   ]
  },
  {
   "cell_type": "code",
   "execution_count": 3,
   "metadata": {},
   "outputs": [],
   "source": [
    "import json\n",
    "\n",
    "# Load 'Community_Services.json' into a dictionary.\n",
    "with open('Community_Services.json') as json_file:\n",
    "    comm_services_dict = json.load(json_file)\n",
    "#print(comm_services_dict[1])"
   ]
  },
  {
   "cell_type": "markdown",
   "metadata": {},
   "source": [
    "### Convert Data Types\n",
    "\n",
    "If latitude and longitude have been read in as strings, we will need to convert the latitude and longitude of each object to floats."
   ]
  },
  {
   "cell_type": "code",
   "execution_count": 4,
   "metadata": {},
   "outputs": [
    {
     "name": "stdout",
     "output_type": "stream",
     "text": [
      "<class 'str'>\n",
      "<class 'str'>\n",
      "<class 'float'>\n",
      "<class 'float'>\n"
     ]
    }
   ],
   "source": [
    "# Check if latitude and longitude are being read in as strings\n",
    "print(type(comm_services_dict[1]['longitude']))\n",
    "print(type(comm_services_dict[1]['latitude']))\n",
    "\n",
    "# Yes they are! Loop through dictionary and convert strings to floats\n",
    "for i, dicts in enumerate(comm_services_dict):\n",
    "    comm_services_dict[i]['latitude'] = float(dicts['latitude'])\n",
    "    comm_services_dict[i]['longitude'] = float(dicts['longitude'])\n",
    "\n",
    "# Check if latitude and longitude have been converted to floats\n",
    "print(type(comm_services_dict[1]['longitude']))\n",
    "print(type(comm_services_dict[1]['latitude']))\n",
    "\n",
    "# We did it!"
   ]
  },
  {
   "cell_type": "markdown",
   "metadata": {},
   "source": [
    "## Part 2: Questions About Each Individual Datasets (4 marks)\n",
    "Now that you've loaded and converted all the data, let's run some queries.\n",
    "\n",
    "We will start by exploring each of the provided individual datasets in this section. If you haven't already, it would be valuable to have a look at what kind of data is in each of the datasets."
   ]
  },
  {
   "cell_type": "markdown",
   "metadata": {},
   "source": [
    "### Question 1\n",
    "Print the name and address of every 'Hospital' and 'PHS Clinic' that are North of (latitude) 51.0447° N"
   ]
  },
  {
   "cell_type": "code",
   "execution_count": 5,
   "metadata": {},
   "outputs": [
    {
     "name": "stdout",
     "output_type": "stream",
     "text": [
      "Name: Foothills Hospital\n",
      "Address: 1403 - 29 ST NW\n",
      "\n",
      "Name: Alberta Children's Hospital\n",
      "Address: 2888 Shaganappi Trail NW\n",
      "\n",
      "Name: Rockyview General Hospital\n",
      "Address: 7007 - 14 ST SW\n",
      "\n",
      "Name: Peter Lougheed Medical Centre\n",
      "Address: 3500 - 26 AV NE\n",
      "\n",
      "Name: Thornhill Community Health Centre\n",
      "Address: 6617 Centre ST NW\n",
      "\n",
      "Name: South Health Campus\n",
      "Address: 4448 FRONT ST SE\n",
      "\n",
      "Name: Shaganappi Complex Health Centre\n",
      "Address: 3415 - 8 AV SW\n",
      "\n",
      "Name: East Calgary Health Centre\n",
      "Address: 4715 8 AV SE\n",
      "\n",
      "Name: Northwest Community Health Centre\n",
      "Address: 109 1829 Ranchlands BV NW\n",
      "\n",
      "Name: Village Square Community Health Centre\n",
      "Address: 2623 - 56 ST NE\n",
      "\n",
      "Name: North Hill Community Health Centre\n",
      "Address: 1527 19 ST NW\n",
      "\n"
     ]
    }
   ],
   "source": [
    "# Loop through the dictionaries in the Community Services dictionary\n",
    "for dicts in comm_services_dict:\n",
    "    \n",
    "    # Create an if statement that checks the 'type' key for the value \"Hospital\" OR \"PHS Clinic\"\n",
    "    # This if statement should also check if the 'latitude' key is greater than 51.0447\n",
    "    if dicts['type'] == \"Hospital\" or dicts['type'] == 'PHS Clinic' and dicts['latitude'] > 51.0447:\n",
    "        \n",
    "        # Print the value of the 'name' and 'address' keys if the if statement returns True\n",
    "        print('Name: ' + dicts['name'] + '\\nAddress: ' + dicts['address'] + '\\n')"
   ]
  },
  {
   "cell_type": "markdown",
   "metadata": {},
   "source": [
    "### Question 2\n",
    "How many 'Community Centre' ammenities are there in the City?"
   ]
  },
  {
   "cell_type": "code",
   "execution_count": 6,
   "metadata": {},
   "outputs": [
    {
     "name": "stdout",
     "output_type": "stream",
     "text": [
      "Number of Community Centres in Calgary: 107\n"
     ]
    }
   ],
   "source": [
    "# Initialize a Community Centre counter to start at zero\n",
    "comm_centre_count = 0\n",
    "\n",
    "# Loop through the dictionaries in the Community Services dictionary\n",
    "for dicts in comm_services_dict:\n",
    "    \n",
    "    # Create an if statement that checks the 'type' key for the value 'Community Centre'\n",
    "    if dicts['type'] == \"Community Centre\":\n",
    "        \n",
    "        # Add 1 to the Community Centre counter if the if statement returns True\n",
    "        comm_centre_count += 1\n",
    "\n",
    "# Print the Community Centre counter after the for loop is complete and the Community Centres have been counted     \n",
    "print('Number of Community Centres in Calgary: ' + str(comm_centre_count))"
   ]
  },
  {
   "cell_type": "markdown",
   "metadata": {},
   "source": [
    "### Question 3\n",
    "Which residential communities are 'developing' in ward 6?"
   ]
  },
  {
   "cell_type": "code",
   "execution_count": 7,
   "metadata": {
    "scrolled": true
   },
   "outputs": [
    {
     "name": "stdout",
     "output_type": "stream",
     "text": [
      "WEST SPRINGS\n",
      "SPRINGBANK HILL\n",
      "ASPEN WOODS\n",
      "COUGAR RIDGE\n"
     ]
    }
   ],
   "source": [
    "# Loop through the Communities by Ward list of lists\n",
    "for lists in comm_by_ward_list:\n",
    "    \n",
    "    # Create an if statement that checks if the 1st element of the list is a 6 AND\n",
    "    # checks if the 7th element is 'DEVELOPING' AND\n",
    "    # checks if the 5th element is 'Residential'\n",
    "    if lists[0] == 6 and lists[6] == 'DEVELOPING' and lists[4] == 'Residential':\n",
    "        \n",
    "        # Print the 2nd element of this list which is the community name\n",
    "        print(lists[1])"
   ]
  },
  {
   "cell_type": "markdown",
   "metadata": {},
   "source": [
    "### Question 4\n",
    "How many hotels are there in HILLHURST? (Column name is HOTEL_CNT)"
   ]
  },
  {
   "cell_type": "code",
   "execution_count": 8,
   "metadata": {},
   "outputs": [
    {
     "name": "stdout",
     "output_type": "stream",
     "text": [
      "The hotel count in Hillhurst is 4\n"
     ]
    }
   ],
   "source": [
    "# Determine which element number is 'HOTEL_CNT'\n",
    "#for element_num, features in enumerate(census_by_comm_list[0]):\n",
    "#    if features == 'HOTEL_CNT':\n",
    "#        print(element_num + 1)\n",
    "\n",
    "# The element number is 35!\n",
    "\n",
    "# Loop through the Census by Communities list of lists\n",
    "for lists in census_by_comm_list:\n",
    "    \n",
    "    # Create an if statement that checks if the 4th element of the list is 'HILLHURST'\n",
    "\n",
    "    if lists[3] == 'HILLHURST':\n",
    "        \n",
    "        # Print the 35th element of this list which is the community name\n",
    "        print('The hotel count in Hillhurst is ' + str(lists[34]))\n",
    "#print(census_by_comm_list[0])"
   ]
  },
  {
   "cell_type": "markdown",
   "metadata": {},
   "source": [
    "## Part 3: Questions About Multiple Datasets (4 marks)\n",
    "Now that you are more familiar with the individual datasets, let's answer some questions that will require information in two or more datasets."
   ]
  },
  {
   "cell_type": "markdown",
   "metadata": {},
   "source": [
    "### Question 5\n",
    "What is the total number of hotels in the communities that are at least partly in Ward 4? (One approach is to generate a list of COMM_CODEs in ward 4, then sum the number of hotels in each of those communities)"
   ]
  },
  {
   "cell_type": "code",
   "execution_count": 14,
   "metadata": {},
   "outputs": [
    {
     "name": "stdout",
     "output_type": "stream",
     "text": [
      "The number of hotels in Ward 4 is 3\n"
     ]
    }
   ],
   "source": [
    "# Initialize a Community Codes list\n",
    "comm_codes_list = []\n",
    "\n",
    "# Loop through the Communities by Ward list of lists\n",
    "for lists in comm_by_ward_list:\n",
    "    \n",
    "    # Create an if statement that checks if the 1st element of the list is a 4\n",
    "    # This will check if the community is in Ward 4\n",
    "    if lists[0] == 4:\n",
    "        \n",
    "        # Append the Community Codes list with the Community Code (3rd element) when the if statement returns True\n",
    "        comm_codes_list.append(lists[2])\n",
    "\n",
    "# Initialize a hotel counter\n",
    "hotel_counter = 0\n",
    "\n",
    "# Loop through the Census by Communities list of lists\n",
    "for lists in census_by_comm_list:\n",
    "    \n",
    "    # Create an if statement that checks if the community code (3rd element) is in the Community Codes list\n",
    "    if lists[2] in comm_codes_list:\n",
    "        \n",
    "        # Add the number in 'HOTEL_CNT' (element 35) to the hotel counter when the if statement returns True\n",
    "        hotel_counter += lists[34]\n",
    "\n",
    "print(\"The number of hotels in Ward 4 is\", str(hotel_counter))"
   ]
  },
  {
   "cell_type": "markdown",
   "metadata": {},
   "source": [
    "### Question 6\n",
    "What are the names of the community centres that are in communities which are at least partly in ward 12?"
   ]
  },
  {
   "cell_type": "code",
   "execution_count": 10,
   "metadata": {},
   "outputs": [
    {
     "name": "stdout",
     "output_type": "stream",
     "text": [
      "Copperfield & Mahogany Community Center\n",
      "Riverbend Community Centre\n"
     ]
    }
   ],
   "source": [
    "# Initialize a Community Codes list\n",
    "comm_codes_list2 = []\n",
    "\n",
    "# Loop through the Communities by Ward list of lists\n",
    "for lists in comm_by_ward_list:\n",
    "    \n",
    "    # Create an if statement that checks if the 1st element of the list is a 12\n",
    "    # This will check if the community is in Ward 12\n",
    "    if lists[0] == 12:\n",
    "        \n",
    "        # Append the Community Codes list with the Community Code (3rd element) when the if statement returns True\n",
    "        comm_codes_list2.append(lists[2])\n",
    "\n",
    "# Loop through the Community Services dictionary\n",
    "for dicts in comm_services_dict:\n",
    "    \n",
    "    # Check if a community code exists in the dictionary\n",
    "    # There are a couple dictionaries that do not include 'comm_code' and without this step, the next lines\n",
    "    # will return an error :(\n",
    "    if 'comm_code' in dicts:\n",
    "        \n",
    "        # Check if the community code is in the community codes list AND\n",
    "        # check if the service type is a Community Centre\n",
    "        if dicts['comm_code'] in comm_codes_list2 and dicts['type'] == 'Community Centre':\n",
    "            \n",
    "            # Print the name of the Community Centre\n",
    "            print(dicts['name'])"
   ]
  },
  {
   "cell_type": "markdown",
   "metadata": {},
   "source": [
    "## Part 4: Long Answer Questions (8 marks, 4 ea.)\n"
   ]
  },
  {
   "cell_type": "markdown",
   "metadata": {},
   "source": [
    "### Question 7\n",
    "What meta-data are each of the .csv and .json formats capable of storing? Discuss additional metadata which could be useful, especially in a larger system with more datasets and columns."
   ]
  },
  {
   "cell_type": "markdown",
   "metadata": {},
   "source": [
    "# CSV\n",
    "\n",
    "The .csv format is able to store meta-data in a header row as plain text but it is limited otherwise. There are ways to include additional meta data using XML as described in this blog post (https://blog.mafr.de/2008/04/26/metadata-for-csv/) but if we are talking about stricly .csv, we are limited to storing meta-data in the header row as plain text separated by commas.\n",
    "\n",
    "# JSON\n",
    "\n",
    "The .json format is capable of storing detailed meta-data. For example, in our Communies by Ward dataset, we would be able to include details for 'COMM_CODE' such as datatype and description.\n",
    "\n",
    "# Additional metadata\n",
    "\n",
    "Additional metadata gives us the ability to:\n",
    "\n",
    "* Query and retrieve data and information easier\n",
    "* Describe the data at a suitable level of detail\n",
    "* Quickly make sense of the data"
   ]
  },
  {
   "cell_type": "markdown",
   "metadata": {},
   "source": [
    "### Question 8\n",
    "Using pandas, load 'Community_Services.json' and 'Communities_by_Ward.csv' and use DataFrames to answer Question 6. \n",
    "\n",
    "Compare the benefits of dataframes versus standard Python for querying or modifying data."
   ]
  },
  {
   "cell_type": "code",
   "execution_count": 11,
   "metadata": {
    "scrolled": true
   },
   "outputs": [
    {
     "data": {
      "text/html": [
       "<div>\n",
       "<style scoped>\n",
       "    .dataframe tbody tr th:only-of-type {\n",
       "        vertical-align: middle;\n",
       "    }\n",
       "\n",
       "    .dataframe tbody tr th {\n",
       "        vertical-align: top;\n",
       "    }\n",
       "\n",
       "    .dataframe thead th {\n",
       "        text-align: right;\n",
       "    }\n",
       "</style>\n",
       "<table border=\"1\" class=\"dataframe\">\n",
       "  <thead>\n",
       "    <tr style=\"text-align: right;\">\n",
       "      <th></th>\n",
       "      <th>NAME_x</th>\n",
       "      <th>TYPE</th>\n",
       "      <th>WARD_NUM</th>\n",
       "    </tr>\n",
       "  </thead>\n",
       "  <tbody>\n",
       "    <tr>\n",
       "      <th>2</th>\n",
       "      <td>Copperfield &amp; Mahogany Community Center</td>\n",
       "      <td>Community Centre</td>\n",
       "      <td>12</td>\n",
       "    </tr>\n",
       "    <tr>\n",
       "      <th>162</th>\n",
       "      <td>Riverbend Community Centre</td>\n",
       "      <td>Community Centre</td>\n",
       "      <td>12</td>\n",
       "    </tr>\n",
       "  </tbody>\n",
       "</table>\n",
       "</div>"
      ],
      "text/plain": [
       "                                      NAME_x              TYPE  WARD_NUM\n",
       "2    Copperfield & Mahogany Community Center  Community Centre        12\n",
       "162               Riverbend Community Centre  Community Centre        12"
      ]
     },
     "metadata": {},
     "output_type": "display_data"
    }
   ],
   "source": [
    "import pandas as pd\n",
    "\n",
    "# Load the data into pandas dataframes\n",
    "comm_services = pd.read_json(\"Community_Services.json\")\n",
    "comm_ward = pd.read_csv('Communities_by_Ward.csv')\n",
    "\n",
    "# What are the names of the community centres that are in communities which are at least partly in ward 12?\n",
    "\n",
    "# Convert column names to upper case to match cases in two dataframes\n",
    "comm_services.columns = map(str.upper, comm_services.columns)\n",
    "\n",
    "# Join the two data frames by 'COMM_CODE'\n",
    "comm_services = pd.merge(comm_services, comm_ward, on = 'COMM_CODE').filter(['NAME_x', 'TYPE', 'WARD_NUM'])\n",
    "\n",
    "# Filter dataframe by Ward 12\n",
    "comm_services = comm_services.query('TYPE == \"Community Centre\" & WARD_NUM == 12')\n",
    "\n",
    "# Filter dataframe by Ward 12\n",
    "display(comm_services)"
   ]
  },
  {
   "cell_type": "markdown",
   "metadata": {},
   "source": [
    "# Benefits of Dataframes versus standard Python\n",
    "With Pandas, we can take advantage of vectorized operations whereas with standard Python, we are forced to rely on loops. Generally, the computations are faster and less complicated with Pandas than with standard Python.\n",
    "\n",
    "In regards to the Communities by Ward dataset, we were working with a list of lists in the previous problems. This makes querying different columns much more difficult than it is with Pandas.\n",
    "\n",
    "Visually speaking, it is also easier to visualize how the data is structured at each step of the above code."
   ]
  },
  {
   "cell_type": "code",
   "execution_count": null,
   "metadata": {},
   "outputs": [],
   "source": []
  }
 ],
 "metadata": {
  "kernelspec": {
   "display_name": "Python 3",
   "language": "python",
   "name": "python3"
  },
  "language_info": {
   "codemirror_mode": {
    "name": "ipython",
    "version": 3
   },
   "file_extension": ".py",
   "mimetype": "text/x-python",
   "name": "python",
   "nbconvert_exporter": "python",
   "pygments_lexer": "ipython3",
   "version": "3.7.0"
  }
 },
 "nbformat": 4,
 "nbformat_minor": 2
}

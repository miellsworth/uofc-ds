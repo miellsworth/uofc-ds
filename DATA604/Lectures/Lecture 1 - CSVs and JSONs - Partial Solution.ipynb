{
 "cells": [
  {
   "cell_type": "markdown",
   "metadata": {},
   "source": [
    "## About this notebook\n",
    "\n",
    "This set of exercises will serve as a quick refresher for file management in Python and introduce you to some methods to work with JSON\n",
    "\n",
    "Let's start by create a list of tuples.\n",
    "\n",
    "From the [Environment Canada Weather page](https://weather.gc.ca/canada_e.html), pick five locations (you get to pick) and create a list of tuples where each tuple is of the form\n",
    "\n",
    "(city name, current temperature, 24-hour low temperature, 24-hour high temperature)"
   ]
  },
  {
   "cell_type": "code",
   "execution_count": 2,
   "metadata": {},
   "outputs": [],
   "source": [
    "# put your list of tuples here\n",
    "city_weather = [('Calgary', 11, -1, 11 ), ('Pincher Creek', 11, 5, 11), ('Edmonton', 4, -3, 6), ('Winnipeg', 2, 2, 2), ('Moose Jaw', 0, -7, 10 ) ]\n"
   ]
  },
  {
   "cell_type": "markdown",
   "metadata": {},
   "source": [
    "## CSVs: a reminder\n",
    "\n",
    "\n",
    "Now write your tuples to a CSV (comma-separated value) file, city_weather.csv using appropriate Python built-ins. \n",
    "\n",
    "Recall that in a CSV, each record is on its own line, with attributes separated by commas.\n",
    "\n",
    "Do NOT use anything besides standard Python built-ins. You may want to refer to the [Python documentation for reading and writing files](https://docs.python.org/3/tutorial/inputoutput.html#reading-and-writing-files).\n",
    "\n",
    "Don't forget to close your file once you're done with it."
   ]
  },
  {
   "cell_type": "code",
   "execution_count": 9,
   "metadata": {},
   "outputs": [],
   "source": [
    "# add your code to write to a CSV here.\n",
    "\n",
    "# a note on formatting the data to be written. The string representation of city weather will look like\n",
    "# [('Calgary', 11, -1, 11), ('Pincher Creek', 11, 5, 11), ('Edmonton', 4, -3, 6), ('Winnipeg', 2, 2, 2), ('Moose Jaw', 0, -7, 10)]\n",
    "\n",
    "# uncomment the line below to convince yourself this is correct\n",
    "# print(str(city_weather))\n",
    "\n",
    "# all my file needs to be is a text file named city_weather.csv, opened for writing\n",
    "\n",
    "weatherFile = open('city_weather.csv', 'w' )\n",
    "\n",
    "# There are many ways to write this as five comma-separated records. \n",
    "# You can use a loop to write each element directly to the file\n",
    "\n",
    "# You can write it the tuple above as a large string - strip out the square brackets, replace commas between tuples with \\n\n",
    "# then strip out parentheses\n",
    "\n",
    "# the way I prefer is to write one line at a time, processing each tuple you read\n",
    "for cityTuple in city_weather:\n",
    "    # uncomment below to see how your data is formatted. \n",
    "    # print (str(cityTuple))\n",
    "    \n",
    "    # Task 1: strip out parentheses in the string representation. \n",
    "    # I'm using the strip() method to do this, you could slice the string, or use a regular expression\n",
    "    \n",
    "    # uncomment below to check that this works \n",
    "    # print (str(cityTuple).strip('()'))\n",
    "    \n",
    "    # you can use the write() method to write a line at a time to the file. \n",
    "    # I'm getting the string representation, stripping out parentheses, adding a newline to the end and writing in one line\n",
    "    weatherFile.write(str(cityTuple).strip('()') + '\\n')\n",
    "\n",
    "weatherFile.close()"
   ]
  },
  {
   "cell_type": "markdown",
   "metadata": {},
   "source": [
    "### Some notes on my problem-solving process\n",
    "\n",
    "Focus on one thing at a time. \n",
    "\n",
    "* Writing to a file requires opening and closing a file. Check that you can do that first\n",
    "* Check next what methods you have available to write to a file. What are the arguments they take? (In this case, `write()` takes a bunch of bytes, such as you find in a string)\n",
    "* Now that we know we need a string, see what format the strings you have are currently in\n",
    "* Devise a series of steps to transform the string you have into the string you want"
   ]
  },
  {
   "cell_type": "markdown",
   "metadata": {},
   "source": [
    "## JSON\n",
    "\n",
    "Now we're going to write our data to a JSON file. Refer to the same Python documentation as before. You may use Python's built-in `json` library.\n",
    "\n",
    "Don't forget to close your file once you're done with it."
   ]
  },
  {
   "cell_type": "markdown",
   "metadata": {},
   "source": [
    "<blockquote>\n",
    " \n",
    " JSON actually is more complicated. Before using the built-in json library to write to your file, you may need to\n",
    " design the format of your file first. Do this on pen and paper until it seems more familiar. \n",
    " \n",
    " We have:<br>\n",
    "     locations<br>\n",
    "       * city_name \n",
    "       * temp_current \n",
    "       * temp_high \n",
    "  \n",
    " The challenge is to create something which can be properly encoded as JSON in the format we want\n",
    " </blockquote>"
   ]
  },
  {
   "cell_type": "code",
   "execution_count": 28,
   "metadata": {},
   "outputs": [],
   "source": [
    "import json\n",
    "\n",
    "# your code goes here\n",
    "\n",
    "# first try: let's try encoding city_weather as is. It's not bad, but gets you lists. \n",
    "# Semantically, this isn't what we want\n",
    "#print (json.dumps(city_weather))\n",
    "\n",
    "# So, let's see if we can transform city_weather into something more useful.\n",
    "# Each tuple (city, current_temp, low_temp, high_temp) becomes a dictionary of dictionaries\n",
    "# So ('Calgary', 11, -1, 11) becomes\n",
    "# {'Calgary': {'current_temp':11,'low_temp':-1, 'high_temp':11}\n",
    "\n",
    "\n",
    "city_weather_dict = {}\n",
    "temperature_dict = {}\n",
    "city_key = ''\n",
    "CURRENT_TEMP_KEY = 'current_temp'\n",
    "LOW_TEMP_KEY = 'low_temp'\n",
    "HIGH_TEMP_KEY = 'high_temp'\n",
    "\n",
    "\n",
    "for city_tuple in city_weather:\n",
    "    # first initialize each of the inner dictionaries\n",
    "    city_key = city_tuple[0]\n",
    "    city_weather_dict[city_key] = {}\n",
    "          \n",
    "    # then you can populate the inner dictionary with the right data\n",
    "    city_weather_dict[city_key][CURRENT_TEMP_KEY] = city_tuple[1]\n",
    "    city_weather_dict[city_key][LOW_TEMP_KEY] = city_tuple[2]\n",
    "    city_weather_dict[city_key][HIGH_TEMP_KEY] = city_tuple[3]\n",
    " \n",
    "# try it out ot be sure it works!\n",
    "#print (json.dumps(city_weather_dict))\n",
    "\n",
    "# now let's try writing this\n",
    "# open a new file\n",
    "weather_json = open('city_weather.json', 'w')\n",
    "json.dump(city_weather_dict, weather_json )\n",
    "weather_json.close()\n",
    "\n",
    "\n"
   ]
  },
  {
   "cell_type": "markdown",
   "metadata": {},
   "source": [
    "## Appending data\n",
    "\n",
    "Now let's take both your CSV and JSON files. Before you continue, try opening them in a browser or text editor to assure yourself that your data looks good.\n",
    "\n",
    "Select another city on the Environment Canada site, append its data to your list of tuples and write this new data to each of the files. "
   ]
  },
  {
   "cell_type": "code",
   "execution_count": null,
   "metadata": {},
   "outputs": [],
   "source": [
    "# your code goes here"
   ]
  },
  {
   "cell_type": "markdown",
   "metadata": {},
   "source": [
    "## Searching and modifying data\n",
    "\n",
    "Since you have your data in-memory, search your list of tuples for the city which has the highest 24-hour high temperature. \n",
    "\n",
    "We're going to add a field to each of your records, the meaning of which will be:\n",
    "True: the city has the highest high temperature of all listed cities\n",
    "False: the city does not have the highest high temperature of all listed cities\n",
    "\n",
    "Now in each file, alter that record for the city to add a new attribute to it, so that the tuple would look like (city name, current temperature, 24-hour low temperature, 24-hour high temperature, True). \n",
    "\n",
    "The record for each city should be altered so that the tuple would look like (city name, current temperature, 24-hour low temperature, 24-hour high temperature, False)."
   ]
  },
  {
   "cell_type": "code",
   "execution_count": null,
   "metadata": {},
   "outputs": [],
   "source": [
    "# your code goes here"
   ]
  },
  {
   "cell_type": "markdown",
   "metadata": {},
   "source": [
    "## Appending data again\n",
    "\n",
    "Now select another city from the Environment Canada site, and append its data to your list of tuples. Don't forget the additional field for your new city!"
   ]
  }
 ],
 "metadata": {
  "kernelspec": {
   "display_name": "Python 3",
   "language": "python",
   "name": "python3"
  },
  "language_info": {
   "codemirror_mode": {
    "name": "ipython",
    "version": 3
   },
   "file_extension": ".py",
   "mimetype": "text/x-python",
   "name": "python",
   "nbconvert_exporter": "python",
   "pygments_lexer": "ipython3",
   "version": "3.7.3"
  }
 },
 "nbformat": 4,
 "nbformat_minor": 2
}

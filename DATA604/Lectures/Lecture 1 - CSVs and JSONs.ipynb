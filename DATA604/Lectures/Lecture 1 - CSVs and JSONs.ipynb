{
 "cells": [
  {
   "cell_type": "markdown",
   "metadata": {},
   "source": [
    "## About this notebook\n",
    "\n",
    "This set of exercises will serve as a quick refresher for file management in Python and introduce you to some methods to work with JSON\n",
    "\n",
    "Let's start by create a list of tuples.\n",
    "\n",
    "From the [Environment Canada Weather page](https://weather.gc.ca/canada_e.html), pick five locations (you get to pick) and create a list of tuples where each tuple is of the form\n",
    "\n",
    "(city name, current temperature, 24-hour low temperature, 24-hour high temperature)"
   ]
  },
  {
   "cell_type": "code",
   "execution_count": null,
   "metadata": {},
   "outputs": [],
   "source": [
    "# put your list of tuples here\n",
    "city_weather = []"
   ]
  },
  {
   "cell_type": "markdown",
   "metadata": {},
   "source": [
    "## CSVs: a reminder\n",
    "\n",
    "\n",
    "Now write your tuples to a CSV (comma-separated value) file, city_weather.csv using appropriate Python built-ins. \n",
    "\n",
    "Recall that in a CSV, each record is on its own line, with attributes separated by commas.\n",
    "\n",
    "Do NOT use anything besides standard Python built-ins. You may want to refer to the [Python documentation for reading and writing files](https://docs.python.org/3/tutorial/inputoutput.html#reading-and-writing-files).\n",
    "\n",
    "Don't forget to close your file once you're done with it."
   ]
  },
  {
   "cell_type": "code",
   "execution_count": null,
   "metadata": {},
   "outputs": [],
   "source": [
    "# add your code to write to a CSV here."
   ]
  },
  {
   "cell_type": "markdown",
   "metadata": {},
   "source": [
    "## JSON\n",
    "\n",
    "Now we're going to write our data to a JSON file. Refer to the same Python documentation as before. You may use Python's built-in `json` library.\n",
    "\n",
    "Don't forget to close your file once you're done with it."
   ]
  },
  {
   "cell_type": "code",
   "execution_count": null,
   "metadata": {},
   "outputs": [],
   "source": [
    "import json\n",
    "\n",
    "# your code goes here"
   ]
  },
  {
   "cell_type": "markdown",
   "metadata": {},
   "source": [
    "## Appending data\n",
    "\n",
    "Now let's take both your CSV and JSON files. Before you continue, try opening them in a browser or text editor to assure yourself that your data looks good.\n",
    "\n",
    "Select another city on the Environment Canada site, append its data to your list of tuples and write this new data to each of the files. "
   ]
  },
  {
   "cell_type": "code",
   "execution_count": null,
   "metadata": {},
   "outputs": [],
   "source": [
    "# your code goes here"
   ]
  },
  {
   "cell_type": "markdown",
   "metadata": {},
   "source": [
    "## Searching and modifying data\n",
    "\n",
    "Since you have your data in-memory, search your list of tuples for the city which has the highest 24-hour high temperature. \n",
    "\n",
    "We're going to add a field to each of your records, the meaning of which will be:\n",
    "True: the city has the highest high temperature of all listed cities\n",
    "False: the city does not have the highest high temperature of all listed cities\n",
    "\n",
    "Now in each file, alter that record for the city to add a new attribute to it, so that the tuple would look like (city name, current temperature, 24-hour low temperature, 24-hour high temperature, True). \n",
    "\n",
    "The record for each city should be altered so that the tuple would look like (city name, current temperature, 24-hour low temperature, 24-hour high temperature, False)."
   ]
  },
  {
   "cell_type": "code",
   "execution_count": null,
   "metadata": {},
   "outputs": [],
   "source": [
    "# your code goes here"
   ]
  },
  {
   "cell_type": "markdown",
   "metadata": {},
   "source": [
    "## Appending data again\n",
    "\n",
    "Now select another city from the Environment Canada site, and append its data to your list of tuples. Don't forget the additional field for your new city!"
   ]
  }
 ],
 "metadata": {
  "kernelspec": {
   "display_name": "Python 3",
   "language": "python",
   "name": "python3"
  },
  "language_info": {
   "codemirror_mode": {
    "name": "ipython",
    "version": 3
   },
   "file_extension": ".py",
   "mimetype": "text/x-python",
   "name": "python",
   "nbconvert_exporter": "python",
   "pygments_lexer": "ipython3",
   "version": "3.7.3"
  }
 },
 "nbformat": 4,
 "nbformat_minor": 2
}

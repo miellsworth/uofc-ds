{
 "cells": [
  {
   "cell_type": "markdown",
   "metadata": {},
   "source": [
    "## Introduction\n",
    "\n",
    "This notebook will show you how to import data from a SQL query into a DataFrame.\n",
    "\n",
    "Before you proceed, you MUST do the following:\n",
    "\n",
    "* use `mysqlsh` to create the `rainchannel_measurements` table and insert data using the script `rainchannel_measurements.sql`\n",
    "* edit the connection string below using your username, password, and chosen database"
   ]
  },
  {
   "cell_type": "code",
   "execution_count": 1,
   "metadata": {},
   "outputs": [],
   "source": [
    "import pandas as pd\n",
    "import mysql.connector\n",
    "\n",
    "# fill in any relevant details that need to be changed here, such as if you set up a different user or password\n",
    "myconnection = mysql.connector.connect(user='root', password='Leftw!ng6977',\n",
    "                                 host='127.0.0.1',\n",
    "                                 database='Test')\n"
   ]
  },
  {
   "cell_type": "markdown",
   "metadata": {},
   "source": [
    "The pandas method [`read_sql_query`](https://pandas.pydata.org/pandas-docs/version/0.22/generated/pandas.read_sql_query.html) can be used to read data from a SQL table. You need a SQL query and a compatible connection or connection string. A number of options are available to wrangle data into a suitable format."
   ]
  },
  {
   "cell_type": "code",
   "execution_count": 2,
   "metadata": {},
   "outputs": [],
   "source": [
    "# the SQL query we're going to use. \n",
    "# Remember to filter as much as you can in your query to improve the performance of your analysis.\n",
    "\n",
    "queryString = \"SELECT * FROM rainchannel_measurements;\"\n",
    "\n",
    "rain_df = pd.read_sql_query(queryString, myconnection)\n"
   ]
  },
  {
   "cell_type": "code",
   "execution_count": 3,
   "metadata": {},
   "outputs": [
    {
     "data": {
      "text/html": [
       "<div>\n",
       "<style scoped>\n",
       "    .dataframe tbody tr th:only-of-type {\n",
       "        vertical-align: middle;\n",
       "    }\n",
       "\n",
       "    .dataframe tbody tr th {\n",
       "        vertical-align: top;\n",
       "    }\n",
       "\n",
       "    .dataframe thead th {\n",
       "        text-align: right;\n",
       "    }\n",
       "</style>\n",
       "<table border=\"1\" class=\"dataframe\">\n",
       "  <thead>\n",
       "    <tr style=\"text-align: right;\">\n",
       "      <th></th>\n",
       "      <th>channel</th>\n",
       "      <th>measurement_year</th>\n",
       "      <th>measurement_ts</th>\n",
       "      <th>rainfall_mm</th>\n",
       "      <th>rg_active</th>\n",
       "      <th>id</th>\n",
       "    </tr>\n",
       "  </thead>\n",
       "  <tbody>\n",
       "    <tr>\n",
       "      <th>0</th>\n",
       "      <td>3</td>\n",
       "      <td>2010</td>\n",
       "      <td>2010-05-01 22:15:00</td>\n",
       "      <td>0.2</td>\n",
       "      <td>1</td>\n",
       "      <td>2010-05-01T22:15:00-03</td>\n",
       "    </tr>\n",
       "    <tr>\n",
       "      <th>1</th>\n",
       "      <td>3</td>\n",
       "      <td>2010</td>\n",
       "      <td>2010-05-01 22:20:00</td>\n",
       "      <td>0.2</td>\n",
       "      <td>1</td>\n",
       "      <td>2010-05-01T22:20:00-03</td>\n",
       "    </tr>\n",
       "    <tr>\n",
       "      <th>2</th>\n",
       "      <td>5</td>\n",
       "      <td>2010</td>\n",
       "      <td>2010-05-01 22:25:00</td>\n",
       "      <td>0.2</td>\n",
       "      <td>1</td>\n",
       "      <td>2010-05-01T22:25:00-05</td>\n",
       "    </tr>\n",
       "    <tr>\n",
       "      <th>3</th>\n",
       "      <td>18</td>\n",
       "      <td>2010</td>\n",
       "      <td>2010-05-01 23:40:00</td>\n",
       "      <td>0.2</td>\n",
       "      <td>1</td>\n",
       "      <td>2010-05-01T23:40:00-18</td>\n",
       "    </tr>\n",
       "    <tr>\n",
       "      <th>4</th>\n",
       "      <td>5</td>\n",
       "      <td>2010</td>\n",
       "      <td>2010-05-02 03:30:00</td>\n",
       "      <td>0.2</td>\n",
       "      <td>1</td>\n",
       "      <td>2010-05-02T03:30:00-05</td>\n",
       "    </tr>\n",
       "  </tbody>\n",
       "</table>\n",
       "</div>"
      ],
      "text/plain": [
       "   channel  measurement_year      measurement_ts  rainfall_mm  rg_active  \\\n",
       "0        3              2010 2010-05-01 22:15:00          0.2          1   \n",
       "1        3              2010 2010-05-01 22:20:00          0.2          1   \n",
       "2        5              2010 2010-05-01 22:25:00          0.2          1   \n",
       "3       18              2010 2010-05-01 23:40:00          0.2          1   \n",
       "4        5              2010 2010-05-02 03:30:00          0.2          1   \n",
       "\n",
       "                       id  \n",
       "0  2010-05-01T22:15:00-03  \n",
       "1  2010-05-01T22:20:00-03  \n",
       "2  2010-05-01T22:25:00-05  \n",
       "3  2010-05-01T23:40:00-18  \n",
       "4  2010-05-02T03:30:00-05  "
      ]
     },
     "execution_count": 3,
     "metadata": {},
     "output_type": "execute_result"
    }
   ],
   "source": [
    "rain_df.describe()\n",
    "rain_df.head()"
   ]
  },
  {
   "cell_type": "markdown",
   "metadata": {},
   "source": [
    "Now that we have this, we can begin to analyze this table as we did before.\n",
    "\n",
    "Write some code to:\n",
    "1. find the timestamp and channel where the highest rainfall values were recorded\n",
    "2. find the channel which returned the highest rainfall value in June 2013\n",
    "3. find the month where channel 9 recorded the most rainfall\n",
    "4. find the average rainfall per channel in August 2017"
   ]
  },
  {
   "cell_type": "code",
   "execution_count": 43,
   "metadata": {},
   "outputs": [],
   "source": [
    "#1\n",
    "rainfall_max = rain_df[['rainfall_mm']].max()\n",
    "highest_rainfall = rain_df[rain_df[['rainfall_mm']] == rainfall_max]"
   ]
  },
  {
   "cell_type": "code",
   "execution_count": 26,
   "metadata": {},
   "outputs": [
    {
     "data": {
      "text/plain": [
       "measurement_year    40153\n",
       "dtype: int64"
      ]
     },
     "metadata": {},
     "output_type": "display_data"
    }
   ],
   "source": [
    "#2\n",
    "rain_df_2013 = rain_df[['measurement_year']] == 2013\n",
    "display(rain_df_2013.sum())"
   ]
  },
  {
   "cell_type": "code",
   "execution_count": null,
   "metadata": {},
   "outputs": [],
   "source": []
  }
 ],
 "metadata": {
  "kernelspec": {
   "display_name": "Python 3",
   "language": "python",
   "name": "python3"
  },
  "language_info": {
   "codemirror_mode": {
    "name": "ipython",
    "version": 3
   },
   "file_extension": ".py",
   "mimetype": "text/x-python",
   "name": "python",
   "nbconvert_exporter": "python",
   "pygments_lexer": "ipython3",
   "version": "3.7.3"
  }
 },
 "nbformat": 4,
 "nbformat_minor": 2
}

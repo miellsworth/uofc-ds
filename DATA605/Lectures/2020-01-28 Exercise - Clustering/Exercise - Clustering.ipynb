{
 "cells": [
  {
   "cell_type": "markdown",
   "metadata": {},
   "source": [
    "*(Adapt3ed from Eytan Adar's SI 370 — University of Michigan)*\n",
    "\n",
    "## Objectives:\n",
    "- Be able to perform hierarchical clustering and k-means clustering.\n",
    "- Know how and when to use different similarity functions, including Euclidean, Manhattan, Jaccard, and Cosine.\n",
    "- Be able to appropriately evaluate clustering results, with or without ground truth.\n",
    "- Be able to determine the number of clusters given a dataset without ground truth."
   ]
  },
  {
   "cell_type": "code",
   "execution_count": 1,
   "metadata": {},
   "outputs": [],
   "source": [
    "# Filter all warnings.\n",
    "# spurious warnings.\n",
    "import warnings\n",
    "warnings.filterwarnings('ignore')"
   ]
  },
  {
   "cell_type": "code",
   "execution_count": 2,
   "metadata": {},
   "outputs": [],
   "source": [
    "import numpy as np\n",
    "import scipy as sp\n",
    "import scipy.spatial.distance as spd\n",
    "import scipy.cluster.hierarchy as sph\n",
    "import sklearn as sk\n",
    "import sklearn.cluster as skc\n",
    "import pandas as pd\n",
    "import matplotlib.pyplot as plt\n",
    "\n",
    "%matplotlib inline\n",
    "import seaborn as sns\n",
    "sns.set(style='white', color_codes=True, font_scale=1.3)"
   ]
  },
  {
   "cell_type": "markdown",
   "metadata": {},
   "source": [
    "# 1. Hierarchical Clustering"
   ]
  },
  {
   "cell_type": "markdown",
   "metadata": {},
   "source": [
    "Let's start with a toy dataset that has two dimensions. There are three obvious clusters.\n",
    "\n",
    "Reference: https://github.com/herrfz/dataanalysis"
   ]
  },
  {
   "cell_type": "code",
   "execution_count": 22,
   "metadata": {},
   "outputs": [
    {
     "data": {
      "image/png": "[encoded data removed]",
      "text/plain": [
       "<Figure size 432x288 with 1 Axes>"
      ]
     },
     "metadata": {
      "needs_background": "light"
     },
     "output_type": "display_data"
    }
   ],
   "source": [
    "np.random.seed(0)\n",
    "x = np.random.randn(12) * 0.2 + np.repeat(np.arange(3)+1, 4)\n",
    "y = np.random.randn(12) * 0.2 + np.repeat(np.array([1,2,1]), 4)\n",
    "plt.scatter(x, y, s=70)\n",
    "for i, xi in enumerate(x):\n",
    "    plt.annotate(str(i), (xi+0.03, y[i]+0.03), fontsize=12)"
   ]
  },
  {
   "cell_type": "code",
   "execution_count": 23,
   "metadata": {},
   "outputs": [
    {
     "data": {
      "text/html": [
       "<div>\n",
       "<style scoped>\n",
       "    .dataframe tbody tr th:only-of-type {\n",
       "        vertical-align: middle;\n",
       "    }\n",
       "\n",
       "    .dataframe tbody tr th {\n",
       "        vertical-align: top;\n",
       "    }\n",
       "\n",
       "    .dataframe thead th {\n",
       "        text-align: right;\n",
       "    }\n",
       "</style>\n",
       "<table border=\"1\" class=\"dataframe\">\n",
       "  <thead>\n",
       "    <tr style=\"text-align: right;\">\n",
       "      <th></th>\n",
       "      <th>x</th>\n",
       "      <th>y</th>\n",
       "    </tr>\n",
       "  </thead>\n",
       "  <tbody>\n",
       "    <tr>\n",
       "      <th>0</th>\n",
       "      <td>1.352810</td>\n",
       "      <td>1.152208</td>\n",
       "    </tr>\n",
       "    <tr>\n",
       "      <th>1</th>\n",
       "      <td>1.080031</td>\n",
       "      <td>1.024335</td>\n",
       "    </tr>\n",
       "    <tr>\n",
       "      <th>2</th>\n",
       "      <td>1.195748</td>\n",
       "      <td>1.088773</td>\n",
       "    </tr>\n",
       "    <tr>\n",
       "      <th>3</th>\n",
       "      <td>1.448179</td>\n",
       "      <td>1.066735</td>\n",
       "    </tr>\n",
       "    <tr>\n",
       "      <th>4</th>\n",
       "      <td>2.373512</td>\n",
       "      <td>2.298816</td>\n",
       "    </tr>\n",
       "    <tr>\n",
       "      <th>5</th>\n",
       "      <td>1.804544</td>\n",
       "      <td>1.958968</td>\n",
       "    </tr>\n",
       "    <tr>\n",
       "      <th>6</th>\n",
       "      <td>2.190018</td>\n",
       "      <td>2.062614</td>\n",
       "    </tr>\n",
       "    <tr>\n",
       "      <th>7</th>\n",
       "      <td>1.969729</td>\n",
       "      <td>1.829181</td>\n",
       "    </tr>\n",
       "    <tr>\n",
       "      <th>8</th>\n",
       "      <td>2.979356</td>\n",
       "      <td>0.489402</td>\n",
       "    </tr>\n",
       "    <tr>\n",
       "      <th>9</th>\n",
       "      <td>3.082120</td>\n",
       "      <td>1.130724</td>\n",
       "    </tr>\n",
       "    <tr>\n",
       "      <th>10</th>\n",
       "      <td>3.028809</td>\n",
       "      <td>1.172887</td>\n",
       "    </tr>\n",
       "    <tr>\n",
       "      <th>11</th>\n",
       "      <td>3.290855</td>\n",
       "      <td>0.851567</td>\n",
       "    </tr>\n",
       "  </tbody>\n",
       "</table>\n",
       "</div>"
      ],
      "text/plain": [
       "           x         y\n",
       "0   1.352810  1.152208\n",
       "1   1.080031  1.024335\n",
       "2   1.195748  1.088773\n",
       "3   1.448179  1.066735\n",
       "4   2.373512  2.298816\n",
       "5   1.804544  1.958968\n",
       "6   2.190018  2.062614\n",
       "7   1.969729  1.829181\n",
       "8   2.979356  0.489402\n",
       "9   3.082120  1.130724\n",
       "10  3.028809  1.172887\n",
       "11  3.290855  0.851567"
      ]
     },
     "execution_count": 23,
     "metadata": {},
     "output_type": "execute_result"
    }
   ],
   "source": [
    "# Let's create a DataFrame.\n",
    "df_xy = pd.DataFrame({'x': x, 'y': y})\n",
    "df_xy"
   ]
  },
  {
   "cell_type": "code",
   "execution_count": 5,
   "metadata": {},
   "outputs": [
    {
     "data": {
      "text/plain": [
       "(12, 12)"
      ]
     },
     "execution_count": 5,
     "metadata": {},
     "output_type": "execute_result"
    }
   ],
   "source": [
    "# To perform hierarchical clustering, the first step is to compute \n",
    "# the distance matrix. We will be using the Euclidean distance.\n",
    "dist_xy = spd.squareform(spd.pdist(df_xy, metric='euclidean'))\n",
    "dist_xy.shape"
   ]
  },
  {
   "cell_type": "code",
   "execution_count": 6,
   "metadata": {},
   "outputs": [
    {
     "data": {
      "text/plain": [
       "array([[0.        , 0.30126365, 0.16938929, 0.12806509],\n",
       "       [0.30126365, 0.        , 0.13244787, 0.37058077],\n",
       "       [0.16938929, 0.13244787, 0.        , 0.25339119],\n",
       "       [0.12806509, 0.37058077, 0.25339119, 0.        ]])"
      ]
     },
     "execution_count": 6,
     "metadata": {},
     "output_type": "execute_result"
    }
   ],
   "source": [
    "# The matrix may be too large to display. So let's display a top-left\n",
    "# portion of it.\n",
    "dist_xy[:4,:4]"
   ]
  },
  {
   "cell_type": "markdown",
   "metadata": {},
   "source": [
    "Notice that in the matrix above, the diagnonal values are 0, which is\n",
    "expected: an object's distance to itself must be 0."
   ]
  },
  {
   "cell_type": "markdown",
   "metadata": {},
   "source": [
    "Before performing hierarchical clustering, let us review an important concept, \"linkage function.\"\n",
    " - For hierarchical clustering, a _linkage function_ is a distance function between two clusters. In scipy multiple different linkage functions are implemented, including single, complete, average, weighted, centroid, median, and ward. We will be using \"single\", which is taking the distance between two nearest points as the distance between two clusters. This is the default option. See [scipy documentation](http://docs.scipy.org/doc/scipy-0.16.0/reference/generated/scipy.cluster.hierarchy.linkage.html) for more details."
   ]
  },
  {
   "cell_type": "code",
   "execution_count": 7,
   "metadata": {},
   "outputs": [
    {
     "data": {
      "image/png": "[encoded data removed]",
      "text/plain": [
       "<Figure size 432x288 with 1 Axes>"
      ]
     },
     "metadata": {
      "needs_background": "light"
     },
     "output_type": "display_data"
    }
   ],
   "source": [
    "# Perform hierarchical clustering and plot the dendrogram.\n",
    "Z_xy = sph.linkage(dist_xy, method='single')  # obtain the linkage matrix\n",
    "_ = sph.dendrogram(Z_xy)  # plot the linkage matrix as a dendrogram\n",
    "plt.xlabel('Data Points')\n",
    "plt.ylabel('Distance')\n",
    "plt.suptitle('Dendrogram: 12-point toy data', \n",
    "             fontweight='bold', fontsize=14);"
   ]
  },
  {
   "cell_type": "markdown",
   "metadata": {},
   "source": [
    "In the above dendrogram, the y-axis depicts the distance at which a cluster is formed. This distance is obtained by evaluating the linkage function. We can see that the green cluster forms at around 1.0, then the next cluster forms at around 2.4. There is a large gap (on the y-axis) in between, which indicates that segmenting the data there may be a good choice. In fact, the scipy package automatically selects a threshold, below which the clusters are colored differently, and above which the clusters are all colored blue. This happens to match our interpretation."
   ]
  },
  {
   "cell_type": "markdown",
   "metadata": {},
   "source": [
    "Based on the above analysis, 2.0 seems to be a good distance threshold to \"clip\" the dendrogram and obtain our clustering results. The way to apply the clipping threshold is as follows:"
   ]
  },
  {
   "cell_type": "code",
   "execution_count": 8,
   "metadata": {},
   "outputs": [
    {
     "data": {
      "text/html": [
       "<div>\n",
       "<style scoped>\n",
       "    .dataframe tbody tr th:only-of-type {\n",
       "        vertical-align: middle;\n",
       "    }\n",
       "\n",
       "    .dataframe tbody tr th {\n",
       "        vertical-align: top;\n",
       "    }\n",
       "\n",
       "    .dataframe thead th {\n",
       "        text-align: right;\n",
       "    }\n",
       "</style>\n",
       "<table border=\"1\" class=\"dataframe\">\n",
       "  <thead>\n",
       "    <tr style=\"text-align: right;\">\n",
       "      <th></th>\n",
       "      <th>x</th>\n",
       "      <th>y</th>\n",
       "      <th>cluster_label</th>\n",
       "    </tr>\n",
       "  </thead>\n",
       "  <tbody>\n",
       "    <tr>\n",
       "      <th>0</th>\n",
       "      <td>1.352810</td>\n",
       "      <td>1.152208</td>\n",
       "      <td>2</td>\n",
       "    </tr>\n",
       "    <tr>\n",
       "      <th>1</th>\n",
       "      <td>1.080031</td>\n",
       "      <td>1.024335</td>\n",
       "      <td>2</td>\n",
       "    </tr>\n",
       "    <tr>\n",
       "      <th>2</th>\n",
       "      <td>1.195748</td>\n",
       "      <td>1.088773</td>\n",
       "      <td>2</td>\n",
       "    </tr>\n",
       "    <tr>\n",
       "      <th>3</th>\n",
       "      <td>1.448179</td>\n",
       "      <td>1.066735</td>\n",
       "      <td>2</td>\n",
       "    </tr>\n",
       "    <tr>\n",
       "      <th>4</th>\n",
       "      <td>2.373512</td>\n",
       "      <td>2.298816</td>\n",
       "      <td>3</td>\n",
       "    </tr>\n",
       "    <tr>\n",
       "      <th>5</th>\n",
       "      <td>1.804544</td>\n",
       "      <td>1.958968</td>\n",
       "      <td>3</td>\n",
       "    </tr>\n",
       "    <tr>\n",
       "      <th>6</th>\n",
       "      <td>2.190018</td>\n",
       "      <td>2.062614</td>\n",
       "      <td>3</td>\n",
       "    </tr>\n",
       "    <tr>\n",
       "      <th>7</th>\n",
       "      <td>1.969729</td>\n",
       "      <td>1.829181</td>\n",
       "      <td>3</td>\n",
       "    </tr>\n",
       "    <tr>\n",
       "      <th>8</th>\n",
       "      <td>2.979356</td>\n",
       "      <td>0.489402</td>\n",
       "      <td>1</td>\n",
       "    </tr>\n",
       "    <tr>\n",
       "      <th>9</th>\n",
       "      <td>3.082120</td>\n",
       "      <td>1.130724</td>\n",
       "      <td>1</td>\n",
       "    </tr>\n",
       "    <tr>\n",
       "      <th>10</th>\n",
       "      <td>3.028809</td>\n",
       "      <td>1.172887</td>\n",
       "      <td>1</td>\n",
       "    </tr>\n",
       "    <tr>\n",
       "      <th>11</th>\n",
       "      <td>3.290855</td>\n",
       "      <td>0.851567</td>\n",
       "      <td>1</td>\n",
       "    </tr>\n",
       "  </tbody>\n",
       "</table>\n",
       "</div>"
      ],
      "text/plain": [
       "           x         y  cluster_label\n",
       "0   1.352810  1.152208              2\n",
       "1   1.080031  1.024335              2\n",
       "2   1.195748  1.088773              2\n",
       "3   1.448179  1.066735              2\n",
       "4   2.373512  2.298816              3\n",
       "5   1.804544  1.958968              3\n",
       "6   2.190018  2.062614              3\n",
       "7   1.969729  1.829181              3\n",
       "8   2.979356  0.489402              1\n",
       "9   3.082120  1.130724              1\n",
       "10  3.028809  1.172887              1\n",
       "11  3.290855  0.851567              1"
      ]
     },
     "execution_count": 8,
     "metadata": {},
     "output_type": "execute_result"
    }
   ],
   "source": [
    "cluster_labels = sph.fcluster(Z_xy, 2.0, criterion='distance')\n",
    "df_xy['cluster_label'] = cluster_labels\n",
    "df_xy"
   ]
  },
  {
   "cell_type": "markdown",
   "metadata": {},
   "source": [
    "Compare the cluster_labels with the scatterplot at the beginning, we can see that hierarchical clustering indeed captures the actual clusters as expected."
   ]
  },
  {
   "cell_type": "markdown",
   "metadata": {},
   "source": [
    "Now it is your turn. Do the following exercise."
   ]
  },
  {
   "cell_type": "markdown",
   "metadata": {},
   "source": [
    "## Exercise:\n",
    "- Step 1: Import the Iris dataset and create a scatterplot, showing petal_lengths and petal_widths.\n",
    "- Step 2: Compute the distance matrix among irises using petal_lengths and petal_widths. Use Euclidean distance.\n",
    "- Step 3: Perform hierarchical clustering.\n",
    "- Step 4: Pick a distance threshold that results in 3 clusters that match the actual number of species."
   ]
  },
  {
   "cell_type": "code",
   "execution_count": 9,
   "metadata": {},
   "outputs": [
    {
     "data": {
      "image/png": "[encoded data removed]",
      "text/plain": [
       "<Figure size 472.605x360 with 1 Axes>"
      ]
     },
     "metadata": {
      "needs_background": "light"
     },
     "output_type": "display_data"
    }
   ],
   "source": [
    "# Step 1: Import the iris dataset and create scatterplot.\n",
    "# Show only petal_length and petal_width.\n",
    "df_iris = sns.load_dataset('iris')\n",
    "sns.lmplot(x='petal_length', y='petal_width', hue='species', \n",
    "           fit_reg=False, data=df_iris);"
   ]
  },
  {
   "cell_type": "code",
   "execution_count": 10,
   "metadata": {},
   "outputs": [
    {
     "data": {
      "text/plain": [
       "(150, 150)"
      ]
     },
     "execution_count": 10,
     "metadata": {},
     "output_type": "execute_result"
    }
   ],
   "source": [
    "# Step 2: Compute distance matrix. Using petal_length and petal_width only.\n",
    "# plpw means \"petal_length and petal_width\"\n",
    "dist_iris_plpw = spd.squareform(spd.pdist(\n",
    "        df_iris[['petal_length', 'petal_width']], \n",
    "        metric='euclidean'))\n",
    "dist_iris_plpw.shape"
   ]
  },
  {
   "cell_type": "code",
   "execution_count": 11,
   "metadata": {},
   "outputs": [
    {
     "data": {
      "image/png": "[encoded data removed]",
      "text/plain": [
       "<Figure size 432x288 with 1 Axes>"
      ]
     },
     "metadata": {
      "needs_background": "light"
     },
     "output_type": "display_data"
    }
   ],
   "source": [
    "# Perform hierarchical clustering and plot the dendrogram.\n",
    "iris_xy = sph.linkage(dist_iris_plpw, method='single')  # obtain the linkage matrix\n",
    "_ = sph.dendrogram(iris_xy)  # plot the linkage matrix as a dendrogram\n",
    "plt.xlabel('Data Points')\n",
    "plt.ylabel('Distance')\n",
    "plt.suptitle('Dendrogram: 12-point toy data', \n",
    "             fontweight='bold', fontsize=14);"
   ]
  },
  {
   "cell_type": "code",
   "execution_count": 17,
   "metadata": {},
   "outputs": [
    {
     "data": {
      "text/html": [
       "<div>\n",
       "<style scoped>\n",
       "    .dataframe tbody tr th:only-of-type {\n",
       "        vertical-align: middle;\n",
       "    }\n",
       "\n",
       "    .dataframe tbody tr th {\n",
       "        vertical-align: top;\n",
       "    }\n",
       "\n",
       "    .dataframe thead th {\n",
       "        text-align: right;\n",
       "    }\n",
       "</style>\n",
       "<table border=\"1\" class=\"dataframe\">\n",
       "  <thead>\n",
       "    <tr style=\"text-align: right;\">\n",
       "      <th></th>\n",
       "      <th>sepal_length</th>\n",
       "      <th>sepal_width</th>\n",
       "      <th>petal_length</th>\n",
       "      <th>petal_width</th>\n",
       "      <th>species</th>\n",
       "      <th>cluster_label</th>\n",
       "    </tr>\n",
       "  </thead>\n",
       "  <tbody>\n",
       "    <tr>\n",
       "      <th>0</th>\n",
       "      <td>5.1</td>\n",
       "      <td>3.5</td>\n",
       "      <td>1.4</td>\n",
       "      <td>0.2</td>\n",
       "      <td>setosa</td>\n",
       "      <td>1</td>\n",
       "    </tr>\n",
       "    <tr>\n",
       "      <th>1</th>\n",
       "      <td>4.9</td>\n",
       "      <td>3.0</td>\n",
       "      <td>1.4</td>\n",
       "      <td>0.2</td>\n",
       "      <td>setosa</td>\n",
       "      <td>1</td>\n",
       "    </tr>\n",
       "    <tr>\n",
       "      <th>2</th>\n",
       "      <td>4.7</td>\n",
       "      <td>3.2</td>\n",
       "      <td>1.3</td>\n",
       "      <td>0.2</td>\n",
       "      <td>setosa</td>\n",
       "      <td>1</td>\n",
       "    </tr>\n",
       "    <tr>\n",
       "      <th>3</th>\n",
       "      <td>4.6</td>\n",
       "      <td>3.1</td>\n",
       "      <td>1.5</td>\n",
       "      <td>0.2</td>\n",
       "      <td>setosa</td>\n",
       "      <td>1</td>\n",
       "    </tr>\n",
       "    <tr>\n",
       "      <th>4</th>\n",
       "      <td>5.0</td>\n",
       "      <td>3.6</td>\n",
       "      <td>1.4</td>\n",
       "      <td>0.2</td>\n",
       "      <td>setosa</td>\n",
       "      <td>1</td>\n",
       "    </tr>\n",
       "  </tbody>\n",
       "</table>\n",
       "</div>"
      ],
      "text/plain": [
       "   sepal_length  sepal_width  petal_length  petal_width species  cluster_label\n",
       "0           5.1          3.5           1.4          0.2  setosa              1\n",
       "1           4.9          3.0           1.4          0.2  setosa              1\n",
       "2           4.7          3.2           1.3          0.2  setosa              1\n",
       "3           4.6          3.1           1.5          0.2  setosa              1\n",
       "4           5.0          3.6           1.4          0.2  setosa              1"
      ]
     },
     "execution_count": 17,
     "metadata": {},
     "output_type": "execute_result"
    }
   ],
   "source": [
    "# Add  labels back to the dataframe\n",
    "iris_labels = sph.fcluster(iris_xy, 2.8, criterion='distance')\n",
    "df_iris['cluster_label'] = iris_labels\n",
    "df_iris.head()"
   ]
  },
  {
   "cell_type": "code",
   "execution_count": 18,
   "metadata": {},
   "outputs": [
    {
     "data": {
      "image/png": "[encoded data removed]",
      "text/plain": [
       "<Figure size 446.19x360 with 1 Axes>"
      ]
     },
     "metadata": {
      "needs_background": "light"
     },
     "output_type": "display_data"
    }
   ],
   "source": [
    "# Plot\n",
    "sns.lmplot(x='petal_length', y='petal_width', hue='cluster_label', \n",
    "           fit_reg=False, data=df_iris);"
   ]
  },
  {
   "cell_type": "markdown",
   "metadata": {},
   "source": [
    "# 2. k-means"
   ]
  },
  {
   "cell_type": "code",
   "execution_count": 24,
   "metadata": {},
   "outputs": [
    {
     "data": {
      "image/png": "[encoded data removed]",
      "text/plain": [
       "<Figure size 432x288 with 1 Axes>"
      ]
     },
     "metadata": {
      "needs_background": "light"
     },
     "output_type": "display_data"
    }
   ],
   "source": [
    "# Let's first revisit the 12-point toy dataset.\n",
    "plt.scatter(df_xy.x, df_xy.y, s=70)\n",
    "for i, xi in enumerate(df_xy.x):\n",
    "    plt.annotate(str(i), (xi+0.03, df_xy.y[i]+0.03))"
   ]
  },
  {
   "cell_type": "code",
   "execution_count": 25,
   "metadata": {},
   "outputs": [
    {
     "data": {
      "text/html": [
       "<div>\n",
       "<style scoped>\n",
       "    .dataframe tbody tr th:only-of-type {\n",
       "        vertical-align: middle;\n",
       "    }\n",
       "\n",
       "    .dataframe tbody tr th {\n",
       "        vertical-align: top;\n",
       "    }\n",
       "\n",
       "    .dataframe thead th {\n",
       "        text-align: right;\n",
       "    }\n",
       "</style>\n",
       "<table border=\"1\" class=\"dataframe\">\n",
       "  <thead>\n",
       "    <tr style=\"text-align: right;\">\n",
       "      <th></th>\n",
       "      <th>x</th>\n",
       "      <th>y</th>\n",
       "    </tr>\n",
       "  </thead>\n",
       "  <tbody>\n",
       "    <tr>\n",
       "      <th>0</th>\n",
       "      <td>1.352810</td>\n",
       "      <td>1.152208</td>\n",
       "    </tr>\n",
       "    <tr>\n",
       "      <th>1</th>\n",
       "      <td>1.080031</td>\n",
       "      <td>1.024335</td>\n",
       "    </tr>\n",
       "    <tr>\n",
       "      <th>2</th>\n",
       "      <td>1.195748</td>\n",
       "      <td>1.088773</td>\n",
       "    </tr>\n",
       "    <tr>\n",
       "      <th>3</th>\n",
       "      <td>1.448179</td>\n",
       "      <td>1.066735</td>\n",
       "    </tr>\n",
       "    <tr>\n",
       "      <th>4</th>\n",
       "      <td>2.373512</td>\n",
       "      <td>2.298816</td>\n",
       "    </tr>\n",
       "    <tr>\n",
       "      <th>5</th>\n",
       "      <td>1.804544</td>\n",
       "      <td>1.958968</td>\n",
       "    </tr>\n",
       "    <tr>\n",
       "      <th>6</th>\n",
       "      <td>2.190018</td>\n",
       "      <td>2.062614</td>\n",
       "    </tr>\n",
       "    <tr>\n",
       "      <th>7</th>\n",
       "      <td>1.969729</td>\n",
       "      <td>1.829181</td>\n",
       "    </tr>\n",
       "    <tr>\n",
       "      <th>8</th>\n",
       "      <td>2.979356</td>\n",
       "      <td>0.489402</td>\n",
       "    </tr>\n",
       "    <tr>\n",
       "      <th>9</th>\n",
       "      <td>3.082120</td>\n",
       "      <td>1.130724</td>\n",
       "    </tr>\n",
       "    <tr>\n",
       "      <th>10</th>\n",
       "      <td>3.028809</td>\n",
       "      <td>1.172887</td>\n",
       "    </tr>\n",
       "    <tr>\n",
       "      <th>11</th>\n",
       "      <td>3.290855</td>\n",
       "      <td>0.851567</td>\n",
       "    </tr>\n",
       "  </tbody>\n",
       "</table>\n",
       "</div>"
      ],
      "text/plain": [
       "           x         y\n",
       "0   1.352810  1.152208\n",
       "1   1.080031  1.024335\n",
       "2   1.195748  1.088773\n",
       "3   1.448179  1.066735\n",
       "4   2.373512  2.298816\n",
       "5   1.804544  1.958968\n",
       "6   2.190018  2.062614\n",
       "7   1.969729  1.829181\n",
       "8   2.979356  0.489402\n",
       "9   3.082120  1.130724\n",
       "10  3.028809  1.172887\n",
       "11  3.290855  0.851567"
      ]
     },
     "execution_count": 25,
     "metadata": {},
     "output_type": "execute_result"
    }
   ],
   "source": [
    "df_xy"
   ]
  },
  {
   "cell_type": "code",
   "execution_count": 26,
   "metadata": {},
   "outputs": [
    {
     "data": {
      "text/plain": [
       "array([[2.08445057, 2.03739464],\n",
       "       [1.26919204, 1.08301252],\n",
       "       [3.09528484, 0.911145  ]])"
      ]
     },
     "execution_count": 26,
     "metadata": {},
     "output_type": "execute_result"
    }
   ],
   "source": [
    "# Perform k-means using the scikit-learn package\n",
    "kmeans_model = skc.KMeans(n_clusters=3)\n",
    "\n",
    "# Pass in dataframe with .fit method\n",
    "kmeans_model.fit(df_xy)\n",
    "centroids = kmeans_model.cluster_centers_\n",
    "centroids  # these are the centers of the clusters"
   ]
  },
  {
   "cell_type": "code",
   "execution_count": 27,
   "metadata": {},
   "outputs": [
    {
     "data": {
      "text/plain": [
       "array([1, 1, 1, 1, 0, 0, 0, 0, 2, 2, 2, 2], dtype=int32)"
      ]
     },
     "execution_count": 27,
     "metadata": {},
     "output_type": "execute_result"
    }
   ],
   "source": [
    "# See cluster_labels\n",
    "kmeans_model.labels_"
   ]
  },
  {
   "cell_type": "code",
   "execution_count": 28,
   "metadata": {
    "scrolled": true
   },
   "outputs": [
    {
     "data": {
      "image/png": "[encoded data removed]",
      "text/plain": [
       "<Figure size 614.565x360 with 1 Axes>"
      ]
     },
     "metadata": {
      "needs_background": "light"
     },
     "output_type": "display_data"
    }
   ],
   "source": [
    "# Plot the clusters with their centroids.\n",
    "df_xy['cluster_labels_kmeans'] = kmeans_model.labels_\n",
    "f = sns.lmplot(x='x', y='y', data=df_xy, hue='cluster_labels_kmeans',\n",
    "               fit_reg=False, size=5, aspect=1.3)\n",
    "f.ax.scatter(centroids[:,0], centroids[:,1], marker='+', s=100,\n",
    "             linewidths=2, color='k');\n",
    "_ = plt.title('12-point dataset with K-means centroids (k=3)', fontsize=15)"
   ]
  },
  {
   "cell_type": "markdown",
   "metadata": {},
   "source": [
    "# 3. Distance Metrics"
   ]
  },
  {
   "cell_type": "code",
   "execution_count": 29,
   "metadata": {},
   "outputs": [],
   "source": [
    "traits = [\n",
    "    ('Alice', ['Accessible', 'Confident', 'Creative', 'Sweet']),\n",
    "    ('Bob', ['Strong', 'Confident', 'Creative','Tidy']),\n",
    "    ('Charlie', ['Confident', 'Strong', 'Accessible', 'Sweet']),\n",
    "    ('Dacy', ['Accessible', 'Strong', 'Tidy', 'Confident']),\n",
    "    ('Emily', ['Reserved', 'Cute', 'Quiet', 'Impassive']),\n",
    "    ('Fred', ['Cute', 'Impassive', 'Gentle','Confident']),\n",
    "    ('George', ['Cute', 'Quiet', 'Reserved', 'Confident'])\n",
    "]"
   ]
  },
  {
   "cell_type": "code",
   "execution_count": 30,
   "metadata": {
    "scrolled": true
   },
   "outputs": [
    {
     "data": {
      "text/html": [
       "<div>\n",
       "<style scoped>\n",
       "    .dataframe tbody tr th:only-of-type {\n",
       "        vertical-align: middle;\n",
       "    }\n",
       "\n",
       "    .dataframe tbody tr th {\n",
       "        vertical-align: top;\n",
       "    }\n",
       "\n",
       "    .dataframe thead th {\n",
       "        text-align: right;\n",
       "    }\n",
       "</style>\n",
       "<table border=\"1\" class=\"dataframe\">\n",
       "  <thead>\n",
       "    <tr style=\"text-align: right;\">\n",
       "      <th></th>\n",
       "      <th>Accessible</th>\n",
       "      <th>Confident</th>\n",
       "      <th>Creative</th>\n",
       "      <th>Cute</th>\n",
       "      <th>Gentle</th>\n",
       "      <th>Impassive</th>\n",
       "      <th>Quiet</th>\n",
       "      <th>Reserved</th>\n",
       "      <th>Strong</th>\n",
       "      <th>Sweet</th>\n",
       "      <th>Tidy</th>\n",
       "    </tr>\n",
       "  </thead>\n",
       "  <tbody>\n",
       "    <tr>\n",
       "      <th>Alice</th>\n",
       "      <td>1</td>\n",
       "      <td>1</td>\n",
       "      <td>1</td>\n",
       "      <td>0</td>\n",
       "      <td>0</td>\n",
       "      <td>0</td>\n",
       "      <td>0</td>\n",
       "      <td>0</td>\n",
       "      <td>0</td>\n",
       "      <td>1</td>\n",
       "      <td>0</td>\n",
       "    </tr>\n",
       "    <tr>\n",
       "      <th>Bob</th>\n",
       "      <td>0</td>\n",
       "      <td>1</td>\n",
       "      <td>1</td>\n",
       "      <td>0</td>\n",
       "      <td>0</td>\n",
       "      <td>0</td>\n",
       "      <td>0</td>\n",
       "      <td>0</td>\n",
       "      <td>1</td>\n",
       "      <td>0</td>\n",
       "      <td>1</td>\n",
       "    </tr>\n",
       "    <tr>\n",
       "      <th>Charlie</th>\n",
       "      <td>1</td>\n",
       "      <td>1</td>\n",
       "      <td>0</td>\n",
       "      <td>0</td>\n",
       "      <td>0</td>\n",
       "      <td>0</td>\n",
       "      <td>0</td>\n",
       "      <td>0</td>\n",
       "      <td>1</td>\n",
       "      <td>1</td>\n",
       "      <td>0</td>\n",
       "    </tr>\n",
       "    <tr>\n",
       "      <th>Dacy</th>\n",
       "      <td>1</td>\n",
       "      <td>1</td>\n",
       "      <td>0</td>\n",
       "      <td>0</td>\n",
       "      <td>0</td>\n",
       "      <td>0</td>\n",
       "      <td>0</td>\n",
       "      <td>0</td>\n",
       "      <td>1</td>\n",
       "      <td>0</td>\n",
       "      <td>1</td>\n",
       "    </tr>\n",
       "    <tr>\n",
       "      <th>Emily</th>\n",
       "      <td>0</td>\n",
       "      <td>0</td>\n",
       "      <td>0</td>\n",
       "      <td>1</td>\n",
       "      <td>0</td>\n",
       "      <td>1</td>\n",
       "      <td>1</td>\n",
       "      <td>1</td>\n",
       "      <td>0</td>\n",
       "      <td>0</td>\n",
       "      <td>0</td>\n",
       "    </tr>\n",
       "    <tr>\n",
       "      <th>Fred</th>\n",
       "      <td>0</td>\n",
       "      <td>1</td>\n",
       "      <td>0</td>\n",
       "      <td>1</td>\n",
       "      <td>1</td>\n",
       "      <td>1</td>\n",
       "      <td>0</td>\n",
       "      <td>0</td>\n",
       "      <td>0</td>\n",
       "      <td>0</td>\n",
       "      <td>0</td>\n",
       "    </tr>\n",
       "    <tr>\n",
       "      <th>George</th>\n",
       "      <td>0</td>\n",
       "      <td>1</td>\n",
       "      <td>0</td>\n",
       "      <td>1</td>\n",
       "      <td>0</td>\n",
       "      <td>0</td>\n",
       "      <td>1</td>\n",
       "      <td>1</td>\n",
       "      <td>0</td>\n",
       "      <td>0</td>\n",
       "      <td>0</td>\n",
       "    </tr>\n",
       "  </tbody>\n",
       "</table>\n",
       "</div>"
      ],
      "text/plain": [
       "         Accessible  Confident  Creative  Cute  Gentle  Impassive  Quiet  \\\n",
       "Alice             1          1         1     0       0          0      0   \n",
       "Bob               0          1         1     0       0          0      0   \n",
       "Charlie           1          1         0     0       0          0      0   \n",
       "Dacy              1          1         0     0       0          0      0   \n",
       "Emily             0          0         0     1       0          1      1   \n",
       "Fred              0          1         0     1       1          1      0   \n",
       "George            0          1         0     1       0          0      1   \n",
       "\n",
       "         Reserved  Strong  Sweet  Tidy  \n",
       "Alice           0       0      1     0  \n",
       "Bob             0       1      0     1  \n",
       "Charlie         0       1      1     0  \n",
       "Dacy            0       1      0     1  \n",
       "Emily           1       0      0     0  \n",
       "Fred            0       0      0     0  \n",
       "George          1       0      0     0  "
      ]
     },
     "execution_count": 30,
     "metadata": {},
     "output_type": "execute_result"
    }
   ],
   "source": [
    "# In order to make computation easier, let's create dummy variables \n",
    "# for traits. You should be able to understand what is going on below.\n",
    "\n",
    "# First, obtain a unique list of traits.\n",
    "all_traits = sorted({t for x in traits for t in x[1]})\n",
    "\n",
    "# Second, create dummy variables.\n",
    "traits_dummy = []\n",
    "for name, ts in traits:\n",
    "    tis = [0] * len(all_traits)\n",
    "    for t in ts:\n",
    "        tis[all_traits.index(t)] = 1\n",
    "    traits_dummy.append(tis)\n",
    "\n",
    "# Third, create a DataFrame.\n",
    "names = [x[0] for x in traits]\n",
    "df_traits = pd.DataFrame(traits_dummy, columns=all_traits, index=names)\n",
    "df_traits"
   ]
  },
  {
   "cell_type": "code",
   "execution_count": 31,
   "metadata": {},
   "outputs": [
    {
     "data": {
      "text/plain": [
       "array([[1.        , 1.        , 0.5       , 0.        , 0.        ,\n",
       "        0.        , 0.        , 0.        , 0.5       , 1.        ,\n",
       "        0.        ],\n",
       "       [0.        , 0.66666667, 0.        , 1.        , 0.33333333,\n",
       "        0.66666667, 0.66666667, 0.66666667, 0.        , 0.        ,\n",
       "        0.        ],\n",
       "       [0.5       , 1.        , 0.5       , 0.        , 0.        ,\n",
       "        0.        , 0.        , 0.        , 1.        , 0.        ,\n",
       "        1.        ]])"
      ]
     },
     "execution_count": 31,
     "metadata": {},
     "output_type": "execute_result"
    }
   ],
   "source": [
    "kmeans_model = skc.KMeans(n_clusters=3)\n",
    "kmeans_model.fit(df_traits)\n",
    "centroids = kmeans_model.cluster_centers_\n",
    "centroids"
   ]
  },
  {
   "cell_type": "code",
   "execution_count": 32,
   "metadata": {},
   "outputs": [
    {
     "data": {
      "text/plain": [
       "array([0, 2, 0, 2, 1, 1, 1], dtype=int32)"
      ]
     },
     "execution_count": 32,
     "metadata": {},
     "output_type": "execute_result"
    }
   ],
   "source": [
    "kmeans_model.labels_"
   ]
  },
  {
   "cell_type": "markdown",
   "metadata": {},
   "source": [
    "Let's try different distance measures between Alice and Bob.\n",
    "We've copied their traits down here:\n",
    "\n",
    " ('Alice', ['Accessible', 'Confident', 'Creative', 'Sweet']),\n",
    "\n",
    " ('Bob', ['Strong', 'Confident', 'Creative','Sporting']),\n",
    "\n",
    "Notice they have 4 traits each and they share 2 traits in common."
   ]
  },
  {
   "cell_type": "code",
   "execution_count": 33,
   "metadata": {},
   "outputs": [
    {
     "data": {
      "text/plain": [
       "2.0"
      ]
     },
     "execution_count": 33,
     "metadata": {},
     "output_type": "execute_result"
    }
   ],
   "source": [
    "# (1) Euclidean distance:\n",
    "#     by definition, this will be sqrt(1^2 + 1^2 + 1^2 + 1^2)\n",
    "spd.euclidean(df_traits.loc['Alice'], df_traits.loc['Bob'])"
   ]
  },
  {
   "cell_type": "code",
   "execution_count": 34,
   "metadata": {},
   "outputs": [
    {
     "data": {
      "text/plain": [
       "0.6666666666666666"
      ]
     },
     "execution_count": 34,
     "metadata": {},
     "output_type": "execute_result"
    }
   ],
   "source": [
    "# (2) Jaccard distance:\n",
    "#     by definition, this will be 1 - (2 / 6)\n",
    "spd.jaccard(df_traits.loc['Alice'], df_traits.loc['Bob'])"
   ]
  },
  {
   "cell_type": "code",
   "execution_count": 35,
   "metadata": {},
   "outputs": [
    {
     "data": {
      "text/plain": [
       "4"
      ]
     },
     "execution_count": 35,
     "metadata": {},
     "output_type": "execute_result"
    }
   ],
   "source": [
    "# (3) Manhattan (cityblock) distance:\n",
    "#     by definition, this will be 1 + 1 + 1 + 1\n",
    "spd.cityblock(df_traits.loc['Alice'], df_traits.loc['Bob'])"
   ]
  },
  {
   "cell_type": "code",
   "execution_count": 36,
   "metadata": {},
   "outputs": [
    {
     "data": {
      "text/plain": [
       "0.5"
      ]
     },
     "execution_count": 36,
     "metadata": {},
     "output_type": "execute_result"
    }
   ],
   "source": [
    "# (4) Cosine distance\n",
    "#     by definition, this will be 1 - 2 / (2 * 2)\n",
    "spd.cosine(df_traits.loc['Alice'], df_traits.loc['Bob'])"
   ]
  },
  {
   "cell_type": "code",
   "execution_count": 37,
   "metadata": {},
   "outputs": [
    {
     "data": {
      "text/plain": [
       "array([[0.  , 0.5 , 0.25, 0.5 ],\n",
       "       [0.5 , 0.  , 0.5 , 0.25],\n",
       "       [0.25, 0.5 , 0.  , 0.25],\n",
       "       [0.5 , 0.25, 0.25, 0.  ]])"
      ]
     },
     "execution_count": 37,
     "metadata": {},
     "output_type": "execute_result"
    }
   ],
   "source": [
    "# As we have seen in Section 1, you can compute pairwise distance like\n",
    "# below, using any of the distance measurements. \n",
    "dist_traits = spd.squareform(spd.pdist(df_traits, 'cosine'))\n",
    "dist_traits[:4,:4]  # to save space, only show the top left 4x4 block"
   ]
  },
  {
   "cell_type": "markdown",
   "metadata": {},
   "source": [
    "# 4. Determining the Number of Clusters"
   ]
  },
  {
   "cell_type": "markdown",
   "metadata": {},
   "source": [
    "A number of clustering methods, such as k-means, assumes the parameter _k_ (#clusters) is known in advance, which is often not the case in practice. A number of techniques exist for determining the number of clusters in a dataset. See [this Wikipedia page](https://en.wikipedia.org/wiki/Determining_the_number_of_clusters_in_a_data_set#Information_Criterion_Approach) for a detailed discussion.\n",
    "\n",
    "In this section, we focus on four of the approaches:\n",
    "1. Rule of thumb\n",
    "2. The Elbow Method\n",
    "\n",
    "For this section, let us use `df_xy`, the dataset we created in Section 1. Obviously, there are 3 natural clusters in the dataset. Let us see if all the methods listed above will be able to recover the true number of clusters."
   ]
  },
  {
   "cell_type": "markdown",
   "metadata": {},
   "source": [
    "## 4.1 Rule of thumb:\n",
    "Choosing the number of clusters to simply be\n",
    "\n",
    "$$\n",
    "k \\approx \\sqrt{n/2}\n",
    "$$\n",
    "\n",
    "where $n$ is the number of observations."
   ]
  },
  {
   "cell_type": "code",
   "execution_count": 38,
   "metadata": {},
   "outputs": [
    {
     "data": {
      "text/plain": [
       "<matplotlib.collections.PathCollection at 0x1a1befed68>"
      ]
     },
     "execution_count": 38,
     "metadata": {},
     "output_type": "execute_result"
    },
    {
     "data": {
      "image/png": "[encoded data removed]",
      "text/plain": [
       "<Figure size 432x288 with 1 Axes>"
      ]
     },
     "metadata": {
      "needs_background": "light"
     },
     "output_type": "display_data"
    }
   ],
   "source": [
    "# Recall df_xy used in the first section.\n",
    "plt.scatter(df_xy.x, df_xy.y)"
   ]
  },
  {
   "cell_type": "code",
   "execution_count": 39,
   "metadata": {},
   "outputs": [
    {
     "data": {
      "text/plain": [
       "2.449489742783178"
      ]
     },
     "execution_count": 39,
     "metadata": {},
     "output_type": "execute_result"
    }
   ],
   "source": [
    "# To determine the natural cluster\n",
    "np.sqrt(len(df_xy) / 2)"
   ]
  },
  {
   "cell_type": "code",
   "execution_count": 30,
   "metadata": {},
   "outputs": [
    {
     "data": {
      "text/plain": [
       "2.0"
      ]
     },
     "execution_count": 30,
     "metadata": {},
     "output_type": "execute_result"
    }
   ],
   "source": [
    "# Round this number to an integer\n",
    "np.round(np.sqrt(len(df_xy) / 2))"
   ]
  },
  {
   "cell_type": "markdown",
   "metadata": {},
   "source": [
    "This is not what we desired. We wanted k to be 3."
   ]
  },
  {
   "cell_type": "markdown",
   "metadata": {},
   "source": [
    "## 4.2 The Elbow Method\n",
    "See [here](https://en.wikipedia.org/wiki/Determining_the_number_of_clusters_in_a_data_set#The_Elbow_Method) for an explanation.\n",
    "\n",
    "Implementation Reference: https://github.com/nborwankar/LearnDataScience"
   ]
  },
  {
   "cell_type": "code",
   "execution_count": 31,
   "metadata": {},
   "outputs": [
    {
     "data": {
      "image/png": "[encoded data removed]",
      "text/plain": [
       "<Figure size 432x288 with 1 Axes>"
      ]
     },
     "metadata": {
      "needs_background": "light"
     },
     "output_type": "display_data"
    }
   ],
   "source": [
    "X = df_xy.iloc[:,:2]  # Using the the dataset of Section 1\n",
    "K = range(1,11)  # Apply kmeans 1 to 10\n",
    "kmeans_models = [skc.KMeans(k).fit(X) for k in K]\n",
    "centroids = [m.cluster_centers_ for m in kmeans_models]\n",
    "D_k = [spd.cdist(X, cent, 'euclidean') for cent in centroids]\n",
    "cIdx = [np.argmin(D,axis=1) for D in D_k]\n",
    "dist = [np.min(D,axis=1) for D in D_k]\n",
    "avgWithinSS = [sum(d)/X.shape[0] for d in dist]\n",
    "\n",
    "# plot elbow curve\n",
    "plt.plot(K, avgWithinSS, 'b*-')\n",
    "plt.xlabel('Number of clusters');\n",
    "plt.ylabel('Average within-cluster sum of squares');\n",
    "plt.title('Elbow for K-Means clustering');"
   ]
  },
  {
   "cell_type": "markdown",
   "metadata": {},
   "source": [
    "According to the graph above, the \"within-cluster sum of squares\" (i.e., within-cluster variance) reduces as the number of clusters (k) grows. However, as k grows larger, the marginal reduction drops. At some point, this drop is so obvious that it forms a visible \"angle\" in the graph. The number of clusters is then chosen at this point, hence the \"elbow\" criterion\". The \"elbow\" is not always easily identifiable.\n",
    "\n",
    "In the above plot, we can manually identify k=3 as the \"elbow\" point."
   ]
  },
  {
   "cell_type": "markdown",
   "metadata": {},
   "source": [
    "# With the World Development Indicators\n",
    "Try some different clustering approaches with the World Bank dataset. What happens if you change the set of columns included in the clustering? The number of clusters? What plot you visualize them on?"
   ]
  },
  {
   "cell_type": "code",
   "execution_count": 40,
   "metadata": {},
   "outputs": [
    {
     "data": {
      "text/html": [
       "<div>\n",
       "<style scoped>\n",
       "    .dataframe tbody tr th:only-of-type {\n",
       "        vertical-align: middle;\n",
       "    }\n",
       "\n",
       "    .dataframe tbody tr th {\n",
       "        vertical-align: top;\n",
       "    }\n",
       "\n",
       "    .dataframe thead th {\n",
       "        text-align: right;\n",
       "    }\n",
       "</style>\n",
       "<table border=\"1\" class=\"dataframe\">\n",
       "  <thead>\n",
       "    <tr style=\"text-align: right;\">\n",
       "      <th></th>\n",
       "      <th>Country</th>\n",
       "      <th>Fertility rate (births/woman)</th>\n",
       "      <th>Life expectancy at birth (years)</th>\n",
       "      <th>GDP (USD)</th>\n",
       "      <th>Population density (people/km2)</th>\n",
       "      <th>GDP per capita growth (%/yr)</th>\n",
       "      <th>Income per capita (USD)</th>\n",
       "      <th>CO2 emissions (tons per capita)</th>\n",
       "    </tr>\n",
       "  </thead>\n",
       "  <tbody>\n",
       "    <tr>\n",
       "      <th>0</th>\n",
       "      <td>Qatar</td>\n",
       "      <td>2.070</td>\n",
       "      <td>79.108</td>\n",
       "      <td>1.251223e+11</td>\n",
       "      <td>159.890353</td>\n",
       "      <td>6.618785</td>\n",
       "      <td>41865.062795</td>\n",
       "      <td>39.059708</td>\n",
       "    </tr>\n",
       "    <tr>\n",
       "      <th>1</th>\n",
       "      <td>Cameroon</td>\n",
       "      <td>5.111</td>\n",
       "      <td>55.101</td>\n",
       "      <td>2.614382e+10</td>\n",
       "      <td>43.031121</td>\n",
       "      <td>0.619380</td>\n",
       "      <td>1059.839636</td>\n",
       "      <td>0.333327</td>\n",
       "    </tr>\n",
       "    <tr>\n",
       "      <th>2</th>\n",
       "      <td>Ethiopia</td>\n",
       "      <td>5.136</td>\n",
       "      <td>61.627</td>\n",
       "      <td>2.993379e+10</td>\n",
       "      <td>87.639964</td>\n",
       "      <td>9.460597</td>\n",
       "      <td>259.077562</td>\n",
       "      <td>0.075148</td>\n",
       "    </tr>\n",
       "    <tr>\n",
       "      <th>3</th>\n",
       "      <td>Mauritania</td>\n",
       "      <td>4.980</td>\n",
       "      <td>62.527</td>\n",
       "      <td>4.337794e+09</td>\n",
       "      <td>3.390118</td>\n",
       "      <td>1.751621</td>\n",
       "      <td>836.635449</td>\n",
       "      <td>0.640167</td>\n",
       "    </tr>\n",
       "    <tr>\n",
       "      <th>4</th>\n",
       "      <td>Saudi Arabia</td>\n",
       "      <td>2.970</td>\n",
       "      <td>73.917</td>\n",
       "      <td>5.282072e+11</td>\n",
       "      <td>12.756007</td>\n",
       "      <td>2.008917</td>\n",
       "      <td>15762.798652</td>\n",
       "      <td>18.908248</td>\n",
       "    </tr>\n",
       "  </tbody>\n",
       "</table>\n",
       "</div>"
      ],
      "text/plain": [
       "        Country  Fertility rate (births/woman)  \\\n",
       "0         Qatar                          2.070   \n",
       "1      Cameroon                          5.111   \n",
       "2      Ethiopia                          5.136   \n",
       "3    Mauritania                          4.980   \n",
       "4  Saudi Arabia                          2.970   \n",
       "\n",
       "   Life expectancy at birth (years)     GDP (USD)  \\\n",
       "0                            79.108  1.251223e+11   \n",
       "1                            55.101  2.614382e+10   \n",
       "2                            61.627  2.993379e+10   \n",
       "3                            62.527  4.337794e+09   \n",
       "4                            73.917  5.282072e+11   \n",
       "\n",
       "   Population density (people/km2)  GDP per capita growth (%/yr)  \\\n",
       "0                       159.890353                      6.618785   \n",
       "1                        43.031121                      0.619380   \n",
       "2                        87.639964                      9.460597   \n",
       "3                         3.390118                      1.751621   \n",
       "4                        12.756007                      2.008917   \n",
       "\n",
       "   Income per capita (USD)  CO2 emissions (tons per capita)  \n",
       "0             41865.062795                        39.059708  \n",
       "1              1059.839636                         0.333327  \n",
       "2               259.077562                         0.075148  \n",
       "3               836.635449                         0.640167  \n",
       "4             15762.798652                        18.908248  "
      ]
     },
     "execution_count": 40,
     "metadata": {},
     "output_type": "execute_result"
    }
   ],
   "source": [
    "my_csv = '2010-WorldBank-WorldDevelopmentIndicators.csv'\n",
    "df_wdi = pd.read_csv(my_csv)\n",
    "df_wdi = df_wdi.dropna()\n",
    "df_wdi.head()"
   ]
  },
  {
   "cell_type": "code",
   "execution_count": 41,
   "metadata": {},
   "outputs": [],
   "source": [
    "# Choose which set of columns to cluster by\n",
    "country = df_wdi['Country'].dropna()  # Extract the country name\n",
    "df_wdi_cluster_cols = df_wdi[['Fertility rate (births/woman)', \n",
    "                              'Life expectancy at birth (years)',\n",
    "                              'Income per capita (USD)']]"
   ]
  },
  {
   "cell_type": "code",
   "execution_count": 42,
   "metadata": {},
   "outputs": [
    {
     "data": {
      "text/html": [
       "<div>\n",
       "<style scoped>\n",
       "    .dataframe tbody tr th:only-of-type {\n",
       "        vertical-align: middle;\n",
       "    }\n",
       "\n",
       "    .dataframe tbody tr th {\n",
       "        vertical-align: top;\n",
       "    }\n",
       "\n",
       "    .dataframe thead tr th {\n",
       "        text-align: left;\n",
       "    }\n",
       "</style>\n",
       "<table border=\"1\" class=\"dataframe\">\n",
       "  <thead>\n",
       "    <tr>\n",
       "      <th></th>\n",
       "      <th>Fertility rate (births/woman)</th>\n",
       "      <th>Life expectancy at birth (years)</th>\n",
       "      <th>Income per capita (USD)</th>\n",
       "    </tr>\n",
       "  </thead>\n",
       "  <tbody>\n",
       "    <tr>\n",
       "      <th>0</th>\n",
       "      <td>-0.617431</td>\n",
       "      <td>1.116694</td>\n",
       "      <td>2.449841</td>\n",
       "    </tr>\n",
       "    <tr>\n",
       "      <th>1</th>\n",
       "      <td>1.498633</td>\n",
       "      <td>-1.729165</td>\n",
       "      <td>-0.630877</td>\n",
       "    </tr>\n",
       "    <tr>\n",
       "      <th>2</th>\n",
       "      <td>1.516029</td>\n",
       "      <td>-0.955554</td>\n",
       "      <td>-0.691333</td>\n",
       "    </tr>\n",
       "    <tr>\n",
       "      <th>3</th>\n",
       "      <td>1.407477</td>\n",
       "      <td>-0.848866</td>\n",
       "      <td>-0.647728</td>\n",
       "    </tr>\n",
       "    <tr>\n",
       "      <th>4</th>\n",
       "      <td>0.008829</td>\n",
       "      <td>0.501338</td>\n",
       "      <td>0.479169</td>\n",
       "    </tr>\n",
       "  </tbody>\n",
       "</table>\n",
       "</div>"
      ],
      "text/plain": [
       "  Fertility rate (births/woman) Life expectancy at birth (years)  \\\n",
       "0                     -0.617431                         1.116694   \n",
       "1                      1.498633                        -1.729165   \n",
       "2                      1.516029                        -0.955554   \n",
       "3                      1.407477                        -0.848866   \n",
       "4                      0.008829                         0.501338   \n",
       "\n",
       "  Income per capita (USD)  \n",
       "0                2.449841  \n",
       "1               -0.630877  \n",
       "2               -0.691333  \n",
       "3               -0.647728  \n",
       "4                0.479169  "
      ]
     },
     "execution_count": 42,
     "metadata": {},
     "output_type": "execute_result"
    }
   ],
   "source": [
    "# Scaling -- what happens if you cluster with and without scaling?\n",
    "from sklearn.preprocessing import StandardScaler\n",
    "scale = StandardScaler()\n",
    "df_scaled = scale.fit_transform(df_wdi_cluster_cols)\n",
    "df_scaled = pd.DataFrame(df_scaled) \n",
    "df_scaled.columns = [df_wdi_cluster_cols[:0]]\n",
    "df_scaled.head()"
   ]
  },
  {
   "cell_type": "code",
   "execution_count": 43,
   "metadata": {},
   "outputs": [
    {
     "data": {
      "text/plain": [
       "array([[ 1.37224121, -1.31781791, -0.62334865],\n",
       "       [-0.45115753,  0.30524492, -0.29958099],\n",
       "       [-0.83795703,  1.20225815,  1.94732035]])"
      ]
     },
     "execution_count": 43,
     "metadata": {},
     "output_type": "execute_result"
    }
   ],
   "source": [
    "# Clustering --- try different numbers of clusters or swap out for a hierarchical approach\n",
    "kmeans_model = skc.KMeans(n_clusters=3)\n",
    "kmeans_model.fit(df_scaled)\n",
    "centroids = kmeans_model.cluster_centers_\n",
    "centroids"
   ]
  },
  {
   "cell_type": "code",
   "execution_count": 45,
   "metadata": {},
   "outputs": [
    {
     "data": {
      "text/plain": [
       "<matplotlib.collections.PathCollection at 0x1a1cc747b8>"
      ]
     },
     "execution_count": 45,
     "metadata": {},
     "output_type": "execute_result"
    },
    {
     "data": {
      "image/png": "[encoded data removed]",
      "text/plain": [
       "<Figure size 506.565x360 with 1 Axes>"
      ]
     },
     "metadata": {
      "needs_background": "light"
     },
     "output_type": "display_data"
    }
   ],
   "source": [
    "# Plot --- try visualizing on different scatterplots\n",
    "df_wdi['cluster_labels_kmeans'] = kmeans_model.labels_\n",
    "sns.lmplot('Fertility rate (births/woman)', 'Life expectancy at birth (years)', df_wdi, hue='cluster_labels_kmeans', fit_reg=False) \n",
    "f.ax.scatter(centroids[:,0], centroids[:,1], marker='+', s=100,\n",
    "             linewidths=2, color='k')"
   ]
  },
  {
   "cell_type": "markdown",
   "metadata": {},
   "source": [
    "# References\n",
    "- Coursera Jeff Leek's \"Data Analysis\" Course Notes: https://github.com/herrfz/dataanalysis\n",
    "- Scikit-learn clustering tutorial: http://scikit-learn.org/stable/modules/clustering.html\n",
    "- Manning et al. [\"Evaluation of Clustering\"](http://nlp.stanford.edu/IR-book/html/htmledition/evaluation-of-clustering-1.html). _Introduction to Information Retrieval_ (2008)."
   ]
  },
  {
   "cell_type": "code",
   "execution_count": null,
   "metadata": {},
   "outputs": [],
   "source": []
  }
 ],
 "metadata": {
  "anaconda-cloud": {},
  "kernelspec": {
   "display_name": "Python 3",
   "language": "python",
   "name": "python3"
  },
  "language_info": {
   "codemirror_mode": {
    "name": "ipython",
    "version": 3
   },
   "file_extension": ".py",
   "mimetype": "text/x-python",
   "name": "python",
   "nbconvert_exporter": "python",
   "pygments_lexer": "ipython3",
   "version": "3.7.3"
  }
 },
 "nbformat": 4,
 "nbformat_minor": 1
}

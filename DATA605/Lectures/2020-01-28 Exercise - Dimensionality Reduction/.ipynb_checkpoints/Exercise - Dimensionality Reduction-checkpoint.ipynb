{
 "cells": [
  {
   "cell_type": "markdown",
   "metadata": {},
   "source": [
    "Example Based on Hong Wu's _Biplot in Python_ (https://thehongwudotcom.wordpress.com/2016/02/28/biplot-in-python-optimized-with-color-scatter-plot/)"
   ]
  },
  {
   "cell_type": "code",
   "execution_count": null,
   "metadata": {},
   "outputs": [],
   "source": [
    "import numpy as np\n",
    "import pandas as pd\n",
    "import seaborn as sns\n",
    "from matplotlib import pyplot as plt\n",
    "%matplotlib inline"
   ]
  },
  {
   "cell_type": "code",
   "execution_count": null,
   "metadata": {},
   "outputs": [],
   "source": [
    "my_csv = 'Iris.csv'\n",
    "df_iris = pd.read_csv(my_csv)\n",
    "species = df_iris['species']  # Extract the species name\n",
    "df_vals_only = df_iris.drop('species', axis = 1)\n",
    "df_vals_only.head()"
   ]
  },
  {
   "cell_type": "code",
   "execution_count": null,
   "metadata": {
    "scrolled": true
   },
   "outputs": [],
   "source": [
    "# A quick plot for comparison later\n",
    "sns.lmplot('sepal_length', 'petal_length', df_iris, hue='species', fit_reg=False) "
   ]
  },
  {
   "cell_type": "code",
   "execution_count": null,
   "metadata": {},
   "outputs": [],
   "source": [
    "# Scale data and convert back to a DataFrame\n",
    "from sklearn.preprocessing import StandardScaler\n",
    "scale = StandardScaler()\n",
    "df_scaled = scale.fit_transform(df_vals_only)\n",
    "df_scaled = pd.DataFrame(df_scaled) \n",
    "df_scaled.columns = [['sepal_length', 'sepal_width', 'petal_length', 'petal_width']]\n",
    "df_scaled.head()"
   ]
  },
  {
   "cell_type": "code",
   "execution_count": null,
   "metadata": {},
   "outputs": [],
   "source": [
    "# Run PCA on the feature set dataframe\n",
    "from sklearn.decomposition import PCA\n",
    "pca = PCA(n_components = 2)\n",
    "principle_components = pca.fit_transform(df_scaled)\n",
    "\n",
    "# Stick back into a DataFrame with the original species labels\n",
    "df_pca = pd.DataFrame(principle_components,columns=['pc1', 'pc2'])\n",
    "df_pca = pd.concat([df_pca, species], axis = 1) \n",
    "df_pca.head()"
   ]
  },
  {
   "cell_type": "markdown",
   "metadata": {},
   "source": [
    "# Biplot using Seaborn"
   ]
  },
  {
   "cell_type": "code",
   "execution_count": null,
   "metadata": {},
   "outputs": [],
   "source": [
    "# Plot using the Principle Components as Axes\n",
    "sns.lmplot('pc1', 'pc2', df_pca, hue='species', fit_reg=False)\n",
    "\n",
    "# set the maximum variance of the first two PCs\n",
    "# this will be the end point of the arrow of each **original feature**\n",
    "xvector = pca.components_[0]\n",
    "yvector = pca.components_[1]\n",
    " \n",
    "# value of the first two PCs, set the x, y axis boundary\n",
    "xs = pca.transform(df_scaled)[:,0]\n",
    "ys = pca.transform(df_scaled)[:,1]\n",
    "\n",
    "# arrows project features (columns from csv) as vectors onto PC axes\n",
    "for i in range(len(xvector)):\n",
    "    plt.arrow(0, 0, xvector[i]*max(xs), yvector[i]*max(ys),\n",
    "              color='r', width=0.005, head_width=0.05)\n",
    "    plt.text(xvector[i]*max(xs)*1.1, yvector[i]*max(ys)*1.1,\n",
    "             list(df_iris.columns.values)[i], color='r')\n",
    " "
   ]
  },
  {
   "cell_type": "code",
   "execution_count": null,
   "metadata": {},
   "outputs": [],
   "source": []
  }
 ],
 "metadata": {
  "anaconda-cloud": {},
  "kernelspec": {
   "display_name": "Python 3",
   "language": "python",
   "name": "python3"
  },
  "language_info": {
   "codemirror_mode": {
    "name": "ipython",
    "version": 3
   },
   "file_extension": ".py",
   "mimetype": "text/x-python",
   "name": "python",
   "nbconvert_exporter": "python",
   "pygments_lexer": "ipython3",
   "version": "3.7.4"
  }
 },
 "nbformat": 4,
 "nbformat_minor": 2
}

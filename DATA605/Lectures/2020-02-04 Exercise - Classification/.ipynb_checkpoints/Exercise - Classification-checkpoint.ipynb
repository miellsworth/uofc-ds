{
 "cells": [
  {
   "cell_type": "markdown",
   "metadata": {},
   "source": [
    "*Based in part on Patrick Maher's \"Sports Body Types\" analysis (https://github.com/pmaher86/sports-body-types)\n",
    "and Eytan Adar's EDA Classification Lab (2016).*"
   ]
  },
  {
   "cell_type": "code",
   "execution_count": null,
   "metadata": {
    "collapsed": true
   },
   "outputs": [],
   "source": [
    "import numpy as np\n",
    "import scipy as sp\n",
    "import scipy.spatial.distance as spd\n",
    "import scipy.cluster.hierarchy as sph\n",
    "import sklearn as sk\n",
    "import sklearn.metrics as skm\n",
    "import sklearn.cluster as skc\n",
    "import sklearn.decomposition as skd\n",
    "import sklearn.mixture as skmix\n",
    "import pandas as pd\n",
    "import matplotlib.pyplot as plt\n",
    "%matplotlib inline\n",
    "import seaborn as sns\n",
    "sns.set(style='white', color_codes=True, font_scale=1.3)"
   ]
  },
  {
   "cell_type": "markdown",
   "metadata": {},
   "source": [
    "# Load NBA player stats"
   ]
  },
  {
   "cell_type": "code",
   "execution_count": null,
   "metadata": {
    "collapsed": false
   },
   "outputs": [],
   "source": [
    "nba_frame = pd.read_csv('NBA stats.csv')\n",
    "nba_frame.head()"
   ]
  },
  {
   "cell_type": "code",
   "execution_count": null,
   "metadata": {
    "collapsed": false
   },
   "outputs": [],
   "source": [
    "nba_frame.plot(x='weight',y='height', kind='hexbin', gridsize=12)"
   ]
  },
  {
   "cell_type": "code",
   "execution_count": null,
   "metadata": {
    "collapsed": false
   },
   "outputs": [],
   "source": [
    "sns.lmplot(x='weight', y='height', hue='position', \n",
    "           fit_reg=False, data=nba_frame);"
   ]
  },
  {
   "cell_type": "markdown",
   "metadata": {},
   "source": [
    "# K-Means"
   ]
  },
  {
   "cell_type": "code",
   "execution_count": null,
   "metadata": {
    "collapsed": true
   },
   "outputs": [],
   "source": [
    "nba_hw_frame = nba_frame[['height', 'weight']]"
   ]
  },
  {
   "cell_type": "code",
   "execution_count": null,
   "metadata": {
    "collapsed": false
   },
   "outputs": [],
   "source": [
    "kmeans_model = skc.KMeans(n_clusters=5)\n",
    "kmeans_model.fit(nba_hw_frame)\n",
    "centroids = kmeans_model.cluster_centers_\n",
    "centroids  # these are the centers of the clusters"
   ]
  },
  {
   "cell_type": "code",
   "execution_count": null,
   "metadata": {
    "collapsed": false
   },
   "outputs": [],
   "source": [
    "# Plot the clusters with their centroids.\n",
    "pd.options.mode.chained_assignment = None  # default='warn'\n",
    "nba_hw_frame['cluster_labels_kmeans'] = kmeans_model.labels_\n",
    "f = sns.lmplot(x='weight', y='height', data=nba_hw_frame, hue='cluster_labels_kmeans',\n",
    "               fit_reg=False, size=5, aspect=1.3)\n",
    "f.ax.scatter(centroids[:,1], centroids[:,0], marker='+', s=100,\n",
    "             linewidths=2, color='k')"
   ]
  },
  {
   "cell_type": "markdown",
   "metadata": {},
   "source": [
    "Here's the original data as a reminder"
   ]
  },
  {
   "cell_type": "code",
   "execution_count": null,
   "metadata": {
    "collapsed": false
   },
   "outputs": [],
   "source": [
    "sns.lmplot(x='weight', y='height', hue='position', \n",
    "           fit_reg=False, data=nba_frame) #, size=10, aspect=1.3, scatter_kws={\"s\": 100})"
   ]
  },
  {
   "cell_type": "markdown",
   "metadata": {},
   "source": [
    "# K-Nearest Neighbors\n",
    "Let's use the existing NBA player data to try to classify player positions based on height and weight."
   ]
  },
  {
   "cell_type": "code",
   "execution_count": null,
   "metadata": {
    "collapsed": true
   },
   "outputs": [],
   "source": [
    "from sklearn.neighbors import KNeighborsClassifier"
   ]
  },
  {
   "cell_type": "code",
   "execution_count": null,
   "metadata": {
    "collapsed": true
   },
   "outputs": [],
   "source": [
    "n = 5  # How many neighbours to use"
   ]
  },
  {
   "cell_type": "code",
   "execution_count": null,
   "metadata": {
    "collapsed": true
   },
   "outputs": [],
   "source": [
    "nba_neigh = KNeighborsClassifier(n_neighbors=n)\n",
    "nba_neigh.fit(nba_frame[['weight','height']],nba_frame['position'])\n",
    "nba_neigh_predictions = nba_neigh.predict(nba_frame[['weight','height']])"
   ]
  },
  {
   "cell_type": "markdown",
   "metadata": {},
   "source": [
    "Now we can try it on a few possible players."
   ]
  },
  {
   "cell_type": "code",
   "execution_count": null,
   "metadata": {
    "collapsed": false
   },
   "outputs": [],
   "source": [
    "shaq = np.array([[325,85]]) #listed weight/height from when he played (he isn't in the dataset)\n",
    "print(nba_neigh.predict(shaq))  #he played center"
   ]
  },
  {
   "cell_type": "code",
   "execution_count": null,
   "metadata": {
    "collapsed": false
   },
   "outputs": [],
   "source": [
    "wes = np.array([[185,76]])  #I've definitely never played\n",
    "print(nba_neigh.predict(wes))"
   ]
  },
  {
   "cell_type": "code",
   "execution_count": null,
   "metadata": {
    "collapsed": false
   },
   "outputs": [],
   "source": [
    "lebron = np.array([[250,80]]) #current listed weight/height\n",
    "print(nba_neigh.predict(lebron))  #he plays at small forward"
   ]
  },
  {
   "cell_type": "code",
   "execution_count": null,
   "metadata": {
    "collapsed": false
   },
   "outputs": [],
   "source": [
    "nba_frame[nba_frame['name'] == 'LeBron James']"
   ]
  },
  {
   "cell_type": "markdown",
   "metadata": {},
   "source": [
    "^ KNN actually got this wrong, even though LeBron is in the dataset. (Try some other numbers of neighbors and see how that changes things.)"
   ]
  },
  {
   "cell_type": "markdown",
   "metadata": {},
   "source": [
    "#### All classifications\n",
    "We can actually check to see how our classifier would label ANY height/weight combination just by testing and plotting a whole bunch of values."
   ]
  },
  {
   "cell_type": "code",
   "execution_count": null,
   "metadata": {
    "collapsed": false
   },
   "outputs": [],
   "source": [
    "\n",
    "def plot_height_weight_pos(df, classifier, npts=500): #500x500 points will look smooth but take a few seconds\n",
    "    xx,yy=np.meshgrid(np.linspace(df['weight'].min()-10,df['weight'].max()+10,num=npts), \n",
    "                      np.linspace(df['height'].min()-4,df['height'].max()+4,num=npts))\n",
    "    Zstring = classifier.predict(np.c_[xx.ravel(), yy.ravel()])\n",
    "    repdict = {'PG':1,'SG':2,'SF':3,'PF':4,'C':5} #map predictions to plottable numbers\n",
    "    Z = np.zeros_like(Zstring)\n",
    "    for k,v in repdict.items():\n",
    "        Z[Zstring==k]=v\n",
    "    Z = Z.reshape(xx.shape)\n",
    "    plt.contourf(xx, yy, Z, cmap=plt.cm.get_cmap('RdBu',6),vmin=0,vmax=5)\n",
    "    plt.xlabel('Weight');plt.ylabel('Height')\n",
    "    cbar = plt.colorbar(ticks=[1,2,3,4,5])\n",
    "    cbar.ax.set_yticklabels(['PG', 'SG', 'SF', 'PF', 'C'])\n",
    "    plt.scatter(df['weight'],df['height'], color=\"black\",alpha=0.2)\n",
    "    \n",
    "plot_height_weight_pos(nba_frame,nba_neigh)\n"
   ]
  },
  {
   "cell_type": "markdown",
   "metadata": {},
   "source": [
    "# Naive Bayes "
   ]
  },
  {
   "cell_type": "code",
   "execution_count": null,
   "metadata": {
    "collapsed": true
   },
   "outputs": [],
   "source": [
    "from sklearn.naive_bayes import GaussianNB\n",
    "nba_gnb = GaussianNB().fit(nba_frame[['weight','height']],nba_frame['position'])\n",
    "nba_gnb_predictions = nba_gnb.predict(nba_frame[['weight','height']])"
   ]
  },
  {
   "cell_type": "code",
   "execution_count": null,
   "metadata": {
    "collapsed": false
   },
   "outputs": [],
   "source": [
    "print(nba_gnb.predict(shaq))"
   ]
  },
  {
   "cell_type": "code",
   "execution_count": null,
   "metadata": {
    "collapsed": false
   },
   "outputs": [],
   "source": [
    "print(nba_gnb.predict(lebron))"
   ]
  },
  {
   "cell_type": "code",
   "execution_count": null,
   "metadata": {
    "collapsed": false
   },
   "outputs": [],
   "source": [
    "plot_height_weight_pos(nba_frame,nba_gnb)"
   ]
  },
  {
   "cell_type": "markdown",
   "metadata": {},
   "source": [
    "# Evaluating Classification Performance\n",
    "There are a number of scores and plots that we can compute or generate to evaluate classification results. We will introduce the following techniques:\n",
    "- Accuracy\n",
    "- Precision\n",
    "- Recall\n",
    "- F1 score\n",
    "- Confusion Matrix"
   ]
  },
  {
   "cell_type": "markdown",
   "metadata": {},
   "source": [
    "First, lets try actually getting a test sample."
   ]
  },
  {
   "cell_type": "code",
   "execution_count": null,
   "metadata": {
    "collapsed": false
   },
   "outputs": [],
   "source": [
    "from random import randint\n",
    "hw_train, hw_test, pos_train, pos_test = sk.cross_validation.train_test_split(\n",
    "    nba_frame[['weight','height']],nba_frame['position'], test_size=0.4, random_state=randint(0,1000))"
   ]
  },
  {
   "cell_type": "code",
   "execution_count": null,
   "metadata": {
    "collapsed": false
   },
   "outputs": [],
   "source": [
    "nba_gnb_test = GaussianNB().fit(hw_train,pos_train)\n",
    "nba_gnb_predictions_test = nba_gnb.predict(hw_test)"
   ]
  },
  {
   "cell_type": "code",
   "execution_count": null,
   "metadata": {
    "collapsed": false
   },
   "outputs": [],
   "source": [
    "#Accuracy\n",
    "skm.accuracy_score(y_true=pos_test,\n",
    "                   y_pred=nba_gnb_predictions_test)"
   ]
  },
  {
   "cell_type": "code",
   "execution_count": null,
   "metadata": {
    "collapsed": false
   },
   "outputs": [],
   "source": [
    "# Precision\n",
    "skm.precision_score(y_true=pos_test,\n",
    "                    y_pred=nba_gnb_predictions_test,\n",
    "                    average='weighted')"
   ]
  },
  {
   "cell_type": "code",
   "execution_count": null,
   "metadata": {
    "collapsed": false
   },
   "outputs": [],
   "source": [
    "# Recall\n",
    "skm.recall_score(y_true=pos_test,\n",
    "                 y_pred=nba_gnb_predictions_test,\n",
    "                 average='weighted')"
   ]
  },
  {
   "cell_type": "code",
   "execution_count": null,
   "metadata": {
    "collapsed": false
   },
   "outputs": [],
   "source": [
    "# F1 Score\n",
    "skm.f1_score(y_true=pos_test,\n",
    "             y_pred=nba_gnb_predictions_test,\n",
    "             average='weighted')"
   ]
  },
  {
   "cell_type": "code",
   "execution_count": null,
   "metadata": {
    "collapsed": false
   },
   "outputs": [],
   "source": [
    "# Compute the confusion matrix\n",
    "nba_neigh_cfmat = skm.confusion_matrix(\n",
    "    y_true=pos_test,\n",
    "    y_pred=nba_gnb_predictions_test,)\n",
    "nba_neigh_cfmat"
   ]
  },
  {
   "cell_type": "code",
   "execution_count": null,
   "metadata": {
    "collapsed": false
   },
   "outputs": [],
   "source": [
    "# Visualize the confusion matrix\n",
    "sns.heatmap(nba_neigh_cfmat, \n",
    "            xticklabels=nba_neigh.classes_,\n",
    "            yticklabels=nba_neigh.classes_,\n",
    "            annot=True)\n",
    "plt.xlabel('predicted label')\n",
    "plt.ylabel('true label')\n",
    "plt.title('Confusion Matrix')\n"
   ]
  },
  {
   "cell_type": "code",
   "execution_count": null,
   "metadata": {
    "collapsed": false
   },
   "outputs": [],
   "source": [
    "# For comparison, here's the confusion matrix for our original Naive Bayes classifier\n",
    "nba_gnb_cfmat = skm.confusion_matrix(\n",
    "    y_true=nba_frame['position'],\n",
    "    y_pred=nba_gnb_predictions)\n",
    "nba_gnb_cfmat\n",
    "\n",
    "sns.heatmap(nba_gnb_cfmat, \n",
    "            xticklabels=nba_gnb.classes_,\n",
    "            yticklabels=nba_gnb.classes_,\n",
    "            annot=True)\n",
    "plt.xlabel('predicted label')\n",
    "plt.ylabel('true label')\n",
    "plt.title('Confusion Matrix')"
   ]
  },
  {
   "cell_type": "code",
   "execution_count": null,
   "metadata": {
    "collapsed": true
   },
   "outputs": [],
   "source": []
  }
 ],
 "metadata": {
  "anaconda-cloud": {},
  "kernelspec": {
   "display_name": "Python [Root]",
   "language": "python",
   "name": "Python [Root]"
  },
  "language_info": {
   "codemirror_mode": {
    "name": "ipython",
    "version": 3
   },
   "file_extension": ".py",
   "mimetype": "text/x-python",
   "name": "python",
   "nbconvert_exporter": "python",
   "pygments_lexer": "ipython3",
   "version": "3.5.2"
  }
 },
 "nbformat": 4,
 "nbformat_minor": 1
}

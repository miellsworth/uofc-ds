{
 "cells": [
  {
   "cell_type": "markdown",
   "metadata": {},
   "source": [
    "Based on Henrikki Tenkanen’s online course (includes lots of other good resources). \n",
    "\n",
    "We also use data from the Helsinki Region-Travel Time Matrix 2015. Toivonen, T., M. Salonen, H. Tenkanen, P. Saarsalmi, T. Jaakkola & J. Järvi (2014). Joukkoliikenteellä, autolla ja kävellen: Avoin saavutettavuusaineisto pääkaupunkiseudulla. Terra 126: 3, 127-136.\n",
    "\n",
    "\n"
   ]
  },
  {
   "cell_type": "markdown",
   "metadata": {},
   "source": [
    "# Part 1 - Geocoding\n",
    "\n",
    "We're starting with a text file of 10 addresses in the Calgary area"
   ]
  },
  {
   "cell_type": "code",
   "execution_count": null,
   "metadata": {},
   "outputs": [],
   "source": [
    "import pandas as pd\n",
    "import geopandas as gpd\n",
    "from geopandas.tools import geocode\n",
    "from shapely.geometry import Point\n",
    "import matplotlib.pyplot as plt\n",
    "%matplotlib inline\n",
    "\n",
    "address_data = pd.read_csv(\"calgary_addresses.txt\", sep=';')\n",
    "address_data.head()"
   ]
  },
  {
   "cell_type": "markdown",
   "metadata": {},
   "source": [
    "Create a GeoDataFrame that contains our original address and a ‘geometry’ column containing Shapely Point with coordinates (objects that we can use for exporting the addresses to a Shapefile)."
   ]
  },
  {
   "cell_type": "code",
   "execution_count": null,
   "metadata": {},
   "outputs": [],
   "source": [
    "#Fix Geocoder Time Out Error\n",
    "from geopy.exc import GeocoderTimedOut\n",
    "from time import sleep\n",
    "\n",
    "def do_geocode(address):\n",
    "    try:\n",
    "        sleep(1)\n",
    "        return geocode(address, provider='nominatim')\n",
    "    except GeocoderTimedOut:\n",
    "        return do_geocode(address)\n",
    "\n",
    "geo = do_geocode(address_data['addr'])\n",
    "geo.head()"
   ]
  },
  {
   "cell_type": "code",
   "execution_count": null,
   "metadata": {},
   "outputs": [],
   "source": [
    "#Join the two dataframes; add the geometry column to the original columns\n",
    "geo_join = geo.join(address_data)\n",
    "geo_join.head()"
   ]
  },
  {
   "cell_type": "code",
   "execution_count": null,
   "metadata": {
    "scrolled": true
   },
   "outputs": [],
   "source": [
    "geo_join.plot()"
   ]
  },
  {
   "cell_type": "code",
   "execution_count": null,
   "metadata": {},
   "outputs": [],
   "source": [
    "#If you want to export the shape file to use in Tableau\n",
    "geo_join.to_file(\"addresses_calgary.shp\")"
   ]
  },
  {
   "cell_type": "markdown",
   "metadata": {},
   "source": [
    "Let's add the map of Calgary to the plot of addresses, using a geojson file of Calgary's neighborhoods\n",
    "\n",
    "From https://data.calgary.ca/Base-Maps/Community-Boundaries/ab7m-fwn6\n"
   ]
  },
  {
   "cell_type": "code",
   "execution_count": null,
   "metadata": {
    "scrolled": true
   },
   "outputs": [],
   "source": [
    "calgary_geo = gpd.read_file(\"CalgaryBoundaries.geojson\")\n",
    "calgary_geo"
   ]
  },
  {
   "cell_type": "code",
   "execution_count": null,
   "metadata": {},
   "outputs": [],
   "source": [
    "#We can plot Calgary's neighborhoods - mapping sector to color\n",
    "calgary_geo.plot(column=\"sector\", cmap=\"Set2\", edgecolor='black', linewidth=.2)\n"
   ]
  },
  {
   "cell_type": "code",
   "execution_count": null,
   "metadata": {},
   "outputs": [],
   "source": [
    "#Use the map of Calgary as the base, and add the points\n",
    "base=calgary_geo.plot(color='white', edgecolor='black', linewidth=.2)\n",
    "geo_join.plot(ax=base, marker='o', color='red', markersize=5)"
   ]
  },
  {
   "cell_type": "markdown",
   "metadata": {},
   "source": [
    "# Part 2 - Retrieving OpenStreetMap data"
   ]
  },
  {
   "cell_type": "markdown",
   "metadata": {},
   "source": [
    "Boeing, G. 2017. “OSMnx: New Methods for Acquiring, Constructing, Analyzing, and Visualizing Complex Street Networks.” Computers, Environment and Urban Systems 65, 126-139. doi:10.1016/j.compenvurbsys.2017.05.004"
   ]
  },
  {
   "cell_type": "code",
   "execution_count": null,
   "metadata": {},
   "outputs": [],
   "source": [
    "#Import OSMnx\n",
    "import osmnx as ox\n",
    "\n",
    "place_name=\"Calgary, Alberta, Canada\"\n",
    "graph = ox.graph_from_place(place_name)\n",
    "\n",
    "#Create a network of Calgary's streets\n",
    "\n",
    "fig, ax = ox.plot_graph(graph)\n",
    "plt.tight_layout()"
   ]
  },
  {
   "cell_type": "code",
   "execution_count": null,
   "metadata": {},
   "outputs": [],
   "source": [
    "#We can download information about buildings in Calgary\n",
    "\n",
    "buildings = ox.footprints_from_place(place_name)\n",
    "buildings.head()"
   ]
  },
  {
   "cell_type": "code",
   "execution_count": null,
   "metadata": {},
   "outputs": [],
   "source": [
    "#We can download a polygon that fits Calgary's boundaries\n",
    "area = ox.gdf_from_place(place_name)\n",
    "area"
   ]
  },
  {
   "cell_type": "code",
   "execution_count": null,
   "metadata": {},
   "outputs": [],
   "source": [
    "#We can extract the nodes and edges that make up the street network\n",
    "\n",
    "nodes, edges = ox.graph_to_gdfs(graph)\n",
    "nodes.head()"
   ]
  },
  {
   "cell_type": "code",
   "execution_count": null,
   "metadata": {},
   "outputs": [],
   "source": [
    "edges.head()"
   ]
  },
  {
   "cell_type": "code",
   "execution_count": null,
   "metadata": {},
   "outputs": [],
   "source": [
    "fig, ax = plt.subplots()\n",
    "area.plot(ax=ax, facecolor='black')\n",
    "edges.plot(ax=ax, linewidth=.1, edgecolor='#BC8F8F')\n",
    "buildings.plot(ax=ax, facecolor='khaki', alpha=0.7)\n",
    "plt.tight_layout()"
   ]
  },
  {
   "cell_type": "markdown",
   "metadata": {},
   "source": [
    "# Part 3 - Visualizing Binned Data\n",
    "\n",
    "For Part 3, we're going to visualize travel time data from Helsinki, Finland.\n",
    "\n",
    "This data originally came from blogs.helsinki.fi (https://blogs.helsinki.fi/accessibility/helsinki-region-travel-time-matrix-2015/), where you can find descriptions of the attributes"
   ]
  },
  {
   "cell_type": "code",
   "execution_count": null,
   "metadata": {},
   "outputs": [],
   "source": [
    "fp = \"TravelTimes_to_5975375_RailwayStation_Helsinki.geojson\"\n",
    "\n",
    "acc = gpd.read_file(fp)\n",
    "acc.head(5)"
   ]
  },
  {
   "cell_type": "code",
   "execution_count": null,
   "metadata": {},
   "outputs": [],
   "source": [
    "#Travel time by public transportation in rush hour traffic >= 0\n",
    "acc = acc.loc[acc['pt_r_tt'] >=0]"
   ]
  },
  {
   "cell_type": "markdown",
   "metadata": {},
   "source": [
    "Let's plot travel time to desination during rush hour\n",
    "\n",
    "Plot using 9 bins and cluster the values using \"Fisher Jenks\" method. \"Jenks minimizes each cluster's average deviation from the mean, while maximizing deviation from the means of the other groups.\"\n",
    "\n",
    "https://en.wikipedia.org/wiki/Jenks_natural_breaks_optimization"
   ]
  },
  {
   "cell_type": "code",
   "execution_count": null,
   "metadata": {},
   "outputs": [],
   "source": [
    "acc.plot(column=\"pt_r_tt\", scheme=\"Fisher_Jenks\", k=9, cmap=\"RdYlBu\", linewidth=0, legend=True)\n",
    "\n",
    "plt.tight_layout()"
   ]
  },
  {
   "cell_type": "code",
   "execution_count": null,
   "metadata": {},
   "outputs": [],
   "source": [
    "#Plot walking distance to city center\n",
    "acc.plot(column=\"walk_d\", scheme=\"Fisher_Jenks\", k=9, cmap=\"RdYlBu\", linewidth=0, legend=True)\n",
    "\n",
    "plt.tight_layout()"
   ]
  },
  {
   "cell_type": "markdown",
   "metadata": {},
   "source": [
    "Let's use pysal to cluster our data by public transit travel times"
   ]
  },
  {
   "cell_type": "code",
   "execution_count": null,
   "metadata": {},
   "outputs": [],
   "source": [
    "from pysal.viz import mapclassify\n",
    "\n",
    "n_classes=9"
   ]
  },
  {
   "cell_type": "code",
   "execution_count": null,
   "metadata": {},
   "outputs": [],
   "source": [
    "#We need to make the classifier and apply it to the column\n",
    "fj = mapclassify.FisherJenks.make(k=n_classes)\n",
    "\n",
    "bins = acc[['pt_r_tt']].apply(fj)\n",
    "bins.head()"
   ]
  },
  {
   "cell_type": "code",
   "execution_count": null,
   "metadata": {},
   "outputs": [],
   "source": [
    "#We should rename this new column to something unique\n",
    "bins.columns = ['nb_pt_r_tt']\n",
    "\n",
    "#and addd it back to the original table\n",
    "acc = acc.join(bins)\n",
    "acc.head()"
   ]
  },
  {
   "cell_type": "code",
   "execution_count": null,
   "metadata": {},
   "outputs": [],
   "source": [
    "#Plot the new column of clustered travel times\n",
    "\n",
    "acc.plot(column=\"nb_pt_r_tt\", linewidth=0, legend=True)\n",
    "plt.tight_layout()"
   ]
  },
  {
   "cell_type": "markdown",
   "metadata": {},
   "source": [
    "# Creating a Custom Filter\n",
    "\n",
    "Let's create a filter for this data. Assume we want to find locations that are more than 4 km away from city center, but travel time during rush hour is less than or equal to 20 minutes."
   ]
  },
  {
   "cell_type": "code",
   "execution_count": null,
   "metadata": {},
   "outputs": [],
   "source": [
    "#Add a column for our suitable area\n",
    "acc[\"Suitable_area\"] = None"
   ]
  },
  {
   "cell_type": "code",
   "execution_count": null,
   "metadata": {},
   "outputs": [],
   "source": [
    "def customFilter(row, src_col1, src_col2, threshold1, threshold2, output_col):\n",
    "    # 1. If the value in src_col1 is LOWER than the threshold1 value\n",
    "    # 2. AND the value in src_col2 is HIGHER than the threshold2 value, give value 1, otherwise give 0\n",
    "\n",
    "    if row[src_col1] < threshold1 and row[src_col2] > threshold2:\n",
    "        # Update the output column with value 0\n",
    "        row[output_col] = 1\n",
    "    # If area of input geometry is higher than the threshold value update with value 1\n",
    "    else:\n",
    "        row[output_col] = 0\n",
    "\n",
    "    # Return the updated row\n",
    "    return row"
   ]
  },
  {
   "cell_type": "code",
   "execution_count": null,
   "metadata": {},
   "outputs": [],
   "source": [
    "#Apply filter and add value to 'suitable_area' column\n",
    "acc = acc.apply(customFilter, src_col1='pt_r_tt', src_col2='walk_d', threshold1=20, threshold2=4000, output_col=\"Suitable_area\", axis=1)"
   ]
  },
  {
   "cell_type": "code",
   "execution_count": null,
   "metadata": {},
   "outputs": [],
   "source": [
    "acc.plot(column=\"Suitable_area\", linewidth=0);"
   ]
  }
 ],
 "metadata": {
  "anaconda-cloud": {},
  "kernelspec": {
   "display_name": "Python 3",
   "language": "python",
   "name": "python3"
  },
  "language_info": {
   "codemirror_mode": {
    "name": "ipython",
    "version": 3
   },
   "file_extension": ".py",
   "mimetype": "text/x-python",
   "name": "python",
   "nbconvert_exporter": "python",
   "pygments_lexer": "ipython3",
   "version": "3.7.4"
  }
 },
 "nbformat": 4,
 "nbformat_minor": 4
}

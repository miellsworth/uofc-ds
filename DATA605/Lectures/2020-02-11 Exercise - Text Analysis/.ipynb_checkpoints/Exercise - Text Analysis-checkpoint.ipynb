{
 "cells": [
  {
   "cell_type": "code",
   "execution_count": 1,
   "metadata": {},
   "outputs": [
    {
     "name": "stdout",
     "output_type": "stream",
     "text": [
      "Using matplotlib backend: MacOSX\n",
      "Populating the interactive namespace from numpy and matplotlib\n"
     ]
    }
   ],
   "source": [
    "import numpy as np  #load up the libraries and object defs. we need\n",
    "import pandas as pd\n",
    "from pandas import DataFrame, Series\n",
    "\n",
    "# load up my visualization system, and call the object plt\n",
    "import matplotlib.pyplot as plt\n",
    "\n",
    "# tell ipython notebook to print visualizations inline\n",
    "%pylab\n",
    "%matplotlib inline"
   ]
  },
  {
   "cell_type": "markdown",
   "metadata": {},
   "source": [
    "# NLTK\n",
    "\n",
    "Import the nltk (Natural Language Toolkit) package."
   ]
  },
  {
   "cell_type": "code",
   "execution_count": 2,
   "metadata": {},
   "outputs": [],
   "source": [
    "import nltk"
   ]
  },
  {
   "cell_type": "markdown",
   "metadata": {},
   "source": [
    "NTLK doesn't contain many language packages by default, so you'll need to install a few. If you haven't installed the `punkt` tokenizer package, you'll need to uncomment and run the line below to launch the NLTK downloader. \n",
    "\n",
    "Once it's loaded, enter `d` and then download the `punkt` package.\n",
    "\n",
    "While you're there. Also download the `averaged_perceptron_tagger`, `stopwords`, and `vader_lexicon` packages. (We'll use them later.)"
   ]
  },
  {
   "cell_type": "code",
   "execution_count": null,
   "metadata": {},
   "outputs": [
    {
     "name": "stdout",
     "output_type": "stream",
     "text": [
      "NLTK Downloader\n",
      "---------------------------------------------------------------------------\n",
      "    d) Download   l) List    u) Update   c) Config   h) Help   q) Quit\n",
      "---------------------------------------------------------------------------\n",
      "Downloader> d\n",
      "\n",
      "Download which package (l=list; x=cancel)?\n",
      "  Identifier> punkt\n"
     ]
    },
    {
     "name": "stderr",
     "output_type": "stream",
     "text": [
      "    Downloading package punkt to /Users/Ellsworth/nltk_data...\n",
      "      Unzipping tokenizers/punkt.zip.\n"
     ]
    },
    {
     "name": "stdout",
     "output_type": "stream",
     "text": [
      "\n",
      "---------------------------------------------------------------------------\n",
      "    d) Download   l) List    u) Update   c) Config   h) Help   q) Quit\n",
      "---------------------------------------------------------------------------\n",
      "Downloader> d\n",
      "\n",
      "Download which package (l=list; x=cancel)?\n",
      "  Identifier> averaged_perceptron_tagger\n"
     ]
    },
    {
     "name": "stderr",
     "output_type": "stream",
     "text": [
      "    Downloading package averaged_perceptron_tagger to\n",
      "        /Users/Ellsworth/nltk_data...\n",
      "      Unzipping taggers/averaged_perceptron_tagger.zip.\n"
     ]
    },
    {
     "name": "stdout",
     "output_type": "stream",
     "text": [
      "\n",
      "---------------------------------------------------------------------------\n",
      "    d) Download   l) List    u) Update   c) Config   h) Help   q) Quit\n",
      "---------------------------------------------------------------------------\n",
      "Downloader> d\n",
      "\n",
      "Download which package (l=list; x=cancel)?\n",
      "  Identifier> stopwords\n"
     ]
    },
    {
     "name": "stderr",
     "output_type": "stream",
     "text": [
      "    Downloading package stopwords to /Users/Ellsworth/nltk_data...\n"
     ]
    }
   ],
   "source": [
    "nltk.download_shell()"
   ]
  },
  {
   "cell_type": "markdown",
   "metadata": {},
   "source": [
    "## Text Splitting Basics"
   ]
  },
  {
   "cell_type": "code",
   "execution_count": 4,
   "metadata": {},
   "outputs": [],
   "source": [
    "s = \"This is a short, simple piece of text, so let's try a short, simple analysis.\""
   ]
  },
  {
   "cell_type": "markdown",
   "metadata": {},
   "source": [
    "Breaking it up with `string.split()`"
   ]
  },
  {
   "cell_type": "code",
   "execution_count": 5,
   "metadata": {},
   "outputs": [
    {
     "data": {
      "text/plain": [
       "\"this is a short, simple piece of text, so let's try a short, simple analysis.\""
      ]
     },
     "execution_count": 5,
     "metadata": {},
     "output_type": "execute_result"
    }
   ],
   "source": [
    "s.lower()"
   ]
  },
  {
   "cell_type": "code",
   "execution_count": 6,
   "metadata": {},
   "outputs": [
    {
     "data": {
      "text/plain": [
       "['This',\n",
       " 'is',\n",
       " 'a',\n",
       " 'short,',\n",
       " 'simple',\n",
       " 'piece',\n",
       " 'of',\n",
       " 'text,',\n",
       " 'so',\n",
       " \"let's\",\n",
       " 'try',\n",
       " 'a',\n",
       " 'short,',\n",
       " 'simple',\n",
       " 'analysis.']"
      ]
     },
     "execution_count": 6,
     "metadata": {},
     "output_type": "execute_result"
    }
   ],
   "source": [
    "s.split()"
   ]
  },
  {
   "cell_type": "markdown",
   "metadata": {},
   "source": [
    "## Tokenizing\n",
    "Using NLTK, we can split (\"tokenize\") more intelligently."
   ]
  },
  {
   "cell_type": "code",
   "execution_count": 7,
   "metadata": {},
   "outputs": [
    {
     "data": {
      "text/plain": [
       "['This',\n",
       " 'is',\n",
       " 'a',\n",
       " 'short',\n",
       " ',',\n",
       " 'simple',\n",
       " 'piece',\n",
       " 'of',\n",
       " 'text',\n",
       " ',',\n",
       " 'so',\n",
       " 'let',\n",
       " \"'\",\n",
       " 's',\n",
       " 'try',\n",
       " 'a',\n",
       " 'short',\n",
       " ',',\n",
       " 'simple',\n",
       " 'analysis',\n",
       " '.']"
      ]
     },
     "execution_count": 7,
     "metadata": {},
     "output_type": "execute_result"
    }
   ],
   "source": [
    "nltk.wordpunct_tokenize(s)"
   ]
  },
  {
   "cell_type": "markdown",
   "metadata": {},
   "source": [
    "We can also count and visualize the distribution of terms."
   ]
  },
  {
   "cell_type": "code",
   "execution_count": 8,
   "metadata": {},
   "outputs": [
    {
     "data": {
      "text/plain": [
       "FreqDist({',': 3, 'a': 2, 'short': 2, 'simple': 2, 'This': 1, 'is': 1, 'piece': 1, 'of': 1, 'text': 1, 'so': 1, ...})"
      ]
     },
     "execution_count": 8,
     "metadata": {},
     "output_type": "execute_result"
    }
   ],
   "source": [
    "tokens = nltk.wordpunct_tokenize(s)\n",
    "nltk.probability.FreqDist(tokens)"
   ]
  },
  {
   "cell_type": "code",
   "execution_count": 9,
   "metadata": {},
   "outputs": [
    {
     "data": {
      "image/png": "[encoded data removed]",
      "text/plain": [
       "<Figure size 432x288 with 1 Axes>"
      ]
     },
     "metadata": {
      "needs_background": "light"
     },
     "output_type": "display_data"
    }
   ],
   "source": [
    "fd = nltk.probability.FreqDist(tokens)\n",
    "fd.plot()"
   ]
  },
  {
   "cell_type": "markdown",
   "metadata": {},
   "source": [
    "### Removing stop words\n",
    "NLTK provides corpuses of common stop words that we can use to remove common terms from text."
   ]
  },
  {
   "cell_type": "code",
   "execution_count": 10,
   "metadata": {},
   "outputs": [],
   "source": [
    "stopwords = nltk.corpus.stopwords.words('english')"
   ]
  },
  {
   "cell_type": "code",
   "execution_count": 11,
   "metadata": {},
   "outputs": [
    {
     "data": {
      "text/plain": [
       "['i',\n",
       " 'me',\n",
       " 'my',\n",
       " 'myself',\n",
       " 'we',\n",
       " 'our',\n",
       " 'ours',\n",
       " 'ourselves',\n",
       " 'you',\n",
       " \"you're\",\n",
       " \"you've\",\n",
       " \"you'll\",\n",
       " \"you'd\",\n",
       " 'your',\n",
       " 'yours',\n",
       " 'yourself',\n",
       " 'yourselves',\n",
       " 'he',\n",
       " 'him',\n",
       " 'his',\n",
       " 'himself',\n",
       " 'she',\n",
       " \"she's\",\n",
       " 'her',\n",
       " 'hers',\n",
       " 'herself',\n",
       " 'it',\n",
       " \"it's\",\n",
       " 'its',\n",
       " 'itself',\n",
       " 'they',\n",
       " 'them',\n",
       " 'their',\n",
       " 'theirs',\n",
       " 'themselves',\n",
       " 'what',\n",
       " 'which',\n",
       " 'who',\n",
       " 'whom',\n",
       " 'this',\n",
       " 'that',\n",
       " \"that'll\",\n",
       " 'these',\n",
       " 'those',\n",
       " 'am',\n",
       " 'is',\n",
       " 'are',\n",
       " 'was',\n",
       " 'were',\n",
       " 'be',\n",
       " 'been',\n",
       " 'being',\n",
       " 'have',\n",
       " 'has',\n",
       " 'had',\n",
       " 'having',\n",
       " 'do',\n",
       " 'does',\n",
       " 'did',\n",
       " 'doing',\n",
       " 'a',\n",
       " 'an',\n",
       " 'the',\n",
       " 'and',\n",
       " 'but',\n",
       " 'if',\n",
       " 'or',\n",
       " 'because',\n",
       " 'as',\n",
       " 'until',\n",
       " 'while',\n",
       " 'of',\n",
       " 'at',\n",
       " 'by',\n",
       " 'for',\n",
       " 'with',\n",
       " 'about',\n",
       " 'against',\n",
       " 'between',\n",
       " 'into',\n",
       " 'through',\n",
       " 'during',\n",
       " 'before',\n",
       " 'after',\n",
       " 'above',\n",
       " 'below',\n",
       " 'to',\n",
       " 'from',\n",
       " 'up',\n",
       " 'down',\n",
       " 'in',\n",
       " 'out',\n",
       " 'on',\n",
       " 'off',\n",
       " 'over',\n",
       " 'under',\n",
       " 'again',\n",
       " 'further',\n",
       " 'then',\n",
       " 'once',\n",
       " 'here',\n",
       " 'there',\n",
       " 'when',\n",
       " 'where',\n",
       " 'why',\n",
       " 'how',\n",
       " 'all',\n",
       " 'any',\n",
       " 'both',\n",
       " 'each',\n",
       " 'few',\n",
       " 'more',\n",
       " 'most',\n",
       " 'other',\n",
       " 'some',\n",
       " 'such',\n",
       " 'no',\n",
       " 'nor',\n",
       " 'not',\n",
       " 'only',\n",
       " 'own',\n",
       " 'same',\n",
       " 'so',\n",
       " 'than',\n",
       " 'too',\n",
       " 'very',\n",
       " 's',\n",
       " 't',\n",
       " 'can',\n",
       " 'will',\n",
       " 'just',\n",
       " 'don',\n",
       " \"don't\",\n",
       " 'should',\n",
       " \"should've\",\n",
       " 'now',\n",
       " 'd',\n",
       " 'll',\n",
       " 'm',\n",
       " 'o',\n",
       " 're',\n",
       " 've',\n",
       " 'y',\n",
       " 'ain',\n",
       " 'aren',\n",
       " \"aren't\",\n",
       " 'couldn',\n",
       " \"couldn't\",\n",
       " 'didn',\n",
       " \"didn't\",\n",
       " 'doesn',\n",
       " \"doesn't\",\n",
       " 'hadn',\n",
       " \"hadn't\",\n",
       " 'hasn',\n",
       " \"hasn't\",\n",
       " 'haven',\n",
       " \"haven't\",\n",
       " 'isn',\n",
       " \"isn't\",\n",
       " 'ma',\n",
       " 'mightn',\n",
       " \"mightn't\",\n",
       " 'mustn',\n",
       " \"mustn't\",\n",
       " 'needn',\n",
       " \"needn't\",\n",
       " 'shan',\n",
       " \"shan't\",\n",
       " 'shouldn',\n",
       " \"shouldn't\",\n",
       " 'wasn',\n",
       " \"wasn't\",\n",
       " 'weren',\n",
       " \"weren't\",\n",
       " 'won',\n",
       " \"won't\",\n",
       " 'wouldn',\n",
       " \"wouldn't\"]"
      ]
     },
     "execution_count": 11,
     "metadata": {},
     "output_type": "execute_result"
    }
   ],
   "source": [
    "stopwords"
   ]
  },
  {
   "cell_type": "markdown",
   "metadata": {},
   "source": [
    "Here's a slow way to remove stop words using a for loop."
   ]
  },
  {
   "cell_type": "code",
   "execution_count": 12,
   "metadata": {},
   "outputs": [
    {
     "name": "stdout",
     "output_type": "stream",
     "text": [
      "['short', ',', 'simple', 'piece', 'text', ',', 'let', \"'\", 'try', 'short', ',', 'simple', 'analysis', '.']\n"
     ]
    }
   ],
   "source": [
    "t = s.lower()   # make lowercase\n",
    "tokens = nltk.tokenize.wordpunct_tokenize(t)\n",
    "no_stopwords = []  # this will hold our NON-stopword words\n",
    "for t in tokens:   # for each word\n",
    "    if t not in stopwords:  # not in stopword list\n",
    "        no_stopwords.append(t)  # collect the word\n",
    "\n",
    "print(no_stopwords)"
   ]
  },
  {
   "cell_type": "markdown",
   "metadata": {},
   "source": [
    "#### A nice Python shortcut\n",
    "You can actually do this kind of transformation more concisely by using list comprehensions."
   ]
  },
  {
   "cell_type": "code",
   "execution_count": 13,
   "metadata": {},
   "outputs": [
    {
     "name": "stdout",
     "output_type": "stream",
     "text": [
      "['This', 'is', 'a', 'short', ',', 'simple', 'piece', 'of', 'text', ',', 'so', 'let', \"'\", 's', 'try', 'a', 'short', ',', 'simple', 'analysis', '.']\n"
     ]
    }
   ],
   "source": [
    "tokens = nltk.wordpunct_tokenize(s)\n",
    "print(tokens)   # non-lowercase version"
   ]
  },
  {
   "cell_type": "code",
   "execution_count": 14,
   "metadata": {},
   "outputs": [
    {
     "name": "stdout",
     "output_type": "stream",
     "text": [
      "['this', 'is', 'a', 'short', ',', 'simple', 'piece', 'of', 'text', ',', 'so', 'let', \"'\", 's', 'try', 'a', 'short', ',', 'simple', 'analysis', '.']\n"
     ]
    }
   ],
   "source": [
    "lower_tokens = [t.lower() for t in tokens]\n",
    "\n",
    "# ^ this list comprenehsion is basically a shorthand for:\n",
    "#lower_tokens = []\n",
    "#for t in tokens:\n",
    "#    lower_tokens.append(t.lower())\n",
    "print(lower_tokens)"
   ]
  },
  {
   "cell_type": "markdown",
   "metadata": {},
   "source": [
    "So to remove stopwords, we can nest an if statement inside the list comprehension."
   ]
  },
  {
   "cell_type": "code",
   "execution_count": 15,
   "metadata": {},
   "outputs": [
    {
     "name": "stdout",
     "output_type": "stream",
     "text": [
      "['this', 'short', ',', 'simple', 'piece', 'text', ',', 'let', \"'\", 'try', 'short', ',', 'simple', 'analysis', '.']\n"
     ]
    }
   ],
   "source": [
    "tokens_nostop = [t.lower() for t in tokens if t not in stopwords]\n",
    "print(tokens_nostop)"
   ]
  },
  {
   "cell_type": "markdown",
   "metadata": {},
   "source": [
    "You can remove punctuation the same way."
   ]
  },
  {
   "cell_type": "code",
   "execution_count": 16,
   "metadata": {},
   "outputs": [
    {
     "data": {
      "text/plain": [
       "'!\"#$%&\\'()*+,-./:;<=>?@[\\\\]^_`{|}~'"
      ]
     },
     "execution_count": 16,
     "metadata": {},
     "output_type": "execute_result"
    }
   ],
   "source": [
    "import string\n",
    "string.punctuation"
   ]
  },
  {
   "cell_type": "code",
   "execution_count": 17,
   "metadata": {},
   "outputs": [
    {
     "name": "stdout",
     "output_type": "stream",
     "text": [
      "['this', 'is', 'a', 'short', 'simple', 'piece', 'of', 'text', 'so', 'let', 's', 'try', 'a', 'short', 'simple', 'analysis']\n"
     ]
    }
   ],
   "source": [
    "tokens_nopunct = [t.lower() for t in tokens if t not in string.punctuation]\n",
    "print(tokens_nopunct)"
   ]
  },
  {
   "cell_type": "markdown",
   "metadata": {},
   "source": [
    "Or we can do both."
   ]
  },
  {
   "cell_type": "code",
   "execution_count": 18,
   "metadata": {},
   "outputs": [
    {
     "name": "stdout",
     "output_type": "stream",
     "text": [
      "['this', 'short', 'simple', 'piece', 'text', 'let', 'try', 'short', 'simple', 'analysis']\n"
     ]
    }
   ],
   "source": [
    "tokens_nostop_nopunct = [t.lower() for t in tokens if (t not in string.punctuation and t not in stopwords)]\n",
    "print(tokens_nostop_nopunct)"
   ]
  },
  {
   "cell_type": "markdown",
   "metadata": {},
   "source": [
    "### Stemming"
   ]
  },
  {
   "cell_type": "code",
   "execution_count": 19,
   "metadata": {},
   "outputs": [],
   "source": [
    "stemmer = nltk.stem.snowball.EnglishStemmer()  # grab me a \"snowball stemmer\""
   ]
  },
  {
   "cell_type": "code",
   "execution_count": 20,
   "metadata": {},
   "outputs": [
    {
     "data": {
      "text/plain": [
       "'run'"
      ]
     },
     "execution_count": 20,
     "metadata": {},
     "output_type": "execute_result"
    }
   ],
   "source": [
    "stemmer.stem(\"runs\")"
   ]
  },
  {
   "cell_type": "code",
   "execution_count": 21,
   "metadata": {},
   "outputs": [
    {
     "data": {
      "text/plain": [
       "'applic'"
      ]
     },
     "execution_count": 21,
     "metadata": {},
     "output_type": "execute_result"
    }
   ],
   "source": [
    "stemmer.stem(\"applicable\")"
   ]
  },
  {
   "cell_type": "markdown",
   "metadata": {},
   "source": [
    "Lowercase, remove stopwords, and stem all in one line."
   ]
  },
  {
   "cell_type": "code",
   "execution_count": 22,
   "metadata": {},
   "outputs": [
    {
     "name": "stdout",
     "output_type": "stream",
     "text": [
      "['short', 'simpl', 'piec', 'text', 'let', 'tri', 'short', 'simpl', 'analysi']\n"
     ]
    }
   ],
   "source": [
    "filtered = [stemmer.stem(t.lower()) for t in tokens if (t not in string.punctuation and t.lower() not in stopwords)]\n",
    "print(filtered)"
   ]
  },
  {
   "cell_type": "code",
   "execution_count": 23,
   "metadata": {},
   "outputs": [
    {
     "name": "stdout",
     "output_type": "stream",
     "text": [
      "This is a short, simple piece of text, so let's try a short, simple analysis.\n"
     ]
    },
    {
     "data": {
      "image/png": "[encoded data removed]",
      "text/plain": [
       "<Figure size 432x288 with 1 Axes>"
      ]
     },
     "metadata": {
      "needs_background": "light"
     },
     "output_type": "display_data"
    }
   ],
   "source": [
    "print(s)\n",
    "nltk.probability.FreqDist(filtered).plot()"
   ]
  },
  {
   "cell_type": "markdown",
   "metadata": {},
   "source": [
    "### Parts of Speech\n",
    "Labels each term in the text with its part of speech (noun, verb, adjective, etc.). \n",
    "\n",
    "Parts of speech are labeled using the codes from the UPENN Treebank project: https://www.ling.upenn.edu/courses/Fall_2003/ling001/penn_treebank_pos.html"
   ]
  },
  {
   "cell_type": "code",
   "execution_count": 24,
   "metadata": {},
   "outputs": [
    {
     "data": {
      "text/plain": [
       "[('this', 'DT'),\n",
       " ('is', 'VBZ'),\n",
       " ('a', 'DT'),\n",
       " ('short', 'JJ'),\n",
       " ('simple', 'JJ'),\n",
       " ('piece', 'NN'),\n",
       " ('of', 'IN'),\n",
       " ('text', 'NN'),\n",
       " ('so', 'RB'),\n",
       " ('let', 'JJ'),\n",
       " ('s', 'JJ'),\n",
       " ('try', 'VB'),\n",
       " ('a', 'DT'),\n",
       " ('short', 'JJ'),\n",
       " ('simple', 'NN'),\n",
       " ('analysis', 'NN')]"
      ]
     },
     "execution_count": 24,
     "metadata": {},
     "output_type": "execute_result"
    }
   ],
   "source": [
    "nltk.pos_tag(tokens_nopunct)"
   ]
  },
  {
   "cell_type": "code",
   "execution_count": 25,
   "metadata": {},
   "outputs": [
    {
     "data": {
      "image/png": "[encoded data removed]",
      "text/plain": [
       "<Figure size 432x288 with 1 Axes>"
      ]
     },
     "metadata": {
      "needs_background": "light"
     },
     "output_type": "display_data"
    }
   ],
   "source": [
    "pos_list = [i[1] for i in nltk.pos_tag(tokens_nopunct)]\n",
    "nltk.probability.FreqDist(pos_list).plot()"
   ]
  },
  {
   "cell_type": "markdown",
   "metadata": {},
   "source": [
    "### n-grams"
   ]
  },
  {
   "cell_type": "code",
   "execution_count": 26,
   "metadata": {},
   "outputs": [
    {
     "data": {
      "text/plain": [
       "[('this', 'is', 'a'),\n",
       " ('is', 'a', 'short'),\n",
       " ('a', 'short', 'simple'),\n",
       " ('short', 'simple', 'piece'),\n",
       " ('simple', 'piece', 'of'),\n",
       " ('piece', 'of', 'text'),\n",
       " ('of', 'text', 'so'),\n",
       " ('text', 'so', 'let'),\n",
       " ('so', 'let', 's'),\n",
       " ('let', 's', 'try'),\n",
       " ('s', 'try', 'a'),\n",
       " ('try', 'a', 'short'),\n",
       " ('a', 'short', 'simple'),\n",
       " ('short', 'simple', 'analysis')]"
      ]
     },
     "execution_count": 26,
     "metadata": {},
     "output_type": "execute_result"
    }
   ],
   "source": [
    "n = 3\n",
    "[i for i in nltk.ngrams(tokens_nopunct,n)]"
   ]
  },
  {
   "cell_type": "markdown",
   "metadata": {},
   "source": [
    "### Sentiment\n",
    "Sentiment analysis can be interesting, but it's also **very** inexact. You should always take it with a grain of salt, especially on small corpuses of text."
   ]
  },
  {
   "cell_type": "code",
   "execution_count": 27,
   "metadata": {},
   "outputs": [],
   "source": [
    "from nltk.sentiment.vader import SentimentIntensityAnalyzer\n",
    "sid = SentimentIntensityAnalyzer()"
   ]
  },
  {
   "cell_type": "code",
   "execution_count": 28,
   "metadata": {},
   "outputs": [
    {
     "name": "stdout",
     "output_type": "stream",
     "text": [
      "This is a short, simple piece of text, so let's try a short, simple analysis.\n"
     ]
    },
    {
     "data": {
      "text/plain": [
       "{'neg': 0.0, 'neu': 1.0, 'pos': 0.0, 'compound': 0.0}"
      ]
     },
     "execution_count": 28,
     "metadata": {},
     "output_type": "execute_result"
    }
   ],
   "source": [
    "print(s)\n",
    "sid.polarity_scores(s)"
   ]
  },
  {
   "cell_type": "markdown",
   "metadata": {},
   "source": [
    "^ The compound score here combines the others and will for negative sentences/phrases deemed to have negative sentiment and positive for text deemed to have positive sentiment."
   ]
  },
  {
   "cell_type": "code",
   "execution_count": 29,
   "metadata": {},
   "outputs": [
    {
     "data": {
      "text/plain": [
       "{'neg': 0.259, 'neu': 0.741, 'pos': 0.0, 'compound': -0.5423}"
      ]
     },
     "execution_count": 29,
     "metadata": {},
     "output_type": "execute_result"
    }
   ],
   "source": [
    "sid.polarity_scores(\"The movie was atrocious with horrible acting and a deeply flawed plot.\")"
   ]
  },
  {
   "cell_type": "code",
   "execution_count": 30,
   "metadata": {},
   "outputs": [
    {
     "data": {
      "text/plain": [
       "{'neg': 0.0, 'neu': 0.725, 'pos': 0.275, 'compound': 0.5859}"
      ]
     },
     "execution_count": 30,
     "metadata": {},
     "output_type": "execute_result"
    }
   ],
   "source": [
    "sid.polarity_scores(\"The movie was amazing with stellar acting and an incredible plot.\")"
   ]
  },
  {
   "cell_type": "markdown",
   "metadata": {},
   "source": [
    "## Tweet data\n",
    "Let's try this on a small sample of tweets from @nenshi.\n",
    "\n",
    "**Load one of the Twitter CSVs from the folder.**"
   ]
  },
  {
   "cell_type": "code",
   "execution_count": 33,
   "metadata": {},
   "outputs": [],
   "source": [
    "df = pd.read_csv(\"V&A Qualitative Datathon - Twitter @nenshi - Raw_Data.csv\")"
   ]
  },
  {
   "cell_type": "code",
   "execution_count": 34,
   "metadata": {},
   "outputs": [
    {
     "data": {
      "text/html": [
       "<div>\n",
       "<style scoped>\n",
       "    .dataframe tbody tr th:only-of-type {\n",
       "        vertical-align: middle;\n",
       "    }\n",
       "\n",
       "    .dataframe tbody tr th {\n",
       "        vertical-align: top;\n",
       "    }\n",
       "\n",
       "    .dataframe thead th {\n",
       "        text-align: right;\n",
       "    }\n",
       "</style>\n",
       "<table border=\"1\" class=\"dataframe\">\n",
       "  <thead>\n",
       "    <tr style=\"text-align: right;\">\n",
       "      <th></th>\n",
       "      <th>tweet-id</th>\n",
       "      <th>tweet-text</th>\n",
       "      <th>tweet-author</th>\n",
       "      <th>tweet-timestamp</th>\n",
       "      <th>tweet-timestamp-date</th>\n",
       "    </tr>\n",
       "  </thead>\n",
       "  <tbody>\n",
       "    <tr>\n",
       "      <th>0</th>\n",
       "      <td>1.0</td>\n",
       "      <td>@nenshi challenge - 3 Gifts of Service - info ...</td>\n",
       "      <td>mixedbagmag</td>\n",
       "      <td>1.480000e+12</td>\n",
       "      <td>10/26/16 18:37</td>\n",
       "    </tr>\n",
       "    <tr>\n",
       "      <th>1</th>\n",
       "      <td>2.0</td>\n",
       "      <td>Great to join this panel by webcast with stude...</td>\n",
       "      <td>Naheed Nenshi</td>\n",
       "      <td>1.480000e+12</td>\n",
       "      <td>10/26/16 17:45</td>\n",
       "    </tr>\n",
       "    <tr>\n",
       "      <th>2</th>\n",
       "      <td>3.0</td>\n",
       "      <td>We as people of faith, have so much more to un...</td>\n",
       "      <td>NFB Education</td>\n",
       "      <td>1.480000e+12</td>\n",
       "      <td>10/26/16 17:41</td>\n",
       "    </tr>\n",
       "    <tr>\n",
       "      <th>3</th>\n",
       "      <td>4.0</td>\n",
       "      <td>Welcome to his worship @nenshi, Mayor of Calga...</td>\n",
       "      <td>NFB Education</td>\n",
       "      <td>1.480000e+12</td>\n",
       "      <td>10/26/16 17:36</td>\n",
       "    </tr>\n",
       "    <tr>\n",
       "      <th>4</th>\n",
       "      <td>5.0</td>\n",
       "      <td>Well, that was fun! Have a wonderful #weday ev...</td>\n",
       "      <td>Naheed Nenshi</td>\n",
       "      <td>1.480000e+12</td>\n",
       "      <td>10/26/16 15:52</td>\n",
       "    </tr>\n",
       "    <tr>\n",
       "      <th>5</th>\n",
       "      <td>6.0</td>\n",
       "      <td>I'm reading it now!https://twitter.com/tonyses...</td>\n",
       "      <td>Naheed Nenshi</td>\n",
       "      <td>1.480000e+12</td>\n",
       "      <td>10/26/16 5:06</td>\n",
       "    </tr>\n",
       "    <tr>\n",
       "      <th>6</th>\n",
       "      <td>7.0</td>\n",
       "      <td>Thanks for coming and congrats on the new comm...</td>\n",
       "      <td>Naheed Nenshi</td>\n",
       "      <td>1.480000e+12</td>\n",
       "      <td>10/26/16 4:58</td>\n",
       "    </tr>\n",
       "    <tr>\n",
       "      <th>7</th>\n",
       "      <td>8.0</td>\n",
       "      <td>An anonymous Calgarian has stepped forward to ...</td>\n",
       "      <td>Jon Bateman</td>\n",
       "      <td>1.480000e+12</td>\n",
       "      <td>10/25/16 22:53</td>\n",
       "    </tr>\n",
       "    <tr>\n",
       "      <th>8</th>\n",
       "      <td>9.0</td>\n",
       "      <td>@nenshi - Missing 1 yr old grey/orange tabby/t...</td>\n",
       "      <td>Sandy</td>\n",
       "      <td>1.480000e+12</td>\n",
       "      <td>10/25/16 21:48</td>\n",
       "    </tr>\n",
       "    <tr>\n",
       "      <th>9</th>\n",
       "      <td>10.0</td>\n",
       "      <td>A touching story of poverty from Mayor Nenshi....</td>\n",
       "      <td>Daorcey Le Bray</td>\n",
       "      <td>1.480000e+12</td>\n",
       "      <td>10/25/16 17:51</td>\n",
       "    </tr>\n",
       "  </tbody>\n",
       "</table>\n",
       "</div>"
      ],
      "text/plain": [
       "   tweet-id                                         tweet-text  \\\n",
       "0       1.0  @nenshi challenge - 3 Gifts of Service - info ...   \n",
       "1       2.0  Great to join this panel by webcast with stude...   \n",
       "2       3.0  We as people of faith, have so much more to un...   \n",
       "3       4.0  Welcome to his worship @nenshi, Mayor of Calga...   \n",
       "4       5.0  Well, that was fun! Have a wonderful #weday ev...   \n",
       "5       6.0  I'm reading it now!https://twitter.com/tonyses...   \n",
       "6       7.0  Thanks for coming and congrats on the new comm...   \n",
       "7       8.0  An anonymous Calgarian has stepped forward to ...   \n",
       "8       9.0  @nenshi - Missing 1 yr old grey/orange tabby/t...   \n",
       "9      10.0  A touching story of poverty from Mayor Nenshi....   \n",
       "\n",
       "      tweet-author  tweet-timestamp tweet-timestamp-date  \n",
       "0      mixedbagmag     1.480000e+12       10/26/16 18:37  \n",
       "1    Naheed Nenshi     1.480000e+12       10/26/16 17:45  \n",
       "2    NFB Education     1.480000e+12       10/26/16 17:41  \n",
       "3    NFB Education     1.480000e+12       10/26/16 17:36  \n",
       "4    Naheed Nenshi     1.480000e+12       10/26/16 15:52  \n",
       "5    Naheed Nenshi     1.480000e+12        10/26/16 5:06  \n",
       "6    Naheed Nenshi     1.480000e+12        10/26/16 4:58  \n",
       "7      Jon Bateman     1.480000e+12       10/25/16 22:53  \n",
       "8            Sandy     1.480000e+12       10/25/16 21:48  \n",
       "9  Daorcey Le Bray     1.480000e+12       10/25/16 17:51  "
      ]
     },
     "execution_count": 34,
     "metadata": {},
     "output_type": "execute_result"
    }
   ],
   "source": [
    "df.head(10)"
   ]
  },
  {
   "cell_type": "markdown",
   "metadata": {},
   "source": [
    "### Tweet length"
   ]
  },
  {
   "cell_type": "code",
   "execution_count": 35,
   "metadata": {},
   "outputs": [
    {
     "name": "stdout",
     "output_type": "stream",
     "text": [
      "   tweet-id                                         tweet-text   tweet-author  \\\n",
      "0       1.0  @nenshi challenge - 3 Gifts of Service - info ...    mixedbagmag   \n",
      "1       2.0  Great to join this panel by webcast with stude...  Naheed Nenshi   \n",
      "2       3.0  We as people of faith, have so much more to un...  NFB Education   \n",
      "3       4.0  Welcome to his worship @nenshi, Mayor of Calga...  NFB Education   \n",
      "4       5.0  Well, that was fun! Have a wonderful #weday ev...  Naheed Nenshi   \n",
      "\n",
      "   tweet-timestamp tweet-timestamp-date  tweet-length  \n",
      "0     1.480000e+12       10/26/16 18:37           127  \n",
      "1     1.480000e+12       10/26/16 17:45           168  \n",
      "2     1.480000e+12       10/26/16 17:41           127  \n",
      "3     1.480000e+12       10/26/16 17:36           123  \n",
      "4     1.480000e+12       10/26/16 15:52           135  \n"
     ]
    },
    {
     "data": {
      "text/plain": [
       "<matplotlib.axes._subplots.AxesSubplot at 0x1a2d897f60>"
      ]
     },
     "execution_count": 35,
     "metadata": {},
     "output_type": "execute_result"
    },
    {
     "data": {
      "image/png": "[encoded data removed]",
      "text/plain": [
       "<Figure size 432x288 with 1 Axes>"
      ]
     },
     "metadata": {
      "needs_background": "light"
     },
     "output_type": "display_data"
    }
   ],
   "source": [
    "df['tweet-length'] = [len(t) for t in df['tweet-text']]\n",
    "print(df.head(5))\n",
    "df['tweet-length'].hist()"
   ]
  },
  {
   "cell_type": "markdown",
   "metadata": {},
   "source": [
    "### Sentiment"
   ]
  },
  {
   "cell_type": "code",
   "execution_count": 36,
   "metadata": {},
   "outputs": [
    {
     "name": "stdout",
     "output_type": "stream",
     "text": [
      "                                          tweet-text  sentiment\n",
      "0  @nenshi challenge - 3 Gifts of Service - info ...     0.0772\n",
      "1  Great to join this panel by webcast with stude...     0.8684\n",
      "2  We as people of faith, have so much more to un...     0.6124\n",
      "3  Welcome to his worship @nenshi, Mayor of Calga...     0.6369\n",
      "4  Well, that was fun! Have a wonderful #weday ev...     0.8847\n"
     ]
    },
    {
     "data": {
      "text/plain": [
       "<matplotlib.axes._subplots.AxesSubplot at 0x1a2d925748>"
      ]
     },
     "execution_count": 36,
     "metadata": {},
     "output_type": "execute_result"
    },
    {
     "data": {
      "image/png": "[encoded data removed]",
      "text/plain": [
       "<Figure size 432x288 with 1 Axes>"
      ]
     },
     "metadata": {
      "needs_background": "light"
     },
     "output_type": "display_data"
    }
   ],
   "source": [
    "df['sentiment'] = df['tweet-text'].map(lambda x: sid.polarity_scores(x)[\"compound\"])\n",
    "print(df[['tweet-text','sentiment']].head(5))\n",
    "df['sentiment'].hist()"
   ]
  },
  {
   "cell_type": "markdown",
   "metadata": {},
   "source": [
    "### Word frequency\n",
    "Tokenize the tweet text and remove punctuation and stopwords."
   ]
  },
  {
   "cell_type": "code",
   "execution_count": 37,
   "metadata": {},
   "outputs": [
    {
     "data": {
      "text/html": [
       "<div>\n",
       "<style scoped>\n",
       "    .dataframe tbody tr th:only-of-type {\n",
       "        vertical-align: middle;\n",
       "    }\n",
       "\n",
       "    .dataframe tbody tr th {\n",
       "        vertical-align: top;\n",
       "    }\n",
       "\n",
       "    .dataframe thead th {\n",
       "        text-align: right;\n",
       "    }\n",
       "</style>\n",
       "<table border=\"1\" class=\"dataframe\">\n",
       "  <thead>\n",
       "    <tr style=\"text-align: right;\">\n",
       "      <th></th>\n",
       "      <th>tweet-text</th>\n",
       "      <th>tweet-tokens</th>\n",
       "    </tr>\n",
       "  </thead>\n",
       "  <tbody>\n",
       "    <tr>\n",
       "      <th>0</th>\n",
       "      <td>@nenshi challenge - 3 Gifts of Service - info ...</td>\n",
       "      <td>[@, nenshi, challenge, -, 3, Gifts, of, Servic...</td>\n",
       "    </tr>\n",
       "    <tr>\n",
       "      <th>1</th>\n",
       "      <td>Great to join this panel by webcast with stude...</td>\n",
       "      <td>[Great, to, join, this, panel, by, webcast, wi...</td>\n",
       "    </tr>\n",
       "    <tr>\n",
       "      <th>2</th>\n",
       "      <td>We as people of faith, have so much more to un...</td>\n",
       "      <td>[We, as, people, of, faith, ,, have, so, much,...</td>\n",
       "    </tr>\n",
       "    <tr>\n",
       "      <th>3</th>\n",
       "      <td>Welcome to his worship @nenshi, Mayor of Calga...</td>\n",
       "      <td>[Welcome, to, his, worship, @, nenshi, ,, Mayo...</td>\n",
       "    </tr>\n",
       "    <tr>\n",
       "      <th>4</th>\n",
       "      <td>Well, that was fun! Have a wonderful #weday ev...</td>\n",
       "      <td>[Well, ,, that, was, fun, !, Have, a, wonderfu...</td>\n",
       "    </tr>\n",
       "  </tbody>\n",
       "</table>\n",
       "</div>"
      ],
      "text/plain": [
       "                                          tweet-text  \\\n",
       "0  @nenshi challenge - 3 Gifts of Service - info ...   \n",
       "1  Great to join this panel by webcast with stude...   \n",
       "2  We as people of faith, have so much more to un...   \n",
       "3  Welcome to his worship @nenshi, Mayor of Calga...   \n",
       "4  Well, that was fun! Have a wonderful #weday ev...   \n",
       "\n",
       "                                        tweet-tokens  \n",
       "0  [@, nenshi, challenge, -, 3, Gifts, of, Servic...  \n",
       "1  [Great, to, join, this, panel, by, webcast, wi...  \n",
       "2  [We, as, people, of, faith, ,, have, so, much,...  \n",
       "3  [Welcome, to, his, worship, @, nenshi, ,, Mayo...  \n",
       "4  [Well, ,, that, was, fun, !, Have, a, wonderfu...  "
      ]
     },
     "execution_count": 37,
     "metadata": {},
     "output_type": "execute_result"
    }
   ],
   "source": [
    "df['tweet-tokens'] = df['tweet-text'].map(lambda x: nltk.wordpunct_tokenize(x))\n",
    "df[['tweet-text','tweet-tokens']].head(5)"
   ]
  },
  {
   "cell_type": "code",
   "execution_count": 38,
   "metadata": {},
   "outputs": [
    {
     "data": {
      "text/html": [
       "<div>\n",
       "<style scoped>\n",
       "    .dataframe tbody tr th:only-of-type {\n",
       "        vertical-align: middle;\n",
       "    }\n",
       "\n",
       "    .dataframe tbody tr th {\n",
       "        vertical-align: top;\n",
       "    }\n",
       "\n",
       "    .dataframe thead th {\n",
       "        text-align: right;\n",
       "    }\n",
       "</style>\n",
       "<table border=\"1\" class=\"dataframe\">\n",
       "  <thead>\n",
       "    <tr style=\"text-align: right;\">\n",
       "      <th></th>\n",
       "      <th>tweet-id</th>\n",
       "      <th>tweet-text</th>\n",
       "      <th>tweet-author</th>\n",
       "      <th>tweet-timestamp</th>\n",
       "      <th>tweet-timestamp-date</th>\n",
       "      <th>tweet-length</th>\n",
       "      <th>sentiment</th>\n",
       "      <th>tweet-tokens</th>\n",
       "      <th>tweet-tokens-filtered</th>\n",
       "    </tr>\n",
       "  </thead>\n",
       "  <tbody>\n",
       "    <tr>\n",
       "      <th>0</th>\n",
       "      <td>1.0</td>\n",
       "      <td>@nenshi challenge - 3 Gifts of Service - info ...</td>\n",
       "      <td>mixedbagmag</td>\n",
       "      <td>1.480000e+12</td>\n",
       "      <td>10/26/16 18:37</td>\n",
       "      <td>127</td>\n",
       "      <td>0.0772</td>\n",
       "      <td>[@, nenshi, challenge, -, 3, Gifts, of, Servic...</td>\n",
       "      <td>[nenshi, challenge, 3, gifts, service, info, h...</td>\n",
       "    </tr>\n",
       "    <tr>\n",
       "      <th>1</th>\n",
       "      <td>2.0</td>\n",
       "      <td>Great to join this panel by webcast with stude...</td>\n",
       "      <td>Naheed Nenshi</td>\n",
       "      <td>1.480000e+12</td>\n",
       "      <td>10/26/16 17:45</td>\n",
       "      <td>168</td>\n",
       "      <td>0.8684</td>\n",
       "      <td>[Great, to, join, this, panel, by, webcast, wi...</td>\n",
       "      <td>[great, join, panel, webcast, students, across...</td>\n",
       "    </tr>\n",
       "    <tr>\n",
       "      <th>2</th>\n",
       "      <td>3.0</td>\n",
       "      <td>We as people of faith, have so much more to un...</td>\n",
       "      <td>NFB Education</td>\n",
       "      <td>1.480000e+12</td>\n",
       "      <td>10/26/16 17:41</td>\n",
       "      <td>127</td>\n",
       "      <td>0.6124</td>\n",
       "      <td>[We, as, people, of, faith, ,, have, so, much,...</td>\n",
       "      <td>[people, faith, much, unite, us, divides, us, ...</td>\n",
       "    </tr>\n",
       "    <tr>\n",
       "      <th>3</th>\n",
       "      <td>4.0</td>\n",
       "      <td>Welcome to his worship @nenshi, Mayor of Calga...</td>\n",
       "      <td>NFB Education</td>\n",
       "      <td>1.480000e+12</td>\n",
       "      <td>10/26/16 17:36</td>\n",
       "      <td>123</td>\n",
       "      <td>0.6369</td>\n",
       "      <td>[Welcome, to, his, worship, @, nenshi, ,, Mayo...</td>\n",
       "      <td>[welcome, worship, nenshi, mayor, calgary, par...</td>\n",
       "    </tr>\n",
       "    <tr>\n",
       "      <th>4</th>\n",
       "      <td>5.0</td>\n",
       "      <td>Well, that was fun! Have a wonderful #weday ev...</td>\n",
       "      <td>Naheed Nenshi</td>\n",
       "      <td>1.480000e+12</td>\n",
       "      <td>10/26/16 15:52</td>\n",
       "      <td>135</td>\n",
       "      <td>0.8847</td>\n",
       "      <td>[Well, ,, that, was, fun, !, Have, a, wonderfu...</td>\n",
       "      <td>[well, fun, wonderful, weday, everyone, forget...</td>\n",
       "    </tr>\n",
       "  </tbody>\n",
       "</table>\n",
       "</div>"
      ],
      "text/plain": [
       "   tweet-id                                         tweet-text   tweet-author  \\\n",
       "0       1.0  @nenshi challenge - 3 Gifts of Service - info ...    mixedbagmag   \n",
       "1       2.0  Great to join this panel by webcast with stude...  Naheed Nenshi   \n",
       "2       3.0  We as people of faith, have so much more to un...  NFB Education   \n",
       "3       4.0  Welcome to his worship @nenshi, Mayor of Calga...  NFB Education   \n",
       "4       5.0  Well, that was fun! Have a wonderful #weday ev...  Naheed Nenshi   \n",
       "\n",
       "   tweet-timestamp tweet-timestamp-date  tweet-length  sentiment  \\\n",
       "0     1.480000e+12       10/26/16 18:37           127     0.0772   \n",
       "1     1.480000e+12       10/26/16 17:45           168     0.8684   \n",
       "2     1.480000e+12       10/26/16 17:41           127     0.6124   \n",
       "3     1.480000e+12       10/26/16 17:36           123     0.6369   \n",
       "4     1.480000e+12       10/26/16 15:52           135     0.8847   \n",
       "\n",
       "                                        tweet-tokens  \\\n",
       "0  [@, nenshi, challenge, -, 3, Gifts, of, Servic...   \n",
       "1  [Great, to, join, this, panel, by, webcast, wi...   \n",
       "2  [We, as, people, of, faith, ,, have, so, much,...   \n",
       "3  [Welcome, to, his, worship, @, nenshi, ,, Mayo...   \n",
       "4  [Well, ,, that, was, fun, !, Have, a, wonderfu...   \n",
       "\n",
       "                               tweet-tokens-filtered  \n",
       "0  [nenshi, challenge, 3, gifts, service, info, h...  \n",
       "1  [great, join, panel, webcast, students, across...  \n",
       "2  [people, faith, much, unite, us, divides, us, ...  \n",
       "3  [welcome, worship, nenshi, mayor, calgary, par...  \n",
       "4  [well, fun, wonderful, weday, everyone, forget...  "
      ]
     },
     "execution_count": 38,
     "metadata": {},
     "output_type": "execute_result"
    }
   ],
   "source": [
    "def remove_stop_punct(token_list):\n",
    "    return [t.lower() for t in token_list if (t not in string.punctuation and t.lower() not in stopwords)]\n",
    "\n",
    "df['tweet-tokens'] = [nltk.wordpunct_tokenize(tweet) for tweet in df['tweet-text']]\n",
    "df['tweet-tokens-filtered'] = df['tweet-tokens'].map(remove_stop_punct)\n",
    "df.head(5)\n"
   ]
  },
  {
   "cell_type": "markdown",
   "metadata": {},
   "source": [
    "Get a list of all of the tokens in the whole corpus"
   ]
  },
  {
   "cell_type": "code",
   "execution_count": 39,
   "metadata": {},
   "outputs": [
    {
     "data": {
      "image/png": "[encoded data removed]",
      "text/plain": [
       "<Figure size 432x288 with 1 Axes>"
      ]
     },
     "metadata": {
      "needs_background": "light"
     },
     "output_type": "display_data"
    }
   ],
   "source": [
    "tweet_tokens_filtered_list = [item for sublist in df[\"tweet-tokens-filtered\"] for item in sublist]\n",
    "nltk.FreqDist(tweet_tokens_filtered_list).plot(30) #Show me just the top 30"
   ]
  },
  {
   "cell_type": "markdown",
   "metadata": {},
   "source": [
    "# ToDo\n",
    "Are there terms that should be removed from this frequency distribution? Think about how you'd remove them.\n",
    "\n",
    "*Hint: Think about how we removed punctuation and stop words earlier.*"
   ]
  },
  {
   "cell_type": "code",
   "execution_count": null,
   "metadata": {
    "collapsed": true
   },
   "outputs": [],
   "source": []
  },
  {
   "cell_type": "markdown",
   "metadata": {},
   "source": [
    "Try this analysis on one of the other Twitter samples in the dataset.\n",
    "> @CoachsCornerCBC  \n",
    "> @BoredElonMusk  \n",
    "> @DungeonsDonald  \n",
    "> @georgetakei  \n",
    "> @neiltyson  "
   ]
  },
  {
   "cell_type": "code",
   "execution_count": null,
   "metadata": {
    "collapsed": true
   },
   "outputs": [],
   "source": []
  }
 ],
 "metadata": {
  "anaconda-cloud": {},
  "kernelspec": {
   "display_name": "Python 3",
   "language": "python",
   "name": "python3"
  },
  "language_info": {
   "codemirror_mode": {
    "name": "ipython",
    "version": 3
   },
   "file_extension": ".py",
   "mimetype": "text/x-python",
   "name": "python",
   "nbconvert_exporter": "python",
   "pygments_lexer": "ipython3",
   "version": "3.7.3"
  }
 },
 "nbformat": 4,
 "nbformat_minor": 1
}

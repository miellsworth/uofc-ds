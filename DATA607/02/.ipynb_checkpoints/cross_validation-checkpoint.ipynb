{
 "cells": [
  {
   "cell_type": "markdown",
   "metadata": {},
   "source": [
    "## Cross Validation for Error Estimation and Model Selection"
   ]
  },
  {
   "cell_type": "code",
   "execution_count": 1,
   "metadata": {},
   "outputs": [],
   "source": [
    "import numpy as np\n",
    "from sklearn.neighbors import KNeighborsRegressor\n",
    "from sklearn.model_selection import train_test_split, cross_val_score\n",
    "from matplotlib import pyplot as plt"
   ]
  },
  {
   "cell_type": "markdown",
   "metadata": {},
   "source": [
    "Cross validation has two related uses:\n",
    "1. estimating a model's expected prediction error,\n",
    "2. model selection."
   ]
  },
  {
   "cell_type": "markdown",
   "metadata": {},
   "source": [
    "### Estimating Prediction Error\n",
    "\n",
    "Suppose I draw a random sample $$\\mathcal{D} = \\{(X_0, Y_n),\\;\\ldots,\\;(X_{n-1},Y_{n-1})\\}\\qquad (n=50)$$ from the following distribution:\n",
    "\n",
    "$$\n",
    "\\begin{aligned}\n",
    "    X&\\sim U[0,1]=\\text{uniform distribution on [0,1]},\\\\[1ex]\n",
    "    Y|X&\\sim N\\left(\\sqrt{X}\\sin(2\\pi X)^2,\\; 0.15\\right).\n",
    "\\end{aligned}\n",
    "$$\n",
    "\n",
    "Write $p_{\\text{data}}$ for this data generating distribution.\n",
    "\n",
    "By construction, the regression function $r(X)$ of $Y$ on $X$ is\n",
    "\n",
    "$$\n",
    "r(X) = E[Y|X] = \\sqrt{X}\\sin(2\\pi X)^2.\n",
    "$$"
   ]
  },
  {
   "cell_type": "code",
   "execution_count": 2,
   "metadata": {},
   "outputs": [
    {
     "data": {
      "image/png": "[encoded data removed]",
      "text/plain": [
       "<Figure size 504x432 with 1 Axes>"
      ]
     },
     "metadata": {
      "needs_background": "light"
     },
     "output_type": "display_data"
    }
   ],
   "source": [
    "np.random.seed(123)\n",
    "\n",
    "def r(u):\n",
    "    return np.sqrt(u)*np.sin(2*np.pi*u)**2\n",
    "\n",
    "u = np.linspace(0, 1)\n",
    "plt.figure(figsize=(7,6))\n",
    "plt.plot(u, r(u), lw=5, label=\"$r(X)$\")\n",
    "plt.xlabel(\"$X$\", fontsize=18)\n",
    "plt.ylabel(\"$r(X)$\", fontsize=18);\n",
    "\n",
    "n = 50\n",
    "X = np.random.uniform(size=n).reshape(-1, 1)\n",
    "E = np.random.normal(0, 0.15, size=n).reshape(-1, 1)\n",
    "Y = r(X) + E\n",
    "plt.plot(X, Y, 'o', mec='k', label=\"$(X_i,Y_i)$\")\n",
    "plt.legend(fontsize=18);"
   ]
  },
  {
   "cell_type": "markdown",
   "metadata": {},
   "source": [
    "By fitting a $5$-nearest neighbors model to $\\mathcal{D}$, I construct an approximation, $\\widehat r_{\\mathcal{D}}$, to $r$."
   ]
  },
  {
   "cell_type": "code",
   "execution_count": 3,
   "metadata": {},
   "outputs": [
    {
     "data": {
      "text/plain": [
       "KNeighborsRegressor(algorithm='auto', leaf_size=30, metric='minkowski',\n",
       "                    metric_params=None, n_jobs=None, n_neighbors=5, p=2,\n",
       "                    weights='uniform')"
      ]
     },
     "execution_count": 3,
     "metadata": {},
     "output_type": "execute_result"
    }
   ],
   "source": [
    "M = KNeighborsRegressor(n_neighbors=5)\n",
    "M.fit(X.reshape(-1, 1), Y)"
   ]
  },
  {
   "cell_type": "markdown",
   "metadata": {},
   "source": [
    "The **expected prediction error**, $\\operatorname{EPE}(\\hat r)$, is the expected value of $(\\hat r(X)-Y)^2$, where $(X,Y)$ is a **new** data point drawn from the $p_{\\text{data}}$:\n",
    "\n",
    "$$\n",
    "\\operatorname{EPE}(\\hat r_{\\mathcal{D}}) = E_{(X,Y)\\sim p_{\\text{data}}}\\left[\\left(\\hat r_{\\mathcal{D}}(X)-Y\\right)^2\\right]\\tag{$*$}\n",
    "$$\n",
    "\n",
    "We'd like to appriximate this quantity.\n",
    "\n",
    "If we could sample a large, new **testing** data set,\n",
    "\n",
    "$$\n",
    "\\mathcal{D'} = \\{(X_0', Y_m'),\\;\\ldots,\\;(X_{m-1}',Y_{m-1}')\\}\\qquad (m=10000)\n",
    "$$\n",
    "\n",
    "from $p_{\\text{data}}$, we could average over that to produce a more reliable estimate of $(*)$. We call this estimate the **testing error**:\n",
    "\n",
    "$$\n",
    "\\text{testing error} = \\frac1m\\sum_{i=0}^{n-1}\\left(\\hat r_\\mathcal{D}(X_i') - Y_i'\\right)^2\n",
    "$$"
   ]
  },
  {
   "cell_type": "code",
   "execution_count": 4,
   "metadata": {},
   "outputs": [
    {
     "name": "stdout",
     "output_type": "stream",
     "text": [
      "test error = 0.0371812076489526\n"
     ]
    }
   ],
   "source": [
    "m = 10000\n",
    "X_test = np.random.uniform(size=m).reshape(-1, 1)\n",
    "E_test = np.random.normal(0, 0.15, size=m).reshape(-1, 1)\n",
    "Y_test = r(X_test) + E_test\n",
    "\n",
    "Y_test_pred = M.predict(X_test.reshape(-1, 1))\n",
    "test_error = np.mean(np.square(Y_test_pred - Y_test))\n",
    "print(f\"test error = {test_error}\")"
   ]
  },
  {
   "cell_type": "markdown",
   "metadata": {},
   "source": [
    "However, when analyzing real data, it is extremely unlikely that you will be able to produce new data. You need to work with what you have!\n",
    "The simplest way to do so would be to approximate $(*)$ averaging over the training set, $\\mathcal{D}$. This gives the so-called **training error**:\n",
    "\n",
    "$$\n",
    "\\text{training error} = \\frac1n\\sum_{i=0}^{n-1}\\left(\\hat r_\\mathcal{D}(X_i) - Y_i\\right)^2\n",
    "$$\n",
    "This is somewhat dubious, however, as the random vector $(X,Y)$ in the definition of $\\operatorname{EPE}(\\hat r)$ is supposed to be a **new** data point, not one of the ones used to fit the model. Thus, the training error typically **underestimates** $\\operatorname{EPE}(\\hat r)$."
   ]
  },
  {
   "cell_type": "code",
   "execution_count": 5,
   "metadata": {},
   "outputs": [
    {
     "name": "stdout",
     "output_type": "stream",
     "text": [
      "train error = 0.02854262805639619\n"
     ]
    }
   ],
   "source": [
    "Y_pred = M.predict(X.reshape(-1, 1))\n",
    "train_error = np.mean(np.square(Y_pred - Y))\n",
    "print(f\"train error = {train_error}\") # small!!"
   ]
  },
  {
   "cell_type": "markdown",
   "metadata": {},
   "source": [
    "$k$-fold cross validation is a compromise between the following two approaches: We construct several train/test splittings of our data set:\n",
    "\n",
    "$$\n",
    "\\mathcal{D}_0\\,/\\,\\mathcal{D}_{-0},\\;\\ldots,\\;\\mathcal{D}_{k-1}\\,/\\,\\mathcal{D}_{-(k-1)},\n",
    "$$\n",
    "\n",
    "For each $i=0,\\ldots,k-1$, train a new approximation, $\\widehat{r}_{\\mathcal{D}_{-i}}$, to $r$ on $\\mathcal{D}_{-i}$ and test it on $\\mathcal{D}_i$, giving $k$ testing error scores, $e_1,\\ldots,e_k$.\n",
    "The point of this is:\n",
    "\n",
    "- Since $\\mathcal{D}_{-i}$ is a large subset of $\\mathcal{D}$, we should have\n",
    "$$\n",
    "\\operatorname{EPE}(\\hat r_{\\mathcal{D}_{-i}}) \\approx \\operatorname{EPE}(\\hat r_{\\mathcal{D}}).\n",
    "$$\n",
    "\n",
    "- Since $\\mathcal{D}_{-i}$ is disjoint from $\\mathcal{D}_i$, the associated testing error\n",
    "$$\n",
    "e_i = \\frac1n\\sum_{(X_i', Y_i')\\in \\mathcal{D}_i}\\left(\\hat r_\\mathcal{D}(X_i') - Y_i'\\right)^2\n",
    "$$\n",
    "should be a good approximation of $\\operatorname{EPE}(\\hat r_{\\mathcal{D}_{-i}})$:\n",
    "$$\n",
    "e_i\\approx \\operatorname{EPE}(\\hat r_{\\mathcal{D}_{-i}}).\n",
    "$$\n",
    "\n",
    "Putting the above two approximations together, we expect each $e_i$ to be a reasonable approximation to $\\operatorname{EPE}(\\hat r_{\\mathcal{D}})$.\n",
    "The average of these quantities,\n",
    "$$\n",
    "\\frac1k(e_1+\\cdots+ e_k)\n",
    "$$\n",
    "should be even better.  We use this **$k$-fold cross validation score** as a proxy for $\\operatorname{EPE}(\\hat r_{\\mathcal{D}})$."
   ]
  },
  {
   "cell_type": "code",
   "execution_count": 6,
   "metadata": {},
   "outputs": [
    {
     "name": "stdout",
     "output_type": "stream",
     "text": [
      "5-fold cross validation score = 0.044067833010757826\n"
     ]
    }
   ],
   "source": [
    "score = np.mean(-cross_val_score(M, X, Y, cv=5, scoring=\"neg_mean_squared_error\"))\n",
    "print(f\"5-fold cross validation score = {score}\") # better"
   ]
  },
  {
   "cell_type": "markdown",
   "metadata": {},
   "source": [
    "### Model Selection\n",
    "\n",
    "When choosing a model, we want to pick the one with the best prediction characteristics, i.e., the lowest expected prediction error.\n",
    "Since the $k$-fold cross validation score gives a good estimate of this quantity, it makes sense to choose the model, among a set of candidates (e.g., obtained by varying parameters), with the lowest value of such."
   ]
  },
  {
   "cell_type": "code",
   "execution_count": 7,
   "metadata": {},
   "outputs": [
    {
     "name": "stdout",
     "output_type": "stream",
     "text": [
      "optimal k = 5\n"
     ]
    },
    {
     "data": {
      "image/png": "[encoded data removed]",
      "text/plain": [
       "<Figure size 432x288 with 1 Axes>"
      ]
     },
     "metadata": {
      "needs_background": "light"
     },
     "output_type": "display_data"
    }
   ],
   "source": [
    "np.random.seed(123)\n",
    "\n",
    "n = 100\n",
    "X = np.random.uniform(size=n).reshape(-1, 1)\n",
    "E = np.random.normal(0, 0.15, size=n).reshape(-1, 1)\n",
    "Y = r(X) + E\n",
    "\n",
    "scores = []\n",
    "for k in range(1, 21):\n",
    "    M = KNeighborsRegressor(n_neighbors=k)\n",
    "    score = np.mean(-cross_val_score(M, X, Y, cv=5, scoring=\"neg_mean_squared_error\"))\n",
    "    scores.append(score)\n",
    "plt.plot(range(1, 21), scores, lw=5)\n",
    "plt.xlabel(\"$k$\", fontsize=18)\n",
    "plt.ylabel(\"5-fold CV score\", fontsize=18)\n",
    "\n",
    "optimal_k = np.argmin(scores) + 1\n",
    "print(f\"optimal k = {optimal_k}\")"
   ]
  },
  {
   "cell_type": "code",
   "execution_count": null,
   "metadata": {},
   "outputs": [],
   "source": []
  }
 ],
 "metadata": {
  "kernelspec": {
   "display_name": "Python 3",
   "language": "python",
   "name": "python3"
  },
  "language_info": {
   "codemirror_mode": {
    "name": "ipython",
    "version": 3
   },
   "file_extension": ".py",
   "mimetype": "text/x-python",
   "name": "python",
   "nbconvert_exporter": "python",
   "pygments_lexer": "ipython3",
   "version": "3.7.3"
  }
 },
 "nbformat": 4,
 "nbformat_minor": 4
}

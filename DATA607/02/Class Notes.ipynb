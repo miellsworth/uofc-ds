{
 "cells": [
  {
   "cell_type": "code",
   "execution_count": 2,
   "metadata": {},
   "outputs": [],
   "source": [
    "import numpy as np\n",
    "from matplotlib import pyplot as plt"
   ]
  },
  {
   "cell_type": "code",
   "execution_count": 4,
   "metadata": {},
   "outputs": [
    {
     "name": "stdout",
     "output_type": "stream",
     "text": [
      "0.02522449979658925 -0.7687435544938719\n"
     ]
    },
    {
     "data": {
      "image/png": "[encoded data removed]",
      "text/plain": [
       "<Figure size 432x288 with 1 Axes>"
      ]
     },
     "metadata": {
      "needs_background": "light"
     },
     "output_type": "display_data"
    }
   ],
   "source": [
    "intercept = np.random.random()\n",
    "slope = -np.random.random()\n",
    "\n",
    "plt.plot([0, 1], [intercept, intercept + slope * 1])\n",
    "print(intercept, slope)"
   ]
  },
  {
   "cell_type": "code",
   "execution_count": 10,
   "metadata": {},
   "outputs": [
    {
     "data": {
      "text/plain": [
       "<matplotlib.legend.Legend at 0x110e14780>"
      ]
     },
     "execution_count": 10,
     "metadata": {},
     "output_type": "execute_result"
    },
    {
     "data": {
      "image/png": "[encoded data removed]",
      "text/plain": [
       "<Figure size 432x288 with 1 Axes>"
      ]
     },
     "metadata": {
      "needs_background": "light"
     },
     "output_type": "display_data"
    }
   ],
   "source": [
    "n = 20\n",
    "X = np.random.uniform(size = n)\n",
    "X.sort()\n",
    "y = intercept + slope * X + np.random.normal(0, 0.1, size = n)\n",
    "\n",
    "plt.plot([0, 1], [intercept, intercept + slope * 1], label = \"ground truth\")\n",
    "plt.plot(X, y, 'o', label = \"sample\")\n",
    "plt.legend()"
   ]
  },
  {
   "cell_type": "code",
   "execution_count": 13,
   "metadata": {},
   "outputs": [
    {
     "data": {
      "text/plain": [
       "array([[1.        , 0.02645335],\n",
       "       [1.        , 0.0458681 ],\n",
       "       [1.        , 0.05028313],\n",
       "       [1.        , 0.11479395],\n",
       "       [1.        , 0.13235577],\n",
       "       [1.        , 0.13685211],\n",
       "       [1.        , 0.21668125],\n",
       "       [1.        , 0.28269143],\n",
       "       [1.        , 0.3421034 ],\n",
       "       [1.        , 0.45004162],\n",
       "       [1.        , 0.51388954],\n",
       "       [1.        , 0.57294227],\n",
       "       [1.        , 0.62637297],\n",
       "       [1.        , 0.67016052],\n",
       "       [1.        , 0.70161377],\n",
       "       [1.        , 0.74881846],\n",
       "       [1.        , 0.81003164],\n",
       "       [1.        , 0.83324482],\n",
       "       [1.        , 0.91303034],\n",
       "       [1.        , 0.94147956]])"
      ]
     },
     "execution_count": 13,
     "metadata": {},
     "output_type": "execute_result"
    }
   ],
   "source": [
    "XX = np.array([np.ones_like(X), X]).T\n",
    "XX"
   ]
  },
  {
   "cell_type": "code",
   "execution_count": 14,
   "metadata": {},
   "outputs": [
    {
     "data": {
      "text/plain": [
       "array([[20.        ,  9.12970799],\n",
       "       [ 9.12970799,  6.0584445 ]])"
      ]
     },
     "execution_count": 14,
     "metadata": {},
     "output_type": "execute_result"
    }
   ],
   "source": [
    "# @ is np matrix multiplication\n",
    "W = XX.T @ XX\n",
    "W"
   ]
  },
  {
   "cell_type": "code",
   "execution_count": 17,
   "metadata": {},
   "outputs": [
    {
     "name": "stdout",
     "output_type": "stream",
     "text": [
      "0.02522449979658925 -0.04233738525288878 -0.7687435544938719 -0.6869341377116425\n"
     ]
    }
   ],
   "source": [
    "# Slope and intercept approximations\n",
    "intercept_, slope_ = np.linalg.inv(XX.T @ XX) @ XX.T @ y\n",
    "print(intercept, intercept_, slope, slope_)"
   ]
  },
  {
   "cell_type": "code",
   "execution_count": 20,
   "metadata": {},
   "outputs": [
    {
     "name": "stdout",
     "output_type": "stream",
     "text": [
      "[[ 1  4]\n",
      " [ 9 16]]\n",
      "[[ 7 10]\n",
      " [15 22]]\n",
      "[[ 7 10]\n",
      " [15 22]]\n"
     ]
    }
   ],
   "source": [
    "A = np.array([[1, 2], [3, 4]])\n",
    "print(A * A)\n",
    "print(A @ A)\n",
    "print(A.dot(A))"
   ]
  },
  {
   "cell_type": "code",
   "execution_count": 21,
   "metadata": {},
   "outputs": [
    {
     "name": "stderr",
     "output_type": "stream",
     "text": [
      "/Users/Ellsworth/anaconda3/lib/python3.7/site-packages/ipykernel_launcher.py:1: FutureWarning: `rcond` parameter will change to the default of machine precision times ``max(M, N)`` where M and N are the input matrix dimensions.\n",
      "To use the future default and silence this warning we advise to pass `rcond=None`, to keep using the old, explicitly pass `rcond=-1`.\n",
      "  \"\"\"Entry point for launching an IPython kernel.\n"
     ]
    },
    {
     "data": {
      "text/plain": [
       "(array([-0.04233739, -0.68693414]),\n",
       " array([0.20216945]),\n",
       " 2,\n",
       " array([4.95135135, 1.24200013]))"
      ]
     },
     "execution_count": 21,
     "metadata": {},
     "output_type": "execute_result"
    }
   ],
   "source": [
    "# First array returns slope and intercept approximations\n",
    "np.linalg.lstsq(XX, y)"
   ]
  },
  {
   "cell_type": "code",
   "execution_count": 25,
   "metadata": {},
   "outputs": [
    {
     "name": "stdout",
     "output_type": "stream",
     "text": [
      "-0.04233738525288892 -0.6869341377116419\n"
     ]
    }
   ],
   "source": [
    "# Assign intercept_ and slope_ with first array, ignore the rest using the star or spread operator *\n",
    "(intercept_, slope_), *_ = np.linalg.lstsq(XX, y, rcond = -1)\n",
    "print(intercept_, slope_)"
   ]
  },
  {
   "cell_type": "code",
   "execution_count": 27,
   "metadata": {},
   "outputs": [
    {
     "data": {
      "text/plain": [
       "array([0.93144331, 0.27647151, 0.06539795])"
      ]
     },
     "execution_count": 27,
     "metadata": {},
     "output_type": "execute_result"
    }
   ],
   "source": [
    "X_test = np.random.uniform(size = 3)\n",
    "X_test"
   ]
  },
  {
   "cell_type": "code",
   "execution_count": 30,
   "metadata": {},
   "outputs": [],
   "source": [
    "weights = np.array([np.ones_like(X_test), X_test]).T @ np.linalg.inv(XX.T @ XX) @ XX.T"
   ]
  },
  {
   "cell_type": "code",
   "execution_count": 33,
   "metadata": {},
   "outputs": [],
   "source": [
    "y_test = weights.dot(y)"
   ]
  },
  {
   "cell_type": "code",
   "execution_count": 34,
   "metadata": {},
   "outputs": [
    {
     "data": {
      "text/plain": [
       "<matplotlib.legend.Legend at 0x110fcdf60>"
      ]
     },
     "execution_count": 34,
     "metadata": {},
     "output_type": "execute_result"
    },
    {
     "data": {
      "image/png": "[encoded data removed]",
      "text/plain": [
       "<Figure size 432x288 with 1 Axes>"
      ]
     },
     "metadata": {
      "needs_background": "light"
     },
     "output_type": "display_data"
    }
   ],
   "source": [
    "plt.plot([0, 1], [intercept, intercept + slope * 1], label = \"ground truth\")\n",
    "plt.plot(X, y, 'o', label = \"sample\")\n",
    "plt.plot(X_test, y_test, 'o', label = \"test\")\n",
    "plt.legend()"
   ]
  },
  {
   "cell_type": "code",
   "execution_count": 35,
   "metadata": {},
   "outputs": [],
   "source": [
    "from sklearn.linear_model import LinearRegression"
   ]
  },
  {
   "cell_type": "code",
   "execution_count": 38,
   "metadata": {},
   "outputs": [],
   "source": [
    "M = LinearRegression(fit_intercept = False)\n",
    "M.fit(X.reshape(-1, 1), y)\n",
    "yy_test = M.predict(X_test.reshape(-1, 1))"
   ]
  },
  {
   "cell_type": "code",
   "execution_count": 39,
   "metadata": {},
   "outputs": [
    {
     "data": {
      "text/plain": [
       "array([False, False, False])"
      ]
     },
     "execution_count": 39,
     "metadata": {},
     "output_type": "execute_result"
    }
   ],
   "source": [
    "yy_test == y_test"
   ]
  },
  {
   "cell_type": "code",
   "execution_count": 40,
   "metadata": {},
   "outputs": [],
   "source": [
    "from sklearn.neighbors import KNeighborsRegressor\n",
    "from sklearn.base import BaseEstimator, RegressorMixin\n",
    "from sklearn.utils import check_array, check_X_y"
   ]
  },
  {
   "cell_type": "code",
   "execution_count": 41,
   "metadata": {},
   "outputs": [
    {
     "data": {
      "text/plain": [
       "[<matplotlib.lines.Line2D at 0x1a20b59ef0>]"
      ]
     },
     "execution_count": 41,
     "metadata": {},
     "output_type": "execute_result"
    },
    {
     "data": {
      "image/png": "[encoded data removed]",
      "text/plain": [
       "<Figure size 432x288 with 1 Axes>"
      ]
     },
     "metadata": {
      "needs_background": "light"
     },
     "output_type": "display_data"
    }
   ],
   "source": [
    "np.random.seed(666)\n",
    "X = 10*np.random.uniform(size=5)\n",
    "X.sort()\n",
    "plt.plot(X, [0 for x in X], 'o', color=(0,0,0,0), mec='k', mew=2, ms=10)"
   ]
  },
  {
   "cell_type": "code",
   "execution_count": 50,
   "metadata": {},
   "outputs": [],
   "source": [
    "def nn(x, X): # 1 - nearest neighbor\n",
    "    np.abs(X - x)    "
   ]
  },
  {
   "cell_type": "code",
   "execution_count": 43,
   "metadata": {},
   "outputs": [
    {
     "data": {
      "text/plain": [
       "array([1.76514336, 2.00437122, 2.27858057, 3.44186643, 4.51457957])"
      ]
     },
     "execution_count": 43,
     "metadata": {},
     "output_type": "execute_result"
    }
   ],
   "source": [
    "x = 5\n",
    "np.abs(X - x)"
   ]
  },
  {
   "cell_type": "code",
   "execution_count": 46,
   "metadata": {},
   "outputs": [
    {
     "name": "stdout",
     "output_type": "stream",
     "text": [
      "4\n",
      "4.514579574463394\n"
     ]
    }
   ],
   "source": [
    "# Index of the maximum\n",
    "print(np.argmax(np.abs(X - x)))\n",
    "\n",
    "# Maximum\n",
    "print(np.max(np.abs(X - x)))"
   ]
  },
  {
   "cell_type": "code",
   "execution_count": 48,
   "metadata": {},
   "outputs": [
    {
     "name": "stdout",
     "output_type": "stream",
     "text": [
      "0\n",
      "1.7651433593762542\n"
     ]
    }
   ],
   "source": [
    "# Index of the minimum\n",
    "print(np.argmin(np.abs(X - x)))\n",
    "\n",
    "# Minimum\n",
    "print(np.min(np.abs(X - x)))"
   ]
  },
  {
   "cell_type": "code",
   "execution_count": 53,
   "metadata": {},
   "outputs": [
    {
     "name": "stdout",
     "output_type": "stream",
     "text": [
      "[0.77447945 0.00510884 0.11285765 0.11095367 0.24766823]\n"
     ]
    },
    {
     "data": {
      "text/plain": [
       "0.7744794542685887"
      ]
     },
     "execution_count": 53,
     "metadata": {},
     "output_type": "execute_result"
    }
   ],
   "source": [
    "def nn(x, X, y):\n",
    "    return y[np.argmin(np.abs(X - x))]\n",
    "y = np.random.uniform(size = X.shape)\n",
    "print(y)\n",
    "nn(x, X, y)"
   ]
  },
  {
   "cell_type": "code",
   "execution_count": 54,
   "metadata": {},
   "outputs": [
    {
     "ename": "ValueError",
     "evalue": "operands could not be broadcast together with shapes (5,) (2,) ",
     "output_type": "error",
     "traceback": [
      "\u001b[0;31m---------------------------------------------------------------------------\u001b[0m",
      "\u001b[0;31mValueError\u001b[0m                                Traceback (most recent call last)",
      "\u001b[0;32m<ipython-input-54-baadc8588347>\u001b[0m in \u001b[0;36m<module>\u001b[0;34m\u001b[0m\n\u001b[1;32m      1\u001b[0m \u001b[0mx\u001b[0m \u001b[0;34m=\u001b[0m \u001b[0mnp\u001b[0m\u001b[0;34m.\u001b[0m\u001b[0marray\u001b[0m\u001b[0;34m(\u001b[0m\u001b[0;34m[\u001b[0m\u001b[0;36m5\u001b[0m\u001b[0;34m,\u001b[0m \u001b[0;36m9\u001b[0m\u001b[0;34m]\u001b[0m\u001b[0;34m)\u001b[0m\u001b[0;34m\u001b[0m\u001b[0;34m\u001b[0m\u001b[0m\n\u001b[0;32m----> 2\u001b[0;31m \u001b[0mnp\u001b[0m\u001b[0;34m.\u001b[0m\u001b[0mabs\u001b[0m\u001b[0;34m(\u001b[0m\u001b[0mX\u001b[0m \u001b[0;34m-\u001b[0m \u001b[0mx\u001b[0m\u001b[0;34m)\u001b[0m\u001b[0;34m\u001b[0m\u001b[0;34m\u001b[0m\u001b[0m\n\u001b[0m",
      "\u001b[0;31mValueError\u001b[0m: operands could not be broadcast together with shapes (5,) (2,) "
     ]
    }
   ],
   "source": [
    "x = np.array([5, 9])\n",
    "np.abs(X - x)"
   ]
  },
  {
   "cell_type": "code",
   "execution_count": 60,
   "metadata": {},
   "outputs": [
    {
     "name": "stdout",
     "output_type": "stream",
     "text": [
      "[5 9]\n",
      "[6.76514336 7.00437122 7.27858057 8.44186643 9.51457957]\n",
      "[0.77447945 0.00510884 0.11285765 0.11095367 0.24766823]\n",
      "[[1.76514336 2.23485664]\n",
      " [2.00437122 1.99562878]\n",
      " [2.27858057 1.72141943]\n",
      " [3.44186643 0.55813357]\n",
      " [4.51457957 0.51457957]]\n",
      "[0 4]\n",
      "[0.77447945 0.24766823]\n"
     ]
    }
   ],
   "source": [
    "print(x)\n",
    "print(X)\n",
    "print(y)\n",
    "print(np.abs(X.reshape(-1, 1) - x.reshape(1, -1)))\n",
    "print(np.argmin(np.abs(X.reshape(-1, 1) - x.reshape(1, -1)), axis = 0))\n",
    "print(y[np.argmin(np.abs(X.reshape(-1, 1) - x.reshape(1, -1)), axis = 0)])"
   ]
  },
  {
   "cell_type": "code",
   "execution_count": 70,
   "metadata": {},
   "outputs": [
    {
     "data": {
      "text/plain": [
       "array([1.76514336, 2.00437122, 2.27858057, 3.44186643, 4.51457957])"
      ]
     },
     "execution_count": 70,
     "metadata": {},
     "output_type": "execute_result"
    }
   ],
   "source": [
    "x = 5\n",
    "k = 3\n",
    "distances = np.abs(X - x)\n",
    "distances.sort()\n",
    "distances"
   ]
  },
  {
   "cell_type": "code",
   "execution_count": 71,
   "metadata": {},
   "outputs": [
    {
     "data": {
      "text/plain": [
       "array([0, 1, 2, 3, 4])"
      ]
     },
     "execution_count": 71,
     "metadata": {},
     "output_type": "execute_result"
    }
   ],
   "source": [
    "np.argsort(distances)"
   ]
  },
  {
   "cell_type": "code",
   "execution_count": null,
   "metadata": {},
   "outputs": [],
   "source": []
  }
 ],
 "metadata": {
  "kernelspec": {
   "display_name": "Python 3",
   "language": "python",
   "name": "python3"
  },
  "language_info": {
   "codemirror_mode": {
    "name": "ipython",
    "version": 3
   },
   "file_extension": ".py",
   "mimetype": "text/x-python",
   "name": "python",
   "nbconvert_exporter": "python",
   "pygments_lexer": "ipython3",
   "version": "3.7.3"
  }
 },
 "nbformat": 4,
 "nbformat_minor": 2
}

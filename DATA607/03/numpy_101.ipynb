{
 "cells": [
  {
   "cell_type": "markdown",
   "metadata": {},
   "source": [
    "## `numpy` 101: Axes, universal functions, and broadcasting"
   ]
  },
  {
   "cell_type": "code",
   "execution_count": 6,
   "metadata": {},
   "outputs": [],
   "source": [
    "import numpy as np"
   ]
  },
  {
   "cell_type": "markdown",
   "metadata": {},
   "source": [
    "### \"Collapsing\" functions\n",
    "\n",
    "`numpy` has lots of useful collapse arrays to numbers:\n",
    "\n",
    "- `sum` adds up all the elements in an array.\n",
    "- `prod` multiplies all the elements of an array together.\n",
    "- `mean` computes the mean of all the elements of an array.\n",
    "- `median` computes the median of all the elements of an array.\n",
    "- `var` computes the variance of all the elements of an array.\n",
    "- `max` returns the largest value of an array.\n",
    "- `min` returns the smallest value of an array.\n",
    "- `argmax` gives the index -- in the flattened array -- of the first occurance of an array's maximum value.\n",
    "- `argmin` gives the index -- in the flattened array -- of the first occurance of an array's minimum value.\n",
    "- ..."
   ]
  },
  {
   "cell_type": "code",
   "execution_count": 7,
   "metadata": {},
   "outputs": [
    {
     "name": "stdout",
     "output_type": "stream",
     "text": [
      "[[ 1  2  3]\n",
      " [ 4  5  6]\n",
      " [ 7  8  9]\n",
      " [10 11 12]\n",
      " [13 14 15]]\n",
      "\n",
      "8.0\n",
      "\n",
      "8.0\n",
      "\n",
      "8.0\n",
      "\n",
      "15\n",
      "\n",
      "14\n"
     ]
    }
   ],
   "source": [
    "B = np.array(range(1, 16)).reshape(5, 3)\n",
    "print(B, B.mean(), np.mean(B), np.median(B), np.max(B), np.argmax(B), sep=\"\\n\\n\")"
   ]
  },
  {
   "cell_type": "markdown",
   "metadata": {},
   "source": [
    "### Collapsing along axes\n",
    "\n",
    "These same functions, when instructed, can also collapse arrays into smaller arrays.\n",
    "If `f` is one of the above functions, then `f(B, axis=k)` will apply `f` to collapse the $k$-th axis of `B`:"
   ]
  },
  {
   "cell_type": "code",
   "execution_count": 8,
   "metadata": {},
   "outputs": [
    {
     "name": "stdout",
     "output_type": "stream",
     "text": [
      "[35 40 45]\n",
      "\n",
      "[ 2.  5.  8. 11. 14.]\n",
      "\n",
      "[0 0 0]\n",
      "\n",
      "[2 2 2 2 2]\n"
     ]
    }
   ],
   "source": [
    "print(np.sum(B, axis=0), np.mean(B, axis=1), np.argmin(B, axis=0), np.argmax(B, axis=1), sep=\"\\n\\n\")"
   ]
  },
  {
   "cell_type": "markdown",
   "metadata": {},
   "source": [
    "If $j \\neq k$, then the $j$-th dimension of `f(B, axis=k)` is the same as that of `B`. The $k$-th dimension of `f(B, axis=k)` is $1$. (The $j$-th dimension of `B` is `B.shape[j]`.)\n",
    "\n",
    "Axis 0 is the row axis. Collapsing along axis $0$ means collapsing all the rows down to a single row. Similarly for axis $1$ and columns."
   ]
  },
  {
   "cell_type": "markdown",
   "metadata": {},
   "source": [
    "### Repeating along an axis\n",
    "\n",
    "`np.repeat(C, n, axis=k)` will repeat `C` `n` times along its `k`-th axis."
   ]
  },
  {
   "cell_type": "code",
   "execution_count": 9,
   "metadata": {},
   "outputs": [
    {
     "name": "stdout",
     "output_type": "stream",
     "text": [
      "[[1 2 3]]\n",
      "\n",
      "[[1 2 3]\n",
      " [1 2 3]\n",
      " [1 2 3]]\n",
      "\n",
      "[[1 1 1 1 2 2 2 2 3 3 3 3]]\n"
     ]
    }
   ],
   "source": [
    "u = np.array([[1, 2, 3]])\n",
    "v = 2*np.array(range(-4, 8)).reshape(4, 3)\n",
    "w = np.array(range(4, -1, -1)).reshape(5, 1)\n",
    "\n",
    "print(u, np.repeat(u, 3, axis=0), np.repeat(u, 4, axis=1), sep=\"\\n\\n\")"
   ]
  },
  {
   "cell_type": "markdown",
   "metadata": {},
   "source": [
    "### Universal functions\n",
    "\n",
    "In `numpy`, Basic arithmetic operations on arrays (matrices) are performed component-wise..."
   ]
  },
  {
   "cell_type": "code",
   "execution_count": 10,
   "metadata": {},
   "outputs": [
    {
     "name": "stdout",
     "output_type": "stream",
     "text": [
      "[ 5 12  9]\n",
      "\n",
      "[ 4 20 18]\n",
      "\n",
      "[0.25 0.2  0.5 ]\n",
      "\n",
      "[   1 1024  729]\n"
     ]
    }
   ],
   "source": [
    "x = np.array([1, 2, 3])\n",
    "y = np.array([4, 10, 6])\n",
    "print(x + y, x*y, x/y, x**y, sep=\"\\n\\n\")"
   ]
  },
  {
   "cell_type": "markdown",
   "metadata": {},
   "source": [
    "...and obey certain size compatibility constraints."
   ]
  },
  {
   "cell_type": "code",
   "execution_count": 11,
   "metadata": {},
   "outputs": [
    {
     "name": "stdout",
     "output_type": "stream",
     "text": [
      "ValueError: operands could not be broadcast together with shapes (3,) (4,) \n"
     ]
    }
   ],
   "source": [
    "z = np.array([1, -1, 0, 1])\n",
    "try:\n",
    "    x * z\n",
    "except ValueError as e:\n",
    "    print(f\"ValueError: {e}\")"
   ]
  },
  {
   "cell_type": "markdown",
   "metadata": {},
   "source": [
    "`numpy` has plenty of standard mathematical functions built in. These also operate component-wise on arrays:"
   ]
  },
  {
   "cell_type": "code",
   "execution_count": 12,
   "metadata": {},
   "outputs": [
    {
     "name": "stdout",
     "output_type": "stream",
     "text": [
      "[2. 4. 8.]\n",
      "\n",
      "[ 2.71828183  7.3890561  20.08553692]\n",
      "\n",
      "[1.         1.41421356 1.73205081]\n",
      "\n",
      "[1 4 9]\n"
     ]
    }
   ],
   "source": [
    "A = np.array([x, y])\n",
    "print(np.exp2(x), np.exp(x), np.sqrt(x), np.square(x), sep=\"\\n\\n\")"
   ]
  },
  {
   "cell_type": "markdown",
   "metadata": {},
   "source": [
    "In `numpy`, functions that operate componentwise on arrays of arbitrary size are called **universal functions** (`ufunc`s).\n",
    "\n",
    "### Broadcasting\n",
    "\n",
    "In linear algebra class, it's common to multiply a vector matrix by a scalar:"
   ]
  },
  {
   "cell_type": "code",
   "execution_count": 13,
   "metadata": {},
   "outputs": [
    {
     "name": "stdout",
     "output_type": "stream",
     "text": [
      "[[ 1  2  3]\n",
      " [ 4 10  6]]\n",
      "\n",
      "[[ 3  6  9]\n",
      " [12 30 18]]\n"
     ]
    }
   ],
   "source": [
    "print(A, 3*A, sep=\"\\n\\n\")"
   ]
  },
  {
   "cell_type": "markdown",
   "metadata": {},
   "source": [
    "What's not so common is to add a number to a vector or matrix:"
   ]
  },
  {
   "cell_type": "code",
   "execution_count": 14,
   "metadata": {},
   "outputs": [
    {
     "name": "stdout",
     "output_type": "stream",
     "text": [
      "[1 2 3]\n",
      "\n",
      "[2 3 4]\n",
      "\n",
      "[[ 1  2  3]\n",
      " [ 4 10  6]]\n",
      "\n",
      "[[0 1 2]\n",
      " [3 9 5]]\n"
     ]
    }
   ],
   "source": [
    "print(x, x + 1, A, A - 1, sep=\"\\n\\n\")"
   ]
  },
  {
   "cell_type": "markdown",
   "metadata": {},
   "source": [
    "`numpy` knows that adding a number to an array means adding that number to every component of an array.\n",
    "This is a special case of `numpy`'s scheme, called **broadcasting**, for applying **universal functions of several variables** --- like `+`, `*`, `/`, and `**` --- to arrays with different sizes."
   ]
  },
  {
   "cell_type": "code",
   "execution_count": 15,
   "metadata": {},
   "outputs": [
    {
     "name": "stdout",
     "output_type": "stream",
     "text": [
      "[[1 2 3]]\n",
      "\n",
      "[[-8 -6 -4]\n",
      " [-2  0  2]\n",
      " [ 4  6  8]\n",
      " [10 12 14]]\n",
      "\n",
      "[[-7 -4 -1]\n",
      " [-1  2  5]\n",
      " [ 5  8 11]\n",
      " [11 14 17]]\n",
      "\n",
      "[[1 2 3]]\n",
      "\n",
      "[[4]\n",
      " [3]\n",
      " [2]\n",
      " [1]\n",
      " [0]]\n",
      "\n",
      "[[ 4  8 12]\n",
      " [ 3  6  9]\n",
      " [ 2  4  6]\n",
      " [ 1  2  3]\n",
      " [ 0  0  0]]\n"
     ]
    }
   ],
   "source": [
    "print(u, v, u + v, u, w, u * w, sep=\"\\n\\n\")"
   ]
  },
  {
   "cell_type": "markdown",
   "metadata": {},
   "source": [
    "- We added the $1 \\times 3$ array `u` to the $4\\times 3$ array `v`, producing a $4\\times 3$ array.\n",
    "- We multiplied the $1 \\times 3$ array `u` to the $5\\times 1$ array `v`, producing a $5\\times 3$ array.\n",
    "\n",
    "Here are the rules:\n",
    "\n",
    "- `A + B` is defined **if and only if**\n",
    "  <p style=\"text-align: center; padding-bottom: 1em\">for all `j`, either `A.shape[j] == B.shape[j]` or one of `A.shape[j]`, `B.shape[j]` is `1`,</p>\n",
    "  in which case `(A + B).shape[j] == np.max(A.shape[j], B.shape[j])`.\n",
    "\n",
    "- If `1 == A.shape[j] < B.shape[j]`, then `A` is duplicated along the `j`-th axis `B.shape[j]` times, and symmetrically if `1 == B.shape[j] < A.shape[j]`. The new matrices are then added as usual.\n",
    "\n",
    "**Note:** `numpy` doesn't literally duplicte rows/columns, creating a large, redundant matrix.\n",
    "That would be inefficient. Nonetheless, I find this is a useful way to visualize how broadcasting works."
   ]
  },
  {
   "cell_type": "code",
   "execution_count": 16,
   "metadata": {},
   "outputs": [
    {
     "name": "stdout",
     "output_type": "stream",
     "text": [
      "[[1 2 3]]\n",
      "\n",
      "[[-8 -6 -4]\n",
      " [-2  0  2]\n",
      " [ 4  6  8]\n",
      " [10 12 14]]\n",
      "\n",
      "[[-7 -4 -1]\n",
      " [-1  2  5]\n",
      " [ 5  8 11]\n",
      " [11 14 17]]\n",
      "\n",
      "[[1 2 3]\n",
      " [1 2 3]\n",
      " [1 2 3]\n",
      " [1 2 3]]\n",
      "\n",
      "[[-8 -6 -4]\n",
      " [-2  0  2]\n",
      " [ 4  6  8]\n",
      " [10 12 14]]\n",
      "\n",
      "[[-7 -4 -1]\n",
      " [-1  2  5]\n",
      " [ 5  8 11]\n",
      " [11 14 17]]\n"
     ]
    }
   ],
   "source": [
    "uu = np.repeat(u, 4, axis=0)\n",
    "print(u, v, u + v, uu, v, uu + v, sep=\"\\n\\n\")"
   ]
  },
  {
   "cell_type": "code",
   "execution_count": 17,
   "metadata": {},
   "outputs": [
    {
     "name": "stdout",
     "output_type": "stream",
     "text": [
      "[[1]\n",
      " [2]\n",
      " [3]]\n",
      "\n",
      "[[-8 -2  4 10]\n",
      " [-6  0  6 12]\n",
      " [-4  2  8 14]]\n",
      "\n",
      "[[-7 -1  5 11]\n",
      " [-4  2  8 14]\n",
      " [-1  5 11 17]]\n",
      "\n",
      "[[1 1 1 1]\n",
      " [2 2 2 2]\n",
      " [3 3 3 3]]\n",
      "\n",
      "[[-8 -2  4 10]\n",
      " [-6  0  6 12]\n",
      " [-4  2  8 14]]\n",
      "\n",
      "[[-7 -1  5 11]\n",
      " [-4  2  8 14]\n",
      " [-1  5 11 17]]\n"
     ]
    }
   ],
   "source": [
    "print(u.T, v.T, u.T + v.T, uu.T, v.T, uu.T + v.T, sep=\"\\n\\n\")"
   ]
  },
  {
   "cell_type": "markdown",
   "metadata": {},
   "source": [
    "### Test your understanding"
   ]
  },
  {
   "cell_type": "markdown",
   "metadata": {},
   "source": [
    "1. Arrange the numbers $1$ through $35$ in a $5 \\times 7$ matrix, $A$.\n",
    "   \n",
    "   1. Compute the mean of all the entries of $A$.\n",
    "   2. Compute the row-means of $A$, i.e., the vector of length $5$ whose $i$-th entry is the mean of the $i$-th row of $A$.\n",
    "   3. Subtract the row-means from their rows, so that the row-means of the resulting difference are all $0$. (We call this **centering** the rows of $A$.)\n",
    "   4. Divide each centered row by its standard deviation (`np.std`). Confirm that the rows of the resulting matrix all have variance (`np.var`) $1$.\n",
    "\n",
    "2. Let $B$ be a $6\\times 6$ matrix whose entries are drawn independently at random from the standard normal distribution (`numpy.random.normal`). In each column of $B$, find the entry closest to $0.5$, and its row index. (Hint: `np.abs` and `np.argmin`)\n",
    "\n",
    "3. Let $C$ be a $5\\times 10$ matrix whose entries are drawn independently at random from the standard uniform distribution (`numpy.random.uniform`). In each row of $C$, find the entries furthest from $0.0$, $0.33$, $0.66$, and $1.0$, as well as their column indices. (Hint: `np.abs` and `np.argmax`)"
   ]
  },
  {
   "cell_type": "code",
   "execution_count": null,
   "metadata": {},
   "outputs": [],
   "source": []
  }
 ],
 "metadata": {
  "kernelspec": {
   "display_name": "Python 3",
   "language": "python",
   "name": "python3"
  },
  "language_info": {
   "codemirror_mode": {
    "name": "ipython",
    "version": 3
   },
   "file_extension": ".py",
   "mimetype": "text/x-python",
   "name": "python",
   "nbconvert_exporter": "python",
   "pygments_lexer": "ipython3",
   "version": "3.7.4"
  }
 },
 "nbformat": 4,
 "nbformat_minor": 4
}

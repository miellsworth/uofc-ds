{
 "cells": [
  {
   "cell_type": "code",
   "execution_count": 1,
   "metadata": {},
   "outputs": [],
   "source": [
    "import graphviz\n",
    "import pandas as pd\n",
    "import numpy as np\n",
    "from sklearn import tree\n",
    "from sklearn.tree import DecisionTreeRegressor\n",
    "from matplotlib import pyplot as plt"
   ]
  },
  {
   "cell_type": "code",
   "execution_count": 2,
   "metadata": {},
   "outputs": [
    {
     "data": {
      "text/html": [
       "<div>\n",
       "<style scoped>\n",
       "    .dataframe tbody tr th:only-of-type {\n",
       "        vertical-align: middle;\n",
       "    }\n",
       "\n",
       "    .dataframe tbody tr th {\n",
       "        vertical-align: top;\n",
       "    }\n",
       "\n",
       "    .dataframe thead th {\n",
       "        text-align: right;\n",
       "    }\n",
       "</style>\n",
       "<table border=\"1\" class=\"dataframe\">\n",
       "  <thead>\n",
       "    <tr style=\"text-align: right;\">\n",
       "      <th></th>\n",
       "      <th>Years</th>\n",
       "      <th>CHits</th>\n",
       "      <th>HmRun</th>\n",
       "      <th>Salary</th>\n",
       "    </tr>\n",
       "  </thead>\n",
       "  <tbody>\n",
       "    <tr>\n",
       "      <th>1</th>\n",
       "      <td>14</td>\n",
       "      <td>835</td>\n",
       "      <td>7</td>\n",
       "      <td>475.0</td>\n",
       "    </tr>\n",
       "    <tr>\n",
       "      <th>2</th>\n",
       "      <td>3</td>\n",
       "      <td>457</td>\n",
       "      <td>18</td>\n",
       "      <td>480.0</td>\n",
       "    </tr>\n",
       "    <tr>\n",
       "      <th>3</th>\n",
       "      <td>11</td>\n",
       "      <td>1575</td>\n",
       "      <td>20</td>\n",
       "      <td>500.0</td>\n",
       "    </tr>\n",
       "    <tr>\n",
       "      <th>4</th>\n",
       "      <td>2</td>\n",
       "      <td>101</td>\n",
       "      <td>10</td>\n",
       "      <td>91.5</td>\n",
       "    </tr>\n",
       "    <tr>\n",
       "      <th>5</th>\n",
       "      <td>11</td>\n",
       "      <td>1133</td>\n",
       "      <td>4</td>\n",
       "      <td>750.0</td>\n",
       "    </tr>\n",
       "    <tr>\n",
       "      <th>...</th>\n",
       "      <td>...</td>\n",
       "      <td>...</td>\n",
       "      <td>...</td>\n",
       "      <td>...</td>\n",
       "    </tr>\n",
       "    <tr>\n",
       "      <th>315</th>\n",
       "      <td>5</td>\n",
       "      <td>806</td>\n",
       "      <td>7</td>\n",
       "      <td>700.0</td>\n",
       "    </tr>\n",
       "    <tr>\n",
       "      <th>316</th>\n",
       "      <td>12</td>\n",
       "      <td>1511</td>\n",
       "      <td>5</td>\n",
       "      <td>875.0</td>\n",
       "    </tr>\n",
       "    <tr>\n",
       "      <th>317</th>\n",
       "      <td>6</td>\n",
       "      <td>433</td>\n",
       "      <td>3</td>\n",
       "      <td>385.0</td>\n",
       "    </tr>\n",
       "    <tr>\n",
       "      <th>318</th>\n",
       "      <td>8</td>\n",
       "      <td>857</td>\n",
       "      <td>9</td>\n",
       "      <td>960.0</td>\n",
       "    </tr>\n",
       "    <tr>\n",
       "      <th>319</th>\n",
       "      <td>11</td>\n",
       "      <td>1457</td>\n",
       "      <td>9</td>\n",
       "      <td>1000.0</td>\n",
       "    </tr>\n",
       "  </tbody>\n",
       "</table>\n",
       "<p>261 rows × 4 columns</p>\n",
       "</div>"
      ],
      "text/plain": [
       "     Years  CHits  HmRun  Salary\n",
       "1       14    835      7   475.0\n",
       "2        3    457     18   480.0\n",
       "3       11   1575     20   500.0\n",
       "4        2    101     10    91.5\n",
       "5       11   1133      4   750.0\n",
       "..     ...    ...    ...     ...\n",
       "315      5    806      7   700.0\n",
       "316     12   1511      5   875.0\n",
       "317      6    433      3   385.0\n",
       "318      8    857      9   960.0\n",
       "319     11   1457      9  1000.0\n",
       "\n",
       "[261 rows x 4 columns]"
      ]
     },
     "execution_count": 2,
     "metadata": {},
     "output_type": "execute_result"
    }
   ],
   "source": [
    "df = pd.read_csv(\"HittersNoSchmidtNorKennedy.csv\")[[\"Years\", \"CHits\", \"HmRun\", \"Salary\"]]\n",
    "df = df[df.Salary > 0]\n",
    "X = df[[\"Years\", \"CHits\", \"HmRun\"]].values\n",
    "y = df.Salary.values\n",
    "df"
   ]
  },
  {
   "cell_type": "code",
   "execution_count": 3,
   "metadata": {},
   "outputs": [
    {
     "data": {
      "text/plain": [
       "DecisionTreeRegressor(criterion='mse', max_depth=1, max_features=None,\n",
       "                      max_leaf_nodes=None, min_impurity_decrease=0.0,\n",
       "                      min_impurity_split=None, min_samples_leaf=1,\n",
       "                      min_samples_split=2, min_weight_fraction_leaf=0.0,\n",
       "                      presort=False, random_state=None, splitter='best')"
      ]
     },
     "execution_count": 3,
     "metadata": {},
     "output_type": "execute_result"
    }
   ],
   "source": [
    "M = DecisionTreeRegressor(max_depth=1)\n",
    "M.fit(X, y)"
   ]
  },
  {
   "cell_type": "code",
   "execution_count": 4,
   "metadata": {},
   "outputs": [
    {
     "data": {
      "image/svg+xml": [
       "<?xml version=\"1.0\" encoding=\"UTF-8\" standalone=\"no\"?>\n",
       "<!DOCTYPE svg PUBLIC \"-//W3C//DTD SVG 1.1//EN\"\n",
       " \"http://www.w3.org/Graphics/SVG/1.1/DTD/svg11.dtd\">\n",
       "<!-- Generated by graphviz version 2.40.1 (20161225.0304)\n",
       " -->\n",
       "<!-- Title: Tree Pages: 1 -->\n",
       "<svg width=\"260pt\" height=\"165pt\"\n",
       " viewBox=\"0.00 0.00 259.50 165.00\" xmlns=\"http://www.w3.org/2000/svg\" xmlns:xlink=\"http://www.w3.org/1999/xlink\">\n",
       "<g id=\"graph0\" class=\"graph\" transform=\"scale(1 1) rotate(0) translate(4 161)\">\n",
       "<title>Tree</title>\n",
       "<polygon fill=\"#ffffff\" stroke=\"transparent\" points=\"-4,4 -4,-161 255.5,-161 255.5,4 -4,4\"/>\n",
       "<!-- 0 -->\n",
       "<g id=\"node1\" class=\"node\">\n",
       "<title>0</title>\n",
       "<polygon fill=\"none\" stroke=\"#000000\" points=\"183.5,-157 63.5,-157 63.5,-89 183.5,-89 183.5,-157\"/>\n",
       "<text text-anchor=\"middle\" x=\"123.5\" y=\"-141.8\" font-family=\"Times,serif\" font-size=\"14.00\" fill=\"#000000\">X[1] &lt;= 450.0</text>\n",
       "<text text-anchor=\"middle\" x=\"123.5\" y=\"-126.8\" font-family=\"Times,serif\" font-size=\"14.00\" fill=\"#000000\">mse = 193961.958</text>\n",
       "<text text-anchor=\"middle\" x=\"123.5\" y=\"-111.8\" font-family=\"Times,serif\" font-size=\"14.00\" fill=\"#000000\">samples = 261</text>\n",
       "<text text-anchor=\"middle\" x=\"123.5\" y=\"-96.8\" font-family=\"Times,serif\" font-size=\"14.00\" fill=\"#000000\">value = 528.357</text>\n",
       "</g>\n",
       "<!-- 1 -->\n",
       "<g id=\"node2\" class=\"node\">\n",
       "<title>1</title>\n",
       "<polygon fill=\"none\" stroke=\"#000000\" points=\"113,-53 0,-53 0,0 113,0 113,-53\"/>\n",
       "<text text-anchor=\"middle\" x=\"56.5\" y=\"-37.8\" font-family=\"Times,serif\" font-size=\"14.00\" fill=\"#000000\">mse = 15527.011</text>\n",
       "<text text-anchor=\"middle\" x=\"56.5\" y=\"-22.8\" font-family=\"Times,serif\" font-size=\"14.00\" fill=\"#000000\">samples = 115</text>\n",
       "<text text-anchor=\"middle\" x=\"56.5\" y=\"-7.8\" font-family=\"Times,serif\" font-size=\"14.00\" fill=\"#000000\">value = 205.319</text>\n",
       "</g>\n",
       "<!-- 0&#45;&gt;1 -->\n",
       "<g id=\"edge1\" class=\"edge\">\n",
       "<title>0&#45;&gt;1</title>\n",
       "<path fill=\"none\" stroke=\"#000000\" d=\"M99.8783,-88.9777C93.7113,-80.0954 87.0539,-70.5067 80.8499,-61.5711\"/>\n",
       "<polygon fill=\"#000000\" stroke=\"#000000\" points=\"83.6497,-59.4666 75.0715,-53.2485 77.8997,-63.4589 83.6497,-59.4666\"/>\n",
       "<text text-anchor=\"middle\" x=\"70.6325\" y=\"-74.1512\" font-family=\"Times,serif\" font-size=\"14.00\" fill=\"#000000\">True</text>\n",
       "</g>\n",
       "<!-- 2 -->\n",
       "<g id=\"node3\" class=\"node\">\n",
       "<title>2</title>\n",
       "<polygon fill=\"none\" stroke=\"#000000\" points=\"251.5,-53 131.5,-53 131.5,0 251.5,0 251.5,-53\"/>\n",
       "<text text-anchor=\"middle\" x=\"191.5\" y=\"-37.8\" font-family=\"Times,serif\" font-size=\"14.00\" fill=\"#000000\">mse = 187569.959</text>\n",
       "<text text-anchor=\"middle\" x=\"191.5\" y=\"-22.8\" font-family=\"Times,serif\" font-size=\"14.00\" fill=\"#000000\">samples = 146</text>\n",
       "<text text-anchor=\"middle\" x=\"191.5\" y=\"-7.8\" font-family=\"Times,serif\" font-size=\"14.00\" fill=\"#000000\">value = 782.805</text>\n",
       "</g>\n",
       "<!-- 0&#45;&gt;2 -->\n",
       "<g id=\"edge2\" class=\"edge\">\n",
       "<title>0&#45;&gt;2</title>\n",
       "<path fill=\"none\" stroke=\"#000000\" d=\"M147.4743,-88.9777C153.7333,-80.0954 160.4901,-70.5067 166.7867,-61.5711\"/>\n",
       "<polygon fill=\"#000000\" stroke=\"#000000\" points=\"169.7521,-63.4389 172.6513,-53.2485 164.0301,-59.4068 169.7521,-63.4389\"/>\n",
       "<text text-anchor=\"middle\" x=\"176.9191\" y=\"-74.1815\" font-family=\"Times,serif\" font-size=\"14.00\" fill=\"#000000\">False</text>\n",
       "</g>\n",
       "</g>\n",
       "</svg>\n"
      ],
      "text/plain": [
       "<graphviz.files.Source at 0x1a11357c18>"
      ]
     },
     "execution_count": 4,
     "metadata": {},
     "output_type": "execute_result"
    }
   ],
   "source": [
    "dot_data = tree.export_graphviz(M, out_file=None) \n",
    "G = graphviz.Source(dot_data)\n",
    "G"
   ]
  },
  {
   "cell_type": "code",
   "execution_count": 6,
   "metadata": {},
   "outputs": [
    {
     "name": "stdout",
     "output_type": "stream",
     "text": [
      "528.3569885057472 193961.95800187346\n"
     ]
    }
   ],
   "source": [
    "n = 261\n",
    "j = 1\n",
    "s = 450.\n",
    "val = y.mean()\n",
    "mse = y.var()\n",
    "print(val, mse)\n",
    "IL = X[:, j] <= s\n",
    "IR = X[:, j] > s\n",
    "XL = X[IL, :]\n",
    "XR = X[IR, :]\n",
    "yL = y[IL]\n",
    "yR = y[IR]"
   ]
  },
  {
   "cell_type": "code",
   "execution_count": 7,
   "metadata": {},
   "outputs": [
    {
     "name": "stdout",
     "output_type": "stream",
     "text": [
      "115 146\n",
      "205.31884347826087 782.8048424657534\n",
      "15527.011372653764 187569.9592672834\n"
     ]
    }
   ],
   "source": [
    "nL = len(XL)\n",
    "nR = len(XR)\n",
    "valL = yL.mean()\n",
    "valR = yR.mean()\n",
    "mseL = yL.var()\n",
    "mseR = yR.var()\n",
    "\n",
    "print(nL, nR)\n",
    "print(valL, valR)\n",
    "print(mseL, mseR)"
   ]
  },
  {
   "cell_type": "code",
   "execution_count": 8,
   "metadata": {},
   "outputs": [
    {
     "data": {
      "text/plain": [
       "(42, 4256)"
      ]
     },
     "execution_count": 8,
     "metadata": {},
     "output_type": "execute_result"
    }
   ],
   "source": [
    "min(X[:,j]), max(X[:,j])"
   ]
  },
  {
   "cell_type": "code",
   "execution_count": 9,
   "metadata": {},
   "outputs": [],
   "source": [
    "ss = range(min(X[:,j]), max(X[:,j]))\n",
    "nLs = []\n",
    "nRs = []\n",
    "mseLs = []\n",
    "mseRs = []\n",
    "for s in ss:\n",
    "    IL = X[:, j] <= s\n",
    "    IR = X[:, j] > s\n",
    "    XL = X[IL, :]\n",
    "    XR = X[IR, :]\n",
    "    yL = y[IL]\n",
    "    yR = y[IR]\n",
    "    \n",
    "    nL = len(XL)\n",
    "    nR = len(XR)\n",
    "    mseL = yL.var()\n",
    "    mseR = yR.var()\n",
    "    \n",
    "    nLs.append(nL)\n",
    "    nRs.append(nR)\n",
    "    mseLs.append(mseL)\n",
    "    mseRs.append(mseR)\n",
    "\n",
    "np.array(nLs)\n",
    "np.array(nRs)\n",
    "mseLs = np.array(mseLs)\n",
    "mseRs = np.array(mseRs)"
   ]
  },
  {
   "cell_type": "code",
   "execution_count": 10,
   "metadata": {},
   "outputs": [
    {
     "data": {
      "text/plain": [
       "[<matplotlib.lines.Line2D at 0x1a114f84a8>]"
      ]
     },
     "execution_count": 10,
     "metadata": {},
     "output_type": "execute_result"
    },
    {
     "data": {
      "image/png": "[encoded data removed]",
      "text/plain": [
       "<Figure size 432x288 with 1 Axes>"
      ]
     },
     "metadata": {
      "needs_background": "light"
     },
     "output_type": "display_data"
    }
   ],
   "source": [
    "plt.plot(ss, nLs)\n",
    "plt.plot(ss, nRs)\n",
    "plt.plot(ss, np.array(nLs) + np.array(nRs))"
   ]
  },
  {
   "cell_type": "code",
   "execution_count": 11,
   "metadata": {},
   "outputs": [],
   "source": [
    "differences = mseLs*nLs/n + mseRs*nRs/n"
   ]
  },
  {
   "cell_type": "code",
   "execution_count": 12,
   "metadata": {},
   "outputs": [
    {
     "data": {
      "text/plain": [
       "[<matplotlib.lines.Line2D at 0x1a11721b00>]"
      ]
     },
     "execution_count": 12,
     "metadata": {},
     "output_type": "execute_result"
    },
    {
     "data": {
      "image/png": "[encoded data removed]",
      "text/plain": [
       "<Figure size 432x288 with 1 Axes>"
      ]
     },
     "metadata": {
      "needs_background": "light"
     },
     "output_type": "display_data"
    }
   ],
   "source": [
    "plt.plot(ss, differences)"
   ]
  },
  {
   "cell_type": "code",
   "execution_count": 36,
   "metadata": {},
   "outputs": [
    {
     "data": {
      "text/plain": [
       "448"
      ]
     },
     "execution_count": 36,
     "metadata": {},
     "output_type": "execute_result"
    }
   ],
   "source": [
    "ss[np.argmax(differences)]"
   ]
  },
  {
   "cell_type": "code",
   "execution_count": 37,
   "metadata": {},
   "outputs": [
    {
     "data": {
      "text/plain": [
       "82196.36274946517"
      ]
     },
     "execution_count": 37,
     "metadata": {},
     "output_type": "execute_result"
    }
   ],
   "source": [
    "np.max(differences)"
   ]
  },
  {
   "cell_type": "code",
   "execution_count": 43,
   "metadata": {},
   "outputs": [
    {
     "name": "stdout",
     "output_type": "stream",
     "text": [
      "4\n",
      "56075.04967653373\n"
     ]
    },
    {
     "data": {
      "image/png": "[encoded data removed]",
      "text/plain": [
       "<Figure size 432x288 with 1 Axes>"
      ]
     },
     "metadata": {
      "needs_background": "light"
     },
     "output_type": "display_data"
    }
   ],
   "source": [
    "j = 0\n",
    "ss = range(min(X[:,j]), max(X[:,j]))\n",
    "nLs = []\n",
    "nRs = []\n",
    "mseLs = []\n",
    "mseRs = []\n",
    "for s in ss:\n",
    "    IL = X[:, j] <= s\n",
    "    IR = X[:, j] > s\n",
    "    XL = X[IL, :]\n",
    "    XR = X[IR, :]\n",
    "    yL = y[IL]\n",
    "    yR = y[IR]\n",
    "    \n",
    "    nL = len(XL)\n",
    "    nR = len(XR)\n",
    "    mseL = yL.var()\n",
    "    mseR = yR.var()\n",
    "    \n",
    "    nLs.append(nL)\n",
    "    nRs.append(nR)\n",
    "    mseLs.append(mseL)\n",
    "    mseRs.append(mseR)\n",
    "\n",
    "np.array(nLs)\n",
    "np.array(nRs)\n",
    "mseLs = np.array(mseLs)\n",
    "mseRs = np.array(mseRs)\n",
    "\n",
    "differences = mse - mseLs*nLs/n - mseRs*nRs/n\n",
    "plt.plot(ss, differences)\n",
    "print(ss[np.argmax(differences)])\n",
    "print(max(differences))"
   ]
  },
  {
   "cell_type": "code",
   "execution_count": 44,
   "metadata": {},
   "outputs": [
    {
     "name": "stdout",
     "output_type": "stream",
     "text": [
      "8\n",
      "26392.938619604247\n"
     ]
    },
    {
     "data": {
      "image/png": "[encoded data removed]",
      "text/plain": [
       "<Figure size 432x288 with 1 Axes>"
      ]
     },
     "metadata": {
      "needs_background": "light"
     },
     "output_type": "display_data"
    }
   ],
   "source": [
    "j = 2\n",
    "ss = range(min(X[:,j]), max(X[:,j]))\n",
    "nLs = []\n",
    "nRs = []\n",
    "mseLs = []\n",
    "mseRs = []\n",
    "for s in ss:\n",
    "    IL = X[:, j] <= s\n",
    "    IR = X[:, j] > s\n",
    "    XL = X[IL, :]\n",
    "    XR = X[IR, :]\n",
    "    yL = y[IL]\n",
    "    yR = y[IR]\n",
    "    \n",
    "    nL = len(XL)\n",
    "    nR = len(XR)\n",
    "    mseL = yL.var()\n",
    "    mseR = yR.var()\n",
    "    \n",
    "    nLs.append(nL)\n",
    "    nRs.append(nR)\n",
    "    mseLs.append(mseL)\n",
    "    mseRs.append(mseR)\n",
    "\n",
    "np.array(nLs)\n",
    "np.array(nRs)\n",
    "mseLs = np.array(mseLs)\n",
    "mseRs = np.array(mseRs)\n",
    "\n",
    "differences = mse - mseLs*nLs/n - mseRs*nRs/n\n",
    "plt.plot(ss, differences)\n",
    "print(ss[np.argmax(differences)])\n",
    "print(max(differences))"
   ]
  },
  {
   "cell_type": "code",
   "execution_count": null,
   "metadata": {},
   "outputs": [],
   "source": []
  }
 ],
 "metadata": {
  "kernelspec": {
   "display_name": "Python 3",
   "language": "python",
   "name": "python3"
  },
  "language_info": {
   "codemirror_mode": {
    "name": "ipython",
    "version": 3
   },
   "file_extension": ".py",
   "mimetype": "text/x-python",
   "name": "python",
   "nbconvert_exporter": "python",
   "pygments_lexer": "ipython3",
   "version": "3.7.3"
  }
 },
 "nbformat": 4,
 "nbformat_minor": 4
}

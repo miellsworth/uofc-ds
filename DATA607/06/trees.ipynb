{
 "cells": [
  {
   "cell_type": "code",
   "execution_count": 30,
   "metadata": {},
   "outputs": [],
   "source": [
    "import graphviz\n",
    "import pandas as pd\n",
    "import numpy as np\n",
    "from sklearn import tree\n",
    "from sklearn.tree import DecisionTreeRegressor"
   ]
  },
  {
   "cell_type": "code",
   "execution_count": 32,
   "metadata": {},
   "outputs": [
    {
     "data": {
      "text/html": [
       "<div>\n",
       "<style scoped>\n",
       "    .dataframe tbody tr th:only-of-type {\n",
       "        vertical-align: middle;\n",
       "    }\n",
       "\n",
       "    .dataframe tbody tr th {\n",
       "        vertical-align: top;\n",
       "    }\n",
       "\n",
       "    .dataframe thead th {\n",
       "        text-align: right;\n",
       "    }\n",
       "</style>\n",
       "<table border=\"1\" class=\"dataframe\">\n",
       "  <thead>\n",
       "    <tr style=\"text-align: right;\">\n",
       "      <th></th>\n",
       "      <th>Years</th>\n",
       "      <th>CHits</th>\n",
       "      <th>HmRun</th>\n",
       "      <th>Salary</th>\n",
       "    </tr>\n",
       "  </thead>\n",
       "  <tbody>\n",
       "    <tr>\n",
       "      <td>1</td>\n",
       "      <td>14</td>\n",
       "      <td>835</td>\n",
       "      <td>7</td>\n",
       "      <td>475.0</td>\n",
       "    </tr>\n",
       "    <tr>\n",
       "      <td>2</td>\n",
       "      <td>3</td>\n",
       "      <td>457</td>\n",
       "      <td>18</td>\n",
       "      <td>480.0</td>\n",
       "    </tr>\n",
       "    <tr>\n",
       "      <td>3</td>\n",
       "      <td>11</td>\n",
       "      <td>1575</td>\n",
       "      <td>20</td>\n",
       "      <td>500.0</td>\n",
       "    </tr>\n",
       "    <tr>\n",
       "      <td>4</td>\n",
       "      <td>2</td>\n",
       "      <td>101</td>\n",
       "      <td>10</td>\n",
       "      <td>91.5</td>\n",
       "    </tr>\n",
       "    <tr>\n",
       "      <td>5</td>\n",
       "      <td>11</td>\n",
       "      <td>1133</td>\n",
       "      <td>4</td>\n",
       "      <td>750.0</td>\n",
       "    </tr>\n",
       "    <tr>\n",
       "      <td>...</td>\n",
       "      <td>...</td>\n",
       "      <td>...</td>\n",
       "      <td>...</td>\n",
       "      <td>...</td>\n",
       "    </tr>\n",
       "    <tr>\n",
       "      <td>315</td>\n",
       "      <td>5</td>\n",
       "      <td>806</td>\n",
       "      <td>7</td>\n",
       "      <td>700.0</td>\n",
       "    </tr>\n",
       "    <tr>\n",
       "      <td>316</td>\n",
       "      <td>12</td>\n",
       "      <td>1511</td>\n",
       "      <td>5</td>\n",
       "      <td>875.0</td>\n",
       "    </tr>\n",
       "    <tr>\n",
       "      <td>317</td>\n",
       "      <td>6</td>\n",
       "      <td>433</td>\n",
       "      <td>3</td>\n",
       "      <td>385.0</td>\n",
       "    </tr>\n",
       "    <tr>\n",
       "      <td>318</td>\n",
       "      <td>8</td>\n",
       "      <td>857</td>\n",
       "      <td>9</td>\n",
       "      <td>960.0</td>\n",
       "    </tr>\n",
       "    <tr>\n",
       "      <td>319</td>\n",
       "      <td>11</td>\n",
       "      <td>1457</td>\n",
       "      <td>9</td>\n",
       "      <td>1000.0</td>\n",
       "    </tr>\n",
       "  </tbody>\n",
       "</table>\n",
       "<p>261 rows × 4 columns</p>\n",
       "</div>"
      ],
      "text/plain": [
       "     Years  CHits  HmRun  Salary\n",
       "1       14    835      7   475.0\n",
       "2        3    457     18   480.0\n",
       "3       11   1575     20   500.0\n",
       "4        2    101     10    91.5\n",
       "5       11   1133      4   750.0\n",
       "..     ...    ...    ...     ...\n",
       "315      5    806      7   700.0\n",
       "316     12   1511      5   875.0\n",
       "317      6    433      3   385.0\n",
       "318      8    857      9   960.0\n",
       "319     11   1457      9  1000.0\n",
       "\n",
       "[261 rows x 4 columns]"
      ]
     },
     "execution_count": 32,
     "metadata": {},
     "output_type": "execute_result"
    }
   ],
   "source": [
    "df = pd.read_csv(\"HittersNoSchmidtNorKennedy.csv\")[[\"Years\", \"CHits\", \"HmRun\", \"Salary\"]]\n",
    "df = df[df.Salary > 0]\n",
    "X = df[[\"Years\", \"CHits\", \"HmRun\"]].values\n",
    "y = df.Salary.values\n",
    "df"
   ]
  },
  {
   "cell_type": "code",
   "execution_count": 24,
   "metadata": {},
   "outputs": [],
   "source": [
    "M = DecisionTreeRegressor(max_depth=1)"
   ]
  },
  {
   "cell_type": "code",
   "execution_count": 29,
   "metadata": {},
   "outputs": [
    {
     "data": {
      "text/plain": [
       "DecisionTreeRegressor(criterion='mse', max_depth=1, max_features=None,\n",
       "                      max_leaf_nodes=None, min_impurity_decrease=0.0,\n",
       "                      min_impurity_split=None, min_samples_leaf=1,\n",
       "                      min_samples_split=2, min_weight_fraction_leaf=0.0,\n",
       "                      presort=False, random_state=None, splitter='best')"
      ]
     },
     "execution_count": 29,
     "metadata": {},
     "output_type": "execute_result"
    }
   ],
   "source": [
    "M.fit(X, y)"
   ]
  },
  {
   "cell_type": "code",
   "execution_count": 31,
   "metadata": {},
   "outputs": [
    {
     "data": {
      "image/svg+xml": [
       "<?xml version=\"1.0\" encoding=\"UTF-8\" standalone=\"no\"?>\n",
       "<!DOCTYPE svg PUBLIC \"-//W3C//DTD SVG 1.1//EN\"\n",
       " \"http://www.w3.org/Graphics/SVG/1.1/DTD/svg11.dtd\">\n",
       "<!-- Generated by graphviz version 2.43.0 (0)\n",
       " -->\n",
       "<!-- Title: Tree Pages: 1 -->\n",
       "<svg width=\"258pt\" height=\"158pt\"\n",
       " viewBox=\"0.00 0.00 258.19 158.00\" xmlns=\"http://www.w3.org/2000/svg\" xmlns:xlink=\"http://www.w3.org/1999/xlink\">\n",
       "<g id=\"graph0\" class=\"graph\" transform=\"scale(1 1) rotate(0) translate(4 154)\">\n",
       "<title>Tree</title>\n",
       "<polygon fill=\"white\" stroke=\"transparent\" points=\"-4,4 -4,-154 254.19,-154 254.19,4 -4,4\"/>\n",
       "<!-- 0 -->\n",
       "<g id=\"node1\" class=\"node\">\n",
       "<title>0</title>\n",
       "<polygon fill=\"none\" stroke=\"black\" points=\"183.16,-150 63.27,-150 63.27,-86 183.16,-86 183.16,-150\"/>\n",
       "<text text-anchor=\"middle\" x=\"123.22\" y=\"-134.8\" font-family=\"Times,serif\" font-size=\"14.00\">X[1] &lt;= 450.0</text>\n",
       "<text text-anchor=\"middle\" x=\"123.22\" y=\"-120.8\" font-family=\"Times,serif\" font-size=\"14.00\">mse = 193961.958</text>\n",
       "<text text-anchor=\"middle\" x=\"123.22\" y=\"-106.8\" font-family=\"Times,serif\" font-size=\"14.00\">samples = 261</text>\n",
       "<text text-anchor=\"middle\" x=\"123.22\" y=\"-92.8\" font-family=\"Times,serif\" font-size=\"14.00\">value = 528.357</text>\n",
       "</g>\n",
       "<!-- 1 -->\n",
       "<g id=\"node2\" class=\"node\">\n",
       "<title>1</title>\n",
       "<polygon fill=\"none\" stroke=\"black\" points=\"112.65,-50 -0.22,-50 -0.22,0 112.65,0 112.65,-50\"/>\n",
       "<text text-anchor=\"middle\" x=\"56.22\" y=\"-34.8\" font-family=\"Times,serif\" font-size=\"14.00\">mse = 15527.011</text>\n",
       "<text text-anchor=\"middle\" x=\"56.22\" y=\"-20.8\" font-family=\"Times,serif\" font-size=\"14.00\">samples = 115</text>\n",
       "<text text-anchor=\"middle\" x=\"56.22\" y=\"-6.8\" font-family=\"Times,serif\" font-size=\"14.00\">value = 205.319</text>\n",
       "</g>\n",
       "<!-- 0&#45;&gt;1 -->\n",
       "<g id=\"edge1\" class=\"edge\">\n",
       "<title>0&#45;&gt;1</title>\n",
       "<path fill=\"none\" stroke=\"black\" d=\"M100.35,-85.94C93.8,-77.04 86.64,-67.32 80.04,-58.35\"/>\n",
       "<polygon fill=\"black\" stroke=\"black\" points=\"82.66,-56.01 73.91,-50.03 77.02,-60.16 82.66,-56.01\"/>\n",
       "<text text-anchor=\"middle\" x=\"70.16\" y=\"-70.55\" font-family=\"Times,serif\" font-size=\"14.00\">True</text>\n",
       "</g>\n",
       "<!-- 2 -->\n",
       "<g id=\"node3\" class=\"node\">\n",
       "<title>2</title>\n",
       "<polygon fill=\"none\" stroke=\"black\" points=\"250.16,-50 130.27,-50 130.27,0 250.16,0 250.16,-50\"/>\n",
       "<text text-anchor=\"middle\" x=\"190.22\" y=\"-34.8\" font-family=\"Times,serif\" font-size=\"14.00\">mse = 187569.959</text>\n",
       "<text text-anchor=\"middle\" x=\"190.22\" y=\"-20.8\" font-family=\"Times,serif\" font-size=\"14.00\">samples = 146</text>\n",
       "<text text-anchor=\"middle\" x=\"190.22\" y=\"-6.8\" font-family=\"Times,serif\" font-size=\"14.00\">value = 782.805</text>\n",
       "</g>\n",
       "<!-- 0&#45;&gt;2 -->\n",
       "<g id=\"edge2\" class=\"edge\">\n",
       "<title>0&#45;&gt;2</title>\n",
       "<path fill=\"none\" stroke=\"black\" d=\"M146.09,-85.94C152.64,-77.04 159.79,-67.32 166.4,-58.35\"/>\n",
       "<polygon fill=\"black\" stroke=\"black\" points=\"169.41,-60.16 172.52,-50.03 163.78,-56.01 169.41,-60.16\"/>\n",
       "<text text-anchor=\"middle\" x=\"176.28\" y=\"-70.55\" font-family=\"Times,serif\" font-size=\"14.00\">False</text>\n",
       "</g>\n",
       "</g>\n",
       "</svg>\n"
      ],
      "text/plain": [
       "<graphviz.files.Source at 0x1375a0e90>"
      ]
     },
     "execution_count": 31,
     "metadata": {},
     "output_type": "execute_result"
    }
   ],
   "source": [
    "dot_data = tree.export_graphviz(M, out_file=None) \n",
    "G = graphviz.Source(dot_data)\n",
    "G"
   ]
  },
  {
   "cell_type": "code",
   "execution_count": 39,
   "metadata": {},
   "outputs": [
    {
     "name": "stdout",
     "output_type": "stream",
     "text": [
      "193961.958\n"
     ]
    }
   ],
   "source": [
    "mse = np.var(y)\n",
    "print(f\"{mse:.3f}\")"
   ]
  },
  {
   "cell_type": "code",
   "execution_count": 50,
   "metadata": {},
   "outputs": [
    {
     "name": "stdout",
     "output_type": "stream",
     "text": [
      "nL = 115\n",
      "nR = 146\n"
     ]
    }
   ],
   "source": [
    "n = len(X)\n",
    "j = 1\n",
    "s = 450\n",
    "IL = X[:,j] <= 450\n",
    "IR = X[:,j] > 450\n",
    "XL = X[IL, :]\n",
    "XR = X[IR, :]\n",
    "yL = y[IL]\n",
    "yR = y[IR]\n",
    "nL = len(XL)\n",
    "nR = len(XR)\n",
    "print(f\"nL = {nL}\\nnR = {nR}\")"
   ]
  },
  {
   "cell_type": "code",
   "execution_count": 47,
   "metadata": {},
   "outputs": [
    {
     "name": "stdout",
     "output_type": "stream",
     "text": [
      "left value = 205.319\n",
      "right value = 782.805\n"
     ]
    }
   ],
   "source": [
    "valL = np.mean(yL)\n",
    "valR = np.mean(yR)\n",
    "\n",
    "print(f\"left value = {valL:.3f}\\nright value = {valR:.3f}\")"
   ]
  },
  {
   "cell_type": "code",
   "execution_count": 49,
   "metadata": {},
   "outputs": [
    {
     "name": "stdout",
     "output_type": "stream",
     "text": [
      "left mse = 15527.011\n",
      "right mse = 187569.959\n"
     ]
    }
   ],
   "source": [
    "mseL = np.var(yL)\n",
    "mseR = np.var(yR)\n",
    "\n",
    "print(f\"left mse = {mseL:.3f}\\nright mse = {mseR:.3f}\")"
   ]
  },
  {
   "cell_type": "code",
   "execution_count": 51,
   "metadata": {},
   "outputs": [],
   "source": [
    "decrease = mse - nL/n*mseL - nR/n*mseR"
   ]
  },
  {
   "cell_type": "code",
   "execution_count": 52,
   "metadata": {},
   "outputs": [
    {
     "data": {
      "text/plain": [
       "82196.36274946519"
      ]
     },
     "execution_count": 52,
     "metadata": {},
     "output_type": "execute_result"
    }
   ],
   "source": [
    "decrease"
   ]
  },
  {
   "cell_type": "code",
   "execution_count": null,
   "metadata": {},
   "outputs": [],
   "source": []
  }
 ],
 "metadata": {
  "kernelspec": {
   "display_name": "Python 3",
   "language": "python",
   "name": "python3"
  },
  "language_info": {
   "codemirror_mode": {
    "name": "ipython",
    "version": 3
   },
   "file_extension": ".py",
   "mimetype": "text/x-python",
   "name": "python",
   "nbconvert_exporter": "python",
   "pygments_lexer": "ipython3",
   "version": "3.7.3"
  }
 },
 "nbformat": 4,
 "nbformat_minor": 4
}

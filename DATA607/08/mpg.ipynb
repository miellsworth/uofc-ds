{
 "cells": [
  {
   "cell_type": "code",
   "execution_count": 21,
   "metadata": {},
   "outputs": [],
   "source": [
    "import pandas as pd\n",
    "import numpy as np\n",
    "import tensorflow as tf\n",
    "from tensorflow import keras\n",
    "from tensorflow.keras.models import Model, Sequential\n",
    "from tensorflow.keras.layers import Input, Dense\n",
    "from sklearn.preprocessing import StandardScaler"
   ]
  },
  {
   "cell_type": "code",
   "execution_count": 7,
   "metadata": {},
   "outputs": [],
   "source": [
    "names = [\"mpg\", \"cylinders\", \"displacement\", \"horsepower\", \"weight\", \"acceleration\", \"model year\", \"origin\", \"car name\"] \n",
    "df = pd.read_csv(\"auto-mpg.csv\", names=names, index_col=8)"
   ]
  },
  {
   "cell_type": "code",
   "execution_count": 8,
   "metadata": {},
   "outputs": [
    {
     "data": {
      "text/html": [
       "<div>\n",
       "<style scoped>\n",
       "    .dataframe tbody tr th:only-of-type {\n",
       "        vertical-align: middle;\n",
       "    }\n",
       "\n",
       "    .dataframe tbody tr th {\n",
       "        vertical-align: top;\n",
       "    }\n",
       "\n",
       "    .dataframe thead th {\n",
       "        text-align: right;\n",
       "    }\n",
       "</style>\n",
       "<table border=\"1\" class=\"dataframe\">\n",
       "  <thead>\n",
       "    <tr style=\"text-align: right;\">\n",
       "      <th></th>\n",
       "      <th>mpg</th>\n",
       "      <th>cylinders</th>\n",
       "      <th>displacement</th>\n",
       "      <th>horsepower</th>\n",
       "      <th>weight</th>\n",
       "      <th>acceleration</th>\n",
       "      <th>model year</th>\n",
       "      <th>origin</th>\n",
       "    </tr>\n",
       "    <tr>\n",
       "      <th>car name</th>\n",
       "      <th></th>\n",
       "      <th></th>\n",
       "      <th></th>\n",
       "      <th></th>\n",
       "      <th></th>\n",
       "      <th></th>\n",
       "      <th></th>\n",
       "      <th></th>\n",
       "    </tr>\n",
       "  </thead>\n",
       "  <tbody>\n",
       "    <tr>\n",
       "      <td>chevrolet chevelle malibu</td>\n",
       "      <td>18.0</td>\n",
       "      <td>8</td>\n",
       "      <td>307.0</td>\n",
       "      <td>130.0</td>\n",
       "      <td>3504.0</td>\n",
       "      <td>12.0</td>\n",
       "      <td>70</td>\n",
       "      <td>1</td>\n",
       "    </tr>\n",
       "    <tr>\n",
       "      <td>buick skylark 320</td>\n",
       "      <td>15.0</td>\n",
       "      <td>8</td>\n",
       "      <td>350.0</td>\n",
       "      <td>165.0</td>\n",
       "      <td>3693.0</td>\n",
       "      <td>11.5</td>\n",
       "      <td>70</td>\n",
       "      <td>1</td>\n",
       "    </tr>\n",
       "    <tr>\n",
       "      <td>plymouth satellite</td>\n",
       "      <td>18.0</td>\n",
       "      <td>8</td>\n",
       "      <td>318.0</td>\n",
       "      <td>150.0</td>\n",
       "      <td>3436.0</td>\n",
       "      <td>11.0</td>\n",
       "      <td>70</td>\n",
       "      <td>1</td>\n",
       "    </tr>\n",
       "    <tr>\n",
       "      <td>amc rebel sst</td>\n",
       "      <td>16.0</td>\n",
       "      <td>8</td>\n",
       "      <td>304.0</td>\n",
       "      <td>150.0</td>\n",
       "      <td>3433.0</td>\n",
       "      <td>12.0</td>\n",
       "      <td>70</td>\n",
       "      <td>1</td>\n",
       "    </tr>\n",
       "    <tr>\n",
       "      <td>ford torino</td>\n",
       "      <td>17.0</td>\n",
       "      <td>8</td>\n",
       "      <td>302.0</td>\n",
       "      <td>140.0</td>\n",
       "      <td>3449.0</td>\n",
       "      <td>10.5</td>\n",
       "      <td>70</td>\n",
       "      <td>1</td>\n",
       "    </tr>\n",
       "    <tr>\n",
       "      <td>...</td>\n",
       "      <td>...</td>\n",
       "      <td>...</td>\n",
       "      <td>...</td>\n",
       "      <td>...</td>\n",
       "      <td>...</td>\n",
       "      <td>...</td>\n",
       "      <td>...</td>\n",
       "      <td>...</td>\n",
       "    </tr>\n",
       "    <tr>\n",
       "      <td>ford mustang gl</td>\n",
       "      <td>27.0</td>\n",
       "      <td>4</td>\n",
       "      <td>140.0</td>\n",
       "      <td>86.0</td>\n",
       "      <td>2790.0</td>\n",
       "      <td>15.6</td>\n",
       "      <td>82</td>\n",
       "      <td>1</td>\n",
       "    </tr>\n",
       "    <tr>\n",
       "      <td>vw pickup</td>\n",
       "      <td>44.0</td>\n",
       "      <td>4</td>\n",
       "      <td>97.0</td>\n",
       "      <td>52.0</td>\n",
       "      <td>2130.0</td>\n",
       "      <td>24.6</td>\n",
       "      <td>82</td>\n",
       "      <td>2</td>\n",
       "    </tr>\n",
       "    <tr>\n",
       "      <td>dodge rampage</td>\n",
       "      <td>32.0</td>\n",
       "      <td>4</td>\n",
       "      <td>135.0</td>\n",
       "      <td>84.0</td>\n",
       "      <td>2295.0</td>\n",
       "      <td>11.6</td>\n",
       "      <td>82</td>\n",
       "      <td>1</td>\n",
       "    </tr>\n",
       "    <tr>\n",
       "      <td>ford ranger</td>\n",
       "      <td>28.0</td>\n",
       "      <td>4</td>\n",
       "      <td>120.0</td>\n",
       "      <td>79.0</td>\n",
       "      <td>2625.0</td>\n",
       "      <td>18.6</td>\n",
       "      <td>82</td>\n",
       "      <td>1</td>\n",
       "    </tr>\n",
       "    <tr>\n",
       "      <td>chevy s-10</td>\n",
       "      <td>31.0</td>\n",
       "      <td>4</td>\n",
       "      <td>119.0</td>\n",
       "      <td>82.0</td>\n",
       "      <td>2720.0</td>\n",
       "      <td>19.4</td>\n",
       "      <td>82</td>\n",
       "      <td>1</td>\n",
       "    </tr>\n",
       "  </tbody>\n",
       "</table>\n",
       "<p>392 rows × 8 columns</p>\n",
       "</div>"
      ],
      "text/plain": [
       "                            mpg  cylinders  displacement  horsepower  weight  \\\n",
       "car name                                                                       \n",
       "chevrolet chevelle malibu  18.0          8         307.0       130.0  3504.0   \n",
       "buick skylark 320          15.0          8         350.0       165.0  3693.0   \n",
       "plymouth satellite         18.0          8         318.0       150.0  3436.0   \n",
       "amc rebel sst              16.0          8         304.0       150.0  3433.0   \n",
       "ford torino                17.0          8         302.0       140.0  3449.0   \n",
       "...                         ...        ...           ...         ...     ...   \n",
       "ford mustang gl            27.0          4         140.0        86.0  2790.0   \n",
       "vw pickup                  44.0          4          97.0        52.0  2130.0   \n",
       "dodge rampage              32.0          4         135.0        84.0  2295.0   \n",
       "ford ranger                28.0          4         120.0        79.0  2625.0   \n",
       "chevy s-10                 31.0          4         119.0        82.0  2720.0   \n",
       "\n",
       "                           acceleration  model year  origin  \n",
       "car name                                                     \n",
       "chevrolet chevelle malibu          12.0          70       1  \n",
       "buick skylark 320                  11.5          70       1  \n",
       "plymouth satellite                 11.0          70       1  \n",
       "amc rebel sst                      12.0          70       1  \n",
       "ford torino                        10.5          70       1  \n",
       "...                                 ...         ...     ...  \n",
       "ford mustang gl                    15.6          82       1  \n",
       "vw pickup                          24.6          82       2  \n",
       "dodge rampage                      11.6          82       1  \n",
       "ford ranger                        18.6          82       1  \n",
       "chevy s-10                         19.4          82       1  \n",
       "\n",
       "[392 rows x 8 columns]"
      ]
     },
     "execution_count": 8,
     "metadata": {},
     "output_type": "execute_result"
    }
   ],
   "source": [
    "df"
   ]
  },
  {
   "cell_type": "code",
   "execution_count": 9,
   "metadata": {},
   "outputs": [],
   "source": [
    "y = df.mpg.values"
   ]
  },
  {
   "cell_type": "code",
   "execution_count": 22,
   "metadata": {},
   "outputs": [],
   "source": [
    "XX = df.values\n",
    "country = np.array([XX[:, -1] == 1, XX[:, -1] == 2]).T\n",
    "country.shape\n",
    "X = StandardScaler().fit_transform(np.hstack([XX[:, 1:-1], country]))"
   ]
  },
  {
   "cell_type": "code",
   "execution_count": 38,
   "metadata": {},
   "outputs": [
    {
     "name": "stdout",
     "output_type": "stream",
     "text": [
      "Model: \"sequential_2\"\n",
      "_________________________________________________________________\n",
      "Layer (type)                 Output Shape              Param #   \n",
      "=================================================================\n",
      "dense_2 (Dense)              (None, 1)                 9         \n",
      "=================================================================\n",
      "Total params: 9\n",
      "Trainable params: 9\n",
      "Non-trainable params: 0\n",
      "_________________________________________________________________\n"
     ]
    }
   ],
   "source": [
    "model = Sequential([Input(8), Dense(1, activation=\"linear\")])\n",
    "model.compile(loss=\"mse\", optimizer=\"sgd\", metrics=[\"accuracy\"])\n",
    "model.summary()"
   ]
  },
  {
   "cell_type": "code",
   "execution_count": 39,
   "metadata": {
    "collapsed": true,
    "jupyter": {
     "outputs_hidden": true
    }
   },
   "outputs": [
    {
     "name": "stdout",
     "output_type": "stream",
     "text": [
      "Train on 313 samples, validate on 79 samples\n",
      "Epoch 1/100\n",
      "313/313 [==============================] - 0s 1ms/sample - loss: 429.9652 - accuracy: 0.0000e+00 - val_loss: 824.1875 - val_accuracy: 0.0000e+00\n",
      "Epoch 2/100\n",
      "313/313 [==============================] - 0s 66us/sample - loss: 286.3085 - accuracy: 0.0000e+00 - val_loss: 655.1795 - val_accuracy: 0.0000e+00\n",
      "Epoch 3/100\n",
      "313/313 [==============================] - 0s 76us/sample - loss: 195.6491 - accuracy: 0.0000e+00 - val_loss: 536.4268 - val_accuracy: 0.0000e+00\n",
      "Epoch 4/100\n",
      "313/313 [==============================] - 0s 81us/sample - loss: 137.0197 - accuracy: 0.0000e+00 - val_loss: 439.7555 - val_accuracy: 0.0000e+00\n",
      "Epoch 5/100\n",
      "313/313 [==============================] - 0s 84us/sample - loss: 98.4077 - accuracy: 0.0000e+00 - val_loss: 371.0615 - val_accuracy: 0.0000e+00\n",
      "Epoch 6/100\n",
      "313/313 [==============================] - 0s 73us/sample - loss: 72.5081 - accuracy: 0.0000e+00 - val_loss: 306.7753 - val_accuracy: 0.0000e+00\n",
      "Epoch 7/100\n",
      "313/313 [==============================] - 0s 75us/sample - loss: 54.8375 - accuracy: 0.0000e+00 - val_loss: 259.0128 - val_accuracy: 0.0000e+00\n",
      "Epoch 8/100\n",
      "313/313 [==============================] - 0s 74us/sample - loss: 42.7755 - accuracy: 0.0000e+00 - val_loss: 222.6474 - val_accuracy: 0.0000e+00\n",
      "Epoch 9/100\n",
      "313/313 [==============================] - 0s 87us/sample - loss: 34.3175 - accuracy: 0.0000e+00 - val_loss: 190.2672 - val_accuracy: 0.0000e+00\n",
      "Epoch 10/100\n",
      "313/313 [==============================] - 0s 78us/sample - loss: 28.2142 - accuracy: 0.0000e+00 - val_loss: 164.5146 - val_accuracy: 0.0000e+00\n",
      "Epoch 11/100\n",
      "313/313 [==============================] - 0s 88us/sample - loss: 23.7933 - accuracy: 0.0000e+00 - val_loss: 143.9615 - val_accuracy: 0.0000e+00\n",
      "Epoch 12/100\n",
      "313/313 [==============================] - 0s 83us/sample - loss: 20.5334 - accuracy: 0.0000e+00 - val_loss: 125.6230 - val_accuracy: 0.0000e+00\n",
      "Epoch 13/100\n",
      "313/313 [==============================] - 0s 89us/sample - loss: 18.0781 - accuracy: 0.0000e+00 - val_loss: 113.9681 - val_accuracy: 0.0000e+00\n",
      "Epoch 14/100\n",
      "313/313 [==============================] - 0s 77us/sample - loss: 16.2884 - accuracy: 0.0000e+00 - val_loss: 102.0329 - val_accuracy: 0.0000e+00\n",
      "Epoch 15/100\n",
      "313/313 [==============================] - 0s 75us/sample - loss: 14.7908 - accuracy: 0.0000e+00 - val_loss: 91.8088 - val_accuracy: 0.0000e+00\n",
      "Epoch 16/100\n",
      "313/313 [==============================] - 0s 89us/sample - loss: 13.6569 - accuracy: 0.0000e+00 - val_loss: 83.6877 - val_accuracy: 0.0000e+00\n",
      "Epoch 17/100\n",
      "313/313 [==============================] - 0s 91us/sample - loss: 12.7643 - accuracy: 0.0000e+00 - val_loss: 76.7266 - val_accuracy: 0.0000e+00\n",
      "Epoch 18/100\n",
      "313/313 [==============================] - 0s 77us/sample - loss: 12.0530 - accuracy: 0.0000e+00 - val_loss: 71.5974 - val_accuracy: 0.0000e+00\n",
      "Epoch 19/100\n",
      "313/313 [==============================] - 0s 78us/sample - loss: 11.4490 - accuracy: 0.0000e+00 - val_loss: 65.1992 - val_accuracy: 0.0000e+00\n",
      "Epoch 20/100\n",
      "313/313 [==============================] - 0s 90us/sample - loss: 10.9687 - accuracy: 0.0000e+00 - val_loss: 60.8528 - val_accuracy: 0.0000e+00\n",
      "Epoch 21/100\n",
      "313/313 [==============================] - 0s 82us/sample - loss: 10.5931 - accuracy: 0.0000e+00 - val_loss: 57.7146 - val_accuracy: 0.0000e+00\n",
      "Epoch 22/100\n",
      "313/313 [==============================] - 0s 85us/sample - loss: 10.2505 - accuracy: 0.0000e+00 - val_loss: 55.2017 - val_accuracy: 0.0000e+00\n",
      "Epoch 23/100\n",
      "313/313 [==============================] - 0s 74us/sample - loss: 9.9942 - accuracy: 0.0000e+00 - val_loss: 52.2192 - val_accuracy: 0.0000e+00\n",
      "Epoch 24/100\n",
      "313/313 [==============================] - 0s 80us/sample - loss: 9.7670 - accuracy: 0.0000e+00 - val_loss: 49.6896 - val_accuracy: 0.0000e+00\n",
      "Epoch 25/100\n",
      "313/313 [==============================] - 0s 95us/sample - loss: 9.5780 - accuracy: 0.0000e+00 - val_loss: 47.5729 - val_accuracy: 0.0000e+00\n",
      "Epoch 26/100\n",
      "313/313 [==============================] - 0s 84us/sample - loss: 9.4335 - accuracy: 0.0000e+00 - val_loss: 45.8680 - val_accuracy: 0.0000e+00\n",
      "Epoch 27/100\n",
      "313/313 [==============================] - 0s 85us/sample - loss: 9.3094 - accuracy: 0.0000e+00 - val_loss: 43.8552 - val_accuracy: 0.0000e+00\n",
      "Epoch 28/100\n",
      "313/313 [==============================] - 0s 89us/sample - loss: 9.2097 - accuracy: 0.0000e+00 - val_loss: 42.0884 - val_accuracy: 0.0000e+00\n",
      "Epoch 29/100\n",
      "313/313 [==============================] - 0s 82us/sample - loss: 9.1680 - accuracy: 0.0000e+00 - val_loss: 41.3322 - val_accuracy: 0.0000e+00\n",
      "Epoch 30/100\n",
      "313/313 [==============================] - 0s 96us/sample - loss: 8.9849 - accuracy: 0.0000e+00 - val_loss: 40.5981 - val_accuracy: 0.0000e+00\n",
      "Epoch 31/100\n",
      "313/313 [==============================] - 0s 92us/sample - loss: 8.9495 - accuracy: 0.0000e+00 - val_loss: 39.2432 - val_accuracy: 0.0000e+00\n",
      "Epoch 32/100\n",
      "313/313 [==============================] - 0s 84us/sample - loss: 8.8741 - accuracy: 0.0000e+00 - val_loss: 38.5404 - val_accuracy: 0.0000e+00\n",
      "Epoch 33/100\n",
      "313/313 [==============================] - 0s 86us/sample - loss: 8.8284 - accuracy: 0.0000e+00 - val_loss: 38.1316 - val_accuracy: 0.0000e+00\n",
      "Epoch 34/100\n",
      "313/313 [==============================] - 0s 105us/sample - loss: 8.7779 - accuracy: 0.0000e+00 - val_loss: 37.0472 - val_accuracy: 0.0000e+00\n",
      "Epoch 35/100\n",
      "313/313 [==============================] - 0s 95us/sample - loss: 8.7352 - accuracy: 0.0000e+00 - val_loss: 36.1522 - val_accuracy: 0.0000e+00\n",
      "Epoch 36/100\n",
      "313/313 [==============================] - 0s 86us/sample - loss: 8.7179 - accuracy: 0.0000e+00 - val_loss: 36.2233 - val_accuracy: 0.0000e+00\n",
      "Epoch 37/100\n",
      "313/313 [==============================] - 0s 79us/sample - loss: 8.6704 - accuracy: 0.0000e+00 - val_loss: 36.2605 - val_accuracy: 0.0000e+00\n",
      "Epoch 38/100\n",
      "313/313 [==============================] - 0s 92us/sample - loss: 8.6719 - accuracy: 0.0000e+00 - val_loss: 35.1220 - val_accuracy: 0.0000e+00\n",
      "Epoch 39/100\n",
      "313/313 [==============================] - 0s 94us/sample - loss: 8.6468 - accuracy: 0.0000e+00 - val_loss: 35.0339 - val_accuracy: 0.0000e+00\n",
      "Epoch 40/100\n",
      "313/313 [==============================] - 0s 81us/sample - loss: 8.6079 - accuracy: 0.0000e+00 - val_loss: 34.2004 - val_accuracy: 0.0000e+00\n",
      "Epoch 41/100\n",
      "313/313 [==============================] - 0s 83us/sample - loss: 8.5848 - accuracy: 0.0000e+00 - val_loss: 33.4784 - val_accuracy: 0.0000e+00\n",
      "Epoch 42/100\n",
      "313/313 [==============================] - 0s 86us/sample - loss: 8.5464 - accuracy: 0.0000e+00 - val_loss: 33.2504 - val_accuracy: 0.0000e+00\n",
      "Epoch 43/100\n",
      "313/313 [==============================] - 0s 101us/sample - loss: 8.5310 - accuracy: 0.0000e+00 - val_loss: 33.6222 - val_accuracy: 0.0000e+00\n",
      "Epoch 44/100\n",
      "313/313 [==============================] - 0s 89us/sample - loss: 8.5510 - accuracy: 0.0000e+00 - val_loss: 33.0962 - val_accuracy: 0.0000e+00\n",
      "Epoch 45/100\n",
      "313/313 [==============================] - 0s 94us/sample - loss: 8.5287 - accuracy: 0.0000e+00 - val_loss: 32.7344 - val_accuracy: 0.0000e+00\n",
      "Epoch 46/100\n",
      "313/313 [==============================] - 0s 91us/sample - loss: 8.4954 - accuracy: 0.0000e+00 - val_loss: 32.2031 - val_accuracy: 0.0000e+00\n",
      "Epoch 47/100\n",
      "313/313 [==============================] - 0s 91us/sample - loss: 8.4914 - accuracy: 0.0000e+00 - val_loss: 32.2713 - val_accuracy: 0.0000e+00\n",
      "Epoch 48/100\n",
      "313/313 [==============================] - 0s 85us/sample - loss: 8.4808 - accuracy: 0.0000e+00 - val_loss: 32.4618 - val_accuracy: 0.0000e+00\n",
      "Epoch 49/100\n",
      "313/313 [==============================] - 0s 81us/sample - loss: 8.4567 - accuracy: 0.0000e+00 - val_loss: 32.3527 - val_accuracy: 0.0000e+00\n",
      "Epoch 50/100\n",
      "313/313 [==============================] - 0s 95us/sample - loss: 8.4581 - accuracy: 0.0000e+00 - val_loss: 31.7459 - val_accuracy: 0.0000e+00\n",
      "Epoch 51/100\n",
      "313/313 [==============================] - 0s 82us/sample - loss: 8.4883 - accuracy: 0.0000e+00 - val_loss: 32.1374 - val_accuracy: 0.0000e+00\n",
      "Epoch 52/100\n",
      "313/313 [==============================] - 0s 84us/sample - loss: 8.4608 - accuracy: 0.0000e+00 - val_loss: 32.2044 - val_accuracy: 0.0000e+00\n",
      "Epoch 53/100\n",
      "313/313 [==============================] - 0s 85us/sample - loss: 8.4204 - accuracy: 0.0000e+00 - val_loss: 31.9785 - val_accuracy: 0.0000e+00\n",
      "Epoch 54/100\n",
      "313/313 [==============================] - 0s 97us/sample - loss: 8.4292 - accuracy: 0.0000e+00 - val_loss: 31.8940 - val_accuracy: 0.0000e+00\n",
      "Epoch 55/100\n",
      "313/313 [==============================] - 0s 82us/sample - loss: 8.4082 - accuracy: 0.0000e+00 - val_loss: 31.6321 - val_accuracy: 0.0000e+00\n",
      "Epoch 56/100\n",
      "313/313 [==============================] - 0s 85us/sample - loss: 8.4033 - accuracy: 0.0000e+00 - val_loss: 31.2727 - val_accuracy: 0.0000e+00\n",
      "Epoch 57/100\n",
      "313/313 [==============================] - 0s 88us/sample - loss: 8.3927 - accuracy: 0.0000e+00 - val_loss: 31.1802 - val_accuracy: 0.0000e+00\n",
      "Epoch 58/100\n",
      "313/313 [==============================] - 0s 85us/sample - loss: 8.3855 - accuracy: 0.0000e+00 - val_loss: 30.8984 - val_accuracy: 0.0000e+00\n",
      "Epoch 59/100\n",
      "313/313 [==============================] - 0s 83us/sample - loss: 8.3898 - accuracy: 0.0000e+00 - val_loss: 30.7180 - val_accuracy: 0.0000e+00\n",
      "Epoch 60/100\n",
      "313/313 [==============================] - 0s 80us/sample - loss: 8.3754 - accuracy: 0.0000e+00 - val_loss: 30.7899 - val_accuracy: 0.0000e+00\n",
      "Epoch 61/100\n",
      "313/313 [==============================] - 0s 89us/sample - loss: 8.3572 - accuracy: 0.0000e+00 - val_loss: 30.3344 - val_accuracy: 0.0000e+00\n",
      "Epoch 62/100\n",
      "313/313 [==============================] - 0s 82us/sample - loss: 8.3764 - accuracy: 0.0000e+00 - val_loss: 30.2903 - val_accuracy: 0.0000e+00\n",
      "Epoch 63/100\n",
      "313/313 [==============================] - 0s 84us/sample - loss: 8.3419 - accuracy: 0.0000e+00 - val_loss: 30.6378 - val_accuracy: 0.0000e+00\n",
      "Epoch 64/100\n",
      "313/313 [==============================] - 0s 83us/sample - loss: 8.3528 - accuracy: 0.0000e+00 - val_loss: 30.6662 - val_accuracy: 0.0000e+00\n",
      "Epoch 65/100\n",
      "313/313 [==============================] - 0s 88us/sample - loss: 8.3440 - accuracy: 0.0000e+00 - val_loss: 30.8035 - val_accuracy: 0.0000e+00\n",
      "Epoch 66/100\n",
      "313/313 [==============================] - 0s 82us/sample - loss: 8.3425 - accuracy: 0.0000e+00 - val_loss: 30.9115 - val_accuracy: 0.0000e+00\n",
      "Epoch 67/100\n",
      "313/313 [==============================] - 0s 78us/sample - loss: 8.3691 - accuracy: 0.0000e+00 - val_loss: 30.6234 - val_accuracy: 0.0000e+00\n",
      "Epoch 68/100\n",
      "313/313 [==============================] - 0s 82us/sample - loss: 8.3177 - accuracy: 0.0000e+00 - val_loss: 30.6323 - val_accuracy: 0.0000e+00\n",
      "Epoch 69/100\n",
      "313/313 [==============================] - 0s 88us/sample - loss: 8.3124 - accuracy: 0.0000e+00 - val_loss: 30.2448 - val_accuracy: 0.0000e+00\n",
      "Epoch 70/100\n",
      "313/313 [==============================] - 0s 83us/sample - loss: 8.3017 - accuracy: 0.0000e+00 - val_loss: 31.0079 - val_accuracy: 0.0000e+00\n",
      "Epoch 71/100\n",
      "313/313 [==============================] - 0s 85us/sample - loss: 8.3228 - accuracy: 0.0000e+00 - val_loss: 30.2774 - val_accuracy: 0.0000e+00\n",
      "Epoch 72/100\n",
      "313/313 [==============================] - 0s 76us/sample - loss: 8.2977 - accuracy: 0.0000e+00 - val_loss: 30.3260 - val_accuracy: 0.0000e+00\n",
      "Epoch 73/100\n",
      "313/313 [==============================] - 0s 91us/sample - loss: 8.2866 - accuracy: 0.0000e+00 - val_loss: 30.4896 - val_accuracy: 0.0000e+00\n",
      "Epoch 74/100\n",
      "313/313 [==============================] - 0s 80us/sample - loss: 8.3021 - accuracy: 0.0000e+00 - val_loss: 30.2681 - val_accuracy: 0.0000e+00\n",
      "Epoch 75/100\n",
      "313/313 [==============================] - 0s 91us/sample - loss: 8.2886 - accuracy: 0.0000e+00 - val_loss: 30.1355 - val_accuracy: 0.0000e+00\n",
      "Epoch 76/100\n",
      "313/313 [==============================] - 0s 79us/sample - loss: 8.2944 - accuracy: 0.0000e+00 - val_loss: 29.9801 - val_accuracy: 0.0000e+00\n",
      "Epoch 77/100\n",
      "313/313 [==============================] - 0s 97us/sample - loss: 8.2739 - accuracy: 0.0000e+00 - val_loss: 30.2403 - val_accuracy: 0.0000e+00\n",
      "Epoch 78/100\n",
      "313/313 [==============================] - 0s 80us/sample - loss: 8.2812 - accuracy: 0.0000e+00 - val_loss: 30.0736 - val_accuracy: 0.0000e+00\n",
      "Epoch 79/100\n",
      "313/313 [==============================] - 0s 77us/sample - loss: 8.2545 - accuracy: 0.0000e+00 - val_loss: 30.2801 - val_accuracy: 0.0000e+00\n",
      "Epoch 80/100\n",
      "313/313 [==============================] - 0s 81us/sample - loss: 8.2786 - accuracy: 0.0000e+00 - val_loss: 30.0962 - val_accuracy: 0.0000e+00\n",
      "Epoch 81/100\n",
      "313/313 [==============================] - 0s 97us/sample - loss: 8.2549 - accuracy: 0.0000e+00 - val_loss: 29.5495 - val_accuracy: 0.0000e+00\n",
      "Epoch 82/100\n",
      "313/313 [==============================] - 0s 83us/sample - loss: 8.2975 - accuracy: 0.0000e+00 - val_loss: 29.7231 - val_accuracy: 0.0000e+00\n",
      "Epoch 83/100\n",
      "313/313 [==============================] - 0s 77us/sample - loss: 8.2696 - accuracy: 0.0000e+00 - val_loss: 29.9787 - val_accuracy: 0.0000e+00\n",
      "Epoch 84/100\n",
      "313/313 [==============================] - 0s 82us/sample - loss: 8.2526 - accuracy: 0.0000e+00 - val_loss: 29.8287 - val_accuracy: 0.0000e+00\n",
      "Epoch 85/100\n",
      "313/313 [==============================] - 0s 92us/sample - loss: 8.2297 - accuracy: 0.0000e+00 - val_loss: 29.8936 - val_accuracy: 0.0000e+00\n",
      "Epoch 86/100\n",
      "313/313 [==============================] - 0s 79us/sample - loss: 8.2370 - accuracy: 0.0000e+00 - val_loss: 29.1154 - val_accuracy: 0.0000e+00\n",
      "Epoch 87/100\n",
      "313/313 [==============================] - 0s 81us/sample - loss: 8.2664 - accuracy: 0.0000e+00 - val_loss: 29.5872 - val_accuracy: 0.0000e+00\n",
      "Epoch 88/100\n",
      "313/313 [==============================] - 0s 89us/sample - loss: 8.2440 - accuracy: 0.0000e+00 - val_loss: 29.4077 - val_accuracy: 0.0000e+00\n",
      "Epoch 89/100\n",
      "313/313 [==============================] - 0s 85us/sample - loss: 8.2355 - accuracy: 0.0000e+00 - val_loss: 29.4462 - val_accuracy: 0.0000e+00\n",
      "Epoch 90/100\n",
      "313/313 [==============================] - 0s 80us/sample - loss: 8.2410 - accuracy: 0.0000e+00 - val_loss: 29.9674 - val_accuracy: 0.0000e+00\n",
      "Epoch 91/100\n",
      "313/313 [==============================] - 0s 74us/sample - loss: 8.2136 - accuracy: 0.0000e+00 - val_loss: 29.5599 - val_accuracy: 0.0000e+00\n",
      "Epoch 92/100\n",
      "313/313 [==============================] - 0s 96us/sample - loss: 8.2207 - accuracy: 0.0000e+00 - val_loss: 29.3035 - val_accuracy: 0.0000e+00\n",
      "Epoch 93/100\n",
      "313/313 [==============================] - 0s 84us/sample - loss: 8.2200 - accuracy: 0.0000e+00 - val_loss: 29.4602 - val_accuracy: 0.0000e+00\n",
      "Epoch 94/100\n",
      "313/313 [==============================] - 0s 72us/sample - loss: 8.2005 - accuracy: 0.0000e+00 - val_loss: 29.6813 - val_accuracy: 0.0000e+00\n",
      "Epoch 95/100\n",
      "313/313 [==============================] - 0s 86us/sample - loss: 8.2734 - accuracy: 0.0000e+00 - val_loss: 30.0713 - val_accuracy: 0.0000e+00\n",
      "Epoch 96/100\n",
      "313/313 [==============================] - 0s 78us/sample - loss: 8.1981 - accuracy: 0.0000e+00 - val_loss: 29.8432 - val_accuracy: 0.0000e+00\n",
      "Epoch 97/100\n",
      "313/313 [==============================] - 0s 80us/sample - loss: 8.2066 - accuracy: 0.0000e+00 - val_loss: 29.5189 - val_accuracy: 0.0000e+00\n",
      "Epoch 98/100\n",
      "313/313 [==============================] - 0s 85us/sample - loss: 8.2036 - accuracy: 0.0000e+00 - val_loss: 29.4153 - val_accuracy: 0.0000e+00\n",
      "Epoch 99/100\n",
      "313/313 [==============================] - 0s 84us/sample - loss: 8.1987 - accuracy: 0.0000e+00 - val_loss: 29.1460 - val_accuracy: 0.0000e+00\n",
      "Epoch 100/100\n",
      "313/313 [==============================] - 0s 85us/sample - loss: 8.1847 - accuracy: 0.0000e+00 - val_loss: 29.0996 - val_accuracy: 0.0000e+00\n"
     ]
    },
    {
     "data": {
      "text/plain": [
       "<tensorflow.python.keras.callbacks.History at 0x1498dc850>"
      ]
     },
     "execution_count": 39,
     "metadata": {},
     "output_type": "execute_result"
    }
   ],
   "source": [
    "model.fit(X, y, epochs=100, validation_split=0.2)"
   ]
  },
  {
   "cell_type": "code",
   "execution_count": 37,
   "metadata": {},
   "outputs": [
    {
     "data": {
      "text/plain": [
       "<matplotlib.legend.Legend at 0x14966ca50>"
      ]
     },
     "execution_count": 37,
     "metadata": {},
     "output_type": "execute_result"
    },
    {
     "data": {
      "image/png": "[encoded data removed]",
      "text/plain": [
       "<Figure size 432x288 with 1 Axes>"
      ]
     },
     "metadata": {
      "needs_background": "light"
     },
     "output_type": "display_data"
    }
   ],
   "source": [
    "from matplotlib import pyplot as plt\n",
    "\n",
    "loss = model.history.history[\"loss\"]\n",
    "val_loss = model.history.history[\"val_loss\"]\n",
    "plt.plot(loss[50:], lw=3, label=\"training error\")\n",
    "plt.plot(val_loss[50:], lw=3, label=\"validation error\")\n",
    "plt.xlabel(\"epoch\")\n",
    "plt.ylabel(\"mse\")\n",
    "plt.legend()"
   ]
  },
  {
   "cell_type": "code",
   "execution_count": 60,
   "metadata": {},
   "outputs": [
    {
     "name": "stdout",
     "output_type": "stream",
     "text": [
      "Model: \"sequential_9\"\n",
      "_________________________________________________________________\n",
      "Layer (type)                 Output Shape              Param #   \n",
      "=================================================================\n",
      "dense_21 (Dense)             (None, 8)                 72        \n",
      "_________________________________________________________________\n",
      "dense_22 (Dense)             (None, 8)                 72        \n",
      "_________________________________________________________________\n",
      "dense_23 (Dense)             (None, 1)                 9         \n",
      "=================================================================\n",
      "Total params: 153\n",
      "Trainable params: 153\n",
      "Non-trainable params: 0\n",
      "_________________________________________________________________\n"
     ]
    }
   ],
   "source": [
    "model = Sequential([Input(8),\n",
    "                    Dense(8, activation=\"relu\"),\n",
    "                    Dense(8, activation=\"relu\"),\n",
    "                    Dense(1, \"linear\")])\n",
    "model.compile(loss=\"mse\", optimizer=sgd(learning_rate=0.005))\n",
    "model.summary()"
   ]
  },
  {
   "cell_type": "code",
   "execution_count": 61,
   "metadata": {},
   "outputs": [
    {
     "data": {
      "text/plain": [
       "<tensorflow.python.keras.callbacks.History at 0x14c08fa50>"
      ]
     },
     "execution_count": 61,
     "metadata": {},
     "output_type": "execute_result"
    }
   ],
   "source": [
    "model.fit(X, y, epochs=100, validation_split=0.2, verbose=0)"
   ]
  },
  {
   "cell_type": "code",
   "execution_count": 62,
   "metadata": {},
   "outputs": [
    {
     "data": {
      "text/plain": [
       "<matplotlib.legend.Legend at 0x14c524110>"
      ]
     },
     "execution_count": 62,
     "metadata": {},
     "output_type": "execute_result"
    },
    {
     "data": {
      "image/png": "[encoded data removed]",
      "text/plain": [
       "<Figure size 432x288 with 1 Axes>"
      ]
     },
     "metadata": {
      "needs_background": "light"
     },
     "output_type": "display_data"
    }
   ],
   "source": [
    "loss = model.history.history[\"loss\"]\n",
    "val_loss = model.history.history[\"val_loss\"]\n",
    "plt.plot(loss[20:], lw=3, label=\"training error\")\n",
    "plt.plot(val_loss[20:], lw=3, label=\"validation error\")\n",
    "plt.xlabel(\"epoch\")\n",
    "plt.ylabel(\"mse\")\n",
    "plt.legend()"
   ]
  },
  {
   "cell_type": "code",
   "execution_count": 63,
   "metadata": {},
   "outputs": [],
   "source": [
    "# Can we optimize the number of units in the hidden layers?"
   ]
  },
  {
   "cell_type": "code",
   "execution_count": 69,
   "metadata": {
    "collapsed": true,
    "jupyter": {
     "outputs_hidden": true
    }
   },
   "outputs": [
    {
     "ename": "TypeError",
     "evalue": "Cannot clone object '<tensorflow.python.keras.engine.sequential.Sequential object at 0x14bed5f90>' (type <class 'tensorflow.python.keras.engine.sequential.Sequential'>): it does not seem to be a scikit-learn estimator as it does not implement a 'get_params' methods.",
     "output_type": "error",
     "traceback": [
      "\u001b[0;31m---------------------------------------------------------------------------\u001b[0m",
      "\u001b[0;31mTypeError\u001b[0m                                 Traceback (most recent call last)",
      "\u001b[0;32m<ipython-input-69-f43355b9d2db>\u001b[0m in \u001b[0;36m<module>\u001b[0;34m\u001b[0m\n\u001b[1;32m      4\u001b[0m \u001b[0mn\u001b[0m \u001b[0;34m=\u001b[0m \u001b[0;34m[\u001b[0m\u001b[0;36m2\u001b[0m\u001b[0;34m,\u001b[0m \u001b[0;36m4\u001b[0m\u001b[0;34m,\u001b[0m \u001b[0;36m8\u001b[0m\u001b[0;34m,\u001b[0m \u001b[0;36m16\u001b[0m\u001b[0;34m,\u001b[0m \u001b[0;36m32\u001b[0m\u001b[0;34m,\u001b[0m \u001b[0;36m64\u001b[0m\u001b[0;34m,\u001b[0m \u001b[0;36m128\u001b[0m\u001b[0;34m,\u001b[0m \u001b[0;36m256\u001b[0m\u001b[0;34m]\u001b[0m\u001b[0;34m\u001b[0m\u001b[0;34m\u001b[0m\u001b[0m\n\u001b[1;32m      5\u001b[0m \u001b[0;34m\u001b[0m\u001b[0m\n\u001b[0;32m----> 6\u001b[0;31m \u001b[0mcross_val_score\u001b[0m\u001b[0;34m(\u001b[0m\u001b[0mmodel\u001b[0m\u001b[0;34m,\u001b[0m \u001b[0mX\u001b[0m\u001b[0;34m,\u001b[0m \u001b[0my\u001b[0m\u001b[0;34m,\u001b[0m \u001b[0mcv\u001b[0m\u001b[0;34m=\u001b[0m\u001b[0;36m5\u001b[0m\u001b[0;34m,\u001b[0m \u001b[0mscoring\u001b[0m\u001b[0;34m=\u001b[0m\u001b[0;34m\"neg_mean_squared_error\"\u001b[0m\u001b[0;34m)\u001b[0m \u001b[0;31m# need sklearn model!\u001b[0m\u001b[0;34m\u001b[0m\u001b[0;34m\u001b[0m\u001b[0m\n\u001b[0m",
      "\u001b[0;32m/usr/local/lib/python3.7/site-packages/sklearn/model_selection/_validation.py\u001b[0m in \u001b[0;36mcross_val_score\u001b[0;34m(estimator, X, y, groups, scoring, cv, n_jobs, verbose, fit_params, pre_dispatch, error_score)\u001b[0m\n\u001b[1;32m    389\u001b[0m                                 \u001b[0mfit_params\u001b[0m\u001b[0;34m=\u001b[0m\u001b[0mfit_params\u001b[0m\u001b[0;34m,\u001b[0m\u001b[0;34m\u001b[0m\u001b[0;34m\u001b[0m\u001b[0m\n\u001b[1;32m    390\u001b[0m                                 \u001b[0mpre_dispatch\u001b[0m\u001b[0;34m=\u001b[0m\u001b[0mpre_dispatch\u001b[0m\u001b[0;34m,\u001b[0m\u001b[0;34m\u001b[0m\u001b[0;34m\u001b[0m\u001b[0m\n\u001b[0;32m--> 391\u001b[0;31m                                 error_score=error_score)\n\u001b[0m\u001b[1;32m    392\u001b[0m     \u001b[0;32mreturn\u001b[0m \u001b[0mcv_results\u001b[0m\u001b[0;34m[\u001b[0m\u001b[0;34m'test_score'\u001b[0m\u001b[0;34m]\u001b[0m\u001b[0;34m\u001b[0m\u001b[0;34m\u001b[0m\u001b[0m\n\u001b[1;32m    393\u001b[0m \u001b[0;34m\u001b[0m\u001b[0m\n",
      "\u001b[0;32m/usr/local/lib/python3.7/site-packages/sklearn/model_selection/_validation.py\u001b[0m in \u001b[0;36mcross_validate\u001b[0;34m(estimator, X, y, groups, scoring, cv, n_jobs, verbose, fit_params, pre_dispatch, return_train_score, return_estimator, error_score)\u001b[0m\n\u001b[1;32m    230\u001b[0m             \u001b[0mreturn_times\u001b[0m\u001b[0;34m=\u001b[0m\u001b[0;32mTrue\u001b[0m\u001b[0;34m,\u001b[0m \u001b[0mreturn_estimator\u001b[0m\u001b[0;34m=\u001b[0m\u001b[0mreturn_estimator\u001b[0m\u001b[0;34m,\u001b[0m\u001b[0;34m\u001b[0m\u001b[0;34m\u001b[0m\u001b[0m\n\u001b[1;32m    231\u001b[0m             error_score=error_score)\n\u001b[0;32m--> 232\u001b[0;31m         for train, test in cv.split(X, y, groups))\n\u001b[0m\u001b[1;32m    233\u001b[0m \u001b[0;34m\u001b[0m\u001b[0m\n\u001b[1;32m    234\u001b[0m     \u001b[0mzipped_scores\u001b[0m \u001b[0;34m=\u001b[0m \u001b[0mlist\u001b[0m\u001b[0;34m(\u001b[0m\u001b[0mzip\u001b[0m\u001b[0;34m(\u001b[0m\u001b[0;34m*\u001b[0m\u001b[0mscores\u001b[0m\u001b[0;34m)\u001b[0m\u001b[0;34m)\u001b[0m\u001b[0;34m\u001b[0m\u001b[0;34m\u001b[0m\u001b[0m\n",
      "\u001b[0;32m/usr/local/lib/python3.7/site-packages/joblib/parallel.py\u001b[0m in \u001b[0;36m__call__\u001b[0;34m(self, iterable)\u001b[0m\n\u001b[1;32m    919\u001b[0m             \u001b[0;31m# remaining jobs.\u001b[0m\u001b[0;34m\u001b[0m\u001b[0;34m\u001b[0m\u001b[0;34m\u001b[0m\u001b[0m\n\u001b[1;32m    920\u001b[0m             \u001b[0mself\u001b[0m\u001b[0;34m.\u001b[0m\u001b[0m_iterating\u001b[0m \u001b[0;34m=\u001b[0m \u001b[0;32mFalse\u001b[0m\u001b[0;34m\u001b[0m\u001b[0;34m\u001b[0m\u001b[0m\n\u001b[0;32m--> 921\u001b[0;31m             \u001b[0;32mif\u001b[0m \u001b[0mself\u001b[0m\u001b[0;34m.\u001b[0m\u001b[0mdispatch_one_batch\u001b[0m\u001b[0;34m(\u001b[0m\u001b[0miterator\u001b[0m\u001b[0;34m)\u001b[0m\u001b[0;34m:\u001b[0m\u001b[0;34m\u001b[0m\u001b[0;34m\u001b[0m\u001b[0m\n\u001b[0m\u001b[1;32m    922\u001b[0m                 \u001b[0mself\u001b[0m\u001b[0;34m.\u001b[0m\u001b[0m_iterating\u001b[0m \u001b[0;34m=\u001b[0m \u001b[0mself\u001b[0m\u001b[0;34m.\u001b[0m\u001b[0m_original_iterator\u001b[0m \u001b[0;32mis\u001b[0m \u001b[0;32mnot\u001b[0m \u001b[0;32mNone\u001b[0m\u001b[0;34m\u001b[0m\u001b[0;34m\u001b[0m\u001b[0m\n\u001b[1;32m    923\u001b[0m \u001b[0;34m\u001b[0m\u001b[0m\n",
      "\u001b[0;32m/usr/local/lib/python3.7/site-packages/joblib/parallel.py\u001b[0m in \u001b[0;36mdispatch_one_batch\u001b[0;34m(self, iterator)\u001b[0m\n\u001b[1;32m    752\u001b[0m             tasks = BatchedCalls(itertools.islice(iterator, batch_size),\n\u001b[1;32m    753\u001b[0m                                  \u001b[0mself\u001b[0m\u001b[0;34m.\u001b[0m\u001b[0m_backend\u001b[0m\u001b[0;34m.\u001b[0m\u001b[0mget_nested_backend\u001b[0m\u001b[0;34m(\u001b[0m\u001b[0;34m)\u001b[0m\u001b[0;34m,\u001b[0m\u001b[0;34m\u001b[0m\u001b[0;34m\u001b[0m\u001b[0m\n\u001b[0;32m--> 754\u001b[0;31m                                  self._pickle_cache)\n\u001b[0m\u001b[1;32m    755\u001b[0m             \u001b[0;32mif\u001b[0m \u001b[0mlen\u001b[0m\u001b[0;34m(\u001b[0m\u001b[0mtasks\u001b[0m\u001b[0;34m)\u001b[0m \u001b[0;34m==\u001b[0m \u001b[0;36m0\u001b[0m\u001b[0;34m:\u001b[0m\u001b[0;34m\u001b[0m\u001b[0;34m\u001b[0m\u001b[0m\n\u001b[1;32m    756\u001b[0m                 \u001b[0;31m# No more tasks available in the iterator: tell caller to stop.\u001b[0m\u001b[0;34m\u001b[0m\u001b[0;34m\u001b[0m\u001b[0;34m\u001b[0m\u001b[0m\n",
      "\u001b[0;32m/usr/local/lib/python3.7/site-packages/joblib/parallel.py\u001b[0m in \u001b[0;36m__init__\u001b[0;34m(self, iterator_slice, backend_and_jobs, pickle_cache)\u001b[0m\n\u001b[1;32m    208\u001b[0m \u001b[0;34m\u001b[0m\u001b[0m\n\u001b[1;32m    209\u001b[0m     \u001b[0;32mdef\u001b[0m \u001b[0m__init__\u001b[0m\u001b[0;34m(\u001b[0m\u001b[0mself\u001b[0m\u001b[0;34m,\u001b[0m \u001b[0miterator_slice\u001b[0m\u001b[0;34m,\u001b[0m \u001b[0mbackend_and_jobs\u001b[0m\u001b[0;34m,\u001b[0m \u001b[0mpickle_cache\u001b[0m\u001b[0;34m=\u001b[0m\u001b[0;32mNone\u001b[0m\u001b[0;34m)\u001b[0m\u001b[0;34m:\u001b[0m\u001b[0;34m\u001b[0m\u001b[0;34m\u001b[0m\u001b[0m\n\u001b[0;32m--> 210\u001b[0;31m         \u001b[0mself\u001b[0m\u001b[0;34m.\u001b[0m\u001b[0mitems\u001b[0m \u001b[0;34m=\u001b[0m \u001b[0mlist\u001b[0m\u001b[0;34m(\u001b[0m\u001b[0miterator_slice\u001b[0m\u001b[0;34m)\u001b[0m\u001b[0;34m\u001b[0m\u001b[0;34m\u001b[0m\u001b[0m\n\u001b[0m\u001b[1;32m    211\u001b[0m         \u001b[0mself\u001b[0m\u001b[0;34m.\u001b[0m\u001b[0m_size\u001b[0m \u001b[0;34m=\u001b[0m \u001b[0mlen\u001b[0m\u001b[0;34m(\u001b[0m\u001b[0mself\u001b[0m\u001b[0;34m.\u001b[0m\u001b[0mitems\u001b[0m\u001b[0;34m)\u001b[0m\u001b[0;34m\u001b[0m\u001b[0;34m\u001b[0m\u001b[0m\n\u001b[1;32m    212\u001b[0m         \u001b[0;32mif\u001b[0m \u001b[0misinstance\u001b[0m\u001b[0;34m(\u001b[0m\u001b[0mbackend_and_jobs\u001b[0m\u001b[0;34m,\u001b[0m \u001b[0mtuple\u001b[0m\u001b[0;34m)\u001b[0m\u001b[0;34m:\u001b[0m\u001b[0;34m\u001b[0m\u001b[0;34m\u001b[0m\u001b[0m\n",
      "\u001b[0;32m/usr/local/lib/python3.7/site-packages/sklearn/model_selection/_validation.py\u001b[0m in \u001b[0;36m<genexpr>\u001b[0;34m(.0)\u001b[0m\n\u001b[1;32m    230\u001b[0m             \u001b[0mreturn_times\u001b[0m\u001b[0;34m=\u001b[0m\u001b[0;32mTrue\u001b[0m\u001b[0;34m,\u001b[0m \u001b[0mreturn_estimator\u001b[0m\u001b[0;34m=\u001b[0m\u001b[0mreturn_estimator\u001b[0m\u001b[0;34m,\u001b[0m\u001b[0;34m\u001b[0m\u001b[0;34m\u001b[0m\u001b[0m\n\u001b[1;32m    231\u001b[0m             error_score=error_score)\n\u001b[0;32m--> 232\u001b[0;31m         for train, test in cv.split(X, y, groups))\n\u001b[0m\u001b[1;32m    233\u001b[0m \u001b[0;34m\u001b[0m\u001b[0m\n\u001b[1;32m    234\u001b[0m     \u001b[0mzipped_scores\u001b[0m \u001b[0;34m=\u001b[0m \u001b[0mlist\u001b[0m\u001b[0;34m(\u001b[0m\u001b[0mzip\u001b[0m\u001b[0;34m(\u001b[0m\u001b[0;34m*\u001b[0m\u001b[0mscores\u001b[0m\u001b[0;34m)\u001b[0m\u001b[0;34m)\u001b[0m\u001b[0;34m\u001b[0m\u001b[0;34m\u001b[0m\u001b[0m\n",
      "\u001b[0;32m/usr/local/lib/python3.7/site-packages/sklearn/base.py\u001b[0m in \u001b[0;36mclone\u001b[0;34m(estimator, safe)\u001b[0m\n\u001b[1;32m     58\u001b[0m                             \u001b[0;34m\"it does not seem to be a scikit-learn estimator \"\u001b[0m\u001b[0;34m\u001b[0m\u001b[0;34m\u001b[0m\u001b[0m\n\u001b[1;32m     59\u001b[0m                             \u001b[0;34m\"as it does not implement a 'get_params' methods.\"\u001b[0m\u001b[0;34m\u001b[0m\u001b[0;34m\u001b[0m\u001b[0m\n\u001b[0;32m---> 60\u001b[0;31m                             % (repr(estimator), type(estimator)))\n\u001b[0m\u001b[1;32m     61\u001b[0m     \u001b[0mklass\u001b[0m \u001b[0;34m=\u001b[0m \u001b[0mestimator\u001b[0m\u001b[0;34m.\u001b[0m\u001b[0m__class__\u001b[0m\u001b[0;34m\u001b[0m\u001b[0;34m\u001b[0m\u001b[0m\n\u001b[1;32m     62\u001b[0m     \u001b[0mnew_object_params\u001b[0m \u001b[0;34m=\u001b[0m \u001b[0mestimator\u001b[0m\u001b[0;34m.\u001b[0m\u001b[0mget_params\u001b[0m\u001b[0;34m(\u001b[0m\u001b[0mdeep\u001b[0m\u001b[0;34m=\u001b[0m\u001b[0;32mFalse\u001b[0m\u001b[0;34m)\u001b[0m\u001b[0;34m\u001b[0m\u001b[0;34m\u001b[0m\u001b[0m\n",
      "\u001b[0;31mTypeError\u001b[0m: Cannot clone object '<tensorflow.python.keras.engine.sequential.Sequential object at 0x14bed5f90>' (type <class 'tensorflow.python.keras.engine.sequential.Sequential'>): it does not seem to be a scikit-learn estimator as it does not implement a 'get_params' methods."
     ]
    }
   ],
   "source": [
    "from sklearn.model_selection import cross_val_score, train_test_split\n",
    "X_tr, X_te, y_tr, y_te = train_test_split(X, y, test_size=0.2)\n",
    "\n"
   ]
  },
  {
   "cell_type": "code",
   "execution_count": 74,
   "metadata": {},
   "outputs": [],
   "source": [
    "from sklearn.base import BaseEstimator, RegressorMixin\n",
    "\n",
    "# from tensorflow model to sklearn model\n",
    "# sklearn \"wrapper\" for a tensorflow model\n",
    "\n",
    "class NN(BaseEstimator, RegressorMixin):\n",
    "    def __init__(self, n_units):\n",
    "        self.n_units = n_units\n",
    "        self.model = Sequential([Input(8),\n",
    "                            Dense(n_units, activation=\"relu\"),\n",
    "                            Dense(n_units, activation=\"relu\"),\n",
    "                            Dense(1, activation=\"linear\")])\n",
    "        self.model.compile(loss=\"mse\", optimizer=\"rmsprop\", metrics=[\"mse\"])\n",
    "    \n",
    "    def fit(self, X, y, **kwargs):\n",
    "        self.model.fit(X, y, **kwargs)\n",
    "    \n",
    "    def predict(self, X, **kwargs):\n",
    "        return self.model.predict(X, **kwargs)"
   ]
  },
  {
   "cell_type": "code",
   "execution_count": 75,
   "metadata": {},
   "outputs": [],
   "source": [
    "scores = []\n",
    "for n_units in [2, 4, 8, 16, 32, 64, 128, 256]:\n",
    "    model = NN(n_units=n_units)\n",
    "    score = cross_val_score(model, X, y,\n",
    "                            cv=5,\n",
    "                            scoring=\"neg_mean_squared_error\",\n",
    "                            fit_params={\"epochs\": 100, \"verbose\": 0}).mean()\n",
    "    scores.append(score)"
   ]
  },
  {
   "cell_type": "code",
   "execution_count": 76,
   "metadata": {},
   "outputs": [
    {
     "data": {
      "text/plain": [
       "[-537.0103293871174,\n",
       " -128.95566270525345,\n",
       " -15.576639515125922,\n",
       " -9.225998041654028,\n",
       " -8.700640598775996,\n",
       " -8.758663093377201,\n",
       " -8.643958192890704,\n",
       " -8.76317350648048]"
      ]
     },
     "execution_count": 76,
     "metadata": {},
     "output_type": "execute_result"
    }
   ],
   "source": [
    "scores"
   ]
  },
  {
   "cell_type": "code",
   "execution_count": null,
   "metadata": {},
   "outputs": [],
   "source": []
  }
 ],
 "metadata": {
  "kernelspec": {
   "display_name": "Python 3",
   "language": "python",
   "name": "python3"
  },
  "language_info": {
   "codemirror_mode": {
    "name": "ipython",
    "version": 3
   },
   "file_extension": ".py",
   "mimetype": "text/x-python",
   "name": "python",
   "nbconvert_exporter": "python",
   "pygments_lexer": "ipython3",
   "version": "3.7.6"
  }
 },
 "nbformat": 4,
 "nbformat_minor": 4
}

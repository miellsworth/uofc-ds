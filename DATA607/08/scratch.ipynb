{
 "cells": [
  {
   "cell_type": "code",
   "execution_count": 24,
   "metadata": {},
   "outputs": [],
   "source": [
    "import numpy as np\n",
    "import tensorflow as tf\n",
    "from tensorflow import keras\n",
    "from tensorflow.keras.models import Model, Sequential\n",
    "from tensorflow.keras.layers import Input, Dense"
   ]
  },
  {
   "cell_type": "code",
   "execution_count": 51,
   "metadata": {},
   "outputs": [
    {
     "name": "stdout",
     "output_type": "stream",
     "text": [
      "Model: \"sequential_2\"\n",
      "_________________________________________________________________\n",
      "Layer (type)                 Output Shape              Param #   \n",
      "=================================================================\n",
      "dense_4 (Dense)              (None, 5)                 20        \n",
      "_________________________________________________________________\n",
      "dense_5 (Dense)              (None, 3)                 18        \n",
      "=================================================================\n",
      "Total params: 38\n",
      "Trainable params: 38\n",
      "Non-trainable params: 0\n",
      "_________________________________________________________________\n"
     ]
    }
   ],
   "source": [
    "model = Sequential([Input(3), Dense(5, activation=\"relu\"), Dense(3)])\n",
    "model.summary()"
   ]
  },
  {
   "cell_type": "code",
   "execution_count": 9,
   "metadata": {},
   "outputs": [
    {
     "data": {
      "text/plain": [
       "True"
      ]
     },
     "execution_count": 9,
     "metadata": {},
     "output_type": "execute_result"
    }
   ],
   "source": [
    "20 == (3 + 1)*5\n",
    "18 == (5 + 1)*3"
   ]
  },
  {
   "cell_type": "code",
   "execution_count": 52,
   "metadata": {},
   "outputs": [],
   "source": [
    "[L0, L1] = model.layers"
   ]
  },
  {
   "cell_type": "code",
   "execution_count": 23,
   "metadata": {},
   "outputs": [
    {
     "name": "stdout",
     "output_type": "stream",
     "text": [
      "[[ 0.4114409   0.6716798  -0.81279117]\n",
      " [-0.3838969   0.78592175 -0.52853346]\n",
      " [-0.7973067   0.26151747  0.20389539]\n",
      " [-0.4304435   0.05076534 -0.7916771 ]\n",
      " [ 0.10459918  0.6192481  -0.26238936]] [0. 0. 0.]\n"
     ]
    }
   ],
   "source": [
    "w, b = L0.get_weights();\n",
    "w, b = L1.get_weights();\n",
    "print(w, b)"
   ]
  },
  {
   "cell_type": "code",
   "execution_count": 27,
   "metadata": {},
   "outputs": [],
   "source": [
    "X = np.random.uniform(size=(10, 3)).astype(np.float32)"
   ]
  },
  {
   "cell_type": "code",
   "execution_count": 28,
   "metadata": {},
   "outputs": [
    {
     "data": {
      "text/plain": [
       "<tf.Tensor: id=157, shape=(10, 3), dtype=float32, numpy=\n",
       "array([[-0.0381803 , -0.04984014, -0.03025628],\n",
       "       [-0.19904512, -0.10622066, -0.28970954],\n",
       "       [-0.22452259, -0.5222389 ,  0.6836453 ],\n",
       "       [ 0.2467139 , -0.5073025 ,  0.10420934],\n",
       "       [ 0.34927934, -0.8107095 ,  0.6382964 ],\n",
       "       [-0.2120727 , -0.46634492,  0.27665117],\n",
       "       [ 0.2124318 , -0.77573234,  0.8613352 ],\n",
       "       [-0.38946185,  0.01207036, -0.32225734],\n",
       "       [ 0.10143188, -0.28381658, -0.20980367],\n",
       "       [-0.43004823, -0.21648732, -0.07274511]], dtype=float32)>"
      ]
     },
     "execution_count": 28,
     "metadata": {},
     "output_type": "execute_result"
    }
   ],
   "source": [
    "model(X)"
   ]
  },
  {
   "cell_type": "code",
   "execution_count": 31,
   "metadata": {},
   "outputs": [
    {
     "data": {
      "text/plain": [
       "<tf.Tensor: id=190, shape=(10, 3), dtype=bool, numpy=\n",
       "array([[ True,  True,  True],\n",
       "       [ True,  True,  True],\n",
       "       [ True,  True,  True],\n",
       "       [ True,  True,  True],\n",
       "       [ True,  True,  True],\n",
       "       [ True,  True,  True],\n",
       "       [ True,  True,  True],\n",
       "       [ True,  True,  True],\n",
       "       [ True,  True,  True],\n",
       "       [ True,  True,  True]])>"
      ]
     },
     "execution_count": 31,
     "metadata": {},
     "output_type": "execute_result"
    }
   ],
   "source": [
    "L1(L0(X)) == model(X)"
   ]
  },
  {
   "cell_type": "code",
   "execution_count": 32,
   "metadata": {},
   "outputs": [
    {
     "data": {
      "text/plain": [
       "tensorflow.python.framework.ops.EagerTensor"
      ]
     },
     "execution_count": 32,
     "metadata": {},
     "output_type": "execute_result"
    }
   ],
   "source": [
    "model(X).__class__"
   ]
  },
  {
   "cell_type": "code",
   "execution_count": 33,
   "metadata": {},
   "outputs": [],
   "source": [
    "X[1, 2] = 100"
   ]
  },
  {
   "cell_type": "code",
   "execution_count": 35,
   "metadata": {},
   "outputs": [
    {
     "ename": "TypeError",
     "evalue": "'tensorflow.python.framework.ops.EagerTensor' object does not support item assignment",
     "output_type": "error",
     "traceback": [
      "\u001b[0;31m---------------------------------------------------------------------------\u001b[0m",
      "\u001b[0;31mTypeError\u001b[0m                                 Traceback (most recent call last)",
      "\u001b[0;32m<ipython-input-35-b1a2db78dd72>\u001b[0m in \u001b[0;36m<module>\u001b[0;34m\u001b[0m\n\u001b[1;32m      1\u001b[0m \u001b[0mY\u001b[0m \u001b[0;34m=\u001b[0m \u001b[0mmodel\u001b[0m\u001b[0;34m(\u001b[0m\u001b[0mX\u001b[0m\u001b[0;34m)\u001b[0m\u001b[0;34m\u001b[0m\u001b[0;34m\u001b[0m\u001b[0m\n\u001b[0;32m----> 2\u001b[0;31m \u001b[0mY\u001b[0m\u001b[0;34m[\u001b[0m\u001b[0;36m1\u001b[0m\u001b[0;34m,\u001b[0m \u001b[0;36m2\u001b[0m\u001b[0;34m]\u001b[0m \u001b[0;34m=\u001b[0m \u001b[0;36m333.01\u001b[0m\u001b[0;34m\u001b[0m\u001b[0;34m\u001b[0m\u001b[0m\n\u001b[0m",
      "\u001b[0;31mTypeError\u001b[0m: 'tensorflow.python.framework.ops.EagerTensor' object does not support item assignment"
     ]
    }
   ],
   "source": [
    "Y = model(X)\n",
    "Y[1, 2] = 333.01"
   ]
  },
  {
   "cell_type": "code",
   "execution_count": 36,
   "metadata": {},
   "outputs": [
    {
     "data": {
      "text/plain": [
       "array([[-3.8180295e-02, -4.9840141e-02, -3.0256284e-02],\n",
       "       [ 3.1463261e+01, -8.8077078e+00, -5.1045147e+01],\n",
       "       [-2.2452259e-01, -5.2223891e-01,  6.8364531e-01],\n",
       "       [ 2.4671391e-01, -5.0730252e-01,  1.0420934e-01],\n",
       "       [ 3.4927934e-01, -8.1070948e-01,  6.3829643e-01],\n",
       "       [-2.1207270e-01, -4.6634492e-01,  2.7665117e-01],\n",
       "       [ 2.1243180e-01, -7.7573234e-01,  8.6133522e-01],\n",
       "       [-3.8946185e-01,  1.2070362e-02, -3.2225734e-01],\n",
       "       [ 1.0143188e-01, -2.8381658e-01, -2.0980367e-01],\n",
       "       [-4.3004823e-01, -2.1648732e-01, -7.2745107e-02]], dtype=float32)"
      ]
     },
     "execution_count": 36,
     "metadata": {},
     "output_type": "execute_result"
    }
   ],
   "source": [
    "np.array(Y)"
   ]
  },
  {
   "cell_type": "code",
   "execution_count": 41,
   "metadata": {},
   "outputs": [
    {
     "data": {
      "text/plain": [
       "<tf.Tensor: id=222, shape=(10, 3), dtype=float32, numpy=\n",
       "array([[1.20044261e-01, 6.02847934e-02, 1.47270754e-01],\n",
       "       [5.40726423e-01, 1.24903575e-01, 1.00000000e+02],\n",
       "       [4.31078643e-01, 7.02405989e-01, 3.12936269e-02],\n",
       "       [1.69672877e-01, 5.53849161e-01, 9.36358690e-01],\n",
       "       [4.28421125e-02, 9.38607156e-01, 7.69995630e-01],\n",
       "       [6.01371527e-01, 5.96217692e-01, 5.37308335e-01],\n",
       "       [4.34487686e-02, 9.41989839e-01, 3.40512693e-01],\n",
       "       [6.74118340e-01, 1.59293413e-02, 4.25905824e-01],\n",
       "       [3.03247154e-01, 2.89260983e-01, 9.30030167e-01],\n",
       "       [8.19912195e-01, 3.09342921e-01, 5.21750450e-01]], dtype=float32)>"
      ]
     },
     "execution_count": 41,
     "metadata": {},
     "output_type": "execute_result"
    }
   ],
   "source": [
    "tf.constant(X)"
   ]
  },
  {
   "cell_type": "code",
   "execution_count": 42,
   "metadata": {},
   "outputs": [],
   "source": [
    "w, b = L0.get_weights()"
   ]
  },
  {
   "cell_type": "code",
   "execution_count": 43,
   "metadata": {},
   "outputs": [
    {
     "data": {
      "text/plain": [
       "array([[-0.7079137 ,  0.5788818 ,  0.05704391,  0.5468034 ,  0.1128931 ],\n",
       "       [-0.6462908 , -0.47961363, -0.03402877, -0.44881743,  0.07530403],\n",
       "       [ 0.4602515 ,  0.27622634, -0.47217923,  0.13277578, -0.80270195]],\n",
       "      dtype=float32)"
      ]
     },
     "execution_count": 43,
     "metadata": {},
     "output_type": "execute_result"
    }
   ],
   "source": [
    "w"
   ]
  },
  {
   "cell_type": "code",
   "execution_count": 44,
   "metadata": {},
   "outputs": [
    {
     "data": {
      "text/plain": [
       "array([0., 0., 0., 0., 0.], dtype=float32)"
      ]
     },
     "execution_count": 44,
     "metadata": {},
     "output_type": "execute_result"
    }
   ],
   "source": [
    "b"
   ]
  },
  {
   "cell_type": "code",
   "execution_count": 55,
   "metadata": {},
   "outputs": [
    {
     "data": {
      "text/plain": [
       "<tf.Tensor: id=322, shape=(10, 5), dtype=float32, numpy=\n",
       "array([[-5.22373170e-02,  8.12580884e-02,  0.00000000e+00,\n",
       "        -6.01093099e-02, -6.07234314e-02],\n",
       "       [ 5.91940689e+00,  2.78757458e+01, -2.91932068e+01,\n",
       "        -1.56777706e+01,  0.00000000e+00],\n",
       "       [ 0.00000000e+00,  0.00000000e+00,  0.00000000e+00,\n",
       "        -3.12938869e-01, -6.18435919e-01],\n",
       "       [-2.23543629e-01,  9.12338644e-02,  0.00000000e+00,\n",
       "        -4.08107311e-01, -1.47487002e-03],\n",
       "       [-3.12187783e-02,  0.00000000e+00,  0.00000000e+00,\n",
       "        -3.09531331e-01, -1.75360948e-01],\n",
       "       [-9.50825363e-02,  2.10587621e-01,  0.00000000e+00,\n",
       "        -4.21259165e-01, -5.47492385e-01],\n",
       "       [ 0.00000000e+00,  0.00000000e+00,  0.00000000e+00,\n",
       "        -1.86152786e-01, -3.71078879e-01],\n",
       "       [-2.29981601e-01,  5.00241339e-01,  0.00000000e+00,\n",
       "        -1.09046966e-01, -3.53935987e-01],\n",
       "       [-2.86064178e-01,  2.93709576e-01,  0.00000000e+00,\n",
       "        -3.09289277e-01,  0.00000000e+00],\n",
       "       [-1.95287108e-01,  4.70388383e-01,  0.00000000e+00,\n",
       "        -2.82406777e-01, -5.79583645e-01]], dtype=float32)>"
      ]
     },
     "execution_count": 55,
     "metadata": {},
     "output_type": "execute_result"
    }
   ],
   "source": [
    "keras.activations.relu(X.dot(w) + b.reshape(1, -1)) - L0(X)"
   ]
  },
  {
   "cell_type": "code",
   "execution_count": 49,
   "metadata": {},
   "outputs": [
    {
     "data": {
      "text/plain": [
       "<tf.Tensor: id=229, shape=(10, 5), dtype=float32, numpy=\n",
       "array([[-5.6160901e-02,  8.1258088e-02, -6.4741813e-02,  5.8137737e-02,\n",
       "        -1.0012266e-01],\n",
       "       [ 4.5561638e+01,  2.7875746e+01, -4.7191330e+01,  1.3517191e+01,\n",
       "        -8.0199745e+01],\n",
       "       [-7.4472207e-01, -7.8695782e-02, -1.4087799e-02, -7.5381748e-02,\n",
       "         7.6440357e-02],\n",
       "       [-4.7100846e-02,  9.1233864e-02, -4.5129713e-01, -3.1473689e-02,\n",
       "        -6.9075495e-01],\n",
       "       [-2.8255001e-01, -2.1267520e-01, -3.9307171e-01, -2.9560027e-01,\n",
       "        -5.4255950e-01],\n",
       "       [-5.6375217e-01,  2.1058762e-01, -2.3968981e-01,  1.3258064e-01,\n",
       "        -3.1851014e-01],\n",
       "       [-4.8283583e-01, -3.3258089e-01, -1.9035929e-01, -3.5381168e-01,\n",
       "        -1.9748950e-01],\n",
       "       [-2.9148880e-01,  5.0024134e-01, -1.6319160e-01,  4.1801080e-01,\n",
       "        -2.6457259e-01],\n",
       "       [ 2.6428265e-02,  2.9370958e-01, -4.3168572e-01,  1.5947668e-01,\n",
       "        -6.9051999e-01],\n",
       "       [-5.4021609e-01,  4.7038838e-01, -2.1011528e-01,  3.7876812e-01,\n",
       "        -3.0295292e-01]], dtype=float32)>"
      ]
     },
     "execution_count": 49,
     "metadata": {},
     "output_type": "execute_result"
    }
   ],
   "source": []
  },
  {
   "cell_type": "code",
   "execution_count": 56,
   "metadata": {},
   "outputs": [],
   "source": [
    "model.compile(loss=\"mse\", optimizer=\"sgd\")"
   ]
  },
  {
   "cell_type": "code",
   "execution_count": 60,
   "metadata": {},
   "outputs": [],
   "source": [
    "y = np.random.normal(size=(10,3))"
   ]
  },
  {
   "cell_type": "code",
   "execution_count": 62,
   "metadata": {},
   "outputs": [
    {
     "name": "stdout",
     "output_type": "stream",
     "text": [
      "Train on 10 samples\n",
      "Epoch 1/3\n",
      "10/10 [==============================] - 0s 838us/sample - loss: 1.1247\n",
      "Epoch 2/3\n",
      "10/10 [==============================] - 0s 189us/sample - loss: 1.1237\n",
      "Epoch 3/3\n",
      "10/10 [==============================] - 0s 142us/sample - loss: 1.1226\n"
     ]
    },
    {
     "data": {
      "text/plain": [
       "<tensorflow.python.keras.callbacks.History at 0x145a46cd0>"
      ]
     },
     "execution_count": 62,
     "metadata": {},
     "output_type": "execute_result"
    }
   ],
   "source": [
    "model.fit(X, y, epochs=3)"
   ]
  },
  {
   "cell_type": "code",
   "execution_count": 65,
   "metadata": {},
   "outputs": [],
   "source": [
    "model = Sequential([Input(2),\n",
    "                    Dense(10, \"relu\"),\n",
    "                    Dense(20, \"relu\"),\n",
    "                    Dense(1, activation=\"sigmoid\")])\n",
    "# sigmoid activation in output layer for binary classification problem"
   ]
  },
  {
   "cell_type": "code",
   "execution_count": 66,
   "metadata": {},
   "outputs": [
    {
     "name": "stdout",
     "output_type": "stream",
     "text": [
      "Model: \"sequential_4\"\n",
      "_________________________________________________________________\n",
      "Layer (type)                 Output Shape              Param #   \n",
      "=================================================================\n",
      "dense_12 (Dense)             (None, 10)                30        \n",
      "_________________________________________________________________\n",
      "dense_13 (Dense)             (None, 20)                220       \n",
      "_________________________________________________________________\n",
      "dense_14 (Dense)             (None, 1)                 21        \n",
      "=================================================================\n",
      "Total params: 271\n",
      "Trainable params: 271\n",
      "Non-trainable params: 0\n",
      "_________________________________________________________________\n"
     ]
    }
   ],
   "source": [
    "model.summary()"
   ]
  },
  {
   "cell_type": "code",
   "execution_count": 67,
   "metadata": {},
   "outputs": [],
   "source": [
    "model.compile(loss=\"binary_crossentropy\", optimizer=\"sgd\")"
   ]
  },
  {
   "cell_type": "code",
   "execution_count": 69,
   "metadata": {},
   "outputs": [],
   "source": [
    "X = np.random.uniform(size=(20, 2))\n",
    "y = np.random.uniform(size=20)"
   ]
  },
  {
   "cell_type": "code",
   "execution_count": 70,
   "metadata": {},
   "outputs": [
    {
     "name": "stdout",
     "output_type": "stream",
     "text": [
      "Train on 20 samples\n",
      "Epoch 1/5\n",
      "20/20 [==============================] - 0s 14ms/sample - loss: 0.6982\n",
      "Epoch 2/5\n",
      "20/20 [==============================] - 0s 97us/sample - loss: 0.6981\n",
      "Epoch 3/5\n",
      "20/20 [==============================] - 0s 83us/sample - loss: 0.6980\n",
      "Epoch 4/5\n",
      "20/20 [==============================] - 0s 65us/sample - loss: 0.6980\n",
      "Epoch 5/5\n",
      "20/20 [==============================] - 0s 68us/sample - loss: 0.6979\n"
     ]
    },
    {
     "data": {
      "text/plain": [
       "<tensorflow.python.keras.callbacks.History at 0x145d05790>"
      ]
     },
     "execution_count": 70,
     "metadata": {},
     "output_type": "execute_result"
    }
   ],
   "source": [
    "model.fit(X, y, epochs=5)"
   ]
  },
  {
   "cell_type": "code",
   "execution_count": null,
   "metadata": {},
   "outputs": [],
   "source": []
  }
 ],
 "metadata": {
  "kernelspec": {
   "display_name": "Python 3",
   "language": "python",
   "name": "python3"
  },
  "language_info": {
   "codemirror_mode": {
    "name": "ipython",
    "version": 3
   },
   "file_extension": ".py",
   "mimetype": "text/x-python",
   "name": "python",
   "nbconvert_exporter": "python",
   "pygments_lexer": "ipython3",
   "version": "3.7.6"
  }
 },
 "nbformat": 4,
 "nbformat_minor": 4
}

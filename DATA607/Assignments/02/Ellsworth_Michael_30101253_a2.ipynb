{
 "cells": [
  {
   "cell_type": "markdown",
   "metadata": {},
   "source": [
    "## Assignment 2\n",
    "\n",
    "### Problem 1\n",
    "\n",
    "1. Write a function that, given a data set $(X, y)$, a feature $j$, and a split point $s$, determines its associated MSE.\n",
    "\n",
    "2. Write a function that, given a data set $(X, y)$ and feature $j$ computes the split point $s$ leading to the smallest MSE.\n",
    "\n",
    "3. Write a function that, given a data set $(X, y)$ computes the feature/split point pair $(j, s)$ leading to the smallest MSE.\n",
    "\n",
    "4. Test your functions by computing the first feature/split point pair for a few random training subsets of the diabetes data set using both your function and `DecisionTreeRegressor` from scikit-learn."
   ]
  },
  {
   "cell_type": "code",
   "execution_count": 1,
   "metadata": {},
   "outputs": [],
   "source": [
    "import numpy as np\n",
    "from sklearn.metrics import mean_squared_error\n",
    "\n",
    "# Function 1: MSE\n",
    "def mse_from_feature_and_split(X, y, j, s):\n",
    "    mse = np.var(y[X.T[j] <= s]) + np.var(y[X.T[j] > s])\n",
    "    return mse\n",
    "\n",
    "# Function 2: split point, s\n",
    "def split_from_feature(X, y, j):\n",
    "    ss = np.linspace(np.min(X.T[j]), np.max(X.T[j]), endpoint=False)\n",
    "    mses = []\n",
    "    for s in ss:\n",
    "        nL = len(y[X.T[j] <= s])\n",
    "        nR = len(y[X.T[j] > s])\n",
    "        mse = np.var(y[X.T[j] <= s]) * nL / (nL + nR) + np.var(y[X.T[j] > s]) * nR / (nL + nR)\n",
    "        mses.append(mse)\n",
    "    s_opt = ss[np.argmin(mses)]\n",
    "    return s_opt\n",
    "\n",
    "# Function 3: feature, j and split point, s\n",
    "def feature_split_pair(X, y):\n",
    "    ss = []\n",
    "    nj = len(X[0])\n",
    "    for j in range(nj):\n",
    "        ss.append(np.linspace(np.min(X.T[j]), np.max(X.T[j]), endpoint=False))\n",
    "    mses = [ [] for i in range(nj) ]\n",
    "    s_opts = []\n",
    "    mse_opts = []\n",
    "    for j in range(nj):\n",
    "        for s in ss[j]:\n",
    "            nL = len(y[X.T[j] <= s])\n",
    "            nR = len(y[X.T[j] > s])\n",
    "            mse = np.var(y[X.T[j] <= s]) * nL / (nL + nR) + np.var(y[X.T[j] > s]) * nR / (nL + nR)\n",
    "            mses[j].append(mse)\n",
    "        s_opts.append(ss[j][np.argmin(mses[j])])\n",
    "        mse_opts.append(np.min(mses[j]))\n",
    "    return np.argmin(mse_opts), s_opts[np.argmin(mse_opts)]"
   ]
  },
  {
   "cell_type": "code",
   "execution_count": 2,
   "metadata": {},
   "outputs": [
    {
     "name": "stdout",
     "output_type": "stream",
     "text": [
      "Feature from function: 8\n",
      "Feature from DecisionTreeRegressor: 8\n",
      "Split point from function: -0.0014431300851688311\n",
      "Split point from DecisionTreeRegressor: -0.0037617861526086926\n"
     ]
    }
   ],
   "source": [
    "# Check function 3\n",
    "from sklearn.datasets import load_diabetes\n",
    "from sklearn.tree import DecisionTreeRegressor\n",
    "from sklearn.model_selection import train_test_split\n",
    "\n",
    "X, y = load_diabetes(return_X_y=True)\n",
    "X_train, X_test, y_train, y_test = train_test_split(X, y, test_size=0.2)\n",
    "\n",
    "M = DecisionTreeRegressor(max_depth = 3)\n",
    "M.fit(X_train, y_train)\n",
    "\n",
    "j, s = feature_split_pair(X_train, y_train)\n",
    "j_test = M.tree_.feature[0] #array of nodes splitting feature\n",
    "s_test = M.tree_.threshold[0] #array of nodes splitting points\n",
    "\n",
    "print(f\"Feature from function: {j}\\nFeature from DecisionTreeRegressor: {j_test}\")\n",
    "print(f\"Split point from function: {s}\\nSplit point from DecisionTreeRegressor: {s_test}\")"
   ]
  },
  {
   "cell_type": "code",
   "execution_count": 3,
   "metadata": {},
   "outputs": [],
   "source": [
    "# Optional code for checking function 3\n",
    "# from sklearn import tree\n",
    "# from sklearn.tree.export import export_text\n",
    "# tree.export_graphviz(M, out_file=\"mytree.dot\")\n",
    "# import graphviz\n",
    "# with open(\"mytree.dot\") as f:\n",
    "#     dot_graph=f.read()\n",
    "# graphviz.Source(dot_graph)"
   ]
  },
  {
   "cell_type": "code",
   "execution_count": 4,
   "metadata": {},
   "outputs": [
    {
     "name": "stdout",
     "output_type": "stream",
     "text": [
      "Split point from function: -0.0014431300851688311\n",
      "Split point from DecisionTreeRegressor: -0.0037617861526086926\n"
     ]
    }
   ],
   "source": [
    "# Check function 2\n",
    "s2 = split_from_feature(X_train, y_train, j)\n",
    "print(f\"Split point from function: {s2}\")\n",
    "print(f\"Split point from DecisionTreeRegressor: {s_test}\")"
   ]
  },
  {
   "cell_type": "code",
   "execution_count": 5,
   "metadata": {},
   "outputs": [
    {
     "name": "stdout",
     "output_type": "stream",
     "text": [
      "MSE from function: 8375.629752392859\n",
      "MSE from DecisionTreeRegressor: 8237.857332543865\n"
     ]
    }
   ],
   "source": [
    "# Check function 1\n",
    "MSE = mse_from_feature_and_split(X_train, y_train, j, s)\n",
    "MSE_test = M.tree_.impurity[1] + M.tree_.impurity[8]\n",
    "print(f\"MSE from function: {MSE}\")\n",
    "print(f\"MSE from DecisionTreeRegressor: {MSE_test}\")"
   ]
  },
  {
   "cell_type": "markdown",
   "metadata": {},
   "source": [
    "### Problem 2\n",
    "\n",
    "The decision tree produced by fitting an instance `M` of `DecisionTreeRegressor` or `DecisionTreeClassifier` to data is stored in `M.tree_`. `M.tree_`, an instance of scikit-learn's internal `Tree` class (see below).\n",
    "\n",
    "Write a function that takes `M.tree_` as input and return a corresponding `graphviz` graph `G`.\n",
    "Label each node with its index, the feature on which it's split (for interior nodes), the splitting threshold (for interior nodes), and the regression/classification value for each leaf node.\n",
    "\n",
    "Demonstrate your function by plotting a regression tree for the diabetes data set and a classification tree for the breast cancer data set. Set a reasonable `max_depth` so that your tree fits on the screen."
   ]
  },
  {
   "cell_type": "code",
   "execution_count": 6,
   "metadata": {},
   "outputs": [],
   "source": [
    "from graphviz import Graph\n",
    "from sklearn.tree import DecisionTreeRegressor\n",
    "from sklearn.tree import DecisionTreeClassifier\n",
    "from sklearn.datasets import load_breast_cancer\n",
    "from sklearn.datasets import load_diabetes\n",
    "\n",
    "Xd, yd = load_diabetes(return_X_y=True)\n",
    "Xd_tr, Xd_te, yd_tr, yd_te = train_test_split(Xd, yd, test_size=0.2)\n",
    "\n",
    "diabetes = DecisionTreeRegressor(max_depth = 2)\n",
    "diabetes.fit(Xd_tr, yd_tr)\n",
    "\n",
    "Xb, yb = load_breast_cancer(return_X_y=True)\n",
    "Xb_tr, Xb_te, yb_tr, yb_te = train_test_split(Xb, yb, test_size=0.2)\n",
    "\n",
    "breast_cancer = DecisionTreeClassifier(max_depth = 2)\n",
    "breast_cancer.fit(Xb_tr, yb_tr)\n",
    "\n",
    "def to_graphviz(tree):\n",
    "    G = Graph(format = \"jpg\")\n",
    "    for i in range(tree.node_count):\n",
    "        name = str(i)\n",
    "        if tree.feature[i] == -2:\n",
    "            feature = ''\n",
    "        else:\n",
    "            feature = 'Feature = ' + str(round(tree.feature[i], 3))\n",
    "        if tree.threshold[i] == -2:\n",
    "            threshold = ''\n",
    "        else:\n",
    "            threshold = 'Threshold = ' + str(round(tree.threshold[i], 3))\n",
    "        value = tree.value[i][0][0]\n",
    "        G.node(name, label = f\"{name}\\nvalue = {value:.5}\\n{threshold}\\n{feature}\", **{'width':str(2), 'height':str(1)})\n",
    "    for i in range(tree.node_count):\n",
    "        if tree.children_left[i] > 0:\n",
    "            G.edge(str(i), str(tree.children_left[i]))\n",
    "        if tree.children_right[i] > 0:\n",
    "            G.edge(str(i), str(tree.children_right[i]))\n",
    "    return G"
   ]
  },
  {
   "cell_type": "code",
   "execution_count": 7,
   "metadata": {},
   "outputs": [
    {
     "data": {
      "image/svg+xml": [
       "<?xml version=\"1.0\" encoding=\"UTF-8\" standalone=\"no\"?>\n",
       "<!DOCTYPE svg PUBLIC \"-//W3C//DTD SVG 1.1//EN\"\n",
       " \"http://www.w3.org/Graphics/SVG/1.1/DTD/svg11.dtd\">\n",
       "<!-- Generated by graphviz version 2.40.1 (20161225.0304)\n",
       " -->\n",
       "<!-- Title: %3 Pages: 1 -->\n",
       "<svg width=\"648pt\" height=\"349pt\"\n",
       " viewBox=\"0.00 0.00 648.00 348.70\" xmlns=\"http://www.w3.org/2000/svg\" xmlns:xlink=\"http://www.w3.org/1999/xlink\">\n",
       "<g id=\"graph0\" class=\"graph\" transform=\"scale(1 1) rotate(0) translate(4 344.7006)\">\n",
       "<title>%3</title>\n",
       "<polygon fill=\"#ffffff\" stroke=\"transparent\" points=\"-4,4 -4,-344.7006 644,-344.7006 644,4 -4,4\"/>\n",
       "<!-- 0 -->\n",
       "<g id=\"node1\" class=\"node\">\n",
       "<title>0</title>\n",
       "<ellipse fill=\"none\" stroke=\"#000000\" cx=\"319\" cy=\"-292.6173\" rx=\"84.7059\" ry=\"48.1667\"/>\n",
       "<text text-anchor=\"middle\" x=\"319\" y=\"-311.4173\" font-family=\"Times,serif\" font-size=\"14.00\" fill=\"#000000\">0</text>\n",
       "<text text-anchor=\"middle\" x=\"319\" y=\"-296.4173\" font-family=\"Times,serif\" font-size=\"14.00\" fill=\"#000000\">value = 152.59</text>\n",
       "<text text-anchor=\"middle\" x=\"319\" y=\"-281.4173\" font-family=\"Times,serif\" font-size=\"14.00\" fill=\"#000000\">Threshold = 0.005</text>\n",
       "<text text-anchor=\"middle\" x=\"319\" y=\"-266.4173\" font-family=\"Times,serif\" font-size=\"14.00\" fill=\"#000000\">Feature = 2</text>\n",
       "</g>\n",
       "<!-- 1 -->\n",
       "<g id=\"node2\" class=\"node\">\n",
       "<title>1</title>\n",
       "<ellipse fill=\"none\" stroke=\"#000000\" cx=\"228\" cy=\"-160.4508\" rx=\"79.8062\" ry=\"48.1667\"/>\n",
       "<text text-anchor=\"middle\" x=\"228\" y=\"-179.2508\" font-family=\"Times,serif\" font-size=\"14.00\" fill=\"#000000\">1</text>\n",
       "<text text-anchor=\"middle\" x=\"228\" y=\"-164.2508\" font-family=\"Times,serif\" font-size=\"14.00\" fill=\"#000000\">value = 115.51</text>\n",
       "<text text-anchor=\"middle\" x=\"228\" y=\"-149.2508\" font-family=\"Times,serif\" font-size=\"14.00\" fill=\"#000000\">Threshold = 0.02</text>\n",
       "<text text-anchor=\"middle\" x=\"228\" y=\"-134.2508\" font-family=\"Times,serif\" font-size=\"14.00\" fill=\"#000000\">Feature = 8</text>\n",
       "</g>\n",
       "<!-- 0&#45;&#45;1 -->\n",
       "<g id=\"edge1\" class=\"edge\">\n",
       "<title>0&#45;&#45;1</title>\n",
       "<path fill=\"none\" stroke=\"#000000\" d=\"M287.9375,-247.5028C278.4636,-233.7431 268.0582,-218.6305 258.6142,-204.9143\"/>\n",
       "</g>\n",
       "<!-- 4 -->\n",
       "<g id=\"node5\" class=\"node\">\n",
       "<title>4</title>\n",
       "<ellipse fill=\"none\" stroke=\"#000000\" cx=\"411\" cy=\"-160.4508\" rx=\"84.7059\" ry=\"48.1667\"/>\n",
       "<text text-anchor=\"middle\" x=\"411\" y=\"-179.2508\" font-family=\"Times,serif\" font-size=\"14.00\" fill=\"#000000\">4</text>\n",
       "<text text-anchor=\"middle\" x=\"411\" y=\"-164.2508\" font-family=\"Times,serif\" font-size=\"14.00\" fill=\"#000000\">value = 206.42</text>\n",
       "<text text-anchor=\"middle\" x=\"411\" y=\"-149.2508\" font-family=\"Times,serif\" font-size=\"14.00\" fill=\"#000000\">Threshold = 0.034</text>\n",
       "<text text-anchor=\"middle\" x=\"411\" y=\"-134.2508\" font-family=\"Times,serif\" font-size=\"14.00\" fill=\"#000000\">Feature = 9</text>\n",
       "</g>\n",
       "<!-- 0&#45;&#45;4 -->\n",
       "<g id=\"edge2\" class=\"edge\">\n",
       "<title>0&#45;&#45;4</title>\n",
       "<path fill=\"none\" stroke=\"#000000\" d=\"M350.147,-247.8718C359.6344,-234.2422 370.0662,-219.2561 379.572,-205.6\"/>\n",
       "</g>\n",
       "<!-- 2 -->\n",
       "<g id=\"node3\" class=\"node\">\n",
       "<title>2</title>\n",
       "<ellipse fill=\"none\" stroke=\"#000000\" cx=\"72\" cy=\"-38.1838\" rx=\"72\" ry=\"38.3684\"/>\n",
       "<text text-anchor=\"middle\" x=\"72\" y=\"-49.9838\" font-family=\"Times,serif\" font-size=\"14.00\" fill=\"#000000\">2</text>\n",
       "<text text-anchor=\"middle\" x=\"72\" y=\"-34.9838\" font-family=\"Times,serif\" font-size=\"14.00\" fill=\"#000000\">value = 100.78</text>\n",
       "</g>\n",
       "<!-- 1&#45;&#45;2 -->\n",
       "<g id=\"edge3\" class=\"edge\">\n",
       "<title>1&#45;&#45;2</title>\n",
       "<path fill=\"none\" stroke=\"#000000\" d=\"M179.0686,-122.1002C157.6235,-105.2923 132.7573,-85.8031 112.3894,-69.8395\"/>\n",
       "</g>\n",
       "<!-- 3 -->\n",
       "<g id=\"node4\" class=\"node\">\n",
       "<title>3</title>\n",
       "<ellipse fill=\"none\" stroke=\"#000000\" cx=\"234\" cy=\"-38.1838\" rx=\"72\" ry=\"38.3684\"/>\n",
       "<text text-anchor=\"middle\" x=\"234\" y=\"-49.9838\" font-family=\"Times,serif\" font-size=\"14.00\" fill=\"#000000\">3</text>\n",
       "<text text-anchor=\"middle\" x=\"234\" y=\"-34.9838\" font-family=\"Times,serif\" font-size=\"14.00\" fill=\"#000000\">value = 174.07</text>\n",
       "</g>\n",
       "<!-- 1&#45;&#45;3 -->\n",
       "<g id=\"edge4\" class=\"edge\">\n",
       "<title>1&#45;&#45;3</title>\n",
       "<path fill=\"none\" stroke=\"#000000\" d=\"M230.3714,-112.1276C230.9544,-100.2462 231.5706,-87.6889 232.1265,-76.3617\"/>\n",
       "</g>\n",
       "<!-- 5 -->\n",
       "<g id=\"node6\" class=\"node\">\n",
       "<title>5</title>\n",
       "<ellipse fill=\"none\" stroke=\"#000000\" cx=\"406\" cy=\"-38.1838\" rx=\"72\" ry=\"38.3684\"/>\n",
       "<text text-anchor=\"middle\" x=\"406\" y=\"-49.9838\" font-family=\"Times,serif\" font-size=\"14.00\" fill=\"#000000\">5</text>\n",
       "<text text-anchor=\"middle\" x=\"406\" y=\"-34.9838\" font-family=\"Times,serif\" font-size=\"14.00\" fill=\"#000000\">value = 184.86</text>\n",
       "</g>\n",
       "<!-- 4&#45;&#45;5 -->\n",
       "<g id=\"edge5\" class=\"edge\">\n",
       "<title>4&#45;&#45;5</title>\n",
       "<path fill=\"none\" stroke=\"#000000\" d=\"M409.0239,-112.1276C408.538,-100.2462 408.0245,-87.6889 407.5613,-76.3617\"/>\n",
       "</g>\n",
       "<!-- 6 -->\n",
       "<g id=\"node7\" class=\"node\">\n",
       "<title>6</title>\n",
       "<ellipse fill=\"none\" stroke=\"#000000\" cx=\"568\" cy=\"-38.1838\" rx=\"72\" ry=\"38.3684\"/>\n",
       "<text text-anchor=\"middle\" x=\"568\" y=\"-49.9838\" font-family=\"Times,serif\" font-size=\"14.00\" fill=\"#000000\">6</text>\n",
       "<text text-anchor=\"middle\" x=\"568\" y=\"-34.9838\" font-family=\"Times,serif\" font-size=\"14.00\" fill=\"#000000\">value = 253.84</text>\n",
       "</g>\n",
       "<!-- 4&#45;&#45;6 -->\n",
       "<g id=\"edge6\" class=\"edge\">\n",
       "<title>4&#45;&#45;6</title>\n",
       "<path fill=\"none\" stroke=\"#000000\" d=\"M461.1074,-121.4286C482.4657,-104.7954 507.0647,-85.6384 527.2766,-69.898\"/>\n",
       "</g>\n",
       "</g>\n",
       "</svg>\n"
      ],
      "text/plain": [
       "<graphviz.dot.Graph at 0x10edc25c0>"
      ]
     },
     "execution_count": 7,
     "metadata": {},
     "output_type": "execute_result"
    }
   ],
   "source": [
    "to_graphviz(diabetes.tree_)"
   ]
  },
  {
   "cell_type": "code",
   "execution_count": 8,
   "metadata": {},
   "outputs": [
    {
     "data": {
      "image/svg+xml": [
       "<?xml version=\"1.0\" encoding=\"UTF-8\" standalone=\"no\"?>\n",
       "<!DOCTYPE svg PUBLIC \"-//W3C//DTD SVG 1.1//EN\"\n",
       " \"http://www.w3.org/Graphics/SVG/1.1/DTD/svg11.dtd\">\n",
       "<!-- Generated by graphviz version 2.40.1 (20161225.0304)\n",
       " -->\n",
       "<!-- Title: %3 Pages: 1 -->\n",
       "<svg width=\"656pt\" height=\"349pt\"\n",
       " viewBox=\"0.00 0.00 656.00 348.70\" xmlns=\"http://www.w3.org/2000/svg\" xmlns:xlink=\"http://www.w3.org/1999/xlink\">\n",
       "<g id=\"graph0\" class=\"graph\" transform=\"scale(1 1) rotate(0) translate(4 344.7006)\">\n",
       "<title>%3</title>\n",
       "<polygon fill=\"#ffffff\" stroke=\"transparent\" points=\"-4,4 -4,-344.7006 652,-344.7006 652,4 -4,4\"/>\n",
       "<!-- 0 -->\n",
       "<g id=\"node1\" class=\"node\">\n",
       "<title>0</title>\n",
       "<ellipse fill=\"none\" stroke=\"#000000\" cx=\"324\" cy=\"-292.6173\" rx=\"84.7059\" ry=\"48.1667\"/>\n",
       "<text text-anchor=\"middle\" x=\"324\" y=\"-311.4173\" font-family=\"Times,serif\" font-size=\"14.00\" fill=\"#000000\">0</text>\n",
       "<text text-anchor=\"middle\" x=\"324\" y=\"-296.4173\" font-family=\"Times,serif\" font-size=\"14.00\" fill=\"#000000\">value = 171.0</text>\n",
       "<text text-anchor=\"middle\" x=\"324\" y=\"-281.4173\" font-family=\"Times,serif\" font-size=\"14.00\" fill=\"#000000\">Threshold = 0.056</text>\n",
       "<text text-anchor=\"middle\" x=\"324\" y=\"-266.4173\" font-family=\"Times,serif\" font-size=\"14.00\" fill=\"#000000\">Feature = 7</text>\n",
       "</g>\n",
       "<!-- 1 -->\n",
       "<g id=\"node2\" class=\"node\">\n",
       "<title>1</title>\n",
       "<ellipse fill=\"none\" stroke=\"#000000\" cx=\"225\" cy=\"-160.4508\" rx=\"89.6056\" ry=\"48.1667\"/>\n",
       "<text text-anchor=\"middle\" x=\"225\" y=\"-179.2508\" font-family=\"Times,serif\" font-size=\"14.00\" fill=\"#000000\">1</text>\n",
       "<text text-anchor=\"middle\" x=\"225\" y=\"-164.2508\" font-family=\"Times,serif\" font-size=\"14.00\" fill=\"#000000\">value = 23.0</text>\n",
       "<text text-anchor=\"middle\" x=\"225\" y=\"-149.2508\" font-family=\"Times,serif\" font-size=\"14.00\" fill=\"#000000\">Threshold = 16.795</text>\n",
       "<text text-anchor=\"middle\" x=\"225\" y=\"-134.2508\" font-family=\"Times,serif\" font-size=\"14.00\" fill=\"#000000\">Feature = 20</text>\n",
       "</g>\n",
       "<!-- 0&#45;&#45;1 -->\n",
       "<g id=\"edge1\" class=\"edge\">\n",
       "<title>0&#45;&#45;1</title>\n",
       "<path fill=\"none\" stroke=\"#000000\" d=\"M290.759,-248.2401C280.4232,-234.4416 269.0235,-219.2228 258.6593,-205.3865\"/>\n",
       "</g>\n",
       "<!-- 4 -->\n",
       "<g id=\"node5\" class=\"node\">\n",
       "<title>4</title>\n",
       "<ellipse fill=\"none\" stroke=\"#000000\" cx=\"423\" cy=\"-160.4508\" rx=\"89.6056\" ry=\"48.1667\"/>\n",
       "<text text-anchor=\"middle\" x=\"423\" y=\"-179.2508\" font-family=\"Times,serif\" font-size=\"14.00\" fill=\"#000000\">4</text>\n",
       "<text text-anchor=\"middle\" x=\"423\" y=\"-164.2508\" font-family=\"Times,serif\" font-size=\"14.00\" fill=\"#000000\">value = 148.0</text>\n",
       "<text text-anchor=\"middle\" x=\"423\" y=\"-149.2508\" font-family=\"Times,serif\" font-size=\"14.00\" fill=\"#000000\">Threshold = 20.875</text>\n",
       "<text text-anchor=\"middle\" x=\"423\" y=\"-134.2508\" font-family=\"Times,serif\" font-size=\"14.00\" fill=\"#000000\">Feature = 21</text>\n",
       "</g>\n",
       "<!-- 0&#45;&#45;4 -->\n",
       "<g id=\"edge2\" class=\"edge\">\n",
       "<title>0&#45;&#45;4</title>\n",
       "<path fill=\"none\" stroke=\"#000000\" d=\"M357.241,-248.2401C367.5768,-234.4416 378.9765,-219.2228 389.3407,-205.3865\"/>\n",
       "</g>\n",
       "<!-- 2 -->\n",
       "<g id=\"node3\" class=\"node\">\n",
       "<title>2</title>\n",
       "<ellipse fill=\"none\" stroke=\"#000000\" cx=\"72\" cy=\"-38.1838\" rx=\"72\" ry=\"38.3684\"/>\n",
       "<text text-anchor=\"middle\" x=\"72\" y=\"-49.9838\" font-family=\"Times,serif\" font-size=\"14.00\" fill=\"#000000\">2</text>\n",
       "<text text-anchor=\"middle\" x=\"72\" y=\"-34.9838\" font-family=\"Times,serif\" font-size=\"14.00\" fill=\"#000000\">value = 6.0</text>\n",
       "</g>\n",
       "<!-- 1&#45;&#45;2 -->\n",
       "<g id=\"edge3\" class=\"edge\">\n",
       "<title>1&#45;&#45;2</title>\n",
       "<path fill=\"none\" stroke=\"#000000\" d=\"M174.9021,-120.416C154.5088,-104.1191 131.2623,-85.5421 112.0303,-70.1732\"/>\n",
       "</g>\n",
       "<!-- 3 -->\n",
       "<g id=\"node4\" class=\"node\">\n",
       "<title>3</title>\n",
       "<ellipse fill=\"none\" stroke=\"#000000\" cx=\"234\" cy=\"-38.1838\" rx=\"72\" ry=\"38.3684\"/>\n",
       "<text text-anchor=\"middle\" x=\"234\" y=\"-49.9838\" font-family=\"Times,serif\" font-size=\"14.00\" fill=\"#000000\">3</text>\n",
       "<text text-anchor=\"middle\" x=\"234\" y=\"-34.9838\" font-family=\"Times,serif\" font-size=\"14.00\" fill=\"#000000\">value = 17.0</text>\n",
       "</g>\n",
       "<!-- 1&#45;&#45;3 -->\n",
       "<g id=\"edge4\" class=\"edge\">\n",
       "<title>1&#45;&#45;3</title>\n",
       "<path fill=\"none\" stroke=\"#000000\" d=\"M228.557,-112.1276C229.4316,-100.2462 230.356,-87.6889 231.1897,-76.3617\"/>\n",
       "</g>\n",
       "<!-- 5 -->\n",
       "<g id=\"node6\" class=\"node\">\n",
       "<title>5</title>\n",
       "<ellipse fill=\"none\" stroke=\"#000000\" cx=\"414\" cy=\"-38.1838\" rx=\"72\" ry=\"38.3684\"/>\n",
       "<text text-anchor=\"middle\" x=\"414\" y=\"-49.9838\" font-family=\"Times,serif\" font-size=\"14.00\" fill=\"#000000\">5</text>\n",
       "<text text-anchor=\"middle\" x=\"414\" y=\"-34.9838\" font-family=\"Times,serif\" font-size=\"14.00\" fill=\"#000000\">value = 6.0</text>\n",
       "</g>\n",
       "<!-- 4&#45;&#45;5 -->\n",
       "<g id=\"edge5\" class=\"edge\">\n",
       "<title>4&#45;&#45;5</title>\n",
       "<path fill=\"none\" stroke=\"#000000\" d=\"M419.443,-112.1276C418.5684,-100.2462 417.644,-87.6889 416.8103,-76.3617\"/>\n",
       "</g>\n",
       "<!-- 6 -->\n",
       "<g id=\"node7\" class=\"node\">\n",
       "<title>6</title>\n",
       "<ellipse fill=\"none\" stroke=\"#000000\" cx=\"576\" cy=\"-38.1838\" rx=\"72\" ry=\"38.3684\"/>\n",
       "<text text-anchor=\"middle\" x=\"576\" y=\"-49.9838\" font-family=\"Times,serif\" font-size=\"14.00\" fill=\"#000000\">6</text>\n",
       "<text text-anchor=\"middle\" x=\"576\" y=\"-34.9838\" font-family=\"Times,serif\" font-size=\"14.00\" fill=\"#000000\">value = 142.0</text>\n",
       "</g>\n",
       "<!-- 4&#45;&#45;6 -->\n",
       "<g id=\"edge6\" class=\"edge\">\n",
       "<title>4&#45;&#45;6</title>\n",
       "<path fill=\"none\" stroke=\"#000000\" d=\"M473.0979,-120.416C493.4912,-104.1191 516.7377,-85.5421 535.9697,-70.1732\"/>\n",
       "</g>\n",
       "</g>\n",
       "</svg>\n"
      ],
      "text/plain": [
       "<graphviz.dot.Graph at 0x118964e80>"
      ]
     },
     "execution_count": 8,
     "metadata": {},
     "output_type": "execute_result"
    }
   ],
   "source": [
    "to_graphviz(breast_cancer.tree_)"
   ]
  },
  {
   "cell_type": "markdown",
   "metadata": {},
   "source": [
    "### Optional Bonus Problem\n",
    "\n",
    "Write a function that takes as input `M.tree_` and returns the feature importances. (You'll have to look up the precise formula for this.)"
   ]
  },
  {
   "cell_type": "code",
   "execution_count": 9,
   "metadata": {},
   "outputs": [
    {
     "name": "stdout",
     "output_type": "stream",
     "text": [
      "[0.         0.         0.30835051 0.10415291 0.         0.02378519\n",
      " 0.         0.         0.56371138 0.        ]\n"
     ]
    }
   ],
   "source": [
    "# Takes M as an input\n",
    "def FeatureImportances(tree):\n",
    "    return tree.feature_importances_\n",
    "    \n",
    "print(FeatureImportances(M))"
   ]
  },
  {
   "cell_type": "code",
   "execution_count": 10,
   "metadata": {},
   "outputs": [
    {
     "name": "stdout",
     "output_type": "stream",
     "text": [
      "[0.         0.         0.30835051 0.10415291 0.         0.02378519\n",
      " 0.         0.         0.56371138 0.        ]\n"
     ]
    }
   ],
   "source": [
    "# Takes M.tree_ as an input\n",
    "def FeatureImportances(tree):\n",
    "    lc = tree.children_left\n",
    "    rc = tree.children_right\n",
    "    imp = tree.impurity    \n",
    "    node_samples = tree.weighted_n_node_samples \n",
    "    feat_imp = np.zeros((tree.n_features,))\n",
    "    for i, node in enumerate(tree.feature):\n",
    "        if node >= 0:\n",
    "            feat_imp[node] = feat_imp[node] + imp[i] * node_samples[i] - imp[lc[i]]*node_samples[lc[i]] - imp[rc[i]]*node_samples[rc[i]]\n",
    "    feat_imp = feat_imp / node_samples[0]\n",
    "    normalize = feat_imp.sum()\n",
    "    if normalize > 0:\n",
    "        feat_imp = feat_imp / normalize\n",
    "    return feat_imp\n",
    "\n",
    "print(FeatureImportances(M.tree_))"
   ]
  }
 ],
 "metadata": {
  "kernelspec": {
   "display_name": "Python 3",
   "language": "python",
   "name": "python3"
  },
  "language_info": {
   "codemirror_mode": {
    "name": "ipython",
    "version": 3
   },
   "file_extension": ".py",
   "mimetype": "text/x-python",
   "name": "python",
   "nbconvert_exporter": "python",
   "pygments_lexer": "ipython3",
   "version": "3.7.3"
  }
 },
 "nbformat": 4,
 "nbformat_minor": 4
}

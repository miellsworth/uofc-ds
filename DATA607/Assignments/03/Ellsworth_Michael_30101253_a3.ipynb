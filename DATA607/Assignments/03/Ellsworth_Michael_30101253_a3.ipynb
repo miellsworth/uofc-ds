{
 "cells": [
  {
   "cell_type": "markdown",
   "metadata": {},
   "source": [
    "## Data 607 -- Statistical and Machine Learning -- Winter 2020\n",
    "### Assignment 3: Spam Detection with Random Forests - Michael Ellsworth, UCID: 30101253"
   ]
  },
  {
   "cell_type": "markdown",
   "metadata": {},
   "source": [
    "1.  Write a python function that returns\n",
    "    1. the frequency of a given character in a string,\n",
    "    2. the frequency of a given word (maximal consecutive sequence of letters, case insensitive) in string,\n",
    "    3. a list of all maximal sequences of consecutive capital letters in a string.\n",
    "\n",
    "2.  For each message in the dataset `sms_spam.csv`, compute:\n",
    "    1. the frequency of the each of the words in the list `words` defined below,\n",
    "    2. the frequency of the each of the characters in the list `chars` defined below,\n",
    "    3. the average run length of a maximal sequence of capital letters,\n",
    "    4. the longest run length of a maximal sequence of capital letters,\n",
    "    5. the sum of the run lengths of the maximal sequences of capital letters.\n",
    "    \n",
    "    \n",
    "**More precisely:**\n",
    "    \n",
    "- One can interpret *word* in a number of ways.\n",
    "If we interpret *word* it as a string of consecutive letters, the sentence,\n",
    "\"The reporter filed a report about reportables.\" contains three occurences of the word *report*.\n",
    "We could also interpret *word* as a string of consecutive letters, neither preceded nor followed by a letter,\n",
    "then that sentence would contain only one occurence of the work *report*.\n",
    "Choose whichever one of these interpretations your prefer. If you think of a better interpretation, feel free to use that.\n",
    "    \n",
    "- The simplest interpretation of maximal sequence of capital letters is a sequence of capital letters\n",
    "neither preceded nor followed by a capital letter.\n",
    "For example, in the string \"abcDEFGhiJKL345 MNO PQR\", \"DEFG\", \"JKL\", \"MNO\" and \"PQR\"\n",
    "are maximal sequences of capital letters while \"DEF\" \"KL\" and \"MNO PQR\" aren't.\n",
    "(The first two aren't maximal and the third doesn't consist entirely of capital letters.)\n",
    "This isn't the only interpretation. In the string \"He shouted, 'STOP SHOUTING AT ME!'\", one could argue that \"STOP SHOUTING AT ME\" should count as a single (maximal) sequence of capital letters. If you prefer such an interpretation, feel free to use it.\n",
    "    \n",
    "- These details aren't really the point. We're just trying to extract features for analysis. Any reasonable approach is fine.\n",
    "\n",
    "    \n",
    "3.  Arrange the results in a dataframe. The frequencies computed in 1. and 2. should go in columns named\n",
    "    `freq_<word>` and `freq_<char>`, respectively. The run lengths in 3., 4., and 5. should go in columns named\n",
    "    `capital_run_length_average`, `capital_run_length_longest`, and `capital_run_length_total`, respectively.\n",
    "    The last column in your dataframe should be the target, 1 if the target is spam and 0 if it isn't.\n",
    "    Save your dataset as a `.csv` file called `sms_spam_features.csv`.\n",
    "\n",
    "4.  Based on these 57 features, use a random forest tree to train a spam-detecting classifier:\n",
    "\n",
    "5.  Repeat 2. through 4. for the datasets `spambase.csv` and `spam_or_not_spam.csv`.\n",
    "\n",
    "6.  Comment on similarities/differences you notice between datasets (include our analysis of `spambase.csv`), classification methods, etc.\n",
    "\n",
    "7.  **Optional:** Construct spam detectors using other classifiers you've learned about, and compare their performances."
   ]
  },
  {
   "cell_type": "code",
   "execution_count": 1,
   "metadata": {},
   "outputs": [],
   "source": [
    "words = ['make', 'address', 'all', '3d', 'our', 'over', 'remove', 'internet', 'order', 'mail', 'receive', 'will', 'people',\n",
    "         'report', 'addresses', 'free', 'business', 'email', 'you', 'credit', 'your', 'font', '000', 'money', 'hp', 'hpl', \n",
    "         'george', '650', 'lab', 'labs', 'telnet', '857', 'data', '415', '85', 'technology', '1999', 'parts', 'pm', 'direct',\n",
    "         'cs', 'meeting', 'original', 'project', 're', 'edu', 'table', 'conference']"
   ]
  },
  {
   "cell_type": "code",
   "execution_count": 2,
   "metadata": {},
   "outputs": [],
   "source": [
    "chars = [';', '(', '[', '!', '$', '#']"
   ]
  },
  {
   "cell_type": "code",
   "execution_count": 3,
   "metadata": {},
   "outputs": [],
   "source": [
    "# Import packages\n",
    "import pandas as pd\n",
    "import warnings\n",
    "import re\n",
    "import numpy as np\n",
    "from matplotlib import pyplot as plt\n",
    "from collections import Counter\n",
    "from sklearn.ensemble import RandomForestClassifier\n",
    "from sklearn.tree import DecisionTreeClassifier\n",
    "from sklearn.model_selection import train_test_split\n",
    "from sklearn.metrics import accuracy_score\n",
    "from sklearn.ensemble import VotingClassifier, BaggingClassifier, RandomForestClassifier"
   ]
  },
  {
   "cell_type": "code",
   "execution_count": 4,
   "metadata": {},
   "outputs": [],
   "source": [
    "# Read csvs\n",
    "df = pd.read_csv('sms_spam.csv', error_bad_lines = False, warn_bad_lines = False)\n",
    "df2 = pd.read_csv('spambase.csv')\n",
    "df3 = pd.read_csv('spam_or_not_spam.csv')\n",
    "df3['email'] = df3['email'].astype(str)"
   ]
  },
  {
   "cell_type": "markdown",
   "metadata": {},
   "source": [
    "1.  Write a python function that returns\n",
    "    1. the frequency of a given character in a string,\n",
    "    2. the frequency of a given word (maximal consecutive sequence of letters, case insensitive) in string,\n",
    "    3. a list of all maximal sequences of consecutive capital letters in a string."
   ]
  },
  {
   "cell_type": "code",
   "execution_count": 5,
   "metadata": {},
   "outputs": [],
   "source": [
    "# Question 1\n",
    "# A\n",
    "def freq_char(string, char):\n",
    "    str_lower = string.lower()\n",
    "    regex = re.compile(re.escape(char))\n",
    "    return len(regex.findall(str_lower))\n",
    "\n",
    "# B\n",
    "def freq_word(string, word):\n",
    "    str_lower = string.lower()\n",
    "    regex = re.compile(word)\n",
    "    return len(regex.findall(str_lower))\n",
    "\n",
    "# C\n",
    "def caps_list(string):\n",
    "    regex = re.compile(r\"[A-Z]+\")\n",
    "    return regex.findall(string)"
   ]
  },
  {
   "cell_type": "markdown",
   "metadata": {},
   "source": [
    "2.  For each message in the dataset `sms_spam.csv`, compute:\n",
    "    1. the frequency of the each of the words in the list `words` defined below,\n",
    "    2. the frequency of the each of the characters in the list `chars` defined below,\n",
    "    3. the average run length of a maximal sequence of capital letters,\n",
    "    4. the longest run length of a maximal sequence of capital letters,\n",
    "    5. the sum of the run lengths of the maximal sequences of capital letters.\n",
    "    \n",
    "\n",
    "3.  Arrange the results in a dataframe. The frequencies computed in 1. and 2. should go in columns named\n",
    "    `freq_<word>` and `freq_<char>`, respectively. The run lengths in 3., 4., and 5. should go in columns named\n",
    "    `capital_run_length_average`, `capital_run_length_longest`, and `capital_run_length_total`, respectively.\n",
    "    The last column in your dataframe should be the target, 1 if the target is spam and 0 if it isn't.\n",
    "    Save your dataset as a `.csv` file called `sms_spam_features.csv`."
   ]
  },
  {
   "cell_type": "code",
   "execution_count": 6,
   "metadata": {},
   "outputs": [],
   "source": [
    "# Question 2\n",
    "# A\n",
    "for w in words:\n",
    "    df[r\"freq_\"+w] = df.v2.apply(freq_word, word=w)\n",
    "    \n",
    "# B\n",
    "for c in chars:\n",
    "    df[r\"freq_\"+c] = df.v2.apply(freq_char, char=c)\n",
    "\n",
    "# C\n",
    "def caps_list_mean(df_string):\n",
    "    l = caps_list(df_string)\n",
    "    if len(l) > 0:\n",
    "        return np.mean([len(i) for i in l])\n",
    "    else:\n",
    "        return 0\n",
    "\n",
    "df['capital_run_length_average'] = df.v2.apply(caps_list_mean)\n",
    "\n",
    "# D\n",
    "def caps_list_max(df_string):\n",
    "    l = caps_list(df_string)\n",
    "    if len(l) > 0:\n",
    "        return np.max([len(i) for i in l])\n",
    "    else:\n",
    "        return 0\n",
    "\n",
    "df['capital_run_length_longest'] = df.v2.apply(caps_list_max)\n",
    "\n",
    "# E\n",
    "def caps_list_sum(df_string):\n",
    "    l = caps_list(df_string)\n",
    "    if len(l) > 0:\n",
    "        return np.sum([len(i) for i in l])\n",
    "    else:\n",
    "        return 0\n",
    "\n",
    "df['capital_run_length_total'] = df.v2.apply(caps_list_sum)\n",
    "\n",
    "# Question 3\n",
    "df['target'] = np.where((df.v1 == 'spam'), 1, 0)\n",
    "df = df.drop(columns=['v1', 'v2'])"
   ]
  },
  {
   "cell_type": "markdown",
   "metadata": {},
   "source": [
    "4.  Based on these 57 features, use a random forest tree to train a spam-detecting classifier:"
   ]
  },
  {
   "cell_type": "code",
   "execution_count": 7,
   "metadata": {},
   "outputs": [
    {
     "name": "stdout",
     "output_type": "stream",
     "text": [
      "0.9610859728506788\n"
     ]
    }
   ],
   "source": [
    "# Question 4\n",
    "X = df.iloc[:, 0:57]\n",
    "y = df.iloc[:, -1]\n",
    "\n",
    "X_tr, X_te, y_tr, y_te = train_test_split(X, y, shuffle=True, test_size=0.2)\n",
    "\n",
    "M = RandomForestClassifier(n_estimators=1000, max_features=20, oob_score=True)\n",
    "M.fit(X_tr, y_tr)\n",
    "y_pr = M.predict(X_te)\n",
    "RF_acc = accuracy_score(y_te, y_pr)\n",
    "print(RF_acc)"
   ]
  },
  {
   "cell_type": "markdown",
   "metadata": {},
   "source": [
    "5.  Repeat 2. through 4. for the datasets `spambase.csv` and `spam_or_not_spam.csv`."
   ]
  },
  {
   "cell_type": "code",
   "execution_count": 8,
   "metadata": {},
   "outputs": [],
   "source": [
    "# Question 5\n",
    "# Create feature dataframe for df3\n",
    "for w in words:\n",
    "    df3[r\"freq_\"+w] = df3.email.apply(freq_word, word=w)\n",
    "    \n",
    "for c in chars:\n",
    "    df3[r\"freq_\"+c] = df3.email.apply(freq_char, char=c)\n",
    "\n",
    "df3['capital_run_length_average'] = df3.email.apply(caps_list_mean)\n",
    "\n",
    "df3['capital_run_length_longest'] = df3.email.apply(caps_list_max)\n",
    "\n",
    "df3['capital_run_length_total'] = df3.email.apply(caps_list_sum)\n",
    "\n",
    "df3['target'] = df3['label']\n",
    "df3 = df3.drop(columns=['email', 'label'])\n",
    "\n",
    "# Create feature/target data for df2 and df3\n",
    "X2 = df2.iloc[:, 0:57]\n",
    "y2 = df2.iloc[:, -1]\n",
    "\n",
    "X3 = df3.iloc[:, 0:57]\n",
    "y3 = df3.iloc[:, -1]"
   ]
  },
  {
   "cell_type": "code",
   "execution_count": 9,
   "metadata": {},
   "outputs": [
    {
     "name": "stdout",
     "output_type": "stream",
     "text": [
      "0.6666666666666666\n",
      "0.955\n"
     ]
    }
   ],
   "source": [
    "# Question 5\n",
    "# Create training and testing data\n",
    "X2_tr, X2_te, y2_tr, y2_te = train_test_split(X2, y2, shuffle=True, test_size=0.2)\n",
    "X3_tr, X3_te, y3_tr, y3_te = train_test_split(X3, y3, shuffle=True, test_size=0.2)\n",
    "\n",
    "# Create random forest classifier for df2\n",
    "M2 = RandomForestClassifier(n_estimators=1000, max_features=20, oob_score=True)\n",
    "M2.fit(X2_tr, y2_tr)\n",
    "y2_pr = M.predict(X2_te)\n",
    "RF_acc2 = accuracy_score(y2_te, y2_pr)\n",
    "print(RF_acc2)\n",
    "\n",
    "# Create random forest classifier for df3\n",
    "M3 = RandomForestClassifier(n_estimators=1000, max_features=20, oob_score=True)\n",
    "M3.fit(X3_tr, y3_tr)\n",
    "y3_pr = M3.predict(X3_te)\n",
    "RF_acc3 = accuracy_score(y3_te, y3_pr)\n",
    "print(RF_acc3)"
   ]
  },
  {
   "cell_type": "markdown",
   "metadata": {},
   "source": [
    "6.  Comment on similarities/differences you notice between datasets (include our analysis of `spambase.csv`), classification methods, etc."
   ]
  },
  {
   "cell_type": "code",
   "execution_count": 10,
   "metadata": {},
   "outputs": [
    {
     "data": {
      "image/png": "[encoded data removed]",
      "text/plain": [
       "<Figure size 1152x1152 with 9 Axes>"
      ]
     },
     "metadata": {
      "needs_background": "light"
     },
     "output_type": "display_data"
    }
   ],
   "source": [
    "plt.figure(1, figsize=(16, 16))\n",
    "\n",
    "plt.subplot(331)\n",
    "plt.hist(df.capital_run_length_average, [1, 2, 3, 4, 5, 6, 7, 8, 9, 10], density = True)\n",
    "plt.ylim(0, 1)\n",
    "\n",
    "plt.subplot(332)\n",
    "plt.hist(df2.capital_run_length_average, [1, 2, 3, 4, 5, 6, 7, 8, 9, 10], color='red', density = True)\n",
    "plt.ylim(0, 1)\n",
    "\n",
    "plt.subplot(333)\n",
    "plt.hist(df3.capital_run_length_average, [1, 2, 3, 4, 5, 6, 7, 8, 9, 10], color='green', density = True)\n",
    "plt.ylim(0, 1)\n",
    "\n",
    "plt.subplot(334)\n",
    "plt.hist(df.capital_run_length_longest, [1, 2, 3, 4, 5, 6, 7, 8, 9, 10], density = True)\n",
    "plt.ylim(0, 1)\n",
    "\n",
    "plt.subplot(335)\n",
    "plt.hist(df2.capital_run_length_longest, [1, 2, 3, 4, 5, 6, 7, 8, 9, 10], color='red', density = True)\n",
    "plt.ylim(0, 1)\n",
    "\n",
    "plt.subplot(336)\n",
    "plt.hist(df3.capital_run_length_longest, [1, 2, 3, 4, 5, 6, 7, 8, 9, 10], color='green', density = True)\n",
    "plt.ylim(0, 1)\n",
    "\n",
    "plt.subplot(337)\n",
    "plt.hist(df.capital_run_length_total, [10, 20, 30, 40, 50, 60, 70, 80, 90, 100], density = True)\n",
    "plt.ylim(0, 0.1)\n",
    "\n",
    "plt.subplot(338)\n",
    "plt.hist(df2.capital_run_length_total, [10, 20, 30, 40, 50, 60, 70, 80, 90, 100], color='red', density = True)\n",
    "plt.ylim(0, 0.1)\n",
    "\n",
    "plt.subplot(339)\n",
    "plt.hist(df3.capital_run_length_total, [10, 20, 30, 40, 50, 60, 70, 80, 90, 100], color='green', density = True)\n",
    "plt.ylim(0, 0.1)\n",
    "\n",
    "plt.show()"
   ]
  },
  {
   "cell_type": "markdown",
   "metadata": {},
   "source": [
    "Based on the histograms above, comparing the distributions of capital runs between the three datasets, a couple of observations can be made:\n",
    "\n",
    "- `sms_spam` typically consist of shorter messages with shorter lengths of capital letter runs\n",
    "- `spambase` has a fairly even distribution of capital letter runs\n",
    "- `spam_or_not_spam` has a captial letter run consistently at 6, likely due to the prevelance of the word \"NUMBER\"\n",
    "\n",
    "Additionally, based on the accuracy scores of the three models, the RandomForestClassifier appears to perform poorly on `spambase` versus the other datasets."
   ]
  },
  {
   "cell_type": "markdown",
   "metadata": {},
   "source": [
    "7.  **Optional:** Construct spam detectors using other classifiers you've learned about, and compare their performances."
   ]
  },
  {
   "cell_type": "code",
   "execution_count": 11,
   "metadata": {},
   "outputs": [
    {
     "name": "stdout",
     "output_type": "stream",
     "text": [
      "0.9683257918552036\n",
      "0.9556561085972851\n",
      "0.9424538545059717\n",
      "0.9142236699239956\n",
      "0.94\n",
      "0.9116666666666666\n"
     ]
    }
   ],
   "source": [
    "# Question 7\n",
    "# Create training and testing data\n",
    "X_tr, X_te, y_tr, y_te = train_test_split(X, y, shuffle=True, test_size=0.2)\n",
    "X2_tr, X2_te, y2_tr, y2_te = train_test_split(X2, y2, shuffle=True, test_size=0.2)\n",
    "X3_tr, X3_te, y3_tr, y3_te = train_test_split(X3, y3, shuffle=True, test_size=0.2)\n",
    "\n",
    "# Create bagging classifier for df\n",
    "Ma = BaggingClassifier(DecisionTreeClassifier(), oob_score=True, n_estimators=500)\n",
    "Ma.fit(X_tr, y_tr)\n",
    "y_pr = Ma.predict(X_te)\n",
    "BC_acc = accuracy_score(y_te, y_pr)\n",
    "print(BC_acc)\n",
    "\n",
    "# Create voting classifier for df\n",
    "Mb = VotingClassifier([(str(i), DecisionTreeClassifier()) for i in range(100)])\n",
    "Mb.fit(X_tr, y_tr)\n",
    "y_pr = Mb.predict(X_te)\n",
    "VC_acc = accuracy_score(y_te, y_pr)\n",
    "print(VC_acc)\n",
    "\n",
    "# Create bagging classifier for df2\n",
    "M2a = BaggingClassifier(DecisionTreeClassifier(), oob_score=True, n_estimators=500)\n",
    "M2a.fit(X2_tr, y2_tr)\n",
    "y2_pr = M2a.predict(X2_te)\n",
    "BC_acc2 = accuracy_score(y2_te, y2_pr)\n",
    "print(BC_acc2)\n",
    "\n",
    "# Create voting classifier for df2\n",
    "M2b = VotingClassifier([(str(i), DecisionTreeClassifier()) for i in range(100)])\n",
    "M2b.fit(X2_tr, y2_tr)\n",
    "y2_pr = M2b.predict(X2_te)\n",
    "VC_acc2 = accuracy_score(y2_te, y2_pr)\n",
    "print(VC_acc2)\n",
    "\n",
    "# Create bagging classifier for df3\n",
    "M3a = BaggingClassifier(DecisionTreeClassifier(), oob_score=True, n_estimators=500)\n",
    "M3a.fit(X3_tr, y3_tr)\n",
    "y3_pr = M3a.predict(X3_te)\n",
    "BC_acc3 = accuracy_score(y3_te, y3_pr)\n",
    "print(BC_acc3)\n",
    "\n",
    "# Create voting classifier for df3\n",
    "M3b = VotingClassifier([(str(i), DecisionTreeClassifier()) for i in range(100)])\n",
    "M3b.fit(X3_tr, y3_tr)\n",
    "y3_pr = M3b.predict(X3_te)\n",
    "VC_acc3 = accuracy_score(y3_te, y3_pr)\n",
    "print(VC_acc3)"
   ]
  },
  {
   "cell_type": "code",
   "execution_count": 12,
   "metadata": {},
   "outputs": [
    {
     "data": {
      "image/png": "[encoded data removed]",
      "text/plain": [
       "<Figure size 864x576 with 1 Axes>"
      ]
     },
     "metadata": {
      "needs_background": "light"
     },
     "output_type": "display_data"
    }
   ],
   "source": [
    "# Comparison of classification methods\n",
    "accuracies_labs = ['RF', 'BC', 'VC', 'RF2', 'BC2', 'VC2', 'RF3', 'BC3', 'VC3']\n",
    "accuracies = [RF_acc, BC_acc, VC_acc, RF_acc2, BC_acc2, VC_acc2, RF_acc3, BC_acc3, VC_acc3]\n",
    "plt.figure(1, figsize=(12, 8))\n",
    "plt.bar(accuracies_labs, accuracies)\n",
    "plt.show()"
   ]
  },
  {
   "cell_type": "markdown",
   "metadata": {},
   "source": [
    "Overall, each classification method is at least 90% accuracte on each dataset except for the RandomForestClassifier model on `spambase`."
   ]
  },
  {
   "cell_type": "code",
   "execution_count": null,
   "metadata": {},
   "outputs": [],
   "source": []
  }
 ],
 "metadata": {
  "kernelspec": {
   "display_name": "Python 3",
   "language": "python",
   "name": "python3"
  },
  "language_info": {
   "codemirror_mode": {
    "name": "ipython",
    "version": 3
   },
   "file_extension": ".py",
   "mimetype": "text/x-python",
   "name": "python",
   "nbconvert_exporter": "python",
   "pygments_lexer": "ipython3",
   "version": "3.7.3"
  }
 },
 "nbformat": 4,
 "nbformat_minor": 4
}
